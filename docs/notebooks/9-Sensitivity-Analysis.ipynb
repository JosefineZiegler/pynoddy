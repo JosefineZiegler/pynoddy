{
 "metadata": {
  "name": "",
  "signature": "sha256:eeef06284454c6ae8daf88cf6930de31a589eeb9d32fcf3e307c1f29df7dc853"
 },
 "nbformat": 3,
 "nbformat_minor": 0,
 "worksheets": [
  {
   "cells": [
    {
     "cell_type": "markdown",
     "metadata": {},
     "source": [
      "# Sensitivity analysis with SALib\n",
      "\n",
      "We have got the single parts now for the sensitivity analysis. We are now using the global sensitivity analysis methods of the Python package SALib, available on:\n",
      "\n",
      "https://github.com/jdherman/SALib\n",
      "\n",
      "As a start, we will test the sensitivity of the model at each drillhole position separately. As parameters, we will use the parameters of the fault events: dip, dip direction, and slip."
     ]
    },
    {
     "cell_type": "code",
     "collapsed": false,
     "input": [
      "from IPython.core.display import HTML\n",
      "css_file = 'pynoddy.css'\n",
      "HTML(open(css_file, \"r\").read())"
     ],
     "language": "python",
     "metadata": {},
     "outputs": [
      {
       "html": [
        "<link href='http://fonts.googleapis.com/css?family=Alegreya+Sans:100,300,400,500,700,800,900,100italic,300italic,400italic,500italic,700italic,800italic,900italic' rel='stylesheet' type='text/css'>\n",
        "<link href='http://fonts.googleapis.com/css?family=Arvo:400,700,400italic' rel='stylesheet' type='text/css'>\n",
        "<link href='http://fonts.googleapis.com/css?family=PT+Mono' rel='stylesheet' type='text/css'>\n",
        "<link href='http://fonts.googleapis.com/css?family=Shadows+Into+Light' rel='stylesheet' type='text/css'>\n",
        "<link rel=\"stylesheet\" type=\"text/css\" href=\"http://fonts.googleapis.com/css?family=Tangerine\">\n",
        "<link href='http://fonts.googleapis.com/css?family=Philosopher:400,700,400italic,700italic' rel='stylesheet' type='text/css'>\n",
        "<link href='http://fonts.googleapis.com/css?family=Libre+Baskerville:400,400italic' rel='stylesheet' type='text/css'>\n",
        "<link href='http://fonts.googleapis.com/css?family=Lora:400,400italic' rel='stylesheet' type='text/css'>\n",
        "<link href='http://fonts.googleapis.com/css?family=Karla:400,400italic' rel='stylesheet' type='text/css'>\n",
        "\n",
        "<style>\n",
        "\n",
        "@font-face {\n",
        "    font-family: \"Computer Modern\";\n",
        "    src: url('http://mirrors.ctan.org/fonts/cm-unicode/fonts/otf/cmunss.otf');\n",
        "}\n",
        "\n",
        "#notebook_panel { /* main background */\n",
        "    background: #888;\n",
        "    color: #f6f6f6;\n",
        "}\n",
        "\n",
        "div.cell { /* set cell width to about 80 chars */\n",
        "    width: 800px;\n",
        "}\n",
        "\n",
        "div #notebook { /* centre the content */\n",
        "    background: #fff; /* white background for content */\n",
        "    width: 1000px;\n",
        "    margin: auto;\n",
        "    padding-left: 1em;\n",
        "}\n",
        "\n",
        "#notebook li { /* More space between bullet points */\n",
        "margin-top:0.8em;\n",
        "}\n",
        "\n",
        "/* draw border around running cells */\n",
        "div.cell.border-box-sizing.code_cell.running { \n",
        "    border: 3px solid #111;\n",
        "}\n",
        "\n",
        "/* Put a solid color box around each cell and its output, visually linking them together */\n",
        "div.cell.code_cell {\n",
        "    background: #ddd;  /* rgba(230,230,230,1.0);  */\n",
        "    border-radius: 10px; /* rounded borders */\n",
        "    width: 900px;\n",
        "    padding: 1em;\n",
        "    margin-top: 1em;\n",
        "}\n",
        "\n",
        "div.text_cell_render{\n",
        "    font-family: 'Arvo' sans-serif;\n",
        "    line-height: 130%;\n",
        "    font-size: 115%;\n",
        "    width:700px;\n",
        "    margin-left:auto;\n",
        "    margin-right:auto;\n",
        "}\n",
        "\n",
        "\n",
        "/* Formatting for header cells */\n",
        ".text_cell_render h1 {\n",
        "    font-family: 'Alegreya Sans', sans-serif;\n",
        "    /* font-family: 'Tangerine', serif; */\n",
        "    /* font-family: 'Libre Baskerville', serif; */\n",
        "    /* font-family: 'Karla', sans-serif;\n",
        "    /* font-family: 'Lora', serif; */\n",
        "    font-size: 50px;\n",
        "    text-align: center;\n",
        "    /* font-style: italic; */\n",
        "    font-weight: 400;\n",
        "    /* font-size: 40pt; */\n",
        "    /* text-shadow: 4px 4px 4px #aaa; */\n",
        "    line-height: 120%;\n",
        "    color: rgb(12,85,97);\n",
        "    margin-bottom: .5em;\n",
        "    margin-top: 0.1em;\n",
        "    display: block;\n",
        "}\t\n",
        ".text_cell_render h2 {\n",
        "    /* font-family: 'Arial', serif; */\n",
        "    /* font-family: 'Lora', serif; */\n",
        "    font-family: 'Alegreya Sans', sans-serif;\n",
        "    font-weight: 700;\n",
        "    font-size: 24pt;\n",
        "    line-height: 100%;\n",
        "    /* color: rgb(171,165,131); */\n",
        "    color: rgb(12,85,97);\n",
        "    margin-bottom: 0.1em;\n",
        "    margin-top: 0.1em;\n",
        "    display: block;\n",
        "}\t\n",
        "\n",
        ".text_cell_render h3 {\n",
        "    font-family: 'Arial', serif;\n",
        "    margin-top:12px;\n",
        "    margin-bottom: 3px;\n",
        "    font-style: italic;\n",
        "    color: rgb(95,92,72);\n",
        "}\n",
        "\n",
        ".text_cell_render h4 {\n",
        "    font-family: 'Arial', serif;\n",
        "}\n",
        "\n",
        ".text_cell_render h5 {\n",
        "    font-family: 'Alegreya Sans', sans-serif;\n",
        "    font-weight: 300;\n",
        "    font-size: 16pt;\n",
        "    color: grey;\n",
        "    font-style: italic;\n",
        "    margin-bottom: .1em;\n",
        "    margin-top: 0.1em;\n",
        "    display: block;\n",
        "}\n",
        "\n",
        ".text_cell_render h6 {\n",
        "    font-family: 'PT Mono', sans-serif;\n",
        "    font-weight: 300;\n",
        "    font-size: 10pt;\n",
        "    color: grey;\n",
        "    margin-bottom: 1px;\n",
        "    margin-top: 1px;\n",
        "}\n",
        "\n",
        ".CodeMirror{\n",
        "        font-family: \"PT Mono\";\n",
        "        font-size: 100%;\n",
        "}\n",
        "\n",
        "</style>\n"
       ],
       "metadata": {},
       "output_type": "pyout",
       "prompt_number": 2,
       "text": [
        "<IPython.core.display.HTML at 0x1085a2c10>"
       ]
      }
     ],
     "prompt_number": 2
    },
    {
     "cell_type": "code",
     "collapsed": false,
     "input": [
      "import sys, os\n",
      "import matplotlib.pyplot as plt\n",
      "# adjust some settings for matplotlib\n",
      "from matplotlib import rcParams\n",
      "# print rcParams\n",
      "rcParams['font.size'] = 15\n",
      "# determine path of repository to set paths corretly below\n",
      "os.chdir(r'/Users/flow/git/pynoddy/docs/notebooks/')\n",
      "repo_path = os.path.realpath('../..')\n",
      "import pynoddy.history\n",
      "import pynoddy.experiment\n",
      "rcParams.update({'font.size': 20})"
     ],
     "language": "python",
     "metadata": {},
     "outputs": [],
     "prompt_number": 224
    },
    {
     "cell_type": "markdown",
     "metadata": {},
     "source": [
      "## Model set-up\n",
      "\n",
      "We use the two-fault model from previous examples and assign parameter ranges with a dictionary:"
     ]
    },
    {
     "cell_type": "code",
     "collapsed": false,
     "input": [
      "reload(pynoddy.history)\n",
      "reload(pynoddy.experiment)\n",
      "# Start again with the original model\n",
      "his_filename = \"two_faults_sensi.his\"\n",
      "sa = pynoddy.experiment.SensitivityAnalysis(history = his_filename)\n",
      "\n",
      "# Initialise list\n",
      "param_stats = []\n",
      "\n",
      "# Add one entry as dictionary with relevant properties:\n",
      "\n",
      "# for event 2:\n",
      "param_stats.append({'event' : 2, 'parameter' : 'Dip', 'min' : 55., 'max' : 65., \n",
      "                    'type' : 'normal', 'stdev' : 10., 'mean' : 60., 'initial' : 60.})\n",
      "param_stats.append({'event' : 2, 'parameter' : 'Dip Direction', 'min' : 85., 'max' : 95., \n",
      "                    'type' : 'normal', 'stdev' : 10., 'mean' : 90., 'initial' : 90.})\n",
      "param_stats.append({'event' : 2, 'parameter' : 'Slip', 'min' : 900., 'max' : 1100., \n",
      "                    'type' : 'normal', 'stdev' : 500, 'mean' : 1000., 'initial' : 1000.})\n",
      "# for event 3:\n",
      "param_stats.append({'event' : 3, 'parameter' : 'Dip', 'min' : 55., 'max' : 65., \n",
      "                    'type' : 'normal', 'stdev' : 10., 'mean' : 60., 'initial' : 60.})\n",
      "param_stats.append({'event' : 3, 'parameter' : 'Dip Direction', 'min' : 265., 'max' : 275., \n",
      "                    'type' : 'normal', 'stdev' : 10., 'mean' : 270., 'initial' : 270.})\n",
      "param_stats.append({'event' : 3, 'parameter' : 'Slip', 'min' : 900., 'max' : 1100., \n",
      "                    'type' : 'normal', 'stdev' : 500, 'mean' : 1000., 'initial' : 1000.})\n",
      "\n",
      "sa.set_parameter_statistics(param_stats)"
     ],
     "language": "python",
     "metadata": {},
     "outputs": [
      {
       "output_type": "stream",
       "stream": "stdout",
       "text": [
        " STRATIGRAPHY\n",
        " FAULT\n",
        " FAULT\n"
       ]
      }
     ],
     "prompt_number": 305
    },
    {
     "cell_type": "markdown",
     "metadata": {},
     "source": [
      "## Define sampling lines\n",
      "\n",
      "As before, we need to define points in the model (or lines) which we want to evaluate the sensitivity for:"
     ]
    },
    {
     "cell_type": "code",
     "collapsed": false,
     "input": [
      "# sa.add_sampling_line(5000, 3500, label = 'centre')\n",
      "# sa.add_sampling_line(2500, 3500, label = 'left')\n",
      "# sa.add_sampling_line(7500, 3500, label = 'right')\n",
      "sa.add_sampling_line(4000, 3500, label = 'compare')"
     ],
     "language": "python",
     "metadata": {},
     "outputs": [],
     "prompt_number": 306
    },
    {
     "cell_type": "markdown",
     "metadata": {},
     "source": [
      "And, again, we \"freeze\" the base state for later comparison and distance caluclations:"
     ]
    },
    {
     "cell_type": "code",
     "collapsed": false,
     "input": [
      "sa.freeze()"
     ],
     "language": "python",
     "metadata": {},
     "outputs": [],
     "prompt_number": 307
    },
    {
     "cell_type": "markdown",
     "metadata": {},
     "source": [
      "## Setting-up the parameter set\n",
      "\n",
      "For use with SALib, we have to define a parameter set as a text file (maybe there is a different way directly in Python - something to figure out for the future). The sensitivity object has a method to do that automatically:"
     ]
    },
    {
     "cell_type": "code",
     "collapsed": false,
     "input": [
      "param_file = \"params_file_tmp.txt\"\n",
      "sa.create_params_file(filename = param_file)"
     ],
     "language": "python",
     "metadata": {},
     "outputs": [],
     "prompt_number": 308
    },
    {
     "cell_type": "markdown",
     "metadata": {},
     "source": [
      "We now invoke the methods of the SALib library to generate parameter data sets that are required for the type of sensitivity analysis that we want to perform:"
     ]
    },
    {
     "cell_type": "code",
     "collapsed": false,
     "input": [
      "# import SALib method\n",
      "from SALib.sample import saltelli"
     ],
     "language": "python",
     "metadata": {},
     "outputs": [],
     "prompt_number": 309
    },
    {
     "cell_type": "code",
     "collapsed": false,
     "input": [
      "param_values = saltelli.sample(10, param_file, calc_second_order = True)\n"
     ],
     "language": "python",
     "metadata": {},
     "outputs": [],
     "prompt_number": 315
    },
    {
     "cell_type": "markdown",
     "metadata": {},
     "source": [
      "The object 'param_values' is a list of samples for the parameters that are defined in the model, in the order of appearance in param_file, e.g.:"
     ]
    },
    {
     "cell_type": "code",
     "collapsed": false,
     "input": [
      "param_values[0]"
     ],
     "language": "python",
     "metadata": {},
     "outputs": [
      {
       "metadata": {},
       "output_type": "pyout",
       "prompt_number": 316,
       "text": [
        "array([   57.19726562,    85.96679688,  1003.7109375 ,    61.76757812,\n",
        "         267.80273438,  1081.4453125 ])"
       ]
      }
     ],
     "prompt_number": 316
    },
    {
     "cell_type": "markdown",
     "metadata": {},
     "source": [
      "## Calculating distances for all parameter sets\n",
      "\n",
      "We now need to create a model realisation for each of these parameter sets and calculate the distance between the realisation and the base model at the position of the defined sampling lines. As we are not (always) interested in keeping the results of all realisations, those steps are combined and only the calculated distance is retained (per default):\n",
      "\n"
     ]
    },
    {
     "cell_type": "code",
     "collapsed": false,
     "input": [
      "distances = sa.determine_distances(param_values = param_values)"
     ],
     "language": "python",
     "metadata": {},
     "outputs": [],
     "prompt_number": 317
    },
    {
     "cell_type": "code",
     "collapsed": false,
     "input": [
      "# plot(sa.get_model_lines(model_type = 'base'))\n",
      "plot(sa.get_model_lines(model_type = 'current'))"
     ],
     "language": "python",
     "metadata": {},
     "outputs": [
      {
       "metadata": {},
       "output_type": "pyout",
       "prompt_number": 318,
       "text": [
        "[<matplotlib.lines.Line2D at 0x10bf09310>]"
       ]
      },
      {
       "metadata": {},
       "output_type": "display_data",
       "png": "[encoded data removed]",
       "text": [
        "<matplotlib.figure.Figure at 0x10bb7c050>"
       ]
      }
     ],
     "prompt_number": 318
    },
    {
     "cell_type": "code",
     "collapsed": false,
     "input": [
      "# Just to check if we actualy did get different models:\n",
      "plot(distances, '.-k')\n",
      "title(\"Model distances\")\n",
      "xlabel(\"Sensitivity step\")\n",
      "ylabel(\"Distance\")"
     ],
     "language": "python",
     "metadata": {},
     "outputs": [
      {
       "metadata": {},
       "output_type": "pyout",
       "prompt_number": 319,
       "text": [
        "<matplotlib.text.Text at 0x10bf32a10>"
       ]
      },
      {
       "metadata": {},
       "output_type": "display_data",
       "png": "[encoded data removed]",
       "text": [
        "<matplotlib.figure.Figure at 0x10bf21bd0>"
       ]
      }
     ],
     "prompt_number": 319
    },
    {
     "cell_type": "markdown",
     "metadata": {},
     "source": [
      "## Sensitivity analysis\n",
      "\n",
      "We can now analyse the sensitivity of the modelled stratigraphy along the defined vertical lines (\"drillholes\") with respect to the model parameters:"
     ]
    },
    {
     "cell_type": "code",
     "collapsed": false,
     "input": [
      "# save results\n",
      "results_file = 'dist_tmp.txt'\n",
      "np.savetxt(results_file, distances, delimiter=' ')"
     ],
     "language": "python",
     "metadata": {},
     "outputs": [],
     "prompt_number": 320
    },
    {
     "cell_type": "code",
     "collapsed": false,
     "input": [
      "from SALib.analyze import sobol"
     ],
     "language": "python",
     "metadata": {},
     "outputs": [],
     "prompt_number": 321
    },
    {
     "cell_type": "code",
     "collapsed": false,
     "input": [
      "Si = sobol.analyze(param_file, results_file, \n",
      "                   column = 0, \n",
      "                   conf_level = 0.95,\n",
      "                   calc_second_order = True, \n",
      "                   print_to_console=False)"
     ],
     "language": "python",
     "metadata": {},
     "outputs": [],
     "prompt_number": 322
    },
    {
     "cell_type": "code",
     "collapsed": false,
     "input": [
      "# create composite matrix for sensitivities\n",
      "n_params = 6\n",
      "comp_matrix = np.ndarray(shape = (n_params,n_params))\n",
      "for j in range(n_params):\n",
      "    for i in range(n_params):\n",
      "        if i == j:\n",
      "            comp_matrix[i,j] = Si['S1'][i]\n",
      "        else:\n",
      "            comp_matrix[i,j] = Si['S2'][i,j]\n",
      "            comp_matrix[j,i] = Si['S2'][i,j]\n",
      "            \n",
      "# print comp_matrix\n",
      "\n",
      "# define labels for figure: phi = dip, d = dip direction, s = slip, subscript = fault event\n",
      "label_names = [\"\",\"$\\phi_1$\", \"$d_1$\", \"$s_1$\", \"$\\phi_2$\", \"$d_2$\", \"$s_2$\"]\n",
      "\n",
      "# Create figure\n",
      "fig = plt.figure()\n",
      "ax = fig.add_subplot(111)\n",
      "im = ax.imshow(comp_matrix, interpolation='nearest', cmap='RdBu_r', \n",
      "               vmax = np.max(np.abs(comp_matrix)),\n",
      "                vmin = -np.max(np.abs(comp_matrix)),\n",
      "\n",
      ")\n",
      "\n",
      "ax.yaxis.set_ticks_position(\"both\")\n",
      "ax.xaxis.set_ticks_position(\"top\")\n",
      "\n",
      "ax.set_xticklabels(label_names)\n",
      "ax.set_yticklabels(label_names)\n",
      "\n",
      "# ax.set_title(\"Sensitivities\")\n",
      "\n",
      "ax.set_xlabel(\"Parameter Sensitivities\")\n",
      "\n",
      "fig.colorbar(im)\n",
      "\n",
      "plt.tight_layout()"
     ],
     "language": "python",
     "metadata": {},
     "outputs": [
      {
       "metadata": {},
       "output_type": "display_data",
       "png": "[encoded data removed]",
       "text": [
        "<matplotlib.figure.Figure at 0x10c083490>"
       ]
      }
     ],
     "prompt_number": 323
    },
    {
     "cell_type": "code",
     "collapsed": false,
     "input": [
      "sa.events[3].properties['Dip Direction']"
     ],
     "language": "python",
     "metadata": {},
     "outputs": [
      {
       "metadata": {},
       "output_type": "pyout",
       "prompt_number": 128,
       "text": [
        "270.0"
       ]
      }
     ],
     "prompt_number": 128
    },
    {
     "cell_type": "code",
     "collapsed": false,
     "input": [
      "plot(sa.get_drillhole_data(4000, 3500))\n",
      "plot(sa.get_model_lines())"
     ],
     "language": "python",
     "metadata": {},
     "outputs": [
      {
       "metadata": {},
       "output_type": "pyout",
       "prompt_number": 164,
       "text": [
        "[<matplotlib.lines.Line2D at 0x10a69d790>]"
       ]
      },
      {
       "metadata": {},
       "output_type": "display_data",
       "png": "[encoded data removed]",
       "text": [
        "<matplotlib.figure.Figure at 0x10aa90150>"
       ]
      }
     ],
     "prompt_number": 164
    },
    {
     "cell_type": "code",
     "collapsed": false,
     "input": [
      "reload(pynoddy.history)\n",
      "reload(pynoddy.experiment)\n",
      "sa2 = pynoddy.experiment.Experiment(history = \"two_faults_sensi.his\")\n"
     ],
     "language": "python",
     "metadata": {},
     "outputs": [
      {
       "output_type": "stream",
       "stream": "stdout",
       "text": [
        " STRATIGRAPHY\n",
        " FAULT\n",
        " FAULT\n"
       ]
      }
     ],
     "prompt_number": 211
    },
    {
     "cell_type": "code",
     "collapsed": false,
     "input": [
      "sa2.write_history(\"test5.his\")"
     ],
     "language": "python",
     "metadata": {},
     "outputs": [],
     "prompt_number": 212
    },
    {
     "cell_type": "code",
     "collapsed": false,
     "input": [
      "nm = pynoddy.history.NoddyHistory(history = \"two_faults_sensi.his\")\n",
      "# nm.determine_events()\n",
      "nm.write_history(\"test6.his\")"
     ],
     "language": "python",
     "metadata": {},
     "outputs": [
      {
       "output_type": "stream",
       "stream": "stdout",
       "text": [
        " STRATIGRAPHY\n",
        " FAULT\n",
        " FAULT\n"
       ]
      }
     ],
     "prompt_number": 214
    },
    {
     "cell_type": "code",
     "collapsed": false,
     "input": [
      "param_values[0]"
     ],
     "language": "python",
     "metadata": {},
     "outputs": [
      {
       "metadata": {},
       "output_type": "pyout",
       "prompt_number": 215,
       "text": [
        "array([ -2.80273438,  -4.03320312,   3.7109375 ,   1.76757812,\n",
        "        -2.19726562,  81.4453125 ])"
       ]
      }
     ],
     "prompt_number": 215
    },
    {
     "cell_type": "code",
     "collapsed": false,
     "input": [],
     "language": "python",
     "metadata": {},
     "outputs": []
    }
   ],
   "metadata": {}
  }
 ]
}