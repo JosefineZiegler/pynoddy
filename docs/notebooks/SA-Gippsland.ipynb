{
 "metadata": {
  "name": "",
  "signature": "sha256:213931b738f310e3a24065bf880342b5e9ecf7bcd91188102f96451555da3f47"
 },
 "nbformat": 3,
 "nbformat_minor": 0,
 "worksheets": [
  {
   "cells": [
    {
     "cell_type": "markdown",
     "metadata": {},
     "source": [
      "# Sensitivity Analysis Gippsland Basin Model\n",
      "\n",
      "The kinematic model of the Gippsland Basin was constructed on the basis of data from drillhole observations, interpreted geophysical data (seismic sections and potential-field data) and knowledge of the geological history.\n",
      "\n",
      "As drillhole observations represent the only direct observation of the actual geological subsurface structure, it is interesting to evaluate how sensitive the match of the model at the position of these observations is with respect to uncertainties about the exact geological history.\n",
      "\n",
      "We can also frame the same question in a slightly different context: how well can we determine events of geological history on the basis of structural information from the drillholes - in the range of the (obviously approximate) assumptions about representing the history as a series of kinematic events (as we do with Noddy).\n",
      "\n",
      "In order to answer this question, we now use the constructed model of the Gippsland Basin and test the sensitivity of modelled geology at observation positions (the drillholes) with respect to several main parameters that define the geological history as parameterised events."
     ]
    },
    {
     "cell_type": "code",
     "collapsed": false,
     "input": [
      "from IPython.core.display import HTML\n",
      "css_file = 'pynoddy.css'\n",
      "HTML(open(css_file, \"r\").read())"
     ],
     "language": "python",
     "metadata": {},
     "outputs": [
      {
       "html": [
        "<link href='http://fonts.googleapis.com/css?family=Alegreya+Sans:100,300,400,500,700,800,900,100italic,300italic,400italic,500italic,700italic,800italic,900italic' rel='stylesheet' type='text/css'>\n",
        "<link href='http://fonts.googleapis.com/css?family=Arvo:400,700,400italic' rel='stylesheet' type='text/css'>\n",
        "<link href='http://fonts.googleapis.com/css?family=PT+Mono' rel='stylesheet' type='text/css'>\n",
        "<link href='http://fonts.googleapis.com/css?family=Shadows+Into+Light' rel='stylesheet' type='text/css'>\n",
        "<link rel=\"stylesheet\" type=\"text/css\" href=\"http://fonts.googleapis.com/css?family=Tangerine\">\n",
        "<link href='http://fonts.googleapis.com/css?family=Philosopher:400,700,400italic,700italic' rel='stylesheet' type='text/css'>\n",
        "<link href='http://fonts.googleapis.com/css?family=Libre+Baskerville:400,400italic' rel='stylesheet' type='text/css'>\n",
        "<link href='http://fonts.googleapis.com/css?family=Lora:400,400italic' rel='stylesheet' type='text/css'>\n",
        "<link href='http://fonts.googleapis.com/css?family=Karla:400,400italic' rel='stylesheet' type='text/css'>\n",
        "\n",
        "<style>\n",
        "\n",
        "@font-face {\n",
        "    font-family: \"Computer Modern\";\n",
        "    src: url('http://mirrors.ctan.org/fonts/cm-unicode/fonts/otf/cmunss.otf');\n",
        "}\n",
        "\n",
        "#notebook_panel { /* main background */\n",
        "    background: #888;\n",
        "    color: #f6f6f6;\n",
        "}\n",
        "\n",
        "div.cell { /* set cell width to about 80 chars */\n",
        "    width: 800px;\n",
        "}\n",
        "\n",
        "div #notebook { /* centre the content */\n",
        "    background: #fff; /* white background for content */\n",
        "    width: 1000px;\n",
        "    margin: auto;\n",
        "    padding-left: 1em;\n",
        "}\n",
        "\n",
        "#notebook li { /* More space between bullet points */\n",
        "margin-top:0.8em;\n",
        "}\n",
        "\n",
        "/* draw border around running cells */\n",
        "div.cell.border-box-sizing.code_cell.running { \n",
        "    border: 3px solid #111;\n",
        "}\n",
        "\n",
        "/* Put a solid color box around each cell and its output, visually linking them together */\n",
        "div.cell.code_cell {\n",
        "    background: #ddd;  /* rgba(230,230,230,1.0);  */\n",
        "    border-radius: 10px; /* rounded borders */\n",
        "    width: 900px;\n",
        "    padding: 1em;\n",
        "    margin-top: 1em;\n",
        "}\n",
        "\n",
        "div.text_cell_render{\n",
        "    font-family: 'Arvo' sans-serif;\n",
        "    line-height: 130%;\n",
        "    font-size: 115%;\n",
        "    width:700px;\n",
        "    margin-left:auto;\n",
        "    margin-right:auto;\n",
        "}\n",
        "\n",
        "\n",
        "/* Formatting for header cells */\n",
        ".text_cell_render h1 {\n",
        "    font-family: 'Alegreya Sans', sans-serif;\n",
        "    /* font-family: 'Tangerine', serif; */\n",
        "    /* font-family: 'Libre Baskerville', serif; */\n",
        "    /* font-family: 'Karla', sans-serif;\n",
        "    /* font-family: 'Lora', serif; */\n",
        "    font-size: 50px;\n",
        "    text-align: center;\n",
        "    /* font-style: italic; */\n",
        "    font-weight: 400;\n",
        "    /* font-size: 40pt; */\n",
        "    /* text-shadow: 4px 4px 4px #aaa; */\n",
        "    line-height: 120%;\n",
        "    color: rgb(12,85,97);\n",
        "    margin-bottom: .5em;\n",
        "    margin-top: 0.1em;\n",
        "    display: block;\n",
        "}\t\n",
        ".text_cell_render h2 {\n",
        "    /* font-family: 'Arial', serif; */\n",
        "    /* font-family: 'Lora', serif; */\n",
        "    font-family: 'Alegreya Sans', sans-serif;\n",
        "    font-weight: 700;\n",
        "    font-size: 24pt;\n",
        "    line-height: 100%;\n",
        "    /* color: rgb(171,165,131); */\n",
        "    color: rgb(12,85,97);\n",
        "    margin-bottom: 0.1em;\n",
        "    margin-top: 0.1em;\n",
        "    display: block;\n",
        "}\t\n",
        "\n",
        ".text_cell_render h3 {\n",
        "    font-family: 'Arial', serif;\n",
        "    margin-top:12px;\n",
        "    margin-bottom: 3px;\n",
        "    font-style: italic;\n",
        "    color: rgb(95,92,72);\n",
        "}\n",
        "\n",
        ".text_cell_render h4 {\n",
        "    font-family: 'Arial', serif;\n",
        "}\n",
        "\n",
        ".text_cell_render h5 {\n",
        "    font-family: 'Alegreya Sans', sans-serif;\n",
        "    font-weight: 300;\n",
        "    font-size: 16pt;\n",
        "    color: grey;\n",
        "    font-style: italic;\n",
        "    margin-bottom: .1em;\n",
        "    margin-top: 0.1em;\n",
        "    display: block;\n",
        "}\n",
        "\n",
        ".text_cell_render h6 {\n",
        "    font-family: 'PT Mono', sans-serif;\n",
        "    font-weight: 300;\n",
        "    font-size: 10pt;\n",
        "    color: grey;\n",
        "    margin-bottom: 1px;\n",
        "    margin-top: 1px;\n",
        "}\n",
        "\n",
        ".CodeMirror{\n",
        "        font-family: \"PT Mono\";\n",
        "        font-size: 100%;\n",
        "}\n",
        "\n",
        "</style>\n"
       ],
       "metadata": {},
       "output_type": "pyout",
       "prompt_number": 1,
       "text": [
        "<IPython.core.display.HTML at 0x110733b10>"
       ]
      }
     ],
     "prompt_number": 1
    },
    {
     "cell_type": "code",
     "collapsed": false,
     "input": [
      "import sys, os\n",
      "import matplotlib.pyplot as plt\n",
      "# adjust some settings for matplotlib\n",
      "from matplotlib import rcParams\n",
      "# print rcParams\n",
      "rcParams['font.size'] = 15\n",
      "# determine path of repository to set paths corretly below\n",
      "# os.chdir(r'/Users/flow/git/pynoddy/docs/notebooks/')\n",
      "repo_path = os.path.realpath('../..')\n",
      "import pynoddy.history\n",
      "import pynoddy.events"
     ],
     "language": "python",
     "metadata": {},
     "outputs": [],
     "prompt_number": 2
    },
    {
     "cell_type": "markdown",
     "metadata": {},
     "source": [
      "## Analysis of events in the Gippsland Basin model\n",
      "\n",
      "We are starting with an analysis of the events in the Gippsland Basin model - and a quick overview of the model in sections:"
     ]
    },
    {
     "cell_type": "code",
     "collapsed": false,
     "input": [
      "os.chdir(r'/Users/flow/git/paper_pynoddy/notebooks')\n",
      "reload(pynoddy.history)\n",
      "gipps = pynoddy.history.NoddyHistory(\"GBasin_Ve1_V4_b.his\")"
     ],
     "language": "python",
     "metadata": {},
     "outputs": [
      {
       "output_type": "stream",
       "stream": "stdout",
       "text": [
        " STRATIGRAPHY\n",
        " FOLD\n",
        " UNCONFORMITY\n",
        " FAULT\n",
        " FAULT\n",
        " UNCONFORMITY\n",
        " FAULT\n",
        " FAULT\n",
        " UNCONFORMITY\n",
        " FAULT\n",
        " FAULT\n",
        " UNCONFORMITY\n",
        " TILT\n",
        " FOLD\n"
       ]
      }
     ],
     "prompt_number": 3
    },
    {
     "cell_type": "markdown",
     "metadata": {},
     "source": [
      "We first have a quick look at the model and the defined events:"
     ]
    },
    {
     "cell_type": "code",
     "collapsed": false,
     "input": [
      "gipps.info()"
     ],
     "language": "python",
     "metadata": {},
     "outputs": [
      {
       "output_type": "stream",
       "stream": "stdout",
       "text": [
        "************************************************************\n",
        "\t\t\tModel Information\n",
        "************************************************************\n",
        "\n",
        "\n",
        "This model consists of 14 events:\n",
        "\t(1) - STRATIGRAPHY\n",
        "\t(2) - FOLD\n",
        "\t(3) - UNCONFORMITY\n",
        "\t(4) - FAULT\n",
        "\t(5) - FAULT\n",
        "\t(6) - UNCONFORMITY\n",
        "\t(7) - FAULT\n",
        "\t(8) - FAULT\n",
        "\t(9) - UNCONFORMITY\n",
        "\t(10) - FAULT\n",
        "\t(11) - FAULT\n",
        "\t(12) - UNCONFORMITY\n",
        "\t(13) - TILT\n",
        "\t(14) - FOLD\n",
        "The model extent is:\n",
        "\tx - 26630.0 m\n",
        "\ty - 19291.0 m\n",
        "\tz - 1500.0 m\n",
        "Number of cells in each direction:\n",
        "\tnx = 532\n",
        "\tny = 385\n",
        "\tnz = 30\n",
        "The model origin is located at: \n",
        "\t(0.0, 0.0, 1500.0)\n",
        "The cubesize for model export is: \n",
        "\t50 m\n",
        "\n",
        "\n",
        "************************************************************\n",
        "\t\t\tMeta Data\n",
        "************************************************************\n",
        "\n",
        "\n",
        "The filename of the model is:\n",
        "\t GBasin_Ve1_V4.his\n",
        "It was last saved (if origin was a history file!) at:\n",
        "\t 12/11/2014 11:33:12\n",
        "\n"
       ]
      }
     ],
     "prompt_number": 4
    },
    {
     "cell_type": "markdown",
     "metadata": {},
     "source": [
      "And for a quick overview about the model and what it actually looks like:\n",
      "\n",
      "**TO DO: Fix colorbar**"
     ]
    },
    {
     "cell_type": "code",
     "collapsed": false,
     "input": [
      "print os.sys.path"
     ],
     "language": "python",
     "metadata": {},
     "outputs": [
      {
       "output_type": "stream",
       "stream": "stdout",
       "text": [
        "['', '/Users/flow/git/pynoddy', '/Users/flow/git/prettyplotlib', '/Users/flow/git/github/pygeomod', '/opt/local/Library/Frameworks/Python.framework/Versions/2.7/lib/python27.zip', '/opt/local/Library/Frameworks/Python.framework/Versions/2.7/lib/python2.7', '/opt/local/Library/Frameworks/Python.framework/Versions/2.7/lib/python2.7/plat-darwin', '/opt/local/Library/Frameworks/Python.framework/Versions/2.7/lib/python2.7/plat-mac', '/opt/local/Library/Frameworks/Python.framework/Versions/2.7/lib/python2.7/plat-mac/lib-scriptpackages', '/opt/local/Library/Frameworks/Python.framework/Versions/2.7/lib/python2.7/lib-tk', '/opt/local/Library/Frameworks/Python.framework/Versions/2.7/lib/python2.7/lib-old', '/opt/local/Library/Frameworks/Python.framework/Versions/2.7/lib/python2.7/site-packages/readline', '/opt/local/Library/Frameworks/Python.framework/Versions/2.7/lib/python2.7/lib-dynload', '/opt/local/Library/Frameworks/Python.framework/Versions/2.7/lib/python2.7/site-packages', '/opt/local/Library/Frameworks/Python.framework/Versions/2.7/lib/python2.7/site-packages/PIL', '/opt/local/Library/Frameworks/Python.framework/Versions/2.7/lib/python2.7/site-packages/gtk-2.0', '/opt/local/Library/Frameworks/Python.framework/Versions/2.7/lib/python2.7/site-packages/wx-2.8-gtk2-unicode', '/opt/local/Library/Frameworks/Python.framework/Versions/2.7/lib/python2.7/site-packages/IPython/extensions']\n"
       ]
      }
     ],
     "prompt_number": 5
    },
    {
     "cell_type": "code",
     "collapsed": false,
     "input": [
      "os.sys.path.append(r\"/Users/flow/bin\")\n",
      "# Compute the model\n",
      "reload(pynoddy)\n",
      "his = 'GBasin_V4_new.his'\n",
      "gipps.write_history(his)\n",
      "out = 'GBasin_V4_out'\n",
      "pynoddy.compute_model(his, out)"
     ],
     "language": "python",
     "metadata": {},
     "outputs": [],
     "prompt_number": 6
    },
    {
     "cell_type": "code",
     "collapsed": false,
     "input": [
      "reload(pynoddy.output)\n",
      "gipps_out = pynoddy.output.NoddyOutput(\"tmp_out\")"
     ],
     "language": "python",
     "metadata": {},
     "outputs": [],
     "prompt_number": 7
    },
    {
     "cell_type": "code",
     "collapsed": false,
     "input": [
      "gipps.determine_model_stratigraphy()\n",
      "# create section plots in axes diretions:\n",
      "gipps_out.plot_section('x', ve = 5.,\n",
      "                cmap = 'YlOrRd',\n",
      "                title = '',\n",
      "                colorbar = False,\n",
      "#                layer_labels = gipps.model_stratigraphy\n",
      "                )\n",
      "gipps_out.plot_section('y', position = 100, ve = 5.,\n",
      "                cmap = 'YlOrRd',\n",
      "                title = '',\n",
      "                 colorbar = False,\n",
      "                 colorbar_orientation = 'horizontal',\n",
      " #                layer_labels = gipps.model_stratigraphy\n",
      "                 )\n",
      "\n"
     ],
     "language": "python",
     "metadata": {},
     "outputs": [
      {
       "metadata": {},
       "output_type": "display_data",
       "png": "[encoded data removed]",
       "text": [
        "<matplotlib.figure.Figure at 0x110c44a10>"
       ]
      },
      {
       "metadata": {},
       "output_type": "display_data",
       "png": "[encoded data removed]",
       "text": [
        "<matplotlib.figure.Figure at 0x1147c9a90>"
       ]
      }
     ],
     "prompt_number": 8
    },
    {
     "cell_type": "markdown",
     "metadata": {},
     "source": [
      "## Extract 1-D drillhole information\n",
      "\n",
      "We will now define drillholes at defined positions within the model and export high-resolution 1-D vertical profiles for those drillholes and their appropriate depth.\n",
      "\n",
      "We define the drillhole \"coller\" data as dictionaries for more clarity below:"
     ]
    },
    {
     "cell_type": "code",
     "collapsed": false,
     "input": [
      "reload(pynoddy.history)\n",
      "gipps = pynoddy.history.NoddyHistory(\"GBasin_Ve1_V4_b.his\")\n",
      "gipps.info()\n",
      "440 * 50"
     ],
     "language": "python",
     "metadata": {},
     "outputs": [
      {
       "output_type": "stream",
       "stream": "stdout",
       "text": [
        " STRATIGRAPHY\n",
        " FOLD\n",
        " UNCONFORMITY\n",
        " FAULT\n",
        " FAULT\n",
        " UNCONFORMITY\n",
        " FAULT\n",
        " FAULT\n",
        " UNCONFORMITY\n",
        " FAULT\n",
        " FAULT\n",
        " UNCONFORMITY\n",
        " TILT\n",
        " FOLD\n",
        "************************************************************\n",
        "\t\t\tModel Information\n",
        "************************************************************\n",
        "\n",
        "\n",
        "This model consists of 14 events:\n",
        "\t(1) - STRATIGRAPHY\n",
        "\t(2) - FOLD\n",
        "\t(3) - UNCONFORMITY\n",
        "\t(4) - FAULT\n",
        "\t(5) - FAULT\n",
        "\t(6) - UNCONFORMITY\n",
        "\t(7) - FAULT\n",
        "\t(8) - FAULT\n",
        "\t(9) - UNCONFORMITY\n",
        "\t(10) - FAULT\n",
        "\t(11) - FAULT\n",
        "\t(12) - UNCONFORMITY\n",
        "\t(13) - TILT\n",
        "\t(14) - FOLD\n",
        "The model extent is:\n",
        "\tx - 26630.0 m\n",
        "\ty - 19291.0 m\n",
        "\tz - 1500.0 m\n",
        "Number of cells in each direction:\n",
        "\tnx = 532\n",
        "\tny = 385\n",
        "\tnz = 30\n",
        "The model origin is located at: \n",
        "\t(0.0, 0.0, 1500.0)\n",
        "The cubesize for model export is: \n",
        "\t50 m\n",
        "\n",
        "\n",
        "************************************************************\n",
        "\t\t\tMeta Data\n",
        "************************************************************\n",
        "\n",
        "\n",
        "The filename of the model is:\n",
        "\t GBasin_Ve1_V4.his\n",
        "It was last saved (if origin was a history file!) at:\n",
        "\t 12/11/2014 11:33:12\n",
        "\n"
       ]
      },
      {
       "metadata": {},
       "output_type": "pyout",
       "prompt_number": 9,
       "text": [
        "22000"
       ]
      }
     ],
     "prompt_number": 9
    },
    {
     "cell_type": "code",
     "collapsed": false,
     "input": [
      "# Create dictionaries for wells:\n",
      "drill_1 = {'x' : 22000., 'y' : 9600., 'z_max' : 1000.}\n",
      "drill_2 = {'x' : 20000., 'y' : 5000., 'z_min' : 500.}\n",
      "drill_3 = {'x' : 5000., 'y' : 15000., 'z_min' : 750.}"
     ],
     "language": "python",
     "metadata": {},
     "outputs": [],
     "prompt_number": 10
    },
    {
     "cell_type": "markdown",
     "metadata": {},
     "source": [
      "So, let's have a look at the modelled geology at one of these drillholes for comparison:"
     ]
    },
    {
     "cell_type": "code",
     "collapsed": false,
     "input": [
      "# %%timeit # uncomment this command to time execution of command\n",
      "drill_1_data = gipps.get_drillhole_data(drill_1['x'], drill_1['y'], z_max = drill_1['z_max'])"
     ],
     "language": "python",
     "metadata": {},
     "outputs": [],
     "prompt_number": 11
    },
    {
     "cell_type": "code",
     "collapsed": false,
     "input": [
      "plot(drill_1_data[::-1])"
     ],
     "language": "python",
     "metadata": {},
     "outputs": [
      {
       "metadata": {},
       "output_type": "pyout",
       "prompt_number": 12,
       "text": [
        "[<matplotlib.lines.Line2D at 0x114a94a10>]"
       ]
      },
      {
       "metadata": {},
       "output_type": "display_data",
       "png": "[encoded data removed]",
       "text": [
        "<matplotlib.figure.Figure at 0x110be5f10>"
       ]
      }
     ],
     "prompt_number": 12
    },
    {
     "cell_type": "code",
     "collapsed": false,
     "input": [
      "fig = plt.figure(figsize = (12,10))\n",
      "ax1 = fig.add_subplot(211)\n",
      "ax2 = fig.add_subplot(212)\n",
      "gipps_out.plot_section('y', position = 'center', ve = 5.,\n",
      "                cmap = 'YlOrRd',\n",
      "                title = '',\n",
      "                ax = ax1,\n",
      "                colorbar = False,\n",
      "               # colorbar_orientation = 'horizontal',\n",
      "#                layer_labels = gipps.model_stratigraphy\n",
      "                )\n",
      "ax1.plot([440,440], [10,30], 'k', lw=3)\n",
      "ax1.set_ylim([0,30])\n",
      "ax1.set_xlim([0,540])\n",
      "ax2.plot(drill_1_data, range(len(drill_1_data)), 'k')\n",
      "ax2.fill_betweenx(range(len(drill_1_data)),drill_1_data, color = 'gray') #, range(le"
     ],
     "language": "python",
     "metadata": {},
     "outputs": [
      {
       "metadata": {},
       "output_type": "pyout",
       "prompt_number": 13,
       "text": [
        "<matplotlib.collections.PolyCollection at 0x114b7ffd0>"
       ]
      },
      {
       "metadata": {},
       "output_type": "display_data",
       "png": "[encoded data removed]",
       "text": [
        "<matplotlib.figure.Figure at 0x1146d7f90>"
       ]
      }
     ],
     "prompt_number": 13
    },
    {
     "cell_type": "code",
     "collapsed": false,
     "input": [
      "gipps_out.export_to_vtk()"
     ],
     "language": "python",
     "metadata": {},
     "outputs": [],
     "prompt_number": 14
    },
    {
     "cell_type": "markdown",
     "metadata": {},
     "source": [
      "Comparing this profile to the position in the section:"
     ]
    },
    {
     "cell_type": "code",
     "collapsed": false,
     "input": [
      "fig = plt.figure(figsize = (12,10))\n",
      "ax1 = fig.add_subplot(211)\n",
      "ax2 = fig.add_subplot(212)\n",
      "gipps_out.plot_section('y', position = 100, ve = 5.,\n",
      "                cmap = 'YlOrRd',\n",
      "                title = '',\n",
      "                ax = ax1,\n",
      "                colorbar = False,\n",
      "               # colorbar_orientation = 'horizontal',\n",
      "#                layer_labels = gipps.model_stratigraphy\n",
      "                )\n",
      "ax1.plot([200,200], [10,30], 'k', lw=3)\n",
      "ax1.set_ylim([0,30])\n",
      "ax1.set_xlim([0,540])\n",
      "ax2.plot(drill_1_data, range(len(drill_1_data)), 'k')\n",
      "ax2.fill_betweenx(range(len(drill_1_data)),drill_1_data, color = 'gray') #, range(len(drill_1_data)))"
     ],
     "language": "python",
     "metadata": {},
     "outputs": [
      {
       "metadata": {},
       "output_type": "pyout",
       "prompt_number": 15,
       "text": [
        "<matplotlib.collections.PolyCollection at 0x1145f7850>"
       ]
      },
      {
       "metadata": {},
       "output_type": "display_data",
       "png": "[encoded data removed]",
       "text": [
        "<matplotlib.figure.Figure at 0x114f46a10>"
       ]
      }
     ],
     "prompt_number": 15
    },
    {
     "cell_type": "markdown",
     "metadata": {},
     "source": [
      "The modelled geology of the drillhole matches the position in the section (luckily!), but the profile has a much higher resolution - and important aspect in order to use it for a meaningful sensitivity analysis."
     ]
    },
    {
     "cell_type": "markdown",
     "metadata": {},
     "source": [
      "## Defining parameter ranges for uncertain events\n",
      "\n",
      "We now need to define the parameter ranges for the geological events in the model. Here a list of the events again:"
     ]
    },
    {
     "cell_type": "code",
     "collapsed": false,
     "input": [
      "gipps.info(events_only = True)"
     ],
     "language": "python",
     "metadata": {},
     "outputs": [
      {
       "output_type": "stream",
       "stream": "stdout",
       "text": [
        "This model consists of 14 events:\n",
        "\t(1) - STRATIGRAPHY\n",
        "\t(2) - FOLD\n",
        "\t(3) - UNCONFORMITY\n",
        "\t(4) - FAULT\n",
        "\t(5) - FAULT\n",
        "\t(6) - UNCONFORMITY\n",
        "\t(7) - FAULT\n",
        "\t(8) - FAULT\n",
        "\t(9) - UNCONFORMITY\n",
        "\t(10) - FAULT\n",
        "\t(11) - FAULT\n",
        "\t(12) - UNCONFORMITY\n",
        "\t(13) - TILT\n",
        "\t(14) - FOLD\n"
       ]
      }
     ],
     "prompt_number": 16
    },
    {
     "cell_type": "markdown",
     "metadata": {},
     "source": [
      "Relevant parameters for typical events are (this is a minimum number more parameters can be defined!):\n",
      "\n",
      "- Faults: x, y, z, dip, dip direction, slip (6)\n",
      "- Tilt: x, y, z, plunge, plunge direction, rotation (6)\n",
      "- Fold: x, y, z, wavelength, amplitude (5) \n",
      "- Unconformity: x, y, z, dip, dip direction (5)\n",
      "\n",
      "In our case, we would have a total of **72 parameters**! We might be able to reduce some parameters due to translational invariance:\n",
      "\n",
      "- unconformities without dip: x,y position not relevant\n",
      "- faults with dip direction in one of main axes: one axis irrelevant\n",
      "- fold parallel to main axis: one axis irrelevant\n",
      "- same for tilt.\n",
      "\n",
      "Note: this assumption is, of course, only valid if we assume that the uncertainty in, say, the dip direction of a fault is so small that the uncertainty in the position can be neglected. In a sense of a local sensitivity analysis, this is certainly the case - with a global sensitivity analysis (as we aim for here), the correlated sensitivity could be analysed - however, at the cost of adding one more parameter!\n",
      "\n",
      "So, we have to evaluate the events and see if we can reduce the order of the problem:\n",
      "\n",
      "- 2: Fold dip dir is 090, so invariant to y\n",
      "- 3: Unconformity is flat, only one parameter (z)\n",
      "- 4: Fault dip dir is 270, invariant to y\n",
      "- 5: no reduction possible\n",
      "- 6: Unconformity is flat, only one parameter (z)\n",
      "- 7: Dip direction 180, invariant to x\n",
      "- 8: no reduction possible\n",
      "- 9: Unconformity is flat, only one parameter (z)\n",
      "- 10: no reduction possible\n",
      "- 11: dip dir 270, invariant to y\n",
      "- 12: unfortunately a small dip (1 degree) - still consider as flat and only z?\n",
      "- 13: as tilt affects entire block: position of x,y,z not important?\n",
      "- 14: direction 180: invariant to x.\n",
      "\n",
      "In total, we remain with: 42 parameters! Still a lot... but let's see - a model calculation for a 1-D export is quite fast (approx. 0.1 s), so it could be possible.\n",
      "\n",
      "We define ranges for the remaining parameters and save them to a file:\n",
      "\n"
     ]
    },
    {
     "cell_type": "code",
     "collapsed": false,
     "input": [
      "param_file = \"params_gipps.txt\"\n",
      "params = \"\"\"ev2_fold_amplitude 400. 600.\n",
      "ev2_fold_wavelength 12500. 17500.\n",
      "ev2_fold_x 0 15000.\n",
      "ev2_fold_z 0 1000.\n",
      "ev3_uc_z 150. 350.\n",
      "ev4_fault_dip 60. 80.\n",
      "ev4_fault_x 22000. 24000.\n",
      "ev4_fault_z 4000. 6000.\n",
      "ev4_fault_slip 0 -200.\n",
      "ev5_fault_dip 60. 80.\n",
      "ev5_fault_dip_dir 276. 296.\n",
      "ev5_fault_x 17000. 19000.\n",
      "ev5_fault_y 0 1000.\n",
      "ev5_fault_z 4000. 6000.\n",
      "ev5_fault_slip 0 -200.\n",
      "ev6_uc_z 650. 850.\n",
      "ev7_fault_dip 60. 80.\n",
      "ev7_fault_y 12000. 14000.\n",
      "ev7_fault_z 4000. 6000.\n",
      "ev7_fault_slip 400. 600.\n",
      "ev8_fault_dip 35. 55.\n",
      "ev8_fault_dip_dir 0. 20.\n",
      "ev8_fault_x 7730. 9730.\n",
      "ev8_fault_y -1000. 1000.\n",
      "ev8_fault_z 4000. 6000.\n",
      "ev8_fault_slip 400. 600.\n",
      "ev9_uc_z 650. 850.\n",
      "ev10_fault_dip 60. 80.\n",
      "ev10_fault_dip_dir 276. 296.\n",
      "ev10_fault_x 17000. 19000.\n",
      "ev10_fault_y -1000. 1000.\n",
      "ev10_fault_z 4000. 6000.\n",
      "ev10_fault_slip 100. 300.\n",
      "ev11_fault_dip 60. 80.\n",
      "ev11_fault_x 22000. 24000.\n",
      "ev11_fault_z 4000. 6000.\n",
      "ev11_fault_slip 100. 300.\n",
      "ev12_uc_z 900. 1100.\n",
      "ev13_tilt_plunge_dir 38. 58.\n",
      "ev13_tilt_rot 350. 360.\n",
      "ev14_fold_amplitude 400. 600.\n",
      "ev14_fold_wavelength 16000. 18000.\n",
      "ev14_fold_y 0 17000.\"\"\"\n",
      "f = open(param_file, \"w\")\n",
      "f.write(params)\n",
      "f.close()"
     ],
     "language": "python",
     "metadata": {},
     "outputs": [],
     "prompt_number": 17
    },
    {
     "cell_type": "code",
     "collapsed": false,
     "input": [
      "!wc -l params_gipps.txt"
     ],
     "language": "python",
     "metadata": {},
     "outputs": [
      {
       "output_type": "stream",
       "stream": "stdout",
       "text": [
        "      42 params_gipps.txt\r\n"
       ]
      }
     ],
     "prompt_number": 18
    },
    {
     "cell_type": "markdown",
     "metadata": {},
     "source": [
      "## Generate samples for sensitivity analysis\n",
      "\n"
     ]
    },
    {
     "cell_type": "code",
     "collapsed": false,
     "input": [
      "from SALib.sample import saltelli"
     ],
     "language": "python",
     "metadata": {},
     "outputs": [],
     "prompt_number": 19
    },
    {
     "cell_type": "code",
     "collapsed": false,
     "input": [
      "param_values = saltelli.sample(10, param_file, calc_second_order = True)"
     ],
     "language": "python",
     "metadata": {},
     "outputs": [],
     "prompt_number": 20
    },
    {
     "cell_type": "code",
     "collapsed": false,
     "input": [
      "len(param_values)"
     ],
     "language": "python",
     "metadata": {},
     "outputs": [
      {
       "metadata": {},
       "output_type": "pyout",
       "prompt_number": 21,
       "text": [
        "880"
       ]
      }
     ],
     "prompt_number": 21
    },
    {
     "cell_type": "markdown",
     "metadata": {},
     "source": [
      "## Running the models\n",
      "\n",
      "We now run the models, one for each of the generated parameter sets"
     ]
    },
    {
     "cell_type": "code",
     "collapsed": false,
     "input": [
      "# set resolution for analysis:\n",
      "res = 1 # m\n",
      "\n",
      "# get original model distance again:\n",
      "drill_1_ori = gipps.get_drillhole_data((drill_1['x'], \n",
      "                                    drill_1['y'], \n",
      "                                    z_max = drill_1['z_min'])\n",
      "\n",
      "def change_model_with_paramter_array(param):\n",
      "    # create a copy of the history object\n",
      "    gipps_changed = copy.deepcopy(gipps_ori)\n",
      "\n",
      "    # define the elemtents and values of the events to change.\n",
      "    # Note: the order of parameters is as in the text file created above!\n",
      "    changes_fault_1 = {'Dip' : param[0],\n",
      "                       'Dip Direction' : param[1],\n",
      "                       'Slip' : param[2]}\n",
      "    changes_fault_2 = {'Dip' : param[3],\n",
      "                       'Dip Direction' : param[4],\n",
      "                       'Slip' : param[5]}\n",
      "\n",
      "    # Assign those changes to the events (note: event ids)\n",
      "    param_changes = {2 : changes_fault_1,\n",
      "                     3 : changes_fault_2}\n",
      "\n",
      "    # Perform changes\n",
      "    nm_changed.change_event_params(param_changes)    \n",
      "\n",
      "    # Export drillhole profiles\n",
      "    # drill_changed_left = nm_changed.get_drillhole_data(2000, 3500)\n",
      "    drill_changed_fault = nm_changed.get_drillhole_data(4000, 3500, resolution = res)\n",
      "    # drill_changed_centre = nm_changed.get_drillhole_data(5000, 3500)\n",
      "\n",
      "    # calculate and return distance:\n",
      "    return distance(drill_ori_fault, drill_changed_fault)\n",
      "\n"
     ],
     "language": "python",
     "metadata": {},
     "outputs": []
    },
    {
     "cell_type": "code",
     "collapsed": false,
     "input": [
      "gipps.events[12].properties"
     ],
     "language": "python",
     "metadata": {},
     "outputs": []
    },
    {
     "cell_type": "code",
     "collapsed": false,
     "input": [
      "pwd"
     ],
     "language": "python",
     "metadata": {},
     "outputs": [
      {
       "metadata": {},
       "output_type": "pyout",
       "prompt_number": 22,
       "text": [
        "u'/Users/flow/git/paper_pynoddy/notebooks'"
       ]
      }
     ],
     "prompt_number": 22
    },
    {
     "cell_type": "code",
     "collapsed": false,
     "input": [
      "for i,param in enumerate(param_values[0]):\n",
      "    print i,param"
     ],
     "language": "python",
     "metadata": {},
     "outputs": [
      {
       "output_type": "stream",
       "stream": "stdout",
       "text": [
        "0 443.9453125\n",
        "1 12983.3984375\n",
        "2 7778.3203125\n",
        "3 676.7578125\n",
        "4 206.0546875\n",
        "5 78.14453125\n",
        "6 22091.796875\n",
        "7 5798.828125\n",
        "8 -100.1953125\n",
        "9 61.38671875\n",
        "10 277.69921875\n",
        "11 17509.765625\n",
        "12 161.1328125\n",
        "13 4767.578125\n",
        "14 -28.7109375\n",
        "15 724.0234375\n",
        "16 74.39453125\n",
        "17 12689.453125\n",
        "18 5982.421875\n",
        "19 545.1171875\n",
        "20 45.44921875\n",
        "21 10.99609375\n",
        "22 9630.390625\n",
        "23 80.078125\n",
        "24 5166.015625\n",
        "25 581.4453125\n",
        "26 658.0078125\n",
        "27 79.58984375\n",
        "28 277.19140625\n",
        "29 17681.640625\n",
        "30 -705.078125\n",
        "31 4291.015625\n",
        "32 159.1796875\n",
        "33 71.85546875\n",
        "34 23603.515625\n",
        "35 5541.015625\n",
        "36 269.7265625\n",
        "37 1066.2109375\n",
        "38 44.15234375\n",
        "39 354.794921875\n",
        "40 582.6171875\n",
        "41 16509.765625\n",
        "42 16319.3359375\n"
       ]
      }
     ],
     "prompt_number": 27
    },
    {
     "cell_type": "code",
     "collapsed": false,
     "input": [],
     "language": "python",
     "metadata": {},
     "outputs": [],
     "prompt_number": 29
    },
    {
     "cell_type": "code",
     "collapsed": false,
     "input": [],
     "language": "python",
     "metadata": {},
     "outputs": []
    }
   ],
   "metadata": {}
  }
 ]
}