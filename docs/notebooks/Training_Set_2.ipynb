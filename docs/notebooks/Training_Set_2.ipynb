{
 "cells": [
  {
   "cell_type": "markdown",
   "metadata": {},
   "source": [
    "Generate Training sets\n",
    "=====================\n",
    "\n",
    "Based on \"Reproducible Experiments\" notebook\n"
   ]
  },
  {
   "cell_type": "raw",
   "metadata": {
    "collapsed": false
   },
   "source": [
    "from IPython.core.display import HTML\n",
    "css_file = 'pynoddy.css'\n",
    "HTML(open(css_file, \"r\").read())"
   ]
  },
  {
   "cell_type": "code",
   "execution_count": 1,
   "metadata": {
    "collapsed": false
   },
   "outputs": [],
   "source": [
    "%matplotlib inline"
   ]
  },
  {
   "cell_type": "code",
   "execution_count": 2,
   "metadata": {
    "collapsed": false
   },
   "outputs": [],
   "source": [
    "# here the usual imports. If any of the imports fails, \n",
    "# make sure that pynoddy is installed\n",
    "# properly, ideally with 'python setup.py develop' \n",
    "# or 'python setup.py install'\n",
    "import sys, os\n",
    "import matplotlib.pyplot as plt\n",
    "import numpy as np\n",
    "# adjust some settings for matplotlib\n",
    "from matplotlib import rcParams\n",
    "# print rcParams\n",
    "rcParams['font.size'] = 15\n",
    "# determine path of repository to set paths corretly below\n",
    "repo_path = os.path.realpath('../..')\n",
    "import pynoddy.history\n",
    "import pynoddy.experiment\n",
    "reload(pynoddy.experiment)\n",
    "rcParams.update({'font.size': 15})"
   ]
  },
  {
   "cell_type": "code",
   "execution_count": 3,
   "metadata": {
    "collapsed": true
   },
   "outputs": [],
   "source": [
    "# From notebook 4/ Traning Set example 1:\n",
    "reload(pynoddy.history)\n",
    "reload(pynoddy.events)\n",
    "nm = pynoddy.history.NoddyHistory()\n",
    "# add stratigraphy\n",
    "strati_options = {'num_layers' : 3,\n",
    "                  'layer_names' : ['layer 1', 'layer 2', 'layer 3'],\n",
    "                  'layer_thickness' : [1500, 500, 1500]}\n",
    "nm.add_event('stratigraphy', strati_options )\n",
    "\n",
    "# The following options define the fault geometry:\n",
    "fault_options = {'name' : 'Fault_E',\n",
    "                 'pos' : (4000, 0, 5000),\n",
    "                 'dip_dir' : 90.,\n",
    "                 'dip' : 60,\n",
    "                 'slip' : 1000}\n",
    "\n",
    "nm.add_event('fault', fault_options)\n",
    "history = 'normal_fault.his'\n",
    "output_name = 'normal_fault_out'\n",
    "nm.write_history(history)"
   ]
  },
  {
   "cell_type": "markdown",
   "metadata": {},
   "source": [
    "Initiate experiment with this input file:"
   ]
  },
  {
   "cell_type": "code",
   "execution_count": 4,
   "metadata": {
    "collapsed": false
   },
   "outputs": [],
   "source": [
    "reload(pynoddy.history)\n",
    "reload(pynoddy.experiment)\n",
    "\n",
    "from pynoddy.experiment import monte_carlo\n",
    "ue = pynoddy.experiment.Experiment(history)"
   ]
  },
  {
   "cell_type": "code",
   "execution_count": 5,
   "metadata": {
    "collapsed": false
   },
   "outputs": [
    {
     "data": {
      "image/png": "[encoded data removed]",
      "text/plain": [
       "<matplotlib.figure.Figure at 0x1108f8490>"
      ]
     },
     "metadata": {},
     "output_type": "display_data"
    }
   ],
   "source": [
    "ue.change_cube_size(100)\n",
    "ue.plot_section('y')"
   ]
  },
  {
   "cell_type": "code",
   "execution_count": null,
   "metadata": {
    "collapsed": false
   },
   "outputs": [],
   "source": []
  },
  {
   "cell_type": "markdown",
   "metadata": {},
   "source": [
    "Before we start to draw random realisations of the model, we should first store the base state of the model for later reference. This is simply possibel with the freeze() method which stores the current state of the model as the \"base-state\":"
   ]
  },
  {
   "cell_type": "code",
   "execution_count": 6,
   "metadata": {
    "collapsed": false
   },
   "outputs": [],
   "source": [
    "ue.freeze()"
   ]
  },
  {
   "cell_type": "markdown",
   "metadata": {},
   "source": [
    "We now intialise the random generator. We can directly assign a random seed to simplify reproducibility (note that this is not *essential*, as it would be for the definition in a script function: the random state is preserved within the model and could be retrieved at a later stage, as well!):"
   ]
  },
  {
   "cell_type": "code",
   "execution_count": 7,
   "metadata": {
    "collapsed": false
   },
   "outputs": [],
   "source": [
    "ue.set_random_seed(12345)"
   ]
  },
  {
   "cell_type": "markdown",
   "metadata": {},
   "source": [
    "The next step is to define probability distributions to the relevant event parameters. Let's first look at the different events:"
   ]
  },
  {
   "cell_type": "code",
   "execution_count": 8,
   "metadata": {
    "collapsed": false
   },
   "outputs": [
    {
     "name": "stdout",
     "output_type": "stream",
     "text": [
      "This model consists of 2 events:\n",
      "\t(1) - STRATIGRAPHY\n",
      "\t(2) - FAULT\n",
      "\n"
     ]
    }
   ],
   "source": [
    "ue.info(events_only = True)"
   ]
  },
  {
   "cell_type": "code",
   "execution_count": 9,
   "metadata": {
    "collapsed": false
   },
   "outputs": [],
   "source": [
    "ev2 = ue.events[2]"
   ]
  },
  {
   "cell_type": "code",
   "execution_count": 10,
   "metadata": {
    "collapsed": false
   },
   "outputs": [
    {
     "data": {
      "text/plain": [
       "{'Amplitude': 2000.0,\n",
       " 'Blue': 254.0,\n",
       " 'Color Name': 'Custom Colour 8',\n",
       " 'Cyl Index': 0.0,\n",
       " 'Dip': 60.0,\n",
       " 'Dip Direction': 90.0,\n",
       " 'Geometry': 'Translation',\n",
       " 'Green': 0.0,\n",
       " 'Movement': 'Hanging Wall',\n",
       " 'Pitch': 90.0,\n",
       " 'Profile Pitch': 90.0,\n",
       " 'Radius': 1000.0,\n",
       " 'Red': 0.0,\n",
       " 'Rotation': 30.0,\n",
       " 'Slip': 1000.0,\n",
       " 'X': 4000.0,\n",
       " 'XAxis': 2000.0,\n",
       " 'Y': 0.0,\n",
       " 'YAxis': 2000.0,\n",
       " 'Z': 5000.0,\n",
       " 'ZAxis': 2000.0}"
      ]
     },
     "execution_count": 10,
     "metadata": {},
     "output_type": "execute_result"
    }
   ],
   "source": [
    "ev2.properties"
   ]
  },
  {
   "cell_type": "markdown",
   "metadata": {},
   "source": [
    "Next, we define the probability distributions for the uncertain input parameters:"
   ]
  },
  {
   "cell_type": "code",
   "execution_count": 11,
   "metadata": {
    "collapsed": false
   },
   "outputs": [],
   "source": [
    "param_stats = [{'event' : 2, \n",
    "              'parameter': 'Slip',\n",
    "              'stdev': 300.0,\n",
    "              'type': 'normal'},\n",
    "              {'event' : 2, \n",
    "              'parameter': 'Dip',\n",
    "              'stdev': 10.0,\n",
    "              'type': 'normal'},]\n",
    "\n",
    "ue.set_parameter_statistics(param_stats)"
   ]
  },
  {
   "cell_type": "code",
   "execution_count": 12,
   "metadata": {
    "collapsed": false
   },
   "outputs": [],
   "source": [
    "resolution = 100\n",
    "ue.change_cube_size(resolution)\n",
    "tmp = ue.get_section('y')\n",
    "prob_2 = np.zeros_like(tmp.block[:,:,:])\n",
    "n_draws = 100\n",
    "\n",
    "\n",
    "for i in range(n_draws):\n",
    "    ue.random_draw()\n",
    "    tmp = ue.get_section('y', resolution = resolution)\n",
    "    prob_2 += (tmp.block[:,:,:] == 2)\n",
    "\n",
    "# Normalise\n",
    "prob_2 = prob_2 / float(n_draws)"
   ]
  },
  {
   "cell_type": "code",
   "execution_count": 13,
   "metadata": {
    "collapsed": false
   },
   "outputs": [
    {
     "data": {
      "text/plain": [
       "<matplotlib.text.Text at 0x111fcebd0>"
      ]
     },
     "execution_count": 13,
     "metadata": {},
     "output_type": "execute_result"
    },
    {
     "data": {
      "image/png": "[encoded data removed]",
      "text/plain": [
       "<matplotlib.figure.Figure at 0x111e265d0>"
      ]
     },
     "metadata": {},
     "output_type": "display_data"
    }
   ],
   "source": [
    "fig = plt.figure(figsize = (12,8))\n",
    "ax = fig.add_subplot(111)\n",
    "ax.imshow(prob_2.transpose()[:,0,:], \n",
    "           origin = 'lower left',\n",
    "           interpolation = 'none')\n",
    "plt.title(\"Estimated probability of unit 4\")\n",
    "plt.xlabel(\"x (E-W)\")\n",
    "plt.ylabel(\"z\")"
   ]
  },
  {
   "cell_type": "markdown",
   "metadata": {},
   "source": [
    "This example shows how the base module for reproducible experiments with kinematics can be used. For further specification, child classes of `Experiment` can be defined, and we show examples of this type of extension in the next sections."
   ]
  },
  {
   "cell_type": "markdown",
   "metadata": {
    "collapsed": true
   },
   "source": [
    "## Adjustments to generate training set\n",
    "\n",
    "First step: generate more layers and randomly select layers to visualise:"
   ]
  },
  {
   "cell_type": "code",
   "execution_count": 14,
   "metadata": {
    "collapsed": false
   },
   "outputs": [
    {
     "data": {
      "image/png": "[encoded data removed]",
      "text/plain": [
       "<matplotlib.figure.Figure at 0x10ee45ed0>"
      ]
     },
     "metadata": {},
     "output_type": "display_data"
    }
   ],
   "source": [
    "ue.random_draw()\n",
    "s1 = ue.get_section('y')\n",
    "s1.block.shape\n",
    "s1.block[np.where(s1.block == 3)] = 1\n",
    "s1.plot_section('y', cmap='Greys')"
   ]
  },
  {
   "cell_type": "markdown",
   "metadata": {},
   "source": [
    "**Idea**: generate many layers, then randomly extract a couple of these and also assign different density/ color values:"
   ]
  },
  {
   "cell_type": "code",
   "execution_count": 370,
   "metadata": {
    "collapsed": false
   },
   "outputs": [],
   "source": [
    "nm = pynoddy.history.NoddyHistory()\n",
    "# add stratigraphy\n",
    "\n",
    "n_layers = 8\n",
    "\n",
    "strati_options['num_layers'] = n_layers\n",
    "strati_options['layer_names'] = []\n",
    "strati_options['layer_thickness'] = []\n",
    "\n",
    "for n in range(n_layers):\n",
    "\n",
    "    strati_options['layer_names'].append(\"layer %d\" % n)\n",
    "    strati_options['layer_thickness'].append(5000./n_layers)\n",
    "\n",
    "nm.add_event('stratigraphy', strati_options )\n",
    "\n",
    "# The following options define the fault geometry:\n",
    "fault_options = {'name' : 'Fault_E',\n",
    "                 'pos' : (1000, 0, 5000),\n",
    "                 'dip_dir' : 90.,\n",
    "                 'dip' : 60,\n",
    "                 'slip' : 500}\n",
    "\n",
    "nm.add_event('fault', fault_options)\n",
    "history = 'normal_fault.his'\n",
    "output_name = 'normal_fault_out'\n",
    "nm.write_history(history)"
   ]
  },
  {
   "cell_type": "code",
   "execution_count": 512,
   "metadata": {
    "collapsed": true
   },
   "outputs": [],
   "source": [
    "reload(pynoddy.history)\n",
    "reload(pynoddy.experiment)\n",
    "\n",
    "from pynoddy.experiment import monte_carlo\n",
    "ue = pynoddy.experiment.Experiment(history)\n",
    "ue.freeze()\n",
    "ue.set_random_seed(12345)\n",
    "ue.set_extent(2800, 100, 2800)"
   ]
  },
  {
   "cell_type": "code",
   "execution_count": 513,
   "metadata": {
    "collapsed": false
   },
   "outputs": [
    {
     "data": {
      "image/png": "[encoded data removed]",
      "text/plain": [
       "<matplotlib.figure.Figure at 0x11e9f80d0>"
      ]
     },
     "metadata": {},
     "output_type": "display_data"
    }
   ],
   "source": [
    "ue.change_cube_size(50)\n",
    "ue.plot_section('y')"
   ]
  },
  {
   "cell_type": "code",
   "execution_count": 514,
   "metadata": {
    "collapsed": true
   },
   "outputs": [],
   "source": [
    "param_stats = [{'event' : 2, \n",
    "              'parameter': 'Slip',\n",
    "              'stdev': 100.0,\n",
    "              'type': 'lognormal'},\n",
    "              {'event' : 2, \n",
    "              'parameter': 'Dip',\n",
    "              'stdev': 10.0,\n",
    "              'type': 'normal'},\n",
    "#              {'event' : 2, \n",
    "#              'parameter': 'Y',\n",
    "#              'stdev': 150.0,\n",
    "#              'type': 'normal'},\n",
    "              {'event' : 2, \n",
    "              'parameter': 'X',\n",
    "              'stdev': 150.0,\n",
    "              'type': 'normal'},]\n",
    "\n",
    "ue.set_parameter_statistics(param_stats)"
   ]
  },
  {
   "cell_type": "code",
   "execution_count": 515,
   "metadata": {
    "collapsed": false
   },
   "outputs": [],
   "source": [
    "# randomly select layers:\n",
    "ue.random_draw()"
   ]
  },
  {
   "cell_type": "code",
   "execution_count": 516,
   "metadata": {
    "collapsed": false
   },
   "outputs": [],
   "source": [
    "s1 = ue.get_section('y')"
   ]
  },
  {
   "cell_type": "code",
   "execution_count": 517,
   "metadata": {
    "collapsed": true
   },
   "outputs": [],
   "source": [
    "# create \"feature\" model:\n",
    "f1 = s1.block.copy()"
   ]
  },
  {
   "cell_type": "code",
   "execution_count": 518,
   "metadata": {
    "collapsed": false
   },
   "outputs": [],
   "source": [
    "# randomly select layers:\n",
    "f1 = np.squeeze(f1)\n",
    "# n_featuers: number of \"features\" -> gray values in image\n",
    "n_features = 5\n",
    "vals = np.random.randint(0,255,size=n_features)\n",
    "for n in range(n_layers):\n",
    "    f1[f1 == n] = np.random.choice(vals)"
   ]
  },
  {
   "cell_type": "code",
   "execution_count": 519,
   "metadata": {
    "collapsed": false
   },
   "outputs": [
    {
     "data": {
      "text/plain": [
       "(56, 56)"
      ]
     },
     "execution_count": 519,
     "metadata": {},
     "output_type": "execute_result"
    }
   ],
   "source": [
    "f1.shape"
   ]
  },
  {
   "cell_type": "code",
   "execution_count": 520,
   "metadata": {
    "collapsed": false
   },
   "outputs": [
    {
     "data": {
      "text/plain": [
       "<matplotlib.image.AxesImage at 0x11ebc7710>"
      ]
     },
     "execution_count": 520,
     "metadata": {},
     "output_type": "execute_result"
    },
    {
     "data": {
      "image/png": "[encoded data removed]",
      "text/plain": [
       "<matplotlib.figure.Figure at 0x11e104550>"
      ]
     },
     "metadata": {},
     "output_type": "display_data"
    }
   ],
   "source": [
    "plt.imshow(f1.T, origin='lower_left', cmap='Greys', interpolation='nearest')"
   ]
  },
  {
   "cell_type": "code",
   "execution_count": 521,
   "metadata": {
    "collapsed": false
   },
   "outputs": [],
   "source": [
    "# blur image\n",
    "from scipy import ndimage\n",
    "f2 = ndimage.filters.gaussian_filter(f1, 1, mode='nearest')\n"
   ]
  },
  {
   "cell_type": "code",
   "execution_count": 522,
   "metadata": {
    "collapsed": false
   },
   "outputs": [
    {
     "data": {
      "text/plain": [
       "<matplotlib.image.AxesImage at 0x11ed2f7d0>"
      ]
     },
     "execution_count": 522,
     "metadata": {},
     "output_type": "execute_result"
    },
    {
     "data": {
      "image/png": "[encoded data removed]",
      "text/plain": [
       "<matplotlib.figure.Figure at 0x11e3223d0>"
      ]
     },
     "metadata": {},
     "output_type": "display_data"
    }
   ],
   "source": [
    "plt.imshow(f2.T, origin='lower_left', cmap='Greys', interpolation='nearest', vmin=0, vmax=255)"
   ]
  },
  {
   "cell_type": "code",
   "execution_count": 523,
   "metadata": {
    "collapsed": false
   },
   "outputs": [],
   "source": [
    "# randomly swap image\n",
    "if np.random.randint(2) == 1:\n",
    "    f2 = f2[::-1,:]"
   ]
  },
  {
   "cell_type": "code",
   "execution_count": 524,
   "metadata": {
    "collapsed": false
   },
   "outputs": [
    {
     "data": {
      "text/plain": [
       "<matplotlib.image.AxesImage at 0x11ee1add0>"
      ]
     },
     "execution_count": 524,
     "metadata": {},
     "output_type": "execute_result"
    },
    {
     "data": {
      "image/png": "[encoded data removed]",
      "text/plain": [
       "<matplotlib.figure.Figure at 0x11eb0c890>"
      ]
     },
     "metadata": {},
     "output_type": "display_data"
    }
   ],
   "source": [
    "plt.imshow(f2.T, origin='lower_left', cmap='Greys', interpolation='nearest', vmin=0, vmax=255)"
   ]
  },
  {
   "cell_type": "markdown",
   "metadata": {},
   "source": [
    "## All in one function\n",
    "\n",
    "### Generate images for normal faults"
   ]
  },
  {
   "cell_type": "code",
   "execution_count": 591,
   "metadata": {
    "collapsed": true
   },
   "outputs": [],
   "source": [
    "# back to before: re-initialise model:\n",
    "nm = pynoddy.history.NoddyHistory()\n",
    "# add stratigraphy\n",
    "\n",
    "n_layers = 18\n",
    "\n",
    "strati_options['num_layers'] = n_layers\n",
    "strati_options['layer_names'] = []\n",
    "strati_options['layer_thickness'] = []\n",
    "\n",
    "for n in range(n_layers):\n",
    "\n",
    "    strati_options['layer_names'].append(\"layer %d\" % n)\n",
    "    strati_options['layer_thickness'].append(5000./n_layers)\n",
    "\n",
    "nm.add_event('stratigraphy', strati_options )\n",
    "\n",
    "# The following options define the fault geometry:\n",
    "fault_options = {'name' : 'Fault_E',\n",
    "                 'pos' : (1000, 0, 5000),\n",
    "                 'dip_dir' : 90.,\n",
    "                 'dip' : 60,\n",
    "                 'slip' : 500}\n",
    "\n",
    "nm.add_event('fault', fault_options)\n",
    "history = 'normal_fault.his'\n",
    "output_name = 'normal_fault_out'\n",
    "nm.write_history(history)\n",
    "\n",
    "reload(pynoddy.history)\n",
    "reload(pynoddy.experiment)\n",
    "\n",
    "from pynoddy.experiment import monte_carlo\n",
    "ue = pynoddy.experiment.Experiment(history)\n",
    "ue.freeze()\n",
    "ue.set_random_seed(12345)\n",
    "ue.set_extent(2800, 100, 2800)\n",
    "ue.change_cube_size(50)\n",
    "\n",
    "param_stats = [{'event' : 2, \n",
    "              'parameter': 'Slip',\n",
    "              'stdev': 100.0,\n",
    "              'type': 'lognormal'},\n",
    "              {'event' : 2, \n",
    "              'parameter': 'Dip',\n",
    "              'stdev': 10.0,\n",
    "              'type': 'normal'},\n",
    "#              {'event' : 2, \n",
    "#              'parameter': 'Y',\n",
    "#              'stdev': 150.0,\n",
    "#              'type': 'normal'},\n",
    "              {'event' : 2, \n",
    "              'parameter': 'X',\n",
    "              'stdev': 150.0,\n",
    "              'type': 'normal'},]\n",
    "\n",
    "ue.set_parameter_statistics(param_stats)"
   ]
  },
  {
   "cell_type": "markdown",
   "metadata": {},
   "source": [
    "Generate training set for normal faults:"
   ]
  },
  {
   "cell_type": "code",
   "execution_count": 592,
   "metadata": {
    "collapsed": false
   },
   "outputs": [],
   "source": [
    "n_train = 10000\n",
    "F_train = np.empty((n_train, 28*28))\n",
    "\n",
    "ue.change_cube_size(100)\n",
    "\n",
    "for i in range(n_train):\n",
    "    # randomly select layers:\n",
    "    ue.random_draw()\n",
    "    s1 = ue.get_section('y')\n",
    "    # create \"feature\" model:\n",
    "    f1 = s1.block.copy()\n",
    "    # randomly select layers:\n",
    "    f1 = np.squeeze(f1)\n",
    "    # n_featuers: number of \"features\" -> gray values in image\n",
    "    n_features = 4\n",
    "    vals = np.random.randint(0,255,size=n_features)\n",
    "    for n in range(n_layers):\n",
    "        f1[f1 == n+1] = np.random.choice(vals)\n",
    "    f1 = f1.T\n",
    "    f2 = ndimage.filters.gaussian_filter(f1, 0, mode='nearest')\n",
    "    # scale image\n",
    "    f2 = f2 - np.min(f2)\n",
    "    if np.max(f2) != 0:\n",
    "        f2 = f2/np.max(f2)*255\n",
    "    # randomly swap image\n",
    "    if np.random.randint(2) == 1:\n",
    "        f2 = f2[::-1,:]\n",
    "    F_train[i] = f2.flatten().T\n"
   ]
  },
  {
   "cell_type": "code",
   "execution_count": 583,
   "metadata": {
    "collapsed": false
   },
   "outputs": [
    {
     "data": {
      "text/plain": [
       "<matplotlib.image.AxesImage at 0x122de2a90>"
      ]
     },
     "execution_count": 583,
     "metadata": {},
     "output_type": "execute_result"
    },
    {
     "data": {
      "image/png": "[encoded data removed]",
      "text/plain": [
       "<matplotlib.figure.Figure at 0x1235facd0>"
      ]
     },
     "metadata": {},
     "output_type": "display_data"
    }
   ],
   "source": [
    "plt.imshow(f2, origin='lower_left', cmap='Greys', interpolation='nearest', vmin=0, vmax=255)"
   ]
  },
  {
   "cell_type": "code",
   "execution_count": 593,
   "metadata": {
    "collapsed": false
   },
   "outputs": [
    {
     "data": {
      "image/png": "[encoded data removed]",
      "text/plain": [
       "<matplotlib.figure.Figure at 0x120e3ec50>"
      ]
     },
     "metadata": {},
     "output_type": "display_data"
    }
   ],
   "source": [
    "import matplotlib.pyplot as plt\n",
    "%matplotlib inline\n",
    "\n",
    "fig, ax = plt.subplots(nrows=2, ncols=5, sharex=True, sharey=True, figsize=(12,6))\n",
    "ax = ax.flatten()\n",
    "for i in range(10):\n",
    "    img = F_train[i].reshape(28, 28)\n",
    "    ax[i].imshow(img, cmap='Greys', interpolation='nearest')\n",
    "\n",
    "ax[0].set_xticks([])\n",
    "ax[0].set_yticks([])\n",
    "plt.tight_layout()\n",
    "# plt.savefig('./figures/mnist_all.png', dpi=300)\n",
    "plt.show()"
   ]
  },
  {
   "cell_type": "code",
   "execution_count": 594,
   "metadata": {
    "collapsed": true
   },
   "outputs": [],
   "source": [
    "import pickle\n"
   ]
  },
  {
   "cell_type": "code",
   "execution_count": 596,
   "metadata": {
    "collapsed": true
   },
   "outputs": [],
   "source": [
    "pickle.dump(F_train, open(\"f_train_normal.pkl\", 'w'))"
   ]
  },
  {
   "cell_type": "markdown",
   "metadata": {},
   "source": [
    "### Generate reverse faults\n",
    "\n",
    "And now: the same for reverse faults:"
   ]
  },
  {
   "cell_type": "code",
   "execution_count": 597,
   "metadata": {
    "collapsed": true
   },
   "outputs": [],
   "source": [
    "# back to before: re-initialise model:\n",
    "nm = pynoddy.history.NoddyHistory()\n",
    "# add stratigraphy\n",
    "\n",
    "n_layers = 18\n",
    "\n",
    "strati_options['num_layers'] = n_layers\n",
    "strati_options['layer_names'] = []\n",
    "strati_options['layer_thickness'] = []\n",
    "\n",
    "for n in range(n_layers):\n",
    "\n",
    "    strati_options['layer_names'].append(\"layer %d\" % n)\n",
    "    strati_options['layer_thickness'].append(5000./n_layers)\n",
    "\n",
    "nm.add_event('stratigraphy', strati_options )\n",
    "\n",
    "# The following options define the fault geometry:\n",
    "fault_options = {'name' : 'Fault_E',\n",
    "                 'pos' : (1000, 0, 5000),\n",
    "                 'dip_dir' : 90.,\n",
    "                 'dip' : 60,\n",
    "                 'slip' : -500}\n",
    "\n",
    "nm.add_event('fault', fault_options)\n",
    "history = 'normal_fault.his'\n",
    "output_name = 'normal_fault_out'\n",
    "nm.write_history(history)\n",
    "\n",
    "reload(pynoddy.history)\n",
    "reload(pynoddy.experiment)\n",
    "\n",
    "from pynoddy.experiment import monte_carlo\n",
    "ue = pynoddy.experiment.Experiment(history)\n",
    "ue.freeze()\n",
    "ue.set_random_seed(12345)\n",
    "ue.set_extent(2800, 100, 2800)\n",
    "ue.change_cube_size(50)\n",
    "\n",
    "param_stats = [{'event' : 2, \n",
    "              'parameter': 'Slip',\n",
    "              'stdev': -100.0,\n",
    "              'type': 'lognormal'},\n",
    "              {'event' : 2, \n",
    "              'parameter': 'Dip',\n",
    "              'stdev': 10.0,\n",
    "              'type': 'normal'},\n",
    "#              {'event' : 2, \n",
    "#              'parameter': 'Y',\n",
    "#              'stdev': 150.0,\n",
    "#              'type': 'normal'},\n",
    "              {'event' : 2, \n",
    "              'parameter': 'X',\n",
    "              'stdev': 150.0,\n",
    "              'type': 'normal'},]\n",
    "\n",
    "ue.set_parameter_statistics(param_stats)"
   ]
  },
  {
   "cell_type": "code",
   "execution_count": 598,
   "metadata": {
    "collapsed": true
   },
   "outputs": [],
   "source": [
    "n_train = 10000\n",
    "F_train_rev = np.empty((n_train, 28*28))\n",
    "\n",
    "ue.change_cube_size(100)\n",
    "\n",
    "for i in range(n_train):\n",
    "    # randomly select layers:\n",
    "    ue.random_draw()\n",
    "    s1 = ue.get_section('y')\n",
    "    # create \"feature\" model:\n",
    "    f1 = s1.block.copy()\n",
    "    # randomly select layers:\n",
    "    f1 = np.squeeze(f1)\n",
    "    # n_featuers: number of \"features\" -> gray values in image\n",
    "    n_features = 4\n",
    "    vals = np.random.randint(0,255,size=n_features)\n",
    "    for n in range(n_layers):\n",
    "        f1[f1 == n+1] = np.random.choice(vals)\n",
    "    f1 = f1.T\n",
    "    f2 = ndimage.filters.gaussian_filter(f1, 0, mode='nearest')\n",
    "    # scale image\n",
    "    f2 = f2 - np.min(f2)\n",
    "    if np.max(f2) != 0:\n",
    "        f2 = f2/np.max(f2)*255\n",
    "    # randomly swap image\n",
    "    if np.random.randint(2) == 1:\n",
    "        f2 = f2[::-1,:]\n",
    "    F_train_rev[i] = f2.flatten().T\n",
    "\n"
   ]
  },
  {
   "cell_type": "code",
   "execution_count": 599,
   "metadata": {
    "collapsed": false
   },
   "outputs": [
    {
     "data": {
      "image/png": "[encoded data removed]",
      "text/plain": [
       "<matplotlib.figure.Figure at 0x1212bd350>"
      ]
     },
     "metadata": {},
     "output_type": "display_data"
    }
   ],
   "source": [
    "fig, ax = plt.subplots(nrows=2, ncols=5, sharex=True, sharey=True, figsize=(12,6))\n",
    "ax = ax.flatten()\n",
    "for i in range(10):\n",
    "    img = F_train_rev[i].reshape(28, 28)\n",
    "    ax[i].imshow(img, cmap='Greys', interpolation='nearest')\n",
    "\n",
    "ax[0].set_xticks([])\n",
    "ax[0].set_yticks([])\n",
    "plt.tight_layout()\n",
    "# plt.savefig('./figures/mnist_all.png', dpi=300)\n",
    "plt.show()"
   ]
  },
  {
   "cell_type": "code",
   "execution_count": 600,
   "metadata": {
    "collapsed": true
   },
   "outputs": [],
   "source": [
    "pickle.dump(F_train_rev, open(\"f_train_reverse.pkl\", 'w'))"
   ]
  },
  {
   "cell_type": "markdown",
   "metadata": {},
   "source": [
    "### Generate simple layer structure\n",
    "\n",
    "No need for noddy, in this simple case - just adapt a numpy array:"
   ]
  },
  {
   "cell_type": "code",
   "execution_count": 604,
   "metadata": {
    "collapsed": true
   },
   "outputs": [],
   "source": [
    "l1 = np.empty_like(s1.block[:,0,:])"
   ]
  },
  {
   "cell_type": "code",
   "execution_count": 650,
   "metadata": {
    "collapsed": false
   },
   "outputs": [],
   "source": [
    "n_layers = 18\n",
    "for i in range(l1.shape[0]):\n",
    "    l1[:,i] = i\n",
    "l1_ori = np.floor(l1*n_layers/l1.shape[0])"
   ]
  },
  {
   "cell_type": "code",
   "execution_count": 655,
   "metadata": {
    "collapsed": false
   },
   "outputs": [],
   "source": [
    "F_train_line = np.empty((n_train, 28*28))\n",
    "\n",
    "\n",
    "\n",
    "for i in range(n_train):\n",
    "    n_features = 4\n",
    "    vals = np.random.randint(0,255,size=n_features)\n",
    "    l1 = l1_ori.copy()\n",
    "    for n in range(n_layers):\n",
    "        l1[l1 == n+1] = np.random.choice(vals)\n",
    "    f1 = l1.T\n",
    "    f2 = ndimage.filters.gaussian_filter(f1, 0, mode='nearest')\n",
    "    # scale image\n",
    "    f2 = f2 - np.min(f2)\n",
    "    if np.max(f2) != 0:\n",
    "        f2 = f2/np.max(f2)*255\n",
    "    F_train_line[i] = f2.flatten().T"
   ]
  },
  {
   "cell_type": "code",
   "execution_count": 656,
   "metadata": {
    "collapsed": false
   },
   "outputs": [
    {
     "data": {
      "image/png": "[encoded data removed]",
      "text/plain": [
       "<matplotlib.figure.Figure at 0x1138f2810>"
      ]
     },
     "metadata": {},
     "output_type": "display_data"
    }
   ],
   "source": [
    "fig, ax = plt.subplots(nrows=2, ncols=5, sharex=True, sharey=True, figsize=(12,6))\n",
    "ax = ax.flatten()\n",
    "for i in range(10):\n",
    "    img = F_train_line[i].reshape(28, 28)\n",
    "    ax[i].imshow(img, cmap='Greys', interpolation='nearest')\n",
    "\n",
    "ax[0].set_xticks([])\n",
    "ax[0].set_yticks([])\n",
    "plt.tight_layout()\n",
    "# plt.savefig('./figures/mnist_all.png', dpi=300)\n",
    "plt.show()"
   ]
  },
  {
   "cell_type": "code",
   "execution_count": 657,
   "metadata": {
    "collapsed": true
   },
   "outputs": [],
   "source": [
    "pickle.dump(F_train_line, open(\"f_train_line.pkl\", 'w'))"
   ]
  },
  {
   "cell_type": "code",
   "execution_count": null,
   "metadata": {
    "collapsed": true
   },
   "outputs": [],
   "source": []
  }
 ],
 "metadata": {
  "kernelspec": {
   "display_name": "Python 2",
   "language": "python",
   "name": "python2"
  },
  "language_info": {
   "codemirror_mode": {
    "name": "ipython",
    "version": 2
   },
   "file_extension": ".py",
   "mimetype": "text/x-python",
   "name": "python",
   "nbconvert_exporter": "python",
   "pygments_lexer": "ipython2",
   "version": "2.7.11"
  }
 },
 "nbformat": 4,
 "nbformat_minor": 0
}
