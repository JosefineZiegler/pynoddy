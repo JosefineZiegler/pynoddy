{
 "metadata": {
  "name": ""
 },
 "nbformat": 3,
 "nbformat_minor": 0,
 "worksheets": [
  {
   "cells": [
    {
     "cell_type": "markdown",
     "metadata": {},
     "source": [
      "Two intersection faults - simple scenario for fault network uncertainty\n",
      "=============\n",
      "\n",
      "This example is based on the simple model of two intersecting faults used by Mark in some of the presentations. Idea: we know that two faults exists, but not their age relationship. Offset is expected/ potentially estimated from stratigraphic relationships across fault."
     ]
    },
    {
     "cell_type": "code",
     "collapsed": false,
     "input": [
      "import sys, os\n",
      "import subprocess\n",
      "noddyprogram = os.path.realpath(r'../../noddy')\n",
      "example_directory = os.path.realpath(r'../../docs/examples')\n",
      "\n",
      "# set Pythonpath to pynoddy\n",
      "sys.path.append(os.path.realpath(r\"../../python\"))\n",
      "import pynoddy"
     ],
     "language": "python",
     "metadata": {},
     "outputs": [],
     "prompt_number": 17
    },
    {
     "cell_type": "code",
     "collapsed": false,
     "input": [
      "# Compute noddy model for history file\n",
      "history_file = 'fault_model_1.his'\n",
      "history = os.path.join(example_directory, history_file)\n",
      "output_name = 'noddy_out'\n",
      "# call Noddy\n",
      "print subprocess.Popen([noddyprogram, history, output_name], \n",
      "                       shell=False, stderr=subprocess.PIPE, \n",
      "                       stdout=subprocess.PIPE).stdout.read()\n",
      "#"
     ],
     "language": "python",
     "metadata": {},
     "outputs": [
      {
       "output_type": "stream",
       "stream": "stdout",
       "text": [
        "\n"
       ]
      }
     ],
     "prompt_number": 9
    },
    {
     "cell_type": "code",
     "collapsed": false,
     "input": [
      "\n"
     ],
     "language": "python",
     "metadata": {},
     "outputs": [],
     "prompt_number": 15
    },
    {
     "cell_type": "code",
     "collapsed": false,
     "input": [],
     "language": "python",
     "metadata": {},
     "outputs": [],
     "prompt_number": 16
    },
    {
     "cell_type": "code",
     "collapsed": false,
     "input": [],
     "language": "python",
     "metadata": {},
     "outputs": []
    }
   ],
   "metadata": {}
  }
 ]
}