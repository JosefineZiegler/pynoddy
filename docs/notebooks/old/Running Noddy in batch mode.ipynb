{
 "metadata": {
  "name": ""
 },
 "nbformat": 3,
 "nbformat_minor": 0,
 "worksheets": [
  {
   "cells": [
    {
     "cell_type": "markdown",
     "metadata": {},
     "source": [
      "Running Noddy in batch mode\n",
      "==================\n",
      "\n",
      "Idea: use Noddy to generate block models with parameterised tectonic kinematic history through the batch implmentation of Noddy. Write simple functions to parse history files and make changes, and to parse and visualise the output files. Also check how easily it is possible to generate VTK files from block models as output for visualisation with Paraview."
     ]
    },
    {
     "cell_type": "markdown",
     "metadata": {},
     "source": [
      "Calling Noddy from Python\n",
      "-------------"
     ]
    },
    {
     "cell_type": "code",
     "collapsed": false,
     "input": [
      "import sys, os\n",
      "import subprocess\n",
      "noddyprogram = os.path.realpath(r'../../noddy')\n",
      "example_directory = os.path.realpath(r'../../docs/examples')\n",
      "# history_file = 'noddy_first_test1.his'\n",
      "history_file = 'noddy_one_fault.his'\n",
      "history = os.path.join(example_directory, history_file)\n",
      "output_file = 'noddy_out'\n",
      "# set Pythonpath to pynoddy\n",
      "sys.path.append(os.path.realpath(r\"../../python\"))\n",
      "print os.getcwd()\n",
      "print example_directory\n",
      "os.listdir(example_directory)\n",
      "print history"
     ],
     "language": "python",
     "metadata": {},
     "outputs": [
      {
       "output_type": "stream",
       "stream": "stdout",
       "text": [
        "/Users/flow/git/floddy/python/notebooks\n",
        "/Users/flow/git/floddy/docs/examples\n",
        "/Users/flow/git/floddy/docs/examples/noddy_one_fault.his"
       ]
      },
      {
       "output_type": "stream",
       "stream": "stdout",
       "text": [
        "\n"
       ]
      }
     ],
     "prompt_number": 1
    },
    {
     "cell_type": "code",
     "collapsed": false,
     "input": [
      "# call Noddy\n",
      "print subprocess.Popen([noddyprogram, history, output_file], \n",
      "                       shell=False, stderr=subprocess.PIPE, \n",
      "                       stdout=subprocess.PIPE).stdout.read()\n",
      "# next step: include check to wait until process is finished and:\n",
      "# open noddyBatchProgress.txt file to check if process is complete"
     ],
     "language": "python",
     "metadata": {},
     "outputs": [
      {
       "output_type": "stream",
       "stream": "stdout",
       "text": [
        "\n"
       ]
      }
     ],
     "prompt_number": 2
    },
    {
     "cell_type": "code",
     "collapsed": false,
     "input": [
      "import pynoddy"
     ],
     "language": "python",
     "metadata": {},
     "outputs": [],
     "prompt_number": 3
    },
    {
     "cell_type": "code",
     "collapsed": false,
     "input": [
      "print os.getcwd()"
     ],
     "language": "python",
     "metadata": {},
     "outputs": [
      {
       "output_type": "stream",
       "stream": "stdout",
       "text": [
        "/Users/flow/git/floddy/python/notebooks\n"
       ]
      }
     ],
     "prompt_number": 4
    },
    {
     "cell_type": "markdown",
     "metadata": {},
     "source": [
      "Convert results to numpy array\n",
      "------------\n",
      "\n",
      "First step: load results and convert to numpy array"
     ]
    },
    {
     "cell_type": "code",
     "collapsed": false,
     "input": [
      "lines = open(output_file + \".g12\").readlines()\n",
      "for line in lines:\n",
      "    if line == '': continue\n",
      "    l = [l1 for l1 in line.split(\"\\t\") if l1 != '']\n"
     ],
     "language": "python",
     "metadata": {},
     "outputs": [],
     "prompt_number": 5
    },
    {
     "cell_type": "code",
     "collapsed": false,
     "input": [
      "import numpy as np"
     ],
     "language": "python",
     "metadata": {},
     "outputs": [],
     "prompt_number": 6
    },
    {
     "cell_type": "code",
     "collapsed": false,
     "input": [
      "f = open(output_file + \".g12\")\n",
      "block = np.loadtxt(f, dtype=\"int\")\n"
     ],
     "language": "python",
     "metadata": {},
     "outputs": [],
     "prompt_number": 7
    },
    {
     "cell_type": "code",
     "collapsed": false,
     "input": [
      "# Unfortunately, the data is not quite in the right shape...\n",
      "np.shape(block)"
     ],
     "language": "python",
     "metadata": {},
     "outputs": [
      {
       "metadata": {},
       "output_type": "pyout",
       "prompt_number": 8,
       "text": [
        "(1250, 35)"
       ]
      }
     ],
     "prompt_number": 8
    },
    {
     "cell_type": "code",
     "collapsed": false,
     "input": [
      "# reshape to proper 3-D shape\n",
      "nx = 35 # 140\n",
      "ny = 50 # 200\n",
      "nz = 25 # 100\n",
      "# nx = 140\n",
      "# ny = 200\n",
      "# nz = 100\n",
      "block = block.reshape((nz,ny,nx))\n",
      "# note to do:\n",
      "# - swap x and y axes\n",
      "# - read dimensions from .g00 output file"
     ],
     "language": "python",
     "metadata": {},
     "outputs": [],
     "prompt_number": 9
    },
    {
     "cell_type": "code",
     "collapsed": false,
     "input": [
      "import matplotlib.pyplot as plt"
     ],
     "language": "python",
     "metadata": {},
     "outputs": [],
     "prompt_number": 10
    },
    {
     "cell_type": "code",
     "collapsed": false,
     "input": [
      "plt.imshow(block[10,:,:], interpolation ='nearest', aspect='equal')"
     ],
     "language": "python",
     "metadata": {},
     "outputs": [
      {
       "metadata": {},
       "output_type": "pyout",
       "prompt_number": 11,
       "text": [
        "<matplotlib.image.AxesImage at 0x109b31690>"
       ]
      },
      {
       "metadata": {},
       "output_type": "display_data",
       "png": "[encoded data removed]",
       "text": [
        "<matplotlib.figure.Figure at 0x109b10610>"
       ]
      }
     ],
     "prompt_number": 11
    },
    {
     "cell_type": "code",
     "collapsed": false,
     "input": [
      "plt.imshow(block[:,10,:], interpolation ='nearest', aspect=1)"
     ],
     "language": "python",
     "metadata": {},
     "outputs": [
      {
       "metadata": {},
       "output_type": "pyout",
       "prompt_number": 12,
       "text": [
        "<matplotlib.image.AxesImage at 0x109bec4d0>"
       ]
      },
      {
       "metadata": {},
       "output_type": "display_data",
       "png": "[encoded data removed]",
       "text": [
        "<matplotlib.figure.Figure at 0x1095fb990>"
       ]
      }
     ],
     "prompt_number": 12
    },
    {
     "cell_type": "code",
     "collapsed": false,
     "input": [
      "plt.imshow(block[:,:,20], interpolation ='nearest', aspect=1)"
     ],
     "language": "python",
     "metadata": {},
     "outputs": [
      {
       "metadata": {},
       "output_type": "pyout",
       "prompt_number": 13,
       "text": [
        "<matplotlib.image.AxesImage at 0x109cbc490>"
       ]
      },
      {
       "metadata": {},
       "output_type": "display_data",
       "png": "[encoded data removed]",
       "text": [
        "<matplotlib.figure.Figure at 0x109b07390>"
       ]
      }
     ],
     "prompt_number": 13
    },
    {
     "cell_type": "code",
     "collapsed": false,
     "input": [
      "from evtk.hl import gridToVTK\n",
      "# define x, y, z ranges and export to VTK\n",
      "lx, ly, lz = 7000., 10000.0, 5000.0\n",
      "dx, dy, dz = lx/nx, ly/ny, lz/nz\n",
      "# Coordinates\n",
      "x = np.arange(0, lx + 0.1*dx, dx, dtype='float64')\n",
      "y = np.arange(0, ly + 0.1*dy, dy, dtype='float64')\n",
      "z = np.arange(0, lz + 0.1*dz, dz, dtype='float64')\n",
      "\n",
      "x1 = np.linspace(0,1000,nx)\n",
      "y1 = np.linspace(0,500,ny)\n",
      "z1 = np.linspace(0,300,nz)\n",
      "\n",
      "gridToVTK(\"./geology\", z, y, x, cellData = {\"geology\" : block}) \n",
      "gridToVTK(\"./geology_points\", z1, y1, x1, pointData = {\"geology\" : block}) "
     ],
     "language": "python",
     "metadata": {},
     "outputs": [
      {
       "metadata": {},
       "output_type": "pyout",
       "prompt_number": 14,
       "text": [
        "'/Users/flow/git/floddy/python/notebooks/geology_points.vtr'"
       ]
      }
     ],
     "prompt_number": 14
    },
    {
     "cell_type": "markdown",
     "metadata": {},
     "source": [
      "Wrap model computation and export to VTK\n",
      "---------------\n",
      "\n",
      "Create a function to wrap model computation, export to a block model, translation into a numpy array, and export to vtk into functions"
     ]
    },
    {
     "cell_type": "code",
     "collapsed": false,
     "input": [
      "def compute_and_export_model(history_filename, \n",
      "                             vtk_filename=\"./noddy_block\",\n",
      "                             **kwds):\n",
      "    \"\"\"Compute model from history file and export block model to VTK\n",
      "    \n",
      "    **Arguments**:\n",
      "        - *history_filename* = string : name of noddy history file\n",
      "        - *vtk_filename* = string : name of VTK file to store model\n",
      "    **Optional Keywords**:\n",
      "        - *save_vtk* = True/ False : save to vtk (default: True)\n",
      "    \"\"\"\n",
      "    # translate keywords\n",
      "    save_vtk = kwds.get(\"save_vtk\", \"True\")\n",
      "    \n",
      "    # call Noddy\n",
      "    output_filename = 'tmp'\n",
      "    subprocess.Popen([noddyprogram, history_filename, output_filename], \n",
      "                           shell=False, stderr=subprocess.PIPE, \n",
      "                           stdout=subprocess.PIPE).stdout.read()\n",
      "    # now read output file and create numpy grid\n",
      "    f = open(output_filename + \".g12\")\n",
      "    block = np.loadtxt(f, dtype=\"int\")\n",
      "    # reshape to proper 3-D shape\n",
      "    #\n",
      "    # NOTE: to do: extract nx, ny, nz from .g00 file!\n",
      "    #\n",
      "    nx = 140\n",
      "    ny = 200\n",
      "    nz = 100\n",
      "    # nx = 140\n",
      "    # ny = 200\n",
      "    # nz = 100\n",
      "    # print block.shape\n",
      "    block = block.reshape((nz,ny,nx))\n",
      "    # define x, y, z ranges and export to VTK\n",
      "    lx, ly, lz = 7000., 10000.0, 5000.0\n",
      "    dx, dy, dz = lx/nx, ly/ny, lz/nz\n",
      "    # Coordinates\n",
      "    x = np.arange(0, lx + 0.1*dx, dx, dtype='float64')\n",
      "    y = np.arange(0, ly + 0.1*dy, dy, dtype='float64')\n",
      "    z = np.arange(0, lz + 0.1*dz, dz, dtype='float64')\n",
      "    \n",
      "    x1 = np.linspace(0,1000,nx)\n",
      "    y1 = np.linspace(0,500,ny)\n",
      "    z1 = np.linspace(0,300,nz)\n",
      "    \n",
      "    if save_vtk:\n",
      "        gridToVTK(vtk_filename, z, y, x, cellData = {\"geology\" : block}) \n",
      "    else:\n",
      "        return block\n",
      "    \n",
      "    "
     ],
     "language": "python",
     "metadata": {},
     "outputs": [],
     "prompt_number": 15
    },
    {
     "cell_type": "markdown",
     "metadata": {},
     "source": [
      "Change some things in the input file\n",
      "--------------\n",
      "\n",
      "Now: change some aspects in the input (history) file and run Noddy and VTK export again"
     ]
    },
    {
     "cell_type": "code",
     "collapsed": false,
     "input": [
      "history_file = 'noddy_two_faults.his'\n",
      "# history_file = 'noddy_one_fault.his'\n",
      "history = os.path.join(example_directory, history_file)\n",
      "f = open(history, 'r')\n",
      "lines = f.readlines()\n",
      "# create copy for changes\n",
      "lines_new = lines[:]"
     ],
     "language": "python",
     "metadata": {},
     "outputs": [],
     "prompt_number": 16
    },
    {
     "cell_type": "code",
     "collapsed": false,
     "input": [
      "# to change geology cube size:\n",
      "cube_size = 50.00\n",
      "for i,line in enumerate(lines):\n",
      "    if 'Geophysics Cube Size' in line: \n",
      "        print line\n",
      "        l = line.split('=')\n",
      "        l_new = '%7.2f\\r\\n' % cube_size\n",
      "        line_new = l[0] + \"=\" + l_new\n",
      "        lines_new[i] = line_new"
     ],
     "language": "python",
     "metadata": {},
     "outputs": [
      {
       "output_type": "stream",
       "stream": "stdout",
       "text": [
        "\tGeophysics Cube Size\t= 200.00\r\n",
        "\n"
       ]
      }
     ],
     "prompt_number": 17
    },
    {
     "cell_type": "code",
     "collapsed": false,
     "input": [
      "# Find dip and dip direction of fault\n",
      "dip_dir = 90\n",
      "dip = 40\n",
      "for i,line in enumerate(lines):\n",
      "    if 'Dip' in line \\\n",
      "    and 'Mag' not in line \\\n",
      "    and 'Borehole' not in line\\\n",
      "    and 'Name' not in line:\n",
      "        print line\n",
      "        l = line.split('=')\n",
      "        if \"Direction\" in line:\n",
      "            l_new = '%7.2f\\r\\n' % dip_dir\n",
      "            line_new = l[0] + \"=\" + l_new\n",
      "            lines_new[i] = line_new\n",
      "        else:\n",
      "            l_new = '%7.2f\\r\\n' % dip\n",
      "            line_new = l[0] + \"=\" + l_new\n",
      "            lines_new[i] = line_new\n",
      "            "
     ],
     "language": "python",
     "metadata": {},
     "outputs": [
      {
       "output_type": "stream",
       "stream": "stdout",
       "text": [
        "\tDip Direction\t= 104.00\r\n",
        "\n",
        "\tDip\t=  73.00\r\n",
        "\n",
        "\tDip Direction\t= 271.00\r\n",
        "\n",
        "\tDip\t= 127.00\r\n",
        "\n"
       ]
      }
     ],
     "prompt_number": 18
    },
    {
     "cell_type": "code",
     "collapsed": false,
     "input": [
      "# save to file, recompute and export\n",
      "# new_file = \"noddy_one_fault_new.his\"\n",
      "new_file = \"noddy_two_faults_new.his\"\n",
      "f = open(new_file, \"w\")\n",
      "for line in lines_new:\n",
      "    f.write(line)\n",
      "f.close()\n",
      "    \n",
      "compute_and_export_model(new_file, \"geology_two_faults\")\n"
     ],
     "language": "python",
     "metadata": {},
     "outputs": [],
     "prompt_number": 19
    },
    {
     "cell_type": "markdown",
     "metadata": {},
     "source": [
      "First uncertainty test\n",
      "----------\n",
      "\n",
      "Now implement a little probabilistic study: block model with uncertain fault properties! Analyse as 3-D probability fields and, of course, entropy!\n",
      "\n",
      "Noddy uncertainty test: create n models with uncertain dip, dip direction and slip"
     ]
    },
    {
     "cell_type": "code",
     "collapsed": false,
     "input": [
      "# set Monte Carlo properties and pdfs for parameters\n",
      "n = 100 # number of draws\n",
      "# dip_mean = 65.\n",
      "dip_stdev = 10.\n",
      "# dip_direction_mean = 90.\n",
      "dip_dir_stdev = 20.\n",
      "# slip_mean = 1000.\n",
      "slip_stdev = 400.\n",
      "cube_size = 50."
     ],
     "language": "python",
     "metadata": {},
     "outputs": [],
     "prompt_number": 20
    },
    {
     "cell_type": "code",
     "collapsed": false,
     "input": [
      "# read template file\n",
      "f_template = open(history, 'r')\n",
      "lines_template = f_template.readlines()\n",
      "f_template.close()\n",
      "# now perform sampling and export models to numpy arrays\n",
      "nx = 140\n",
      "ny = 200\n",
      "nz = 100\n",
      "all_results = np.ndarray((n, nz, ny, nx))\n",
      "for j in range(n):\n",
      "    if (j%(n/10) == 0):\n",
      "        print \"Calculate model %3d of %d\" % (j, n)\n",
      "    # create copy for changes\n",
      "    lines_new = lines_template[:]\n",
      "    # draw samples for dip, dip direction and slip: consider mean as input value\n",
      "    # dip_direction = np.random.normal(dip_direction_mean, dip_direction_stdev)\n",
      "    # slip = np.random.normal(slip_mean, slip_stdev)\n",
      "    \n",
      "    for i,line in enumerate(lines):\n",
      "        if 'Dip' in line \\\n",
      "        and 'Mag' not in line \\\n",
      "        and 'Borehole' not in line\\\n",
      "        and 'Name' not in line:\n",
      "            # print line\n",
      "            l = line.split('=')\n",
      "            if \"Direction\" in line:\n",
      "                dip_dir_ori = float(l[1])\n",
      "                dip_dir = np.random.normal(dip_dir_ori, dip_dir_stdev)\n",
      "                l_new = '%7.2f\\r\\n' % dip_dir\n",
      "                line_new = l[0] + \"=\" + l_new\n",
      "                lines_new[i] = line_new\n",
      "            else:\n",
      "                dip_ori = float(l[1])\n",
      "                dip = np.random.normal(dip_ori, dip_stdev)\n",
      "                l_new = '%7.2f\\r\\n' % dip\n",
      "                line_new = l[0] + \"=\" + l_new\n",
      "                lines_new[i] = line_new\n",
      "        if 'Slip' in line:\n",
      "            l = line.split('=')\n",
      "            slip_ori = float(l[1])\n",
      "            slip = np.random.normal(slip_ori, slip_stdev)\n",
      "            l_new = '%7.2f\\r\\n' % slip\n",
      "            line_new = l[0] + \"=\" + l_new\n",
      "            lines_new[i] = line_new\n",
      " \n",
      "        if 'Geophysics Cube Size' in line: \n",
      "            # print line\n",
      "            l = line.split('=')\n",
      "            l_new = '%7.2f\\r\\n' % cube_size\n",
      "            line_new = l[0] + \"=\" + l_new\n",
      "            lines_new[i] = line_new\n",
      "            \n",
      "    # write to temporary history file\n",
      "    history_tmp = \"history_tmp.his\"\n",
      "    f = open(history_tmp, \"w\")\n",
      "    for line in lines_new:\n",
      "        f.write(line)\n",
      "    f.close()    \n",
      "    \n",
      "    # now compute and export block model to numpy array\n",
      "    block = compute_and_export_model(history_tmp, save_vtk=False)\n",
      "    all_results[j,:,:,:] = block  \n",
      "            "
     ],
     "language": "python",
     "metadata": {},
     "outputs": [
      {
       "output_type": "stream",
       "stream": "stdout",
       "text": [
        "Calculate model   0 of 100\n",
        "Calculate model  10 of 100"
       ]
      },
      {
       "output_type": "stream",
       "stream": "stdout",
       "text": [
        "\n",
        "Calculate model  20 of 100"
       ]
      },
      {
       "output_type": "stream",
       "stream": "stdout",
       "text": [
        "\n",
        "Calculate model  30 of 100"
       ]
      },
      {
       "output_type": "stream",
       "stream": "stdout",
       "text": [
        "\n",
        "Calculate model  40 of 100"
       ]
      },
      {
       "output_type": "stream",
       "stream": "stdout",
       "text": [
        "\n",
        "Calculate model  50 of 100"
       ]
      },
      {
       "output_type": "stream",
       "stream": "stdout",
       "text": [
        "\n",
        "Calculate model  60 of 100"
       ]
      },
      {
       "output_type": "stream",
       "stream": "stdout",
       "text": [
        "\n",
        "Calculate model  70 of 100"
       ]
      },
      {
       "output_type": "stream",
       "stream": "stdout",
       "text": [
        "\n",
        "Calculate model  80 of 100"
       ]
      },
      {
       "output_type": "stream",
       "stream": "stdout",
       "text": [
        "\n",
        "Calculate model  90 of 100"
       ]
      },
      {
       "output_type": "stream",
       "stream": "stdout",
       "text": [
        "\n"
       ]
      }
     ],
     "prompt_number": 21
    },
    {
     "cell_type": "code",
     "collapsed": false,
     "input": [
      "# define x, y, z ranges and export to VTK\n",
      "lx, ly, lz = 7000., 10000.0, 5000.0\n",
      "dx, dy, dz = lx/nx, ly/ny, lz/nz\n",
      "# Coordinates\n",
      "x = np.arange(0, lx + 0.1*dx, dx, dtype='float64')\n",
      "y = np.arange(0, ly + 0.1*dy, dy, dtype='float64')\n",
      "z = np.arange(0, lz + 0.1*dz, dz, dtype='float64')\n",
      "\n",
      "x1 = np.linspace(0,1000,nx)\n",
      "y1 = np.linspace(0,500,ny)\n",
      "z1 = np.linspace(0,300,nz)\n",
      "\n",
      "# Determine probability fields\n",
      "n_layers = 7\n",
      "prob_layers = np.ndarray((n_layers, nz, ny, nx))\n",
      "for l in range(n_layers):\n",
      "    layer = all_results == l+1\n",
      "    layer_sum = np.sum(layer, axis=0)\n",
      "    layer_prob = layer_sum / float(n)\n",
      "    prob_layers[l] = layer_prob\n",
      "    \n",
      "    # export ot vtk\n",
      "    gridToVTK(\"prob_layer_%d\" % (l+1), z, y, x, cellData = {\"layer %d\" % (l+1) : layer_prob})\n",
      "    \n",
      "    \n",
      "\n"
     ],
     "language": "python",
     "metadata": {},
     "outputs": [],
     "prompt_number": 22
    },
    {
     "cell_type": "markdown",
     "metadata": {},
     "source": [
      "Grand Finale: calculate and plot information entropy\n",
      "---------------\n",
      "\n",
      "The next step is now to perform a detailed information theoretic analysis, comparing prior and posterior. The first step is simply to calculate the information entropy from the probability fields with Shannon's famous equation\n",
      "\n",
      "$H = - \\sum_{i=1}^n p(x_i) \\log p(x_i)$\n"
     ]
    },
    {
     "cell_type": "code",
     "collapsed": false,
     "input": [
      "# from progressbar import *# just a simple progress bar\n",
      "# widgets =['Test: ',Percentage(),' ',Bar(marker='0',left='[',right=']'),' ', ETA(),' ',FileTransferSpeed()]\n",
      "#see docs for other options\n",
      "\n",
      "\n",
      "# From mutual information paper:\n",
      "def info_entropy(input_list):\n",
      "    \"\"\"calculate and return information entropy of an array/ list to base 2\"\"\"\n",
      "    if not np.allclose(np.sum(input_list), 1., rtol=0.1):\n",
      "        print(\"Problem with input table: sum not equal to 1!\")\n",
      "        return None\n",
      "    h = np.sum(- np.take(input_list, np.nonzero(input_list)) * \\\n",
      "               np.log2(np.take(input_list, np.nonzero(input_list))))\n",
      "    # old implementation with loop:\n",
      "    #    h = 0\n",
      "    #    for i in input_list:\n",
      "    #        if i > 0:\n",
      "    #            h -= i * numpy.log2(i)\n",
      "    return h\n",
      "\n",
      "# function to create entropy array from all layer probabilities\n",
      "def info_entropy_model(prob_layers):\n",
      "    \"\"\"Calculate information entropy given the layer probabilities\"\"\"\n",
      "    H = np.ndarray((nz, ny, nx))\n",
      "    n_total = nx * ny * nz\n",
      "    count = 0\n",
      "#    pbar =ProgressBar(widgets=widgets, maxval=(nx*ny*nz)) \n",
      "#    pbar.start()\n",
      "    for k in range(nz):\n",
      "        count += 1\n",
      "        if (count % (nz/10)) == 0:\n",
      "            print(\"Calculate layer %3d of %d\" % (count, nz))\n",
      "\n",
      "        for j in range(ny):\n",
      "            for i in range(nx):\n",
      "#                pbar.update(count)\n",
      "                H[k,j,i] = info_entropy(prob_layers[:,k,j,i])\n",
      "    return H\n",
      "    \n"
     ],
     "language": "python",
     "metadata": {},
     "outputs": [],
     "prompt_number": 23
    },
    {
     "cell_type": "code",
     "collapsed": false,
     "input": [
      "H = info_entropy_model(prob_layers)"
     ],
     "language": "python",
     "metadata": {},
     "outputs": [
      {
       "output_type": "stream",
       "stream": "stdout",
       "text": [
        "Calculate layer  10 of 100\n",
        "Calculate layer  20 of 100"
       ]
      },
      {
       "output_type": "stream",
       "stream": "stdout",
       "text": [
        "\n",
        "Calculate layer  30 of 100"
       ]
      },
      {
       "output_type": "stream",
       "stream": "stdout",
       "text": [
        "\n",
        "Calculate layer  40 of 100"
       ]
      },
      {
       "output_type": "stream",
       "stream": "stdout",
       "text": [
        "\n",
        "Calculate layer  50 of 100"
       ]
      },
      {
       "output_type": "stream",
       "stream": "stdout",
       "text": [
        "\n",
        "Calculate layer  60 of 100"
       ]
      },
      {
       "output_type": "stream",
       "stream": "stdout",
       "text": [
        "\n",
        "Calculate layer  70 of 100"
       ]
      },
      {
       "output_type": "stream",
       "stream": "stdout",
       "text": [
        "\n",
        "Calculate layer  80 of 100"
       ]
      },
      {
       "output_type": "stream",
       "stream": "stdout",
       "text": [
        "\n",
        "Calculate layer  90 of 100"
       ]
      },
      {
       "output_type": "stream",
       "stream": "stdout",
       "text": [
        "\n",
        "Calculate layer 100 of 100"
       ]
      },
      {
       "output_type": "stream",
       "stream": "stdout",
       "text": [
        "\n"
       ]
      }
     ],
     "prompt_number": 24
    },
    {
     "cell_type": "code",
     "collapsed": false,
     "input": [
      "# Write entropy to VTK\n",
      "# define x, y, z ranges and export to VTK\n",
      "lx, ly, lz = 7000., 10000.0, 5000.0\n",
      "dx, dy, dz = lx/nx, ly/ny, lz/nz\n",
      "# Coordinates\n",
      "x = np.arange(0, lx + 0.1*dx, dx, dtype='float64')\n",
      "y = np.arange(0, ly + 0.1*dy, dy, dtype='float64')\n",
      "z = np.arange(0, lz + 0.1*dz, dz, dtype='float64')\n",
      "\n",
      "x1 = np.linspace(0,1000,nx)\n",
      "y1 = np.linspace(0,500,ny)\n",
      "z1 = np.linspace(0,300,nz)\n",
      "\n",
      "gridToVTK(\"./two_faults_info_entropy\", z, y, x, cellData = {\"info entropy\" : H}) \n"
     ],
     "language": "python",
     "metadata": {},
     "outputs": [
      {
       "metadata": {},
       "output_type": "pyout",
       "prompt_number": 25,
       "text": [
        "'/Users/flow/git/floddy/python/notebooks/two_faults_info_entropy.vtr'"
       ]
      }
     ],
     "prompt_number": 25
    },
    {
     "cell_type": "code",
     "collapsed": false,
     "input": [
      "depth = np.arange(0,10000,100)\n",
      "half = 3000.\n",
      "factor = 20.\n",
      "plot(depth, factor*np.exp(depth/half))\n",
      "print np.exp(400/250.)"
     ],
     "language": "python",
     "metadata": {},
     "outputs": [
      {
       "output_type": "stream",
       "stream": "stdout",
       "text": [
        "4.9530324244\n"
       ]
      },
      {
       "metadata": {},
       "output_type": "display_data",
       "png": "[encoded data removed]",
       "text": [
        "<matplotlib.figure.Figure at 0x11104fd10>"
       ]
      }
     ],
     "prompt_number": 100
    },
    {
     "cell_type": "code",
     "collapsed": false,
     "input": [
      "np.random.normal([10,20],[2,4])"
     ],
     "language": "python",
     "metadata": {},
     "outputs": [
      {
       "metadata": {},
       "output_type": "pyout",
       "prompt_number": 87,
       "text": [
        "array([  8.76074229,  23.21646091])"
       ]
      }
     ],
     "prompt_number": 87
    },
    {
     "cell_type": "code",
     "collapsed": false,
     "input": [
      "m = 400\n",
      "stdev = 10\n",
      "import random\n",
      "random.gauss(m,stdev)"
     ],
     "language": "python",
     "metadata": {},
     "outputs": [
      {
       "metadata": {},
       "output_type": "pyout",
       "prompt_number": 84,
       "text": [
        "407.318787244581"
       ]
      }
     ],
     "prompt_number": 84
    },
    {
     "cell_type": "code",
     "collapsed": false,
     "input": [],
     "language": "python",
     "metadata": {},
     "outputs": []
    }
   ],
   "metadata": {}
  }
 ]
}