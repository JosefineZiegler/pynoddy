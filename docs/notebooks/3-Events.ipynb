{
 "metadata": {
  "name": ""
 },
 "nbformat": 3,
 "nbformat_minor": 0,
 "worksheets": [
  {
   "cells": [
    {
     "cell_type": "heading",
     "level": 1,
     "metadata": {},
     "source": [
      "Geological events in pynoddy: organisation and adpatiation"
     ]
    },
    {
     "cell_type": "markdown",
     "metadata": {},
     "source": [
      "We will here describe how the single geological events of a Noddy history are organised within pynoddy. We will then evaluate in some more detail how aspects of events can be adapted and their effect evaluated."
     ]
    },
    {
     "cell_type": "markdown",
     "metadata": {},
     "source": [
      "Loading events from a Noddy history\n",
      "-----------------------------------\n",
      "\n",
      "In the current set-up of pynoddy, we always start with a pre-defined Noddy history loaded from a file, and then change aspects of the history and the single events. The first step is therefore to load the history file and to extract the single geological events. This is done automatically as default when loading the history file into the History object:\n",
      "\n",
      "\n"
     ]
    },
    {
     "cell_type": "code",
     "collapsed": false,
     "input": [
      "import sys, os\n",
      "import matplotlib.pyplot as plt\n",
      "# adjust some settings for matplotlib\n",
      "from matplotlib import rcParams\n",
      "# print rcParams\n",
      "rcParams['font.size'] = 15\n",
      "# determine path of repository to set paths corretly below\n",
      "os.chdir(r'/Users/flow/git/pynoddy/docs/notebooks/')# some basic module imports\n",
      "repo_path = os.path.realpath('../..')\n",
      "\n",
      "import pynoddy"
     ],
     "language": "python",
     "metadata": {},
     "outputs": [],
     "prompt_number": 1
    },
    {
     "cell_type": "code",
     "collapsed": false,
     "input": [
      "# Change to sandbox directory to store results\n",
      "os.chdir(os.path.join(repo_path, 'sandbox'))\n",
      "\n",
      "# Path to exmaple directory in this repository\n",
      "example_directory = os.path.join(repo_path,'examples')\n",
      "# Compute noddy model for history file\n",
      "history = 'simple_two_faults.his'\n",
      "history_ori = os.path.join(example_directory, history)\n",
      "output_name = 'noddy_out'\n",
      "reload(pynoddy.history)\n",
      "reload(pynoddy.events)\n",
      "H1 = pynoddy.history.NoddyHistory(history_ori)\n",
      "# Before we do anything else, let's actually define the cube size here to\n",
      "# adjust the resolution for all subsequent examples\n",
      "H1.change_cube_size(100)\n",
      "# compute model - note: not strictly required, here just to ensure changed cube size\n",
      "H1.write_history(history)\n",
      "pynoddy.compute_model(history, output_name)"
     ],
     "language": "python",
     "metadata": {},
     "outputs": [],
     "prompt_number": 3
    },
    {
     "cell_type": "markdown",
     "metadata": {},
     "source": [
      "Events are stored in the object dictionary \"events\" (who would have thought), where the key corresponds to the position in the timeline:"
     ]
    },
    {
     "cell_type": "code",
     "collapsed": false,
     "input": [
      "H1.events"
     ],
     "language": "python",
     "metadata": {},
     "outputs": [
      {
       "metadata": {},
       "output_type": "pyout",
       "prompt_number": 4,
       "text": [
        "{1: <pynoddy.events.Stratigraphy instance at 0x10c690440>,\n",
        " 2: <pynoddy.events.Fault instance at 0x10c690488>,\n",
        " 3: <pynoddy.events.Fault instance at 0x10c6904d0>}"
       ]
      }
     ],
     "prompt_number": 4
    },
    {
     "cell_type": "markdown",
     "metadata": {},
     "source": [
      "We can see here that three events are defined in the history. Events are organised as objects themselves, containing all the relevant properties and information about the events. For example, the second fault event is defined as:"
     ]
    },
    {
     "cell_type": "code",
     "collapsed": false,
     "input": [
      "H1.events[3].properties"
     ],
     "language": "python",
     "metadata": {},
     "outputs": [
      {
       "metadata": {},
       "output_type": "pyout",
       "prompt_number": 5,
       "text": [
        "{'Amplitude': 2000.0,\n",
        " 'Blue': 0.0,\n",
        " 'Color Name': 'Custom Colour 5',\n",
        " 'Cyl Index': 0.0,\n",
        " 'Dip': 60.0,\n",
        " 'Dip Direction': 270.0,\n",
        " 'Geometry': 'Translation',\n",
        " 'Green': 0.0,\n",
        " 'Movement': 'Hanging Wall',\n",
        " 'Pitch': 90.0,\n",
        " 'Profile Pitch': 90.0,\n",
        " 'Radius': 1000.0,\n",
        " 'Red': 254.0,\n",
        " 'Rotation': 30.0,\n",
        " 'Slip': 1000.0,\n",
        " 'X': 5500.0,\n",
        " 'XAxis': 2000.0,\n",
        " 'Y': 7000.0,\n",
        " 'YAxis': 2000.0,\n",
        " 'Z': 5000.0,\n",
        " 'ZAxis': 2000.0}"
       ]
      }
     ],
     "prompt_number": 5
    },
    {
     "cell_type": "markdown",
     "metadata": {},
     "source": [
      "Changing aspects of geological events\n",
      "-------------------------------------\n",
      "\n",
      "So what we now want to do, of course, is to change aspects of these events and to evaluate the effect on the resulting geological model.\n",
      "\n",
      "Changes are best "
     ]
    },
    {
     "cell_type": "code",
     "collapsed": false,
     "input": [
      "reload(pynoddy.history)\n",
      "reload(pynoddy.events)\n",
      "H1 = pynoddy.history.NoddyHistory(history)\n",
      "# get the original dip of the fault\n",
      "dip_ori = H1.events[3].properties['Dip']\n",
      "# dip_ori1 = H1.events[2].properties['Dip']\n",
      "# add 10 degrees to dip\n",
      "add_dip = -10\n",
      "dip_new = dip_ori + add_dip\n",
      "# dip_new1 = dip_ori1 + add_dip\n",
      "\n",
      "# and assign back to properties dictionary:\n",
      "H1.events[3].properties['Dip'] = dip_new\n",
      "# H1.events[2].properties['Dip'] = dip_new1\n"
     ],
     "language": "python",
     "metadata": {},
     "outputs": [],
     "prompt_number": 6
    },
    {
     "cell_type": "code",
     "collapsed": false,
     "input": [
      "H1.events[3]"
     ],
     "language": "python",
     "metadata": {},
     "outputs": [
      {
       "metadata": {},
       "output_type": "pyout",
       "prompt_number": 7,
       "text": [
        "<pynoddy.events.Fault instance at 0x10c6ac050>"
       ]
      }
     ],
     "prompt_number": 7
    },
    {
     "cell_type": "markdown",
     "metadata": {},
     "source": [
      "What is left now is to write the model back to a new history file, to recompute the model, and then visualise the output, as before, to compare the results:"
     ]
    },
    {
     "cell_type": "code",
     "collapsed": false,
     "input": [
      "reload(pynoddy.output)\n",
      "new_history = \"dip_changed\"\n",
      "new_output = \"dip_changed_out\"\n",
      "H1.write_history(new_history)\n",
      "pynoddy.compute_model(new_history, new_output)\n",
      "# load output from both models\n",
      "NO1 = pynoddy.output.NoddyOutput(output_name)\n",
      "NO2 = pynoddy.output.NoddyOutput(new_output)\n",
      "\n",
      "# create basic figure layout\n",
      "fig = plt.figure(figsize = (15,5))\n",
      "ax1 = fig.add_subplot(121)\n",
      "ax2 = fig.add_subplot(122)\n",
      "NO1.plot_section('x', position=0, ax = ax1, colorbar=False, title=\"Dip = %.0f\" % dip_ori)\n",
      "NO2.plot_section('x', position=1, ax = ax2, colorbar=False, title=\"Dip = %.0f\" % dip_new)\n",
      "\n",
      "plt.show()\n"
     ],
     "language": "python",
     "metadata": {},
     "outputs": [
      {
       "metadata": {},
       "output_type": "display_data",
       "png": "[encoded data removed]",
       "text": [
        "<matplotlib.figure.Figure at 0x10c63b5d0>"
       ]
      }
     ],
     "prompt_number": 8
    },
    {
     "cell_type": "markdown",
     "metadata": {},
     "source": [
      "Changing the order of geological events\n",
      "---------------------------------------\n",
      "\n",
      "The geological history is parameterised as single events in a timeline. Changing the order of events can be performed with two basic methods:\n",
      "\n",
      "1. Swapping two events with a simple command\n",
      "2. Adjusting the entire timeline with a complete remapping of events\n",
      "\n",
      "The first method is probably the most useful to test how a simple change in the order of events will effect the final geological model. We will use it here with our example to test how the model would change if the timing of the faults is swapped.\n",
      "\n",
      "The method to swap two geological events is defined on the level of the history object:"
     ]
    },
    {
     "cell_type": "code",
     "collapsed": false,
     "input": [
      "reload(pynoddy.history)\n",
      "reload(pynoddy.events)\n",
      "H1 = pynoddy.history.NoddyHistory(history)\n",
      "H1.change_cube_size(100)\n",
      "# compute model - note: not strictly required, here just to ensure changed cube size\n",
      "\n",
      "H1.write_history(history)\n",
      "pynoddy.compute_model(history, output_name)"
     ],
     "language": "python",
     "metadata": {},
     "outputs": [],
     "prompt_number": 62
    },
    {
     "cell_type": "code",
     "collapsed": false,
     "input": [
      "# The names of the two fault events defined in the history file are:\n",
      "print H1.events[2].name\n",
      "print H1.events[3].name"
     ],
     "language": "python",
     "metadata": {},
     "outputs": [
      {
       "output_type": "stream",
       "stream": "stdout",
       "text": [
        "Fault2\n",
        "Fault1\n"
       ]
      }
     ],
     "prompt_number": 63
    },
    {
     "cell_type": "code",
     "collapsed": false,
     "input": [
      "# Now: swap the events:\n",
      "H1.swap_events(2,3)"
     ],
     "language": "python",
     "metadata": {},
     "outputs": [],
     "prompt_number": 64
    },
    {
     "cell_type": "code",
     "collapsed": false,
     "input": [
      "# And let's check if this is correctly relfected in the events order now:\n",
      "print H1.events[2].name\n",
      "print H1.events[3].name"
     ],
     "language": "python",
     "metadata": {},
     "outputs": [
      {
       "output_type": "stream",
       "stream": "stdout",
       "text": [
        "Fault1\n",
        "Fault2\n"
       ]
      }
     ],
     "prompt_number": 65
    },
    {
     "cell_type": "markdown",
     "metadata": {},
     "source": [
      "Now let's create a new history file and evaluate the effect of the changed order in a cross section view:"
     ]
    },
    {
     "cell_type": "code",
     "collapsed": false,
     "input": [
      "new_history = \"faults_changed_order.his\"\n",
      "new_output = \"faults_out\"\n",
      "H1.write_history(new_history)\n",
      "pynoddy.compute_model(new_history, new_output)"
     ],
     "language": "python",
     "metadata": {},
     "outputs": [],
     "prompt_number": 66
    },
    {
     "cell_type": "code",
     "collapsed": false,
     "input": [
      "reload(pynoddy.output)\n",
      "# Load and compare both models\n",
      "NO1 = pynoddy.output.NoddyOutput(output_name)\n",
      "NO2 = pynoddy.output.NoddyOutput(new_output)\n",
      "# create basic figure layout\n",
      "fig = plt.figure(figsize = (15,5))\n",
      "ax1 = fig.add_subplot(121)\n",
      "ax2 = fig.add_subplot(122)\n",
      "NO1.plot_section('x', ax = ax1, colorbar=False, title=\"Model 1\")\n",
      "NO2.plot_section('x', ax = ax2, colorbar=False, title=\"Model 2\")\n",
      "\n",
      "plt.show()\n"
     ],
     "language": "python",
     "metadata": {},
     "outputs": [
      {
       "metadata": {},
       "output_type": "display_data",
       "png": "[encoded data removed]",
       "text": [
        "<matplotlib.figure.Figure at 0x104620ad0>"
       ]
      }
     ],
     "prompt_number": 70
    },
    {
     "cell_type": "markdown",
     "metadata": {},
     "source": [
      "Determining the stratigraphic difference between two models\n",
      "------------------------------------------------------------\n",
      "\n",
      "Just as another quick example of a possible application of pynoddy to evaluate aspects that are not simply possible with, for example, the GUI version of Noddy itself. In the last example with the changed order of the faults, we might be interested to determine where in space this change had an effect. We can test this quite simply using the `NoddyOutput` objects. \n",
      "\n",
      "The geology data is stored in the `NoddyOutput.block` attribute. To evaluate the difference between two models, we can therefore simply compute:"
     ]
    },
    {
     "cell_type": "code",
     "collapsed": false,
     "input": [
      "diff = (NO2.block - NO1.block)"
     ],
     "language": "python",
     "metadata": {},
     "outputs": [],
     "prompt_number": 68
    },
    {
     "cell_type": "markdown",
     "metadata": {},
     "source": [
      "And create a simple visualisation of the difference in a slice plot with:"
     ]
    },
    {
     "cell_type": "code",
     "collapsed": false,
     "input": [
      "fig = plt.figure()\n",
      "ax = fig.add_subplot(111)\n",
      "ax.imshow(diff[10,:,:].transpose(), interpolation='nearest')"
     ],
     "language": "python",
     "metadata": {},
     "outputs": [
      {
       "metadata": {},
       "output_type": "pyout",
       "prompt_number": 71,
       "text": [
        "<matplotlib.image.AxesImage at 0x104651b90>"
       ]
      },
      {
       "metadata": {},
       "output_type": "display_data",
       "png": "[encoded data removed]",
       "text": [
        "<matplotlib.figure.Figure at 0x1046515d0>"
       ]
      }
     ],
     "prompt_number": 71
    },
    {
     "cell_type": "markdown",
     "metadata": {},
     "source": [
      "(Adding a meaningful title and axis labels to the plot is left to the reader as simple excercise :-) Future versions of pynoddy might provide an automatic implementation for this step...)"
     ]
    },
    {
     "cell_type": "code",
     "collapsed": false,
     "input": [],
     "language": "python",
     "metadata": {},
     "outputs": []
    }
   ],
   "metadata": {}
  }
 ]
}