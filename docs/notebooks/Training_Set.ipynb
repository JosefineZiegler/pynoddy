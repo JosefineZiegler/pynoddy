{
 "cells": [
  {
   "cell_type": "markdown",
   "metadata": {},
   "source": [
    "# Generating a training set of typical geological structures\n",
    "\n",
    "(Based on 4-Create-model)"
   ]
  },
  {
   "cell_type": "code",
   "execution_count": 1,
   "metadata": {
    "collapsed": true
   },
   "outputs": [],
   "source": [
    "from matplotlib import rc_params"
   ]
  },
  {
   "cell_type": "code",
   "execution_count": 2,
   "metadata": {},
   "outputs": [
    {
     "data": {
      "text/html": [
       "<link href='http://fonts.googleapis.com/css?family=Alegreya+Sans:100,300,400,500,700,800,900,100italic,300italic,400italic,500italic,700italic,800italic,900italic' rel='stylesheet' type='text/css'>\n",
       "<link href='http://fonts.googleapis.com/css?family=Arvo:400,700,400italic' rel='stylesheet' type='text/css'>\n",
       "<link href='http://fonts.googleapis.com/css?family=PT+Mono' rel='stylesheet' type='text/css'>\n",
       "<link href='http://fonts.googleapis.com/css?family=Shadows+Into+Light' rel='stylesheet' type='text/css'>\n",
       "<link rel=\"stylesheet\" type=\"text/css\" href=\"http://fonts.googleapis.com/css?family=Tangerine\">\n",
       "<link href='http://fonts.googleapis.com/css?family=Philosopher:400,700,400italic,700italic' rel='stylesheet' type='text/css'>\n",
       "<link href='http://fonts.googleapis.com/css?family=Libre+Baskerville:400,400italic' rel='stylesheet' type='text/css'>\n",
       "<link href='http://fonts.googleapis.com/css?family=Lora:400,400italic' rel='stylesheet' type='text/css'>\n",
       "<link href='http://fonts.googleapis.com/css?family=Karla:400,400italic' rel='stylesheet' type='text/css'>\n",
       "\n",
       "<style>\n",
       "\n",
       "@font-face {\n",
       "    font-family: \"Computer Modern\";\n",
       "    src: url('http://mirrors.ctan.org/fonts/cm-unicode/fonts/otf/cmunss.otf');\n",
       "}\n",
       "\n",
       "#notebook_panel { /* main background */\n",
       "    background: #888;\n",
       "    color: #f6f6f6;\n",
       "}\n",
       "\n",
       "div.cell { /* set cell width to about 80 chars */\n",
       "    width: 800px;\n",
       "}\n",
       "\n",
       "div #notebook { /* centre the content */\n",
       "    background: #fff; /* white background for content */\n",
       "    width: 1000px;\n",
       "    margin: auto;\n",
       "    padding-left: 1em;\n",
       "}\n",
       "\n",
       "#notebook li { /* More space between bullet points */\n",
       "margin-top:0.8em;\n",
       "}\n",
       "\n",
       "/* draw border around running cells */\n",
       "div.cell.border-box-sizing.code_cell.running { \n",
       "    border: 3px solid #111;\n",
       "}\n",
       "\n",
       "/* Put a solid color box around each cell and its output, visually linking them together */\n",
       "div.cell.code_cell {\n",
       "    background: #ddd;  /* rgba(230,230,230,1.0);  */\n",
       "    border-radius: 10px; /* rounded borders */\n",
       "    width: 900px;\n",
       "    padding: 1em;\n",
       "    margin-top: 1em;\n",
       "}\n",
       "\n",
       "div.text_cell_render{\n",
       "    font-family: 'Arvo' sans-serif;\n",
       "    line-height: 130%;\n",
       "    font-size: 115%;\n",
       "    width:700px;\n",
       "    margin-left:auto;\n",
       "    margin-right:auto;\n",
       "}\n",
       "\n",
       "\n",
       "/* Formatting for header cells */\n",
       ".text_cell_render h1 {\n",
       "    font-family: 'Alegreya Sans', sans-serif;\n",
       "    /* font-family: 'Tangerine', serif; */\n",
       "    /* font-family: 'Libre Baskerville', serif; */\n",
       "    /* font-family: 'Karla', sans-serif;\n",
       "    /* font-family: 'Lora', serif; */\n",
       "    font-size: 50px;\n",
       "    text-align: center;\n",
       "    /* font-style: italic; */\n",
       "    font-weight: 400;\n",
       "    /* font-size: 40pt; */\n",
       "    /* text-shadow: 4px 4px 4px #aaa; */\n",
       "    line-height: 120%;\n",
       "    color: rgb(12,85,97);\n",
       "    margin-bottom: .5em;\n",
       "    margin-top: 0.1em;\n",
       "    display: block;\n",
       "}\t\n",
       ".text_cell_render h2 {\n",
       "    /* font-family: 'Arial', serif; */\n",
       "    /* font-family: 'Lora', serif; */\n",
       "    font-family: 'Alegreya Sans', sans-serif;\n",
       "    font-weight: 700;\n",
       "    font-size: 24pt;\n",
       "    line-height: 100%;\n",
       "    /* color: rgb(171,165,131); */\n",
       "    color: rgb(12,85,97);\n",
       "    margin-bottom: 0.1em;\n",
       "    margin-top: 0.1em;\n",
       "    display: block;\n",
       "}\t\n",
       "\n",
       ".text_cell_render h3 {\n",
       "    font-family: 'Arial', serif;\n",
       "    margin-top:12px;\n",
       "    margin-bottom: 3px;\n",
       "    font-style: italic;\n",
       "    color: rgb(95,92,72);\n",
       "}\n",
       "\n",
       ".text_cell_render h4 {\n",
       "    font-family: 'Arial', serif;\n",
       "}\n",
       "\n",
       ".text_cell_render h5 {\n",
       "    font-family: 'Alegreya Sans', sans-serif;\n",
       "    font-weight: 300;\n",
       "    font-size: 16pt;\n",
       "    color: grey;\n",
       "    font-style: italic;\n",
       "    margin-bottom: .1em;\n",
       "    margin-top: 0.1em;\n",
       "    display: block;\n",
       "}\n",
       "\n",
       ".text_cell_render h6 {\n",
       "    font-family: 'PT Mono', sans-serif;\n",
       "    font-weight: 300;\n",
       "    font-size: 10pt;\n",
       "    color: grey;\n",
       "    margin-bottom: 1px;\n",
       "    margin-top: 1px;\n",
       "}\n",
       "\n",
       ".CodeMirror{\n",
       "        font-family: \"PT Mono\";\n",
       "        font-size: 100%;\n",
       "}\n",
       "\n",
       "</style>\n"
      ],
      "text/plain": [
       "<IPython.core.display.HTML object>"
      ]
     },
     "execution_count": 2,
     "metadata": {},
     "output_type": "execute_result"
    }
   ],
   "source": [
    "from IPython.core.display import HTML\n",
    "css_file = 'pynoddy.css'\n",
    "HTML(open(css_file, \"r\").read())"
   ]
  },
  {
   "cell_type": "code",
   "execution_count": 3,
   "metadata": {
    "collapsed": true
   },
   "outputs": [],
   "source": [
    "import sys, os\n",
    "import matplotlib.pyplot as plt\n",
    "# adjust some settings for matplotlib\n",
    "from matplotlib import rcParams\n",
    "# print rcParams\n",
    "rcParams['font.size'] = 15\n",
    "# determine path of repository to set paths corretly below\n",
    "repo_path = os.path.realpath('../..')\n",
    "import pynoddy.history\n",
    "import numpy as np"
   ]
  },
  {
   "cell_type": "code",
   "execution_count": 4,
   "metadata": {
    "collapsed": true
   },
   "outputs": [],
   "source": [
    "%matplotlib inline"
   ]
  },
  {
   "cell_type": "code",
   "execution_count": 5,
   "metadata": {
    "collapsed": true
   },
   "outputs": [],
   "source": [
    "rcParams.update({'font.size': 20})"
   ]
  },
  {
   "cell_type": "markdown",
   "metadata": {},
   "source": [
    "Single normal fault\n",
    "--------------\n",
    "\n",
    "We first start with a very simple 3-layer model of a fault "
   ]
  },
  {
   "cell_type": "code",
   "execution_count": 6,
   "metadata": {},
   "outputs": [],
   "source": [
    "reload(pynoddy.history)\n",
    "reload(pynoddy.events)\n",
    "nm = pynoddy.history.NoddyHistory()\n",
    "# add stratigraphy\n",
    "strati_options = {'num_layers' : 3,\n",
    "                  'layer_names' : ['layer 1', 'layer 2', 'layer 3'],\n",
    "                  'layer_thickness' : [1500, 500, 1500]}\n",
    "nm.add_event('stratigraphy', strati_options )\n",
    "\n",
    "\n",
    "\n",
    "\n",
    "# The following options define the fault geometry:\n",
    "fault_options = {'name' : 'Fault_E',\n",
    "                 'pos' : (4000, 0, 5000),\n",
    "                 'dip_dir' : 90.,\n",
    "                 'dip' : 60,\n",
    "                 'slip' : 1000}\n",
    "\n",
    "nm.add_event('fault', fault_options)\n",
    "history = 'normal_fault.his'\n",
    "output_name = 'normal_fault_out'\n",
    "nm.write_history(history)"
   ]
  },
  {
   "cell_type": "code",
   "execution_count": 7,
   "metadata": {},
   "outputs": [
    {
     "data": {
      "text/plain": [
       "''"
      ]
     },
     "execution_count": 7,
     "metadata": {},
     "output_type": "execute_result"
    }
   ],
   "source": [
    "# Compute the model\n",
    "pynoddy.compute_model(history, output_name) "
   ]
  },
  {
   "cell_type": "code",
   "execution_count": 8,
   "metadata": {},
   "outputs": [
    {
     "data": {
      "image/png": "[encoded data removed]",
      "text/plain": [
       "<matplotlib.figure.Figure at 0x10ec006d0>"
      ]
     },
     "metadata": {},
     "output_type": "display_data"
    }
   ],
   "source": [
    "# Plot output\n",
    "import pynoddy.output\n",
    "reload(pynoddy.output)\n",
    "nout = pynoddy.output.NoddyOutput(output_name)\n",
    "nout.plot_section('y', layer_labels = strati_options['layer_names'][::-1], \n",
    "                  colorbar = True, title = \"\",\n",
    "                  savefig = False, fig_filename = \"normal_fault.eps\")"
   ]
  },
  {
   "cell_type": "markdown",
   "metadata": {},
   "source": [
    "**Idea**: add tilting event?!"
   ]
  },
  {
   "cell_type": "markdown",
   "metadata": {},
   "source": [
    "Let's make it a bit simpler (for our ML algorithm): we simply set block id's to either 1's or 0's (be careful about this choice... is it a good idea?)"
   ]
  },
  {
   "cell_type": "code",
   "execution_count": 9,
   "metadata": {},
   "outputs": [],
   "source": [
    "nout.block[np.where(nout.block == 3)] = 1"
   ]
  },
  {
   "cell_type": "code",
   "execution_count": 10,
   "metadata": {},
   "outputs": [
    {
     "data": {
      "image/png": "[encoded data removed]",
      "text/plain": [
       "<matplotlib.figure.Figure at 0x10ebff190>"
      ]
     },
     "metadata": {},
     "output_type": "display_data"
    }
   ],
   "source": [
    "nout.plot_section('y', layer_labels = strati_options['layer_names'][::-1], \n",
    "                  colorbar = True, title = \"\", cmap = 'gray_r',\n",
    "                  savefig = False, fig_filename = \"normal_fault.eps\")"
   ]
  },
  {
   "cell_type": "markdown",
   "metadata": {},
   "source": [
    "## Implementation in an experiment object"
   ]
  },
  {
   "cell_type": "code",
   "execution_count": 11,
   "metadata": {},
   "outputs": [
    {
     "data": {
      "text/plain": [
       "<module 'pynoddy.events' from '/Users/flow/git/pynoddy/pynoddy/events.pyc'>"
      ]
     },
     "execution_count": 11,
     "metadata": {},
     "output_type": "execute_result"
    }
   ],
   "source": [
    "import pynoddy.experiment\n",
    "reload(pynoddy.experiment)\n",
    "reload(pynoddy.history)\n",
    "reload(pynoddy.events)"
   ]
  },
  {
   "cell_type": "markdown",
   "metadata": {},
   "source": [
    "Create experiment object for training set: (idea: a test set should easily be produced with new draws from the simulation!)"
   ]
  },
  {
   "cell_type": "code",
   "execution_count": 12,
   "metadata": {},
   "outputs": [],
   "source": [
    "ts =  pynoddy.experiment.Experiment(history = 'normal_fault.his')"
   ]
  },
  {
   "cell_type": "code",
   "execution_count": 13,
   "metadata": {},
   "outputs": [],
   "source": [
    "sec = ts.get_section()"
   ]
  },
  {
   "cell_type": "code",
   "execution_count": 14,
   "metadata": {},
   "outputs": [],
   "source": [
    "sec.block[np.where(sec.block == 3)] = 1\n",
    "# ts.plot_section(data = sec.block)"
   ]
  },
  {
   "cell_type": "code",
   "execution_count": 15,
   "metadata": {},
   "outputs": [
    {
     "data": {
      "image/png": "[encoded data removed]",
      "text/plain": [
       "<matplotlib.figure.Figure at 0x10ed23310>"
      ]
     },
     "metadata": {},
     "output_type": "display_data"
    }
   ],
   "source": [
    "sec.plot_section(cmap = 'gray_r')"
   ]
  },
  {
   "cell_type": "markdown",
   "metadata": {},
   "source": [
    "Set values for random variables"
   ]
  },
  {
   "cell_type": "code",
   "execution_count": 16,
   "metadata": {},
   "outputs": [
    {
     "data": {
      "text/plain": [
       "{'Angle with the Magn. North': 30.0,\n",
       " 'Anisotropic Field': 0.0,\n",
       " 'Apply Alterations': 'ON',\n",
       " 'Blue': 48.0,\n",
       " 'Color Name': 'Color 92',\n",
       " 'Density': 4.0,\n",
       " 'Green': 153.0,\n",
       " 'Height': 3500.0,\n",
       " 'Inclination': 30.0,\n",
       " 'MagSus Dip': 90.0,\n",
       " 'MagSus DipDir': 90.0,\n",
       " 'MagSus Pitch': 0.0,\n",
       " 'MagSusX': 0.0016,\n",
       " 'MagSusY': 0.0016,\n",
       " 'MagSusZ': 0.0016,\n",
       " 'Name': 'Strat',\n",
       " 'Num Layers': 3.0,\n",
       " 'Red': 0.0,\n",
       " 'Remanent Magnetization': 0.0,\n",
       " 'Strength': 0.0016,\n",
       " 'Unit Name': 'layer 3'}"
      ]
     },
     "execution_count": 16,
     "metadata": {},
     "output_type": "execute_result"
    }
   ],
   "source": [
    "ts.events[1].properties"
   ]
  },
  {
   "cell_type": "code",
   "execution_count": 17,
   "metadata": {
    "collapsed": true
   },
   "outputs": [],
   "source": [
    "param_stats = [{'event' : 2, \n",
    "              'parameter': 'Slip',\n",
    "              'stdev': 500.0,\n",
    "              'type': 'normal'},\n",
    "              {'event' : 2, \n",
    "              'parameter': 'Dip',\n",
    "              'stdev': 10.0,\n",
    "              'type': 'normal'},\n",
    "              {'event' : 2, \n",
    "              'parameter': 'X',\n",
    "              'stdev': 500.0,\n",
    "              'type': 'normal'},\n",
    "              {'event' : 2, \n",
    "              'parameter': 'Z',\n",
    "              'stdev': 1500.0,\n",
    "              'type': 'normal'}]\n",
    "\n",
    "ts.set_parameter_statistics(param_stats)"
   ]
  },
  {
   "cell_type": "code",
   "execution_count": 18,
   "metadata": {},
   "outputs": [],
   "source": [
    "ts.random_draw()"
   ]
  },
  {
   "cell_type": "code",
   "execution_count": 19,
   "metadata": {},
   "outputs": [
    {
     "data": {
      "image/png": "[encoded data removed]",
      "text/plain": [
       "<matplotlib.figure.Figure at 0x10ed5b190>"
      ]
     },
     "metadata": {},
     "output_type": "display_data"
    }
   ],
   "source": [
    "ts.plot_section()"
   ]
  },
  {
   "cell_type": "code",
   "execution_count": 20,
   "metadata": {},
   "outputs": [
    {
     "data": {
      "image/png": "[encoded data removed]",
      "text/plain": [
       "<matplotlib.figure.Figure at 0x113766090>"
      ]
     },
     "metadata": {},
     "output_type": "display_data"
    }
   ],
   "source": [
    "ts.random_draw()\n",
    "sec = ts.get_section()\n",
    "sec.block[np.where(sec.block == 3)] = 1\n",
    "# ts.plot_section(data = sec.block)\n",
    "sec.plot_section(cmap = 'gray_r')"
   ]
  },
  {
   "cell_type": "markdown",
   "metadata": {},
   "source": [
    "### And now: changing to reverse fault\n",
    "\n",
    "Use same base object, but change slip to negative to invoke reverse fault"
   ]
  },
  {
   "cell_type": "code",
   "execution_count": 21,
   "metadata": {
    "collapsed": true
   },
   "outputs": [],
   "source": [
    "import copy\n",
    "ts_rev = copy.deepcopy(ts)\n",
    "ts_rev.events[2].properties['Slip'] = -1000\n",
    "ts_rev.events[2].properties['X'] += -1000\n",
    "# \"freeze\" to update model base parameters\n",
    "ts_rev.freeze()"
   ]
  },
  {
   "cell_type": "code",
   "execution_count": 22,
   "metadata": {},
   "outputs": [
    {
     "data": {
      "image/png": "[encoded data removed]",
      "text/plain": [
       "<matplotlib.figure.Figure at 0x113a51910>"
      ]
     },
     "metadata": {},
     "output_type": "display_data"
    }
   ],
   "source": [
    "ts_rev.plot_section()"
   ]
  },
  {
   "cell_type": "code",
   "execution_count": 23,
   "metadata": {
    "scrolled": true
   },
   "outputs": [
    {
     "data": {
      "image/png": "[encoded data removed]",
      "text/plain": [
       "<matplotlib.figure.Figure at 0x113a356d0>"
      ]
     },
     "metadata": {},
     "output_type": "display_data"
    }
   ],
   "source": [
    "ts_rev.random_draw()\n",
    "ts_rev.plot_section()"
   ]
  },
  {
   "cell_type": "code",
   "execution_count": 24,
   "metadata": {
    "scrolled": true
   },
   "outputs": [
    {
     "data": {
      "image/png": "[encoded data removed]",
      "text/plain": [
       "<matplotlib.figure.Figure at 0x113a35f90>"
      ]
     },
     "metadata": {},
     "output_type": "display_data"
    }
   ],
   "source": [
    "ts_rev.change_cube_size(100)\n",
    "ts_rev.random_draw()\n",
    "sec = ts_rev.get_section()\n",
    "sec.block[np.where(sec.block == 3)] = 1\n",
    "# ts.plot_section(data = sec.block)\n",
    "sec.plot_section(cmap = 'gray_r')"
   ]
  },
  {
   "cell_type": "code",
   "execution_count": 25,
   "metadata": {},
   "outputs": [
    {
     "data": {
      "text/plain": [
       "(100, 1, 50)"
      ]
     },
     "execution_count": 25,
     "metadata": {},
     "output_type": "execute_result"
    }
   ],
   "source": [
    "sec.block.shape"
   ]
  },
  {
   "cell_type": "markdown",
   "metadata": {},
   "source": [
    "## Generate training and test sets\n",
    "\n",
    "Use same concept as for training sets from ML examples."
   ]
  },
  {
   "cell_type": "markdown",
   "metadata": {
    "collapsed": true
   },
   "source": [
    "## Change layer thickness\n",
    "\n",
    "Next step: change additionally the thickness of the sedimentary sequences. Note: requires some adjustments (which are anyway overdue...) in pynoddy.history to correctly read and change sedimentary sequences."
   ]
  },
  {
   "cell_type": "code",
   "execution_count": null,
   "metadata": {
    "collapsed": true
   },
   "outputs": [],
   "source": []
  }
 ],
 "metadata": {
  "kernelspec": {
   "display_name": "Python 2",
   "language": "python",
   "name": "python2"
  },
  "language_info": {
   "codemirror_mode": {
    "name": "ipython",
    "version": 3
   },
   "file_extension": ".py",
   "mimetype": "text/x-python",
   "name": "python",
   "nbconvert_exporter": "python",
   "pygments_lexer": "ipython3",
   "version": "3.6.7"
  }
 },
 "nbformat": 4,
 "nbformat_minor": 1
}
