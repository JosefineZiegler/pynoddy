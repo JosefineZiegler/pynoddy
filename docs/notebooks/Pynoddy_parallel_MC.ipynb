{
 "cells": [
  {
   "cell_type": "markdown",
   "metadata": {},
   "source": [
    "# pynoddy parallelized MC error propagation\n",
    "\n",
    "This Notebook exemplifies the use of process parallelisation via the python `multiprocess` tool for parallelised MC error propagation and stochastic modeling.\n",
    "\n",
    "\n"
   ]
  },
  {
   "cell_type": "code",
   "execution_count": 1,
   "metadata": {
    "collapsed": true
   },
   "outputs": [],
   "source": [
    "%matplotlib inline"
   ]
  },
  {
   "cell_type": "code",
   "execution_count": 2,
   "metadata": {
    "collapsed": true
   },
   "outputs": [],
   "source": [
    "# here the usual imports. If any of the imports fails, \n",
    "# make sure that pynoddy is installed\n",
    "# properly, ideally with 'python setup.py develop' \n",
    "# or 'python setup.py install'\n",
    "import sys, os\n",
    "import matplotlib.pyplot as plt\n",
    "import numpy as np\n",
    "# adjust some settings for matplotlib\n",
    "from matplotlib import rcParams\n",
    "# print rcParams\n",
    "rcParams['font.size'] = 15\n",
    "# determine path of repository to set paths corretly below\n",
    "repo_path = os.path.realpath('../..')\n",
    "sys.path.append('../..')\n",
    "import pynoddy\n",
    "import importlib\n",
    "importlib.reload(pynoddy)\n",
    "import pynoddy.history\n",
    "import pynoddy.experiment\n",
    "importlib.reload(pynoddy.experiment)\n",
    "rcParams.update({'font.size': 15})\n"
   ]
  },
  {
   "cell_type": "code",
   "execution_count": 3,
   "metadata": {},
   "outputs": [
    {
     "data": {
      "text/plain": [
       "************************************************************\n",
       "\t\t\tModel Information\n",
       "************************************************************\n",
       "\n",
       "This model consists of 3 events:\n",
       "\t(1) - STRATIGRAPHY\n",
       "\t(2) - FOLD\n",
       "\t(3) - FOLD\n",
       "The model extent is:\n",
       "\tx - 10000.0 m\n",
       "\ty - 7000.0 m\n",
       "\tz - 5000.0 m\n",
       "Number of cells in each direction:\n",
       "\tnx = 50\n",
       "\tny = 35\n",
       "\tnz = 25\n",
       "The model origin is located at: \n",
       "\t(0.0, 0.0, 5000.0)\n",
       "The cubesize for model export is: \n",
       "\t200 m\n",
       "\n",
       "\n",
       "************************************************************\n",
       "\t\t\tMeta Data\n",
       "************************************************************\n",
       "\n",
       "The filename of the model is:\n",
       "\t typeB.his\n",
       "It was last saved (if origin was a history file!) at:\n",
       "\t 3/4/1997 17:30:4"
      ]
     },
     "execution_count": 3,
     "metadata": {},
     "output_type": "execute_result"
    }
   ],
   "source": [
    "pynoddy.history.NoddyHistory(history=\"typeb.his\")"
   ]
  },
  {
   "cell_type": "markdown",
   "metadata": {},
   "source": [
    "## Model set-up\n",
    "\n",
    "Subsequently, we will use a model from the \"Atlas of Structural Geophysics\" as an example model."
   ]
  },
  {
   "cell_type": "code",
   "execution_count": 4,
   "metadata": {
    "collapsed": true
   },
   "outputs": [],
   "source": [
    "# from pynoddy.experiment import monte_carlo\n",
    "model_url = 'http://tectonique.net/asg/ch3/ch3_7/his/typeb.his'\n",
    "ue = pynoddy.experiment.Experiment(history=\"typeb.his\")"
   ]
  },
  {
   "cell_type": "code",
   "execution_count": 5,
   "metadata": {
    "collapsed": true
   },
   "outputs": [],
   "source": [
    "ue.set_random_seed(12345)"
   ]
  },
  {
   "cell_type": "code",
   "execution_count": 6,
   "metadata": {},
   "outputs": [
    {
     "name": "stdout",
     "output_type": "stream",
     "text": [
      "This model consists of 3 events:\n",
      "\t(1) - STRATIGRAPHY\n",
      "\t(2) - FOLD\n",
      "\t(3) - FOLD\n",
      "\n"
     ]
    }
   ],
   "source": [
    "ue.info(events_only = True)"
   ]
  },
  {
   "cell_type": "markdown",
   "metadata": {},
   "source": [
    "We now define the parameter uncertainties:"
   ]
  },
  {
   "cell_type": "code",
   "execution_count": 7,
   "metadata": {
    "collapsed": true
   },
   "outputs": [],
   "source": [
    "param_stats = [{'event' : 2, \n",
    "              'parameter': 'Amplitude',\n",
    "              'stdev': 100.0,\n",
    "              'type': 'normal'},\n",
    "              {'event' : 2, \n",
    "              'parameter': 'Wavelength',\n",
    "              'stdev': 500.0,\n",
    "              'type': 'normal'},\n",
    "              {'event' : 2, \n",
    "              'parameter': 'X',\n",
    "              'stdev': 500.0,\n",
    "              'type': 'normal'}]\n",
    "\n",
    "ue.set_parameter_statistics(param_stats)"
   ]
  },
  {
   "cell_type": "markdown",
   "metadata": {},
   "source": [
    "For testing purposes, here the code for sequential sampling:"
   ]
  },
  {
   "cell_type": "code",
   "execution_count": 9,
   "metadata": {
    "collapsed": true
   },
   "outputs": [],
   "source": [
    "\"\"\"ue.set_random_seed(112358)\n",
    "# perfrom random sampling\n",
    "resolution = 100\n",
    "sec = ue.get_section('y')\n",
    "n_draws = 100\n",
    "tmp = sec.block[:,50,:]\n",
    "#\n",
    "# Note: setting the dtype to 'int8' significantly reduces file size!\n",
    "#\n",
    "model_sections = np.empty((n_draws, tmp.shape[0], tmp.shape[1]), dtype='int8')\n",
    "\"\"\";"
   ]
  },
  {
   "cell_type": "code",
   "execution_count": 10,
   "metadata": {
    "collapsed": true,
    "scrolled": true
   },
   "outputs": [],
   "source": [
    "\"\"\"\n",
    "for i in range(n_draws):\n",
    "    ue.random_draw()\n",
    "    tmp_sec = ue.get_section('y', resolution = resolution, \n",
    "                             remove_tmp_files = True)\n",
    "    model_sections[i,:,:] = tmp_sec.block[:,50,:]\n",
    "\n",
    "\"\"\";\n",
    "\n"
   ]
  },
  {
   "cell_type": "markdown",
   "metadata": {},
   "source": [
    "## Testing parallel execution\n",
    "\n",
    "As a next step, use parallel execution of noddy calculation - should be relatively simple, however: note that, potentially, tmp-files may be overwritten! \n",
    "\n",
    "We therefore also implement here a very convenient python method to generate tmp-folders, that should (technically...) work on any operating system:"
   ]
  },
  {
   "cell_type": "code",
   "execution_count": 12,
   "metadata": {
    "collapsed": true
   },
   "outputs": [],
   "source": [
    "#\n",
    "# Store current directory to get back from temporary files\n",
    "#\n",
    "ori_dir = os.getcwd()\n",
    "\n"
   ]
  },
  {
   "cell_type": "markdown",
   "metadata": {},
   "source": [
    "Adapt model generation to use temp directory:"
   ]
  },
  {
   "cell_type": "code",
   "execution_count": 13,
   "metadata": {
    "collapsed": true
   },
   "outputs": [],
   "source": [
    "import tempfile\n",
    "import shutil"
   ]
  },
  {
   "cell_type": "code",
   "execution_count": 16,
   "metadata": {
    "collapsed": true
   },
   "outputs": [],
   "source": [
    "# Define function to perform one iteration\n",
    "# Execute iterations in temporary directories to avoid overlap\n",
    "#\n",
    "# Note: needs to take outout as argument to add results\n",
    "def compute_iter(ue, output):\n",
    "    ue.random_draw()\n",
    "    dirpath = tempfile.mkdtemp()\n",
    "    os.chdir(dirpath)\n",
    "    tmp_sec = ue.get_section('y', resolution = 100, \n",
    "                             remove_tmp_files = True)\n",
    "    output.put(tmp_sec.block[:,50,:])\n",
    "\n",
    "    \n",
    "# Note: this is not the case for the 'pool' method:\n",
    "# use `with` context management method to ensure that directory is deleted afterwards:\n",
    "def compute_iter_pool(ue, i, init_state=12345):\n",
    "    \"\"\"Perform a single iteration of randomised noddy model\n",
    "    \n",
    "    Arguments:\n",
    "        \n",
    "        ue = pynoddy.expermiment.Experiment object\n",
    "        i = iterator, to keep random state\n",
    "        init_state = int: base state (i will be added to keep results separate, \n",
    "            but overall reproducible)\n",
    "    \"\"\"\n",
    "    from tempfile import TemporaryDirectory\n",
    "    with TemporaryDirectory() as temp_dir:\n",
    "        os.chdir(temp_dir)\n",
    "        np.random.seed(init_state+i)\n",
    "        ue.random_draw()\n",
    "        tmp_sec = ue.get_section('y', resolution = 100, \n",
    "                                 remove_tmp_files = True)\n",
    "    \n",
    "    return tmp_sec.block[:,50,:]"
   ]
  },
  {
   "cell_type": "markdown",
   "metadata": {},
   "source": [
    "For testing only: compute_iter_pool function in normal framework (non-parallel execution):"
   ]
  },
  {
   "cell_type": "code",
   "execution_count": 15,
   "metadata": {
    "collapsed": true
   },
   "outputs": [],
   "source": [
    "\"\"\"\n",
    "ori_dir = \"/Users/Shared/git/pynoddy/docs/notebooks/\"\n",
    "os.chdir(\"/Users/Shared/git/pynoddy/docs/notebooks/\") \n",
    "ue.set_random_seed(112358)\n",
    "# perfrom random sampling\n",
    "resolution = 100\n",
    "sec = ue.get_section('y')\n",
    "\n",
    "tmp = sec.block[:,50,:]\n",
    "n_draws = 100\n",
    "#\n",
    "# Note: setting the dtype to 'int8' significantly reduces file size!\n",
    "#\n",
    "model_sections = np.empty((n_draws, tmp.shape[0], tmp.shape[1]), dtype='int8')\n",
    "\n",
    "#\n",
    "#\n",
    "for i in range(n_draws):\n",
    "    model_sections[i,:,:] = compute_iter_pool(ue)\n",
    "\n",
    "os.chdir(\"/Users/Shared/git/pynoddy/docs/notebooks/\")   \n",
    "\"\"\";"
   ]
  },
  {
   "cell_type": "markdown",
   "metadata": {},
   "source": [
    "## Executing Noddy MC in parallel\n",
    "\n",
    "After a bit of fiddling around, it seems to work now:"
   ]
  },
  {
   "cell_type": "code",
   "execution_count": 19,
   "metadata": {
    "collapsed": true
   },
   "outputs": [],
   "source": [
    "import multiprocessing as mp"
   ]
  },
  {
   "cell_type": "code",
   "execution_count": 48,
   "metadata": {
    "collapsed": true
   },
   "outputs": [],
   "source": [
    "# settings for MC simulation:\n",
    "n_draws = 10 # number of random draws\n",
    "resolution = 100 # cell size of noddy model\n",
    "init_state = 12345 # initial state of random seed\n",
    "\n",
    "# the following lines are only required to pre-define the output array model_sections:\n",
    "ue.change_cube_size(100)\n",
    "sec = ue.get_section('y')\n",
    "tmp = sec.block[:,50,:]\n",
    "# Note: setting the dtype to 'int8' significantly reduces file size!\n",
    "#\n",
    "model_sections = np.empty((n_draws, tmp.shape[0], tmp.shape[1]), dtype='int8')\n",
    "\n",
    "result_list = []\n",
    "def log_result(result):\n",
    "    # This is called whenever foo_pool(i) returns a result.\n",
    "    # result_list is modified only by the main process, not the pool workers.\n",
    "    result_list.append(result)\n",
    "\n",
    "pool = mp.Pool(processes=20)\n",
    "for i in range(n_draws):\n",
    "    # pool.apply_async(foo_pool, args = (i, ), callback = log_result)\n",
    "    # try to use copy, but this did not fix the problem, unfortunately...\n",
    "    # ue_copy = copy.deepcopy(ue)\n",
    "    pool.apply_async(compute_iter_pool, args=(ue, i, init_state), callback = log_result)\n",
    "pool.close()\n",
    "pool.join()\n",
    "\n",
    "# model_sections = np.array([pool.apply(compute_iter_pool, args=(ue,)) for x in range(4)])\n",
    "\n",
    "ori_dir = \"/Users/Shared/git/pynoddy/docs/notebooks/\"\n",
    "os.chdir(ori_dir)"
   ]
  },
  {
   "cell_type": "code",
   "execution_count": 49,
   "metadata": {},
   "outputs": [
    {
     "data": {
      "text/plain": [
       "(10, 100, 40)"
      ]
     },
     "execution_count": 49,
     "metadata": {},
     "output_type": "execute_result"
    }
   ],
   "source": [
    "model_sections = np.array(result_list)\n",
    "model_sections.shape"
   ]
  },
  {
   "cell_type": "markdown",
   "metadata": {},
   "source": [
    "Save results to file. Note: use random number in filename to avoid overwriting:"
   ]
  },
  {
   "cell_type": "code",
   "execution_count": 64,
   "metadata": {
    "collapsed": true
   },
   "outputs": [],
   "source": [
    "import pickle\n",
    "f_out = open(\"model_sections_%d.pkl\" % np.random.randint(1000), 'wb')\n",
    "pickle.dump(model_sections, f_out)\n",
    "f_out.close()"
   ]
  }
 ],
 "metadata": {
  "kernelspec": {
   "display_name": "Python 3",
   "language": "python",
   "name": "python3"
  },
  "language_info": {
   "codemirror_mode": {
    "name": "ipython",
    "version": 3
   },
   "file_extension": ".py",
   "mimetype": "text/x-python",
   "name": "python",
   "nbconvert_exporter": "python",
   "pygments_lexer": "ipython3",
   "version": "3.6.7"
  }
 },
 "nbformat": 4,
 "nbformat_minor": 2
}
