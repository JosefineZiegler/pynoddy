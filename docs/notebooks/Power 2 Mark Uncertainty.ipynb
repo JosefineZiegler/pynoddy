{
 "metadata": {
  "name": ""
 },
 "nbformat": 3,
 "nbformat_minor": 0,
 "worksheets": [
  {
   "cells": [
    {
     "cell_type": "code",
     "collapsed": false,
     "input": [
      "import sys, os\n",
      "import matplotlib.pyplot as plt\n",
      "import pynoddy.history\n",
      "import pynoddy.output\n",
      "import copy\n",
      "import pickle"
     ],
     "language": "python",
     "metadata": {},
     "outputs": [],
     "prompt_number": 1
    },
    {
     "cell_type": "code",
     "collapsed": false,
     "input": [
      "os.chdir(r\"/Users/Florian/Documents/10_Geomodels/Noddy/GBasin/GBasin\")\n",
      "# os.chdir(r\"/Users/flow/Documents/02_work/10_Geomodels/06_Noddy/\")\n"
     ],
     "language": "python",
     "metadata": {},
     "outputs": [],
     "prompt_number": 15
    },
    {
     "cell_type": "code",
     "collapsed": false,
     "input": [
      "reload(pynoddy.history)\n",
      "reload(pynoddy.events)\n",
      "his = \"GBasin_simplified.his\"\n",
      "PH = pynoddy.history.NoddyHistory(his)\n",
      "out = 'GBasin_out'\n",
      "pynoddy.compute_model(his, out)\n",
      "print os.getcwd()\n",
      "PO = pynoddy.output.NoddyOutput(out)"
     ],
     "language": "python",
     "metadata": {},
     "outputs": [
      {
       "output_type": "stream",
       "stream": "stdout",
       "text": [
        " STRATIGRAPHY\n",
        " UNCONFORMITY\n",
        " UNCONFORMITY\n",
        " UNCONFORMITY\n",
        " FOLD\n",
        " FAULT\n",
        " FAULT\n",
        " FAULT\n",
        " UNCONFORMITY\n",
        "/Users/Florian/Documents/10_Geomodels/Noddy/GBasin/GBasin"
       ]
      },
      {
       "output_type": "stream",
       "stream": "stdout",
       "text": [
        "\n"
       ]
      }
     ],
     "prompt_number": 87
    },
    {
     "cell_type": "code",
     "collapsed": false,
     "input": [
      "PH.reorder_events({1:2, 2:1})\n"
     ],
     "language": "python",
     "metadata": {},
     "outputs": [],
     "prompt_number": 88
    },
    {
     "cell_type": "code",
     "collapsed": false,
     "input": [
      "PH = pynoddy.history.NoddyHistory(his)\n",
      "pynoddy.compute_model(his, out)\n",
      "PO = pynoddy.output.NoddyOutput(out)"
     ],
     "language": "python",
     "metadata": {},
     "outputs": [
      {
       "output_type": "stream",
       "stream": "stdout",
       "text": [
        " STRATIGRAPHY\n",
        " UNCONFORMITY\n",
        " UNCONFORMITY\n",
        " UNCONFORMITY\n",
        " FOLD\n",
        " FAULT\n",
        " FAULT\n",
        " FAULT\n",
        " UNCONFORMITY\n"
       ]
      }
     ],
     "prompt_number": 89
    },
    {
     "cell_type": "code",
     "collapsed": false,
     "input": [
      "PH.events[5].properties"
     ],
     "language": "python",
     "metadata": {},
     "outputs": [
      {
       "metadata": {},
       "output_type": "pyout",
       "prompt_number": 30,
       "text": [
        "{'Dip': 0.0, 'Dip Direction': 90.0, 'X': 0.0, 'Y': 0.0, 'Z': 1111.0}"
       ]
      }
     ],
     "prompt_number": 30
    },
    {
     "cell_type": "code",
     "collapsed": false,
     "input": [
      "PH.events[5].properties\n"
     ],
     "language": "python",
     "metadata": {},
     "outputs": [
      {
       "metadata": {},
       "output_type": "pyout",
       "prompt_number": 42,
       "text": [
        "{'Amplitude': 350.0,\n",
        " 'Cylindricity': 0.0,\n",
        " 'Dip': 90.0,\n",
        " 'Dip Direction': 90.0,\n",
        " 'Pitch': 0.0,\n",
        " 'Single Fold': 'FALSE',\n",
        " 'Type': 'Sine',\n",
        " 'Wavelength': 4000.0,\n",
        " 'X': 0.0,\n",
        " 'Y': 0.0,\n",
        " 'Z': 0.0}"
       ]
      }
     ],
     "prompt_number": 42
    },
    {
     "cell_type": "code",
     "collapsed": false,
     "input": [
      "for i,line in enumerate(PH.events[5].event_lines):\n",
      "    if \"Unit\" in line: \n",
      "        print line\n",
      "        print PH.events[5].event_lines[i+1]"
     ],
     "language": "python",
     "metadata": {},
     "outputs": [
      {
       "output_type": "stream",
       "stream": "stdout",
       "text": [
        "\tUnit Name\t= Permian_Low\r\n",
        "\n",
        "\tHeight\t= 2500\r\n",
        "\n",
        "\tUnit Name\t= Permian_Mid\r\n",
        "\n",
        "\tHeight\t= 3500\r\n",
        "\n",
        "\tUnit Name\t= Permian_Upper\r\n",
        "\n",
        "\tHeight\t= 4500\r\n",
        "\n",
        "\tUnit Name\t= Permian_top\r\n",
        "\n",
        "\tHeight\t= 5500\r\n",
        "\n"
       ]
      }
     ],
     "prompt_number": 35
    },
    {
     "cell_type": "code",
     "collapsed": false,
     "input": [
      "np.random.choice(3,3, replace=False)"
     ],
     "language": "python",
     "metadata": {},
     "outputs": [
      {
       "metadata": {},
       "output_type": "pyout",
       "prompt_number": 49,
       "text": [
        "array([1, 0, 2])"
       ]
      }
     ],
     "prompt_number": 49
    },
    {
     "cell_type": "code",
     "collapsed": false,
     "input": [],
     "language": "python",
     "metadata": {},
     "outputs": [],
     "prompt_number": 48
    },
    {
     "cell_type": "code",
     "collapsed": false,
     "input": [
      "a = {1:2, 2:3}"
     ],
     "language": "python",
     "metadata": {},
     "outputs": [],
     "prompt_number": 50
    },
    {
     "cell_type": "code",
     "collapsed": false,
     "input": [
      "a.values*("
     ],
     "language": "python",
     "metadata": {},
     "outputs": [
      {
       "ename": "SyntaxError",
       "evalue": "unexpected EOF while parsing (<ipython-input-51-7ddec9089234>, line 1)",
       "output_type": "pyerr",
       "traceback": [
        "\u001b[0;36m  File \u001b[0;32m\"<ipython-input-51-7ddec9089234>\"\u001b[0;36m, line \u001b[0;32m1\u001b[0m\n\u001b[0;31m    a.values*(\u001b[0m\n\u001b[0m              ^\u001b[0m\n\u001b[0;31mSyntaxError\u001b[0m\u001b[0;31m:\u001b[0m unexpected EOF while parsing\n"
       ]
      }
     ],
     "prompt_number": 51
    },
    {
     "cell_type": "code",
     "collapsed": false,
     "input": [
      "a.values()"
     ],
     "language": "python",
     "metadata": {},
     "outputs": [
      {
       "metadata": {},
       "output_type": "pyout",
       "prompt_number": 52,
       "text": [
        "[2, 3]"
       ]
      }
     ],
     "prompt_number": 52
    },
    {
     "cell_type": "code",
     "collapsed": false,
     "input": [
      "a.keys()"
     ],
     "language": "python",
     "metadata": {},
     "outputs": [
      {
       "metadata": {},
       "output_type": "pyout",
       "prompt_number": 53,
       "text": [
        "[1, 2]"
       ]
      }
     ],
     "prompt_number": 53
    },
    {
     "cell_type": "code",
     "collapsed": false,
     "input": [
      "a.items()"
     ],
     "language": "python",
     "metadata": {},
     "outputs": [
      {
       "metadata": {},
       "output_type": "pyout",
       "prompt_number": 54,
       "text": [
        "[(1, 2), (2, 3)]"
       ]
      }
     ],
     "prompt_number": 54
    },
    {
     "cell_type": "code",
     "collapsed": false,
     "input": [
      "a = {0:1, 1:2, 2:0}\n",
      "b = ['a', 'b', 'c']\n",
      "c = b[:]\n",
      "for key, value in a.items():\n",
      "    c[value] = b[key]\n"
     ],
     "language": "python",
     "metadata": {},
     "outputs": [],
     "prompt_number": 80
    },
    {
     "cell_type": "code",
     "collapsed": false,
     "input": [
      "c"
     ],
     "language": "python",
     "metadata": {},
     "outputs": [
      {
       "metadata": {},
       "output_type": "pyout",
       "prompt_number": 81,
       "text": [
        "['c', 'a', 'b']"
       ]
      }
     ],
     "prompt_number": 81
    },
    {
     "cell_type": "code",
     "collapsed": false,
     "input": [],
     "language": "python",
     "metadata": {},
     "outputs": []
    }
   ],
   "metadata": {}
  }
 ]
}