{
 "metadata": {
  "name": ""
 },
 "nbformat": 3,
 "nbformat_minor": 0,
 "worksheets": [
  {
   "cells": [
    {
     "cell_type": "code",
     "collapsed": false,
     "input": [
      "import sys, os\n",
      "import matplotlib.pyplot as plt\n",
      "import pynoddy.history\n",
      "import pynoddy.output\n",
      "import copy\n",
      "import pickle\n",
      "import scipy.stats"
     ],
     "language": "python",
     "metadata": {},
     "outputs": [],
     "prompt_number": 1
    },
    {
     "cell_type": "code",
     "collapsed": false,
     "input": [
      "# os.chdir(r\"/Users/Florian/Documents/10_Geomodels/Noddy/GBasin/GBasin\")\n",
      "# os.chdir(r\"/Users/flow/Documents/02_work/10_Geomodels/06_Noddy/GBasin\")\n",
      "os.chdir(r'/Users/flow/git/pynoddy/examples/')"
     ],
     "language": "python",
     "metadata": {},
     "outputs": [],
     "prompt_number": 2
    },
    {
     "cell_type": "code",
     "collapsed": false,
     "input": [
      "print pynoddy.__file__"
     ],
     "language": "python",
     "metadata": {},
     "outputs": [
      {
       "output_type": "stream",
       "stream": "stdout",
       "text": [
        "/Users/flow/git/pynoddy/pynoddy/__init__.pyc\n"
       ]
      }
     ],
     "prompt_number": 3
    },
    {
     "cell_type": "code",
     "collapsed": false,
     "input": [
      "reload(pynoddy.history)\n",
      "reload(pynoddy.events)\n",
      "his = \"GBasi123.his\"\n",
      "PH = pynoddy.history.NoddyHistory(his)\n",
      "out = 'GBasin_out'\n",
      "pynoddy.compute_model(his, out)\n",
      "print os.getcwd()\n",
      "PO = pynoddy.output.NoddyOutput(out)"
     ],
     "language": "python",
     "metadata": {},
     "outputs": [
      {
       "output_type": "stream",
       "stream": "stdout",
       "text": [
        " STRATIGRAPHY\n",
        " UNCONFORMITY\n",
        " UNCONFORMITY\n",
        " UNCONFORMITY\n",
        " FOLD\n",
        " FAULT\n",
        " FAULT\n",
        " FAULT\n",
        " UNCONFORMITY\n",
        "/Users/flow/git/pynoddy/examples"
       ]
      },
      {
       "output_type": "stream",
       "stream": "stdout",
       "text": [
        "\n"
       ]
      }
     ],
     "prompt_number": 4
    },
    {
     "cell_type": "code",
     "collapsed": false,
     "input": [
      "ls"
     ],
     "language": "python",
     "metadata": {},
     "outputs": [
      {
       "output_type": "stream",
       "stream": "stdout",
       "text": [
        "GBasi123.his                            GBasin_strat_combined_high.vtr.zip      simple_two_faults_slice.his\r\n",
        "GBasin_out.g00                          GBasin_strat_num_high.vtr               slightly_complicated.his\r\n",
        "GBasin_out.g01                          GBasin_uncertainty.zip                  strat_combined_high.pkl\r\n",
        "GBasin_out.g02                          README.md                               strat_differs_high.pkl\r\n",
        "GBasin_out.g12                          gipps_uncertainty.py                    strat_num_high.pkl\r\n",
        "GBasin_simplified.his                   gipps_uncertainty.pyc                   strike_slip.his\r\n",
        "GBasin_strat_bins_high.vtr              noddyBatchProgress.txt                  \u001b[34mtmp\u001b[m\u001b[m/\r\n",
        "GBasin_strat_combined_high.vtr          simple_two_faults.his                   two_faults_fold_unconformity_slice.his\r\n"
       ]
      }
     ],
     "prompt_number": 5
    },
    {
     "cell_type": "code",
     "collapsed": false,
     "input": [
      "PH.events[5].properties"
     ],
     "language": "python",
     "metadata": {},
     "outputs": [
      {
       "metadata": {},
       "output_type": "pyout",
       "prompt_number": 6,
       "text": [
        "{'Amplitude': 350.0,\n",
        " 'Cylindricity': 0.0,\n",
        " 'Dip': 90.0,\n",
        " 'Dip Direction': 90.0,\n",
        " 'Pitch': 0.0,\n",
        " 'Single Fold': 'FALSE',\n",
        " 'Type': 'Sine',\n",
        " 'Wavelength': 4000.0,\n",
        " 'X': 0.0,\n",
        " 'Y': 0.0,\n",
        " 'Z': 0.0}"
       ]
      }
     ],
     "prompt_number": 6
    },
    {
     "cell_type": "code",
     "collapsed": false,
     "input": [
      "import gipps_uncertainty"
     ],
     "language": "python",
     "metadata": {},
     "outputs": [],
     "prompt_number": 7
    },
    {
     "cell_type": "code",
     "collapsed": false,
     "input": [
      "reload(gipps_uncertainty)\n",
      "GU = gipps_uncertainty.GUncert(PH, 1000, compute=False)"
     ],
     "language": "python",
     "metadata": {},
     "outputs": [
      {
       "output_type": "stream",
       "stream": "stdout",
       "text": [
        "Sampling step 0\n",
        "Sampling step 100"
       ]
      },
      {
       "output_type": "stream",
       "stream": "stdout",
       "text": [
        "\n",
        "Sampling step 200"
       ]
      },
      {
       "output_type": "stream",
       "stream": "stdout",
       "text": [
        "\n",
        "Sampling step 300"
       ]
      },
      {
       "output_type": "stream",
       "stream": "stdout",
       "text": [
        "\n",
        "Sampling step 400"
       ]
      },
      {
       "output_type": "stream",
       "stream": "stdout",
       "text": [
        "\n",
        "Sampling step 500"
       ]
      },
      {
       "output_type": "stream",
       "stream": "stdout",
       "text": [
        "\n",
        "Sampling step 600"
       ]
      },
      {
       "output_type": "stream",
       "stream": "stdout",
       "text": [
        "\n",
        "Sampling step 700"
       ]
      },
      {
       "output_type": "stream",
       "stream": "stdout",
       "text": [
        "\n",
        "Sampling step 800"
       ]
      },
      {
       "output_type": "stream",
       "stream": "stdout",
       "text": [
        "\n",
        "Sampling step 900"
       ]
      },
      {
       "output_type": "stream",
       "stream": "stdout",
       "text": [
        "\n"
       ]
      }
     ],
     "prompt_number": 10
    },
    {
     "cell_type": "code",
     "collapsed": false,
     "input": [
      "GU.load_all_models()"
     ],
     "language": "python",
     "metadata": {},
     "outputs": [],
     "prompt_number": 11
    },
    {
     "cell_type": "code",
     "collapsed": false,
     "input": [
      "print GU.all_blocks.nbytes / 1E6\n",
      "# pickle.dump(GU.all_blocks, open(\"all_blocks.pkl\", \"w\"))"
     ],
     "language": "python",
     "metadata": {},
     "outputs": [
      {
       "output_type": "stream",
       "stream": "stdout",
       "text": [
        "4662.4\n"
       ]
      }
     ],
     "prompt_number": 12
    },
    {
     "cell_type": "markdown",
     "metadata": {},
     "source": [
      "Information Entropy\n",
      "-------------------\n",
      "\n",
      "As a first step, let's have a look at probabilities and then calculate information entropy for the entire block model!"
     ]
    },
    {
     "cell_type": "code",
     "collapsed": false,
     "input": [
      "GU.calculate_entropy()"
     ],
     "language": "python",
     "metadata": {},
     "outputs": [],
     "prompt_number": 71
    },
    {
     "cell_type": "markdown",
     "metadata": {},
     "source": [
      "Save results and create VTK file for visualisations"
     ]
    },
    {
     "cell_type": "code",
     "collapsed": false,
     "input": [
      "pickle.dump(GU.entropy, open(\"GB_entropy_high.pkl\", \"w\"))\n",
      "GU.export_to_vtk(GU.entropy, \"entropy_high\")"
     ],
     "language": "python",
     "metadata": {},
     "outputs": [],
     "prompt_number": 72
    },
    {
     "cell_type": "markdown",
     "metadata": {},
     "source": [
      "Stratigraphic Variability\n",
      "-------------------------\n",
      "\n",
      "The modes can simply be calculated using the scipy stats mode method:"
     ]
    },
    {
     "cell_type": "code",
     "collapsed": false,
     "input": [
      "modes, bins = scipy.stats.mode(GU.all_blocks)\n",
      "bins = bins[0,:,:,:]\n",
      "strat_var_1 = modes[0,:,:,:]"
     ],
     "language": "python",
     "metadata": {},
     "outputs": [],
     "prompt_number": 11
    },
    {
     "cell_type": "markdown",
     "metadata": {},
     "source": [
      "Actually, the correct way is to determine the number of unique values for stratigraphic variability! So: determine the number of unique elements (i.e. possible outputs) in each cell and combine with probability of mode, with bins calculated above:\n"
     ]
    },
    {
     "cell_type": "code",
     "collapsed": false,
     "input": [
      "s = bins.shape\n",
      "strat_var_new = np.ndarray((s))\n",
      "for i in range(s[0]):\n",
      "    for j in range(s[1]):\n",
      "        for k in range(s[2]):\n",
      "            strat_var_new[i,j,k] = len(np.unique(GU.all_blocks[:,i,j,k]))\n"
     ],
     "language": "python",
     "metadata": {},
     "outputs": [],
     "prompt_number": 22
    },
    {
     "cell_type": "markdown",
     "metadata": {},
     "source": [
      "Thankfully, the second return value from the mode function is actually the bin count of the modal value, so exactly what we need for the second part of the stratigraphic variability function:"
     ]
    },
    {
     "cell_type": "code",
     "collapsed": false,
     "input": [
      "strat_var_2 = 1. - bins / GU.n\n",
      "strat_combined = strat_var_new + strat_var_2"
     ],
     "language": "python",
     "metadata": {},
     "outputs": [],
     "prompt_number": 23
    },
    {
     "cell_type": "markdown",
     "metadata": {},
     "source": [
      "Save results and create VTK visualisations:"
     ]
    },
    {
     "cell_type": "code",
     "collapsed": false,
     "input": [
      "pickle.dump(strat_var_1, open(\"strat_num_high.pkl\", \"w\"))\n",
      "pickle.dump(strat_var_2, open(\"strat_differs_high.pkl\", \"w\"))\n",
      "pickle.dump(strat_combined, open(\"strat_combined_high.pkl\", \"w\"))"
     ],
     "language": "python",
     "metadata": {},
     "outputs": [],
     "prompt_number": 24
    },
    {
     "cell_type": "code",
     "collapsed": false,
     "input": [
      "GU.export_to_vtk(strat_var_new, \"strat_num_high\")\n",
      "GU.export_to_vtk(strat_var_2, \"strat_bins_high\")\n",
      "GU.export_to_vtk(strat_combined, \"strat_combined_high\")"
     ],
     "language": "python",
     "metadata": {},
     "outputs": [],
     "prompt_number": 25
    },
    {
     "cell_type": "code",
     "collapsed": false,
     "input": [
      "# Extract slice for information theory analysis\n",
      "GU_slice = GU.all_blocks[:,0,:,:]\n",
      "pickle.dump(GU_slice, open(\"Gippsland_x_slice.pkl\", \"w\"))\n",
      "GU_y_slice = GU.all_blocks[:,:,0,:]\n",
      "pickle.dump(GU_y_slice, open(\"Gippsland_y_slice.pkl\", \"w\"))\n"
     ],
     "language": "python",
     "metadata": {},
     "outputs": [],
     "prompt_number": 13
    },
    {
     "cell_type": "code",
     "collapsed": false,
     "input": [
      "pwd"
     ],
     "language": "python",
     "metadata": {},
     "outputs": [
      {
       "metadata": {},
       "output_type": "pyout",
       "prompt_number": 14,
       "text": [
        "u'/Users/flow/git/pynoddy/examples'"
       ]
      }
     ],
     "prompt_number": 14
    },
    {
     "cell_type": "code",
     "collapsed": false,
     "input": [
      "print a\n",
      "print np.sort(a)\n",
      "print np.argsort(a)\n",
      "print \"----\"\n",
      "print np.unique(a)\n",
      "print np.argmax(np.unique(np.sort(a)))"
     ],
     "language": "python",
     "metadata": {},
     "outputs": [
      {
       "output_type": "stream",
       "stream": "stdout",
       "text": [
        "[ 1  3  1  2  3  5  1  2  5 12  3]\n",
        "[ 1  1  1  2  2  3  3  3  5  5 12]\n",
        "[ 0  2  6  3  7  1  4 10  5  8  9]\n",
        "----\n",
        "[ 1  2  3  5 12]\n",
        "4\n"
       ]
      }
     ],
     "prompt_number": 125
    },
    {
     "cell_type": "code",
     "collapsed": false,
     "input": [
      "a_sort = np.sort(a)\n",
      "print a_sort"
     ],
     "language": "python",
     "metadata": {},
     "outputs": [
      {
       "output_type": "stream",
       "stream": "stdout",
       "text": [
        "[[0 1 1 2]\n",
        " [0 1 1 2]\n",
        " [0 1 2 2]\n",
        " [0 1 1 2]\n",
        " [0 0 2 2]\n",
        " [0 0 2 2]\n",
        " [0 0 0 1]\n",
        " [0 0 1 1]]\n"
       ]
      }
     ],
     "prompt_number": 187
    },
    {
     "cell_type": "code",
     "collapsed": false,
     "input": [
      "np.where(a_sort[:-1] != a_sort[1:])\n",
      "n = float(len(a))"
     ],
     "language": "python",
     "metadata": {},
     "outputs": [],
     "prompt_number": 160
    },
    {
     "cell_type": "code",
     "collapsed": false,
     "input": [
      "a = np.random.randint(0,3,size=(300,4))\n",
      "b = [np.sum(a == id_a, axis=0) / 300. for id_a in np.unique(a)]"
     ],
     "language": "python",
     "metadata": {},
     "outputs": [],
     "prompt_number": 197
    },
    {
     "cell_type": "code",
     "collapsed": false,
     "input": [
      "b"
     ],
     "language": "python",
     "metadata": {},
     "outputs": [
      {
       "metadata": {},
       "output_type": "pyout",
       "prompt_number": 198,
       "text": [
        "[array([ 0.31666667,  0.30666667,  0.32666667,  0.29333333]),\n",
        " array([ 0.35666667,  0.32333333,  0.35333333,  0.32666667]),\n",
        " array([ 0.32666667,  0.37      ,  0.32      ,  0.38      ])]"
       ]
      }
     ],
     "prompt_number": 198
    },
    {
     "cell_type": "code",
     "collapsed": false,
     "input": [
      "b"
     ],
     "language": "python",
     "metadata": {},
     "outputs": [
      {
       "metadata": {},
       "output_type": "pyout",
       "prompt_number": 190,
       "text": [
        "[array([ 0.25 ,  0.25 ,  0.125,  0.375]),\n",
        " array([ 0.625,  0.5  ,  0.5  ,  0.375]),\n",
        " array([ 0.125,  0.25 ,  0.375,  0.25 ])]"
       ]
      }
     ],
     "prompt_number": 190
    },
    {
     "cell_type": "code",
     "collapsed": false,
     "input": [],
     "language": "python",
     "metadata": {},
     "outputs": [
      {
       "ename": "SyntaxError",
       "evalue": "invalid syntax (<ipython-input-165-2ed524e762bc>, line 1)",
       "output_type": "pyerr",
       "traceback": [
        "\u001b[0;36m  File \u001b[0;32m\"<ipython-input-165-2ed524e762bc>\"\u001b[0;36m, line \u001b[0;32m1\u001b[0m\n\u001b[0;31m    np.unique(a, [:,:,:])\u001b[0m\n\u001b[0m                  ^\u001b[0m\n\u001b[0;31mSyntaxError\u001b[0m\u001b[0;31m:\u001b[0m invalid syntax\n"
       ]
      }
     ],
     "prompt_number": 165
    },
    {
     "cell_type": "code",
     "collapsed": false,
     "input": [
      "2**2 + 2**1 + 2**(-2) + 2**(-3)"
     ],
     "language": "python",
     "metadata": {},
     "outputs": [
      {
       "metadata": {},
       "output_type": "pyout",
       "prompt_number": 53,
       "text": [
        "6.375"
       ]
      }
     ],
     "prompt_number": 53
    },
    {
     "cell_type": "code",
     "collapsed": false,
     "input": [
      "def own_sqrt(x):\n",
      "    s = 1.\n",
      "    for k in range(4):\n",
      "        s = 0.5 * (s + x/s)\n",
      "        print s\n",
      "    return s"
     ],
     "language": "python",
     "metadata": {},
     "outputs": [],
     "prompt_number": 62
    },
    {
     "cell_type": "code",
     "collapsed": false,
     "input": [
      "own_sqrt(2.)"
     ],
     "language": "python",
     "metadata": {},
     "outputs": [
      {
       "output_type": "stream",
       "stream": "stdout",
       "text": [
        "1.5\n",
        "1.41666666667\n",
        "1.41421568627\n",
        "1.41421356237\n"
       ]
      },
      {
       "metadata": {},
       "output_type": "pyout",
       "prompt_number": 63,
       "text": [
        "1.4142135623746899"
       ]
      }
     ],
     "prompt_number": 63
    },
    {
     "cell_type": "code",
     "collapsed": false,
     "input": [
      "pynoddy?"
     ],
     "language": "python",
     "metadata": {},
     "outputs": [],
     "prompt_number": 64
    },
    {
     "cell_type": "code",
     "collapsed": false,
     "input": [
      "cd ~/git/pynoddy/examples/\n"
     ],
     "language": "python",
     "metadata": {},
     "outputs": [
      {
       "output_type": "stream",
       "stream": "stdout",
       "text": [
        "/Users/flow/git/pynoddy/examples\n"
       ]
      }
     ],
     "prompt_number": 70
    },
    {
     "cell_type": "code",
     "collapsed": false,
     "input": [
      "NH = pynoddy.NoddyHistory(\"GBasi123.his\")"
     ],
     "language": "python",
     "metadata": {},
     "outputs": [
      {
       "output_type": "stream",
       "stream": "stdout",
       "text": [
        " STRATIGRAPHY\n",
        " UNCONFORMITY\n",
        " UNCONFORMITY\n",
        " UNCONFORMITY\n",
        " FOLD\n",
        " FAULT\n",
        " FAULT\n",
        " FAULT\n",
        " UNCONFORMITY\n"
       ]
      }
     ],
     "prompt_number": 71
    },
    {
     "cell_type": "code",
     "collapsed": false,
     "input": [
      "run gipps_uncertainty"
     ],
     "language": "python",
     "metadata": {},
     "outputs": [
      {
       "output_type": "stream",
       "stream": "stdout",
       "text": [
        " STRATIGRAPHY\n",
        " UNCONFORMITY\n",
        " UNCONFORMITY\n",
        " UNCONFORMITY\n",
        " FOLD\n",
        " FAULT\n",
        " FAULT\n",
        " FAULT\n",
        " UNCONFORMITY\n",
        "Sampling step 0\n",
        "Sampling step 100"
       ]
      },
      {
       "output_type": "stream",
       "stream": "stdout",
       "text": [
        "\n",
        "Sampling step 200"
       ]
      },
      {
       "output_type": "stream",
       "stream": "stdout",
       "text": [
        "\n",
        "Sampling step 300"
       ]
      },
      {
       "output_type": "stream",
       "stream": "stdout",
       "text": [
        "\n",
        "Sampling step 400"
       ]
      },
      {
       "output_type": "stream",
       "stream": "stdout",
       "text": [
        "\n",
        "Sampling step 500"
       ]
      },
      {
       "output_type": "stream",
       "stream": "stdout",
       "text": [
        "\n",
        "Sampling step 600"
       ]
      },
      {
       "output_type": "stream",
       "stream": "stdout",
       "text": [
        "\n",
        "Sampling step 700"
       ]
      },
      {
       "output_type": "stream",
       "stream": "stdout",
       "text": [
        "\n",
        "Sampling step 800"
       ]
      },
      {
       "output_type": "stream",
       "stream": "stdout",
       "text": [
        "\n",
        "Sampling step 900"
       ]
      },
      {
       "output_type": "stream",
       "stream": "stdout",
       "text": [
        "\n",
        "9"
       ]
      },
      {
       "output_type": "stream",
       "stream": "stdout",
       "text": [
        "\n"
       ]
      }
     ],
     "prompt_number": 118
    },
    {
     "cell_type": "code",
     "collapsed": false,
     "input": [
      "for event in NH.events:\n",
      "    print NH.events[event]"
     ],
     "language": "python",
     "metadata": {},
     "outputs": [
      {
       "output_type": "stream",
       "stream": "stdout",
       "text": [
        "<pynoddy.events.Stratigraphy instance at 0x1073de3b0>\n",
        "<pynoddy.events.Unconformity instance at 0x1073de518>\n",
        "<pynoddy.events.Unconformity instance at 0x1073de4d0>\n",
        "<pynoddy.events.Unconformity instance at 0x1073de368>\n",
        "<pynoddy.events.Fold instance at 0x1073de758>\n",
        "<pynoddy.events.Fault instance at 0x1073de950>\n",
        "<pynoddy.events.Fault instance at 0x1073de998>\n",
        "<pynoddy.events.Fault instance at 0x1073de3f8>\n",
        "<pynoddy.events.Unconformity instance at 0x1073de908>\n"
       ]
      }
     ],
     "prompt_number": 89
    },
    {
     "cell_type": "code",
     "collapsed": false,
     "input": [
      "NH.events[2].event_type"
     ],
     "language": "python",
     "metadata": {},
     "outputs": [
      {
       "metadata": {},
       "output_type": "pyout",
       "prompt_number": 97,
       "text": [
        "'UNCONFORMITY'"
       ]
      }
     ],
     "prompt_number": 97
    },
    {
     "cell_type": "code",
     "collapsed": false,
     "input": [
      "type(NH.events)"
     ],
     "language": "python",
     "metadata": {},
     "outputs": [
      {
       "metadata": {},
       "output_type": "pyout",
       "prompt_number": 93,
       "text": [
        "dict"
       ]
      }
     ],
     "prompt_number": 93
    },
    {
     "cell_type": "code",
     "collapsed": false,
     "input": [
      "NH.events"
     ],
     "language": "python",
     "metadata": {},
     "outputs": [
      {
       "metadata": {},
       "output_type": "pyout",
       "prompt_number": 116,
       "text": [
        "{1: <pynoddy.events.Stratigraphy instance at 0x10761c710>,\n",
        " 2: <pynoddy.events.Unconformity instance at 0x10761c758>,\n",
        " 3: <pynoddy.events.Unconformity instance at 0x10761c7a0>,\n",
        " 4: <pynoddy.events.Unconformity instance at 0x10761c7e8>,\n",
        " 5: <pynoddy.events.Fold instance at 0x10761c830>,\n",
        " 6: <pynoddy.events.Fault instance at 0x10761c908>,\n",
        " 7: <pynoddy.events.Fault instance at 0x10761c950>,\n",
        " 8: <pynoddy.events.Fault instance at 0x10761c878>,\n",
        " 9: <pynoddy.events.Unconformity instance at 0x10761c8c0>}"
       ]
      }
     ],
     "prompt_number": 116
    },
    {
     "cell_type": "code",
     "collapsed": false,
     "input": [
      "np.mod(101,10)"
     ],
     "language": "python",
     "metadata": {},
     "outputs": [
      {
       "metadata": {},
       "output_type": "pyout",
       "prompt_number": 107,
       "text": [
        "1"
       ]
      }
     ],
     "prompt_number": 107
    },
    {
     "cell_type": "code",
     "collapsed": false,
     "input": [
      "a = (1,2,3)\n",
      "print np.random.choice(a, size = 3, replace=False)\n"
     ],
     "language": "python",
     "metadata": {},
     "outputs": [
      {
       "output_type": "stream",
       "stream": "stdout",
       "text": [
        "[3 2 1]\n"
       ]
      }
     ],
     "prompt_number": 115
    },
    {
     "cell_type": "code",
     "collapsed": false,
     "input": [],
     "language": "python",
     "metadata": {},
     "outputs": []
    }
   ],
   "metadata": {}
  }
 ]
}