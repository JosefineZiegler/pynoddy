{
 "cells": [
  {
   "cell_type": "code",
   "execution_count": 1,
   "metadata": {
    "collapsed": false,
    "deletable": true,
    "editable": true
   },
   "outputs": [],
   "source": [
    "import sys, os\n",
    "import matplotlib.pyplot as plt\n",
    "import pynoddy.history\n",
    "import pynoddy.output\n",
    "import copy\n",
    "import pickle\n",
    "import scipy.stats"
   ]
  },
  {
   "cell_type": "code",
   "execution_count": 2,
   "metadata": {
    "collapsed": false,
    "deletable": true,
    "editable": true
   },
   "outputs": [],
   "source": [
    "# os.chdir(r\"/Users/Florian/Documents/10_Geomodels/Noddy/GBasin/GBasin\")\n",
    "# os.chdir(r\"/Users/flow/Documents/02_work/10_Geomodels/06_Noddy/GBasin\")\n",
    "os.chdir(r'/Users/flow/git/pynoddy/examples/')"
   ]
  },
  {
   "cell_type": "code",
   "execution_count": 3,
   "metadata": {
    "collapsed": false,
    "deletable": true,
    "editable": true
   },
   "outputs": [
    {
     "name": "stdout",
     "output_type": "stream",
     "text": [
      "/Users/flow/git/pynoddy/pynoddy/__init__.pyc\n"
     ]
    }
   ],
   "source": [
    "print pynoddy.__file__"
   ]
  },
  {
   "cell_type": "code",
   "execution_count": 4,
   "metadata": {
    "collapsed": false,
    "deletable": true,
    "editable": true
   },
   "outputs": [
    {
     "name": "stdout",
     "output_type": "stream",
     "text": [
      " STRATIGRAPHY\n",
      " UNCONFORMITY\n",
      " UNCONFORMITY\n",
      " UNCONFORMITY\n",
      " FOLD\n",
      " FAULT\n",
      " FAULT\n",
      " FAULT\n",
      " UNCONFORMITY\n",
      "/Users/flow/git/pynoddy/examples\n"
     ]
    }
   ],
   "source": [
    "reload(pynoddy.history)\n",
    "reload(pynoddy.events)\n",
    "his = \"GBasi123.his\"\n",
    "PH = pynoddy.history.NoddyHistory(his)\n",
    "out = 'GBasin_out'\n",
    "pynoddy.compute_model(his, out)\n",
    "print os.getcwd()\n",
    "PO = pynoddy.output.NoddyOutput(out)"
   ]
  },
  {
   "cell_type": "code",
   "execution_count": 5,
   "metadata": {
    "collapsed": false,
    "deletable": true,
    "editable": true
   },
   "outputs": [
    {
     "name": "stdout",
     "output_type": "stream",
     "text": [
      "GBasi123.his                            GBasin_strat_combined_high.vtr.zip      simple_two_faults_slice.his\r\n",
      "GBasin_out.g00                          GBasin_strat_num_high.vtr               slightly_complicated.his\r\n",
      "GBasin_out.g01                          GBasin_uncertainty.zip                  strat_combined_high.pkl\r\n",
      "GBasin_out.g02                          README.md                               strat_differs_high.pkl\r\n",
      "GBasin_out.g12                          gipps_uncertainty.py                    strat_num_high.pkl\r\n",
      "GBasin_simplified.his                   gipps_uncertainty.pyc                   strike_slip.his\r\n",
      "GBasin_strat_bins_high.vtr              noddyBatchProgress.txt                  \u001b[34mtmp\u001b[m\u001b[m/\r\n",
      "GBasin_strat_combined_high.vtr          simple_two_faults.his                   two_faults_fold_unconformity_slice.his\r\n"
     ]
    }
   ],
   "source": [
    "ls"
   ]
  },
  {
   "cell_type": "code",
   "execution_count": 6,
   "metadata": {
    "collapsed": false,
    "deletable": true,
    "editable": true
   },
   "outputs": [
    {
     "data": {
      "text/plain": [
       "{'Amplitude': 350.0,\n",
       " 'Cylindricity': 0.0,\n",
       " 'Dip': 90.0,\n",
       " 'Dip Direction': 90.0,\n",
       " 'Pitch': 0.0,\n",
       " 'Single Fold': 'FALSE',\n",
       " 'Type': 'Sine',\n",
       " 'Wavelength': 4000.0,\n",
       " 'X': 0.0,\n",
       " 'Y': 0.0,\n",
       " 'Z': 0.0}"
      ]
     },
     "execution_count": 6,
     "metadata": {},
     "output_type": "execute_result"
    }
   ],
   "source": [
    "PH.events[5].properties"
   ]
  },
  {
   "cell_type": "code",
   "execution_count": 7,
   "metadata": {
    "collapsed": false,
    "deletable": true,
    "editable": true
   },
   "outputs": [],
   "source": [
    "import gipps_uncertainty"
   ]
  },
  {
   "cell_type": "code",
   "execution_count": 10,
   "metadata": {
    "collapsed": false,
    "deletable": true,
    "editable": true
   },
   "outputs": [
    {
     "name": "stdout",
     "output_type": "stream",
     "text": [
      "Sampling step 0\n",
      "Sampling step 100\n",
      "Sampling step 200\n",
      "Sampling step 300\n",
      "Sampling step 400\n",
      "Sampling step 500\n",
      "Sampling step 600\n",
      "Sampling step 700\n",
      "Sampling step 800\n",
      "Sampling step 900\n"
     ]
    }
   ],
   "source": [
    "reload(gipps_uncertainty)\n",
    "GU = gipps_uncertainty.GUncert(PH, 1000, compute=False)"
   ]
  },
  {
   "cell_type": "code",
   "execution_count": 11,
   "metadata": {
    "collapsed": false,
    "deletable": true,
    "editable": true
   },
   "outputs": [],
   "source": [
    "GU.load_all_models()"
   ]
  },
  {
   "cell_type": "code",
   "execution_count": 12,
   "metadata": {
    "collapsed": false,
    "deletable": true,
    "editable": true
   },
   "outputs": [
    {
     "name": "stdout",
     "output_type": "stream",
     "text": [
      "4662.4\n"
     ]
    }
   ],
   "source": [
    "print GU.all_blocks.nbytes / 1E6\n",
    "# pickle.dump(GU.all_blocks, open(\"all_blocks.pkl\", \"w\"))"
   ]
  },
  {
   "cell_type": "markdown",
   "metadata": {
    "deletable": true,
    "editable": true
   },
   "source": [
    "Information Entropy\n",
    "-------------------\n",
    "\n",
    "As a first step, let's have a look at probabilities and then calculate information entropy for the entire block model!"
   ]
  },
  {
   "cell_type": "code",
   "execution_count": 71,
   "metadata": {
    "collapsed": false,
    "deletable": true,
    "editable": true
   },
   "outputs": [],
   "source": [
    "GU.calculate_entropy()"
   ]
  },
  {
   "cell_type": "markdown",
   "metadata": {
    "deletable": true,
    "editable": true
   },
   "source": [
    "Save results and create VTK file for visualisations"
   ]
  },
  {
   "cell_type": "code",
   "execution_count": 72,
   "metadata": {
    "collapsed": false,
    "deletable": true,
    "editable": true
   },
   "outputs": [],
   "source": [
    "pickle.dump(GU.entropy, open(\"GB_entropy_high.pkl\", \"w\"))\n",
    "GU.export_to_vtk(GU.entropy, \"entropy_high\")"
   ]
  },
  {
   "cell_type": "markdown",
   "metadata": {
    "deletable": true,
    "editable": true
   },
   "source": [
    "Stratigraphic Variability\n",
    "-------------------------\n",
    "\n",
    "The modes can simply be calculated using the scipy stats mode method:"
   ]
  },
  {
   "cell_type": "code",
   "execution_count": 11,
   "metadata": {
    "collapsed": false,
    "deletable": true,
    "editable": true
   },
   "outputs": [],
   "source": [
    "modes, bins = scipy.stats.mode(GU.all_blocks)\n",
    "bins = bins[0,:,:,:]\n",
    "strat_var_1 = modes[0,:,:,:]"
   ]
  },
  {
   "cell_type": "markdown",
   "metadata": {
    "deletable": true,
    "editable": true
   },
   "source": [
    "Actually, the correct way is to determine the number of unique values for stratigraphic variability! So: determine the number of unique elements (i.e. possible outputs) in each cell and combine with probability of mode, with bins calculated above:\n"
   ]
  },
  {
   "cell_type": "code",
   "execution_count": 22,
   "metadata": {
    "collapsed": false,
    "deletable": true,
    "editable": true
   },
   "outputs": [],
   "source": [
    "s = bins.shape\n",
    "strat_var_new = np.ndarray((s))\n",
    "for i in range(s[0]):\n",
    "    for j in range(s[1]):\n",
    "        for k in range(s[2]):\n",
    "            strat_var_new[i,j,k] = len(np.unique(GU.all_blocks[:,i,j,k]))\n"
   ]
  },
  {
   "cell_type": "markdown",
   "metadata": {
    "deletable": true,
    "editable": true
   },
   "source": [
    "Thankfully, the second return value from the mode function is actually the bin count of the modal value, so exactly what we need for the second part of the stratigraphic variability function:"
   ]
  },
  {
   "cell_type": "code",
   "execution_count": 23,
   "metadata": {
    "collapsed": false,
    "deletable": true,
    "editable": true
   },
   "outputs": [],
   "source": [
    "strat_var_2 = 1. - bins / GU.n\n",
    "strat_combined = strat_var_new + strat_var_2"
   ]
  },
  {
   "cell_type": "markdown",
   "metadata": {
    "deletable": true,
    "editable": true
   },
   "source": [
    "Save results and create VTK visualisations:"
   ]
  },
  {
   "cell_type": "code",
   "execution_count": 24,
   "metadata": {
    "collapsed": false,
    "deletable": true,
    "editable": true
   },
   "outputs": [],
   "source": [
    "pickle.dump(strat_var_1, open(\"strat_num_high.pkl\", \"w\"))\n",
    "pickle.dump(strat_var_2, open(\"strat_differs_high.pkl\", \"w\"))\n",
    "pickle.dump(strat_combined, open(\"strat_combined_high.pkl\", \"w\"))"
   ]
  },
  {
   "cell_type": "code",
   "execution_count": 25,
   "metadata": {
    "collapsed": false,
    "deletable": true,
    "editable": true
   },
   "outputs": [],
   "source": [
    "GU.export_to_vtk(strat_var_new, \"strat_num_high\")\n",
    "GU.export_to_vtk(strat_var_2, \"strat_bins_high\")\n",
    "GU.export_to_vtk(strat_combined, \"strat_combined_high\")"
   ]
  },
  {
   "cell_type": "code",
   "execution_count": 13,
   "metadata": {
    "collapsed": false,
    "deletable": true,
    "editable": true
   },
   "outputs": [],
   "source": [
    "# Extract slice for information theory analysis\n",
    "GU_slice = GU.all_blocks[:,0,:,:]\n",
    "pickle.dump(GU_slice, open(\"Gippsland_x_slice.pkl\", \"w\"))\n",
    "GU_y_slice = GU.all_blocks[:,:,0,:]\n",
    "pickle.dump(GU_y_slice, open(\"Gippsland_y_slice.pkl\", \"w\"))\n"
   ]
  },
  {
   "cell_type": "code",
   "execution_count": 14,
   "metadata": {
    "collapsed": false,
    "deletable": true,
    "editable": true
   },
   "outputs": [
    {
     "data": {
      "text/plain": [
       "u'/Users/flow/git/pynoddy/examples'"
      ]
     },
     "execution_count": 14,
     "metadata": {},
     "output_type": "execute_result"
    }
   ],
   "source": [
    "pwd"
   ]
  },
  {
   "cell_type": "code",
   "execution_count": 125,
   "metadata": {
    "collapsed": false,
    "deletable": true,
    "editable": true
   },
   "outputs": [
    {
     "name": "stdout",
     "output_type": "stream",
     "text": [
      "[ 1  3  1  2  3  5  1  2  5 12  3]\n",
      "[ 1  1  1  2  2  3  3  3  5  5 12]\n",
      "[ 0  2  6  3  7  1  4 10  5  8  9]\n",
      "----\n",
      "[ 1  2  3  5 12]\n",
      "4\n"
     ]
    }
   ],
   "source": [
    "print a\n",
    "print np.sort(a)\n",
    "print np.argsort(a)\n",
    "print \"----\"\n",
    "print np.unique(a)\n",
    "print np.argmax(np.unique(np.sort(a)))"
   ]
  },
  {
   "cell_type": "code",
   "execution_count": 187,
   "metadata": {
    "collapsed": false,
    "deletable": true,
    "editable": true
   },
   "outputs": [
    {
     "name": "stdout",
     "output_type": "stream",
     "text": [
      "[[0 1 1 2]\n",
      " [0 1 1 2]\n",
      " [0 1 2 2]\n",
      " [0 1 1 2]\n",
      " [0 0 2 2]\n",
      " [0 0 2 2]\n",
      " [0 0 0 1]\n",
      " [0 0 1 1]]\n"
     ]
    }
   ],
   "source": [
    "a_sort = np.sort(a)\n",
    "print a_sort"
   ]
  },
  {
   "cell_type": "code",
   "execution_count": 160,
   "metadata": {
    "collapsed": false,
    "deletable": true,
    "editable": true
   },
   "outputs": [],
   "source": [
    "np.where(a_sort[:-1] != a_sort[1:])\n",
    "n = float(len(a))"
   ]
  },
  {
   "cell_type": "code",
   "execution_count": 197,
   "metadata": {
    "collapsed": false,
    "deletable": true,
    "editable": true
   },
   "outputs": [],
   "source": [
    "a = np.random.randint(0,3,size=(300,4))\n",
    "b = [np.sum(a == id_a, axis=0) / 300. for id_a in np.unique(a)]"
   ]
  },
  {
   "cell_type": "code",
   "execution_count": 198,
   "metadata": {
    "collapsed": false,
    "deletable": true,
    "editable": true
   },
   "outputs": [
    {
     "data": {
      "text/plain": [
       "[array([ 0.31666667,  0.30666667,  0.32666667,  0.29333333]),\n",
       " array([ 0.35666667,  0.32333333,  0.35333333,  0.32666667]),\n",
       " array([ 0.32666667,  0.37      ,  0.32      ,  0.38      ])]"
      ]
     },
     "execution_count": 198,
     "metadata": {},
     "output_type": "execute_result"
    }
   ],
   "source": [
    "b"
   ]
  },
  {
   "cell_type": "code",
   "execution_count": 190,
   "metadata": {
    "collapsed": false,
    "deletable": true,
    "editable": true
   },
   "outputs": [
    {
     "data": {
      "text/plain": [
       "[array([ 0.25 ,  0.25 ,  0.125,  0.375]),\n",
       " array([ 0.625,  0.5  ,  0.5  ,  0.375]),\n",
       " array([ 0.125,  0.25 ,  0.375,  0.25 ])]"
      ]
     },
     "execution_count": 190,
     "metadata": {},
     "output_type": "execute_result"
    }
   ],
   "source": [
    "b"
   ]
  },
  {
   "cell_type": "code",
   "execution_count": 165,
   "metadata": {
    "collapsed": false,
    "deletable": true,
    "editable": true
   },
   "outputs": [
    {
     "ename": "SyntaxError",
     "evalue": "invalid syntax (<ipython-input-165-2ed524e762bc>, line 1)",
     "output_type": "error",
     "traceback": [
      "\u001b[0;36m  File \u001b[0;32m\"<ipython-input-165-2ed524e762bc>\"\u001b[0;36m, line \u001b[0;32m1\u001b[0m\n\u001b[0;31m    np.unique(a, [:,:,:])\u001b[0m\n\u001b[0m                  ^\u001b[0m\n\u001b[0;31mSyntaxError\u001b[0m\u001b[0;31m:\u001b[0m invalid syntax\n"
     ]
    }
   ],
   "source": []
  },
  {
   "cell_type": "code",
   "execution_count": 53,
   "metadata": {
    "collapsed": false,
    "deletable": true,
    "editable": true
   },
   "outputs": [
    {
     "data": {
      "text/plain": [
       "6.375"
      ]
     },
     "execution_count": 53,
     "metadata": {},
     "output_type": "execute_result"
    }
   ],
   "source": [
    "2**2 + 2**1 + 2**(-2) + 2**(-3)"
   ]
  },
  {
   "cell_type": "code",
   "execution_count": 62,
   "metadata": {
    "collapsed": false,
    "deletable": true,
    "editable": true
   },
   "outputs": [],
   "source": [
    "def own_sqrt(x):\n",
    "    s = 1.\n",
    "    for k in range(4):\n",
    "        s = 0.5 * (s + x/s)\n",
    "        print s\n",
    "    return s"
   ]
  },
  {
   "cell_type": "code",
   "execution_count": 63,
   "metadata": {
    "collapsed": false,
    "deletable": true,
    "editable": true
   },
   "outputs": [
    {
     "name": "stdout",
     "output_type": "stream",
     "text": [
      "1.5\n",
      "1.41666666667\n",
      "1.41421568627\n",
      "1.41421356237\n"
     ]
    },
    {
     "data": {
      "text/plain": [
       "1.4142135623746899"
      ]
     },
     "execution_count": 63,
     "metadata": {},
     "output_type": "execute_result"
    }
   ],
   "source": [
    "own_sqrt(2.)"
   ]
  },
  {
   "cell_type": "code",
   "execution_count": 64,
   "metadata": {
    "collapsed": false,
    "deletable": true,
    "editable": true
   },
   "outputs": [],
   "source": [
    "pynoddy?"
   ]
  },
  {
   "cell_type": "code",
   "execution_count": 70,
   "metadata": {
    "collapsed": false,
    "deletable": true,
    "editable": true
   },
   "outputs": [
    {
     "name": "stdout",
     "output_type": "stream",
     "text": [
      "/Users/flow/git/pynoddy/examples\n"
     ]
    }
   ],
   "source": [
    "cd ~/git/pynoddy/examples/\n"
   ]
  },
  {
   "cell_type": "code",
   "execution_count": 71,
   "metadata": {
    "collapsed": false,
    "deletable": true,
    "editable": true
   },
   "outputs": [
    {
     "name": "stdout",
     "output_type": "stream",
     "text": [
      " STRATIGRAPHY\n",
      " UNCONFORMITY\n",
      " UNCONFORMITY\n",
      " UNCONFORMITY\n",
      " FOLD\n",
      " FAULT\n",
      " FAULT\n",
      " FAULT\n",
      " UNCONFORMITY\n"
     ]
    }
   ],
   "source": [
    "NH = pynoddy.NoddyHistory(\"GBasi123.his\")"
   ]
  },
  {
   "cell_type": "code",
   "execution_count": 118,
   "metadata": {
    "collapsed": false,
    "deletable": true,
    "editable": true
   },
   "outputs": [
    {
     "name": "stdout",
     "output_type": "stream",
     "text": [
      " STRATIGRAPHY\n",
      " UNCONFORMITY\n",
      " UNCONFORMITY\n",
      " UNCONFORMITY\n",
      " FOLD\n",
      " FAULT\n",
      " FAULT\n",
      " FAULT\n",
      " UNCONFORMITY\n",
      "Sampling step 0\n",
      "Sampling step 100\n",
      "Sampling step 200\n",
      "Sampling step 300\n",
      "Sampling step 400\n",
      "Sampling step 500\n",
      "Sampling step 600\n",
      "Sampling step 700\n",
      "Sampling step 800\n",
      "Sampling step 900\n",
      "9\n"
     ]
    }
   ],
   "source": [
    "run gipps_uncertainty"
   ]
  },
  {
   "cell_type": "code",
   "execution_count": 89,
   "metadata": {
    "collapsed": false,
    "deletable": true,
    "editable": true
   },
   "outputs": [
    {
     "name": "stdout",
     "output_type": "stream",
     "text": [
      "<pynoddy.events.Stratigraphy instance at 0x1073de3b0>\n",
      "<pynoddy.events.Unconformity instance at 0x1073de518>\n",
      "<pynoddy.events.Unconformity instance at 0x1073de4d0>\n",
      "<pynoddy.events.Unconformity instance at 0x1073de368>\n",
      "<pynoddy.events.Fold instance at 0x1073de758>\n",
      "<pynoddy.events.Fault instance at 0x1073de950>\n",
      "<pynoddy.events.Fault instance at 0x1073de998>\n",
      "<pynoddy.events.Fault instance at 0x1073de3f8>\n",
      "<pynoddy.events.Unconformity instance at 0x1073de908>\n"
     ]
    }
   ],
   "source": [
    "for event in NH.events:\n",
    "    print NH.events[event]"
   ]
  },
  {
   "cell_type": "code",
   "execution_count": 97,
   "metadata": {
    "collapsed": false,
    "deletable": true,
    "editable": true
   },
   "outputs": [
    {
     "data": {
      "text/plain": [
       "'UNCONFORMITY'"
      ]
     },
     "execution_count": 97,
     "metadata": {},
     "output_type": "execute_result"
    }
   ],
   "source": [
    "NH.events[2].event_type"
   ]
  },
  {
   "cell_type": "code",
   "execution_count": 93,
   "metadata": {
    "collapsed": false,
    "deletable": true,
    "editable": true
   },
   "outputs": [
    {
     "data": {
      "text/plain": [
       "dict"
      ]
     },
     "execution_count": 93,
     "metadata": {},
     "output_type": "execute_result"
    }
   ],
   "source": [
    "type(NH.events)"
   ]
  },
  {
   "cell_type": "code",
   "execution_count": 116,
   "metadata": {
    "collapsed": false,
    "deletable": true,
    "editable": true
   },
   "outputs": [
    {
     "data": {
      "text/plain": [
       "{1: <pynoddy.events.Stratigraphy instance at 0x10761c710>,\n",
       " 2: <pynoddy.events.Unconformity instance at 0x10761c758>,\n",
       " 3: <pynoddy.events.Unconformity instance at 0x10761c7a0>,\n",
       " 4: <pynoddy.events.Unconformity instance at 0x10761c7e8>,\n",
       " 5: <pynoddy.events.Fold instance at 0x10761c830>,\n",
       " 6: <pynoddy.events.Fault instance at 0x10761c908>,\n",
       " 7: <pynoddy.events.Fault instance at 0x10761c950>,\n",
       " 8: <pynoddy.events.Fault instance at 0x10761c878>,\n",
       " 9: <pynoddy.events.Unconformity instance at 0x10761c8c0>}"
      ]
     },
     "execution_count": 116,
     "metadata": {},
     "output_type": "execute_result"
    }
   ],
   "source": [
    "NH.events"
   ]
  },
  {
   "cell_type": "code",
   "execution_count": 107,
   "metadata": {
    "collapsed": false,
    "deletable": true,
    "editable": true
   },
   "outputs": [
    {
     "data": {
      "text/plain": [
       "1"
      ]
     },
     "execution_count": 107,
     "metadata": {},
     "output_type": "execute_result"
    }
   ],
   "source": [
    "np.mod(101,10)"
   ]
  },
  {
   "cell_type": "code",
   "execution_count": 115,
   "metadata": {
    "collapsed": false,
    "deletable": true,
    "editable": true
   },
   "outputs": [
    {
     "name": "stdout",
     "output_type": "stream",
     "text": [
      "[3 2 1]\n"
     ]
    }
   ],
   "source": [
    "a = (1,2,3)\n",
    "print np.random.choice(a, size = 3, replace=False)\n"
   ]
  },
  {
   "cell_type": "code",
   "execution_count": null,
   "metadata": {
    "collapsed": false,
    "deletable": true,
    "editable": true
   },
   "outputs": [],
   "source": []
  }
 ],
 "metadata": {
  "kernelspec": {
   "display_name": "Python 3",
   "language": "python",
   "name": "python3"
  },
  "language_info": {
   "codemirror_mode": {
    "name": "ipython",
    "version": 3
   },
   "file_extension": ".py",
   "mimetype": "text/x-python",
   "name": "python",
   "nbconvert_exporter": "python",
   "pygments_lexer": "ipython3",
   "version": "3.6.0"
  }
 },
 "nbformat": 4,
 "nbformat_minor": 0
}
