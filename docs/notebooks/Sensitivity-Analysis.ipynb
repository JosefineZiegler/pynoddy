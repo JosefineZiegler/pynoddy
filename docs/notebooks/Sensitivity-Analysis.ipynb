{
 "cells": [
  {
   "cell_type": "markdown",
   "metadata": {},
   "source": [
    "# Sensitivity Analysis\n",
    "\n",
    "Test here: (local) sensitivity analysis of kinematic parameters with respect to a defined objective function. Aim: test how sensitivity the resulting model is to uncertainties in kinematic parameters to:\n",
    "\n",
    "1. Evaluate which the most important parameters are, and to\n",
    "2. Determine which parameters could, in principle, be inverted with suitable information.\n",
    "\n",
    "## Theory: local sensitivity analysis\n",
    "\n",
    "Basic considerations:\n",
    "\n",
    "- parameter vector $\\vec{p}$\n",
    "- residual vector $\\vec{r}$\n",
    "- calculated values at observation points $\\vec{z}$\n",
    "- Jacobian matrix $J_{ij} = \\frac{\\partial \\vec{z}}{\\partial \\vec{p}}$\n",
    "\n",
    "Numerical estimation of Jacobian matrix with central difference scheme (see Finsterle):\n",
    "\n",
    "$$J_{ij} = \\frac{\\partial z_i}{\\partial p_j} \\approx \\frac{z_i(\\vec{p}; p_j + \\delta p_j) - z_i(\\vec{p};p_j - \\delta p_j)}{2 \\delta p_j}$$\n",
    "\n",
    "where $\\delta p_j$ is a small perturbation of parameter $j$, often as a fraction of the value.\n",
    "\n",
    "\n",
    "## Defining the responses $\\vec{z}$\n",
    "\n",
    "A meaningful sensitivity analysis obviously depends on the definition of a suitable response vector $\\vec{z}$. Ideally, these responses are related to actual observations. In our case, we first want to determine how sensitive a kinematic structural geological model is with respect to uncertainties in the kinematic parameters. We therefore need calculatable measures that describe variations of the model.\n",
    "\n",
    "As a first-order assumption, we will use a notation of a stratigraphic distance for discrete subsections of the model, for example in single voxets for the calculated model. We define distance $d$ of a subset $\\omega$ as the (discrete) difference between the (discrete) stratigraphic value of an ideal model, $\\hat{s}$, to the value of a model realisation $s_i$:\n",
    "\n",
    "$$d(\\omega) = \\hat{s} - s_i$$\n",
    "\n",
    "In the first example, we will consider only one response: the overall sum of stratigraphic distances for a model realisation $r$ of all  subsets (= voxets, in the practical sense), scaled by the number of subsets (for a subsequent comparison of model discretisations):\n",
    "\n",
    "$$D_r = \\frac{1}{n} \\sum_{i=1}^n d(\\omega_i)$$\n",
    "\n",
    "\n",
    "Note: mistake before: not considering distances at single nodes but only the sum - this lead to \"zero-difference\" for simple translation! Now: consider more realistic objective function, squared distance:\n",
    "\n",
    "$$r = \\sqrt{\\sum_i (z_{i calc} - z_{i ref})^2}$$\n"
   ]
  },
  {
   "cell_type": "code",
   "execution_count": 7,
   "metadata": {
    "collapsed": false
   },
   "outputs": [
    {
     "data": {
      "text/html": [
       "<link href='http://fonts.googleapis.com/css?family=Alegreya+Sans:100,300,400,500,700,800,900,100italic,300italic,400italic,500italic,700italic,800italic,900italic' rel='stylesheet' type='text/css'>\n",
       "<link href='http://fonts.googleapis.com/css?family=Arvo:400,700,400italic' rel='stylesheet' type='text/css'>\n",
       "<link href='http://fonts.googleapis.com/css?family=PT+Mono' rel='stylesheet' type='text/css'>\n",
       "<link href='http://fonts.googleapis.com/css?family=Shadows+Into+Light' rel='stylesheet' type='text/css'>\n",
       "<link rel=\"stylesheet\" type=\"text/css\" href=\"http://fonts.googleapis.com/css?family=Tangerine\">\n",
       "<link href='http://fonts.googleapis.com/css?family=Philosopher:400,700,400italic,700italic' rel='stylesheet' type='text/css'>\n",
       "<link href='http://fonts.googleapis.com/css?family=Libre+Baskerville:400,400italic' rel='stylesheet' type='text/css'>\n",
       "<link href='http://fonts.googleapis.com/css?family=Lora:400,400italic' rel='stylesheet' type='text/css'>\n",
       "<link href='http://fonts.googleapis.com/css?family=Karla:400,400italic' rel='stylesheet' type='text/css'>\n",
       "\n",
       "<style>\n",
       "\n",
       "@font-face {\n",
       "    font-family: \"Computer Modern\";\n",
       "    src: url('http://mirrors.ctan.org/fonts/cm-unicode/fonts/otf/cmunss.otf');\n",
       "}\n",
       "\n",
       "#notebook_panel { /* main background */\n",
       "    background: #888;\n",
       "    color: #f6f6f6;\n",
       "}\n",
       "\n",
       "div.cell { /* set cell width to about 80 chars */\n",
       "    width: 800px;\n",
       "}\n",
       "\n",
       "div #notebook { /* centre the content */\n",
       "    background: #fff; /* white background for content */\n",
       "    width: 1000px;\n",
       "    margin: auto;\n",
       "    padding-left: 1em;\n",
       "}\n",
       "\n",
       "#notebook li { /* More space between bullet points */\n",
       "margin-top:0.8em;\n",
       "}\n",
       "\n",
       "/* draw border around running cells */\n",
       "div.cell.border-box-sizing.code_cell.running { \n",
       "    border: 3px solid #111;\n",
       "}\n",
       "\n",
       "/* Put a solid color box around each cell and its output, visually linking them together */\n",
       "div.cell.code_cell {\n",
       "    background: #ddd;  /* rgba(230,230,230,1.0);  */\n",
       "    border-radius: 10px; /* rounded borders */\n",
       "    width: 900px;\n",
       "    padding: 1em;\n",
       "    margin-top: 1em;\n",
       "}\n",
       "\n",
       "div.text_cell_render{\n",
       "    font-family: 'Arvo' sans-serif;\n",
       "    line-height: 130%;\n",
       "    font-size: 115%;\n",
       "    width:700px;\n",
       "    margin-left:auto;\n",
       "    margin-right:auto;\n",
       "}\n",
       "\n",
       "\n",
       "/* Formatting for header cells */\n",
       ".text_cell_render h1 {\n",
       "    font-family: 'Alegreya Sans', sans-serif;\n",
       "    /* font-family: 'Tangerine', serif; */\n",
       "    /* font-family: 'Libre Baskerville', serif; */\n",
       "    /* font-family: 'Karla', sans-serif;\n",
       "    /* font-family: 'Lora', serif; */\n",
       "    font-size: 50px;\n",
       "    text-align: center;\n",
       "    /* font-style: italic; */\n",
       "    font-weight: 400;\n",
       "    /* font-size: 40pt; */\n",
       "    /* text-shadow: 4px 4px 4px #aaa; */\n",
       "    line-height: 120%;\n",
       "    color: rgb(12,85,97);\n",
       "    margin-bottom: .5em;\n",
       "    margin-top: 0.1em;\n",
       "    display: block;\n",
       "}\t\n",
       ".text_cell_render h2 {\n",
       "    /* font-family: 'Arial', serif; */\n",
       "    /* font-family: 'Lora', serif; */\n",
       "    font-family: 'Alegreya Sans', sans-serif;\n",
       "    font-weight: 700;\n",
       "    font-size: 24pt;\n",
       "    line-height: 100%;\n",
       "    /* color: rgb(171,165,131); */\n",
       "    color: rgb(12,85,97);\n",
       "    margin-bottom: 0.1em;\n",
       "    margin-top: 0.1em;\n",
       "    display: block;\n",
       "}\t\n",
       "\n",
       ".text_cell_render h3 {\n",
       "    font-family: 'Arial', serif;\n",
       "    margin-top:12px;\n",
       "    margin-bottom: 3px;\n",
       "    font-style: italic;\n",
       "    color: rgb(95,92,72);\n",
       "}\n",
       "\n",
       ".text_cell_render h4 {\n",
       "    font-family: 'Arial', serif;\n",
       "}\n",
       "\n",
       ".text_cell_render h5 {\n",
       "    font-family: 'Alegreya Sans', sans-serif;\n",
       "    font-weight: 300;\n",
       "    font-size: 16pt;\n",
       "    color: grey;\n",
       "    font-style: italic;\n",
       "    margin-bottom: .1em;\n",
       "    margin-top: 0.1em;\n",
       "    display: block;\n",
       "}\n",
       "\n",
       ".text_cell_render h6 {\n",
       "    font-family: 'PT Mono', sans-serif;\n",
       "    font-weight: 300;\n",
       "    font-size: 10pt;\n",
       "    color: grey;\n",
       "    margin-bottom: 1px;\n",
       "    margin-top: 1px;\n",
       "}\n",
       "\n",
       ".CodeMirror{\n",
       "        font-family: \"PT Mono\";\n",
       "        font-size: 100%;\n",
       "}\n",
       "\n",
       "</style>\n"
      ],
      "text/plain": [
       "<IPython.core.display.HTML object>"
      ]
     },
     "execution_count": 7,
     "metadata": {},
     "output_type": "execute_result"
    }
   ],
   "source": [
    "from IPython.core.display import HTML\n",
    "css_file = 'pynoddy.css'\n",
    "HTML(open(css_file, \"r\").read())"
   ]
  },
  {
   "cell_type": "code",
   "execution_count": 8,
   "metadata": {
    "collapsed": true
   },
   "outputs": [],
   "source": [
    "%matplotlib inline"
   ]
  },
  {
   "cell_type": "markdown",
   "metadata": {},
   "source": [
    "# Setting up the base model\n",
    "\n",
    "For a first test: use simple two-fault model from paper"
   ]
  },
  {
   "cell_type": "code",
   "execution_count": 16,
   "metadata": {
    "collapsed": false
   },
   "outputs": [],
   "source": [
    "import sys, os\n",
    "import matplotlib.pyplot as plt\n",
    "import numpy as np\n",
    "# adjust some settings for matplotlib\n",
    "from matplotlib import rcParams\n",
    "# print rcParams\n",
    "rcParams['font.size'] = 15\n",
    "# determine path of repository to set paths corretly below\n",
    "os.chdir(r'/Users/flow/git/pynoddy/docs/notebooks/')\n",
    "repo_path = os.path.realpath('../..')\n",
    "import pynoddy.history\n",
    "import pynoddy.events\n",
    "import pynoddy.output"
   ]
  },
  {
   "cell_type": "code",
   "execution_count": 10,
   "metadata": {
    "collapsed": false
   },
   "outputs": [],
   "source": [
    "reload(pynoddy.history)\n",
    "reload(pynoddy.events)\n",
    "nm = pynoddy.history.NoddyHistory()\n",
    "# add stratigraphy\n",
    "strati_options = {'num_layers' : 8,\n",
    "                  'layer_names' : ['layer 1', 'layer 2', 'layer 3', 'layer 4', 'layer 5', 'layer 6', 'layer 7', 'layer 8'],\n",
    "                  'layer_thickness' : [1500, 500, 500, 500, 500, 500, 500, 500]}\n",
    "nm.add_event('stratigraphy', strati_options )\n",
    "\n",
    "# The following options define the fault geometry:\n",
    "fault_options = {'name' : 'Fault_W',\n",
    "                 'pos' : (4000, 3500, 5000),\n",
    "                 'dip_dir' : 90,\n",
    "                 'dip' : 60,\n",
    "                 'slip' : 1000}\n",
    "\n",
    "nm.add_event('fault', fault_options)\n",
    "# The following options define the fault geometry:\n",
    "fault_options = {'name' : 'Fault_E',\n",
    "                 'pos' : (6000, 3500, 5000),\n",
    "                 'dip_dir' : 270,\n",
    "                 'dip' : 60,\n",
    "                 'slip' : 1000}\n",
    "\n",
    "nm.add_event('fault', fault_options)\n",
    "history = \"two_faults_sensi.his\"\n",
    "nm.write_history(history)"
   ]
  },
  {
   "cell_type": "code",
   "execution_count": 11,
   "metadata": {
    "collapsed": false
   },
   "outputs": [
    {
     "data": {
      "text/plain": [
       "''"
      ]
     },
     "execution_count": 11,
     "metadata": {},
     "output_type": "execute_result"
    }
   ],
   "source": [
    "output_name = \"two_faults_sensi_out\"\n",
    "# Compute the model\n",
    "pynoddy.compute_model(history, output_name) \n"
   ]
  },
  {
   "cell_type": "code",
   "execution_count": 12,
   "metadata": {
    "collapsed": false
   },
   "outputs": [
    {
     "data": {
      "image/png": "[encoded data removed]",
      "text/plain": [
       "<matplotlib.figure.Figure at 0x10d40abd0>"
      ]
     },
     "metadata": {},
     "output_type": "display_data"
    }
   ],
   "source": [
    "# Plot output\n",
    "nout = pynoddy.output.NoddyOutput(output_name)\n",
    "nout.plot_section('y', layer_labels = strati_options['layer_names'][::-1], \n",
    "                  colorbar = True, title=\"\",\n",
    "                  savefig = False)"
   ]
  },
  {
   "cell_type": "markdown",
   "metadata": {},
   "source": [
    "## Define parameter uncertainties\n",
    "\n",
    "We will start with a sensitivity analysis for the parameters of the fault events. "
   ]
  },
  {
   "cell_type": "code",
   "execution_count": 17,
   "metadata": {
    "collapsed": false
   },
   "outputs": [],
   "source": [
    "H1 = pynoddy.history.NoddyHistory(history)\n",
    "# get the original dip of the fault\n",
    "dip_ori = H1.events[3].properties['Dip']\n",
    "# dip_ori1 = H1.events[2].properties['Dip']\n",
    "# add 10 degrees to dip\n",
    "add_dip = -20\n",
    "dip_new = dip_ori + add_dip\n",
    "# dip_new1 = dip_ori1 + add_dip\n",
    "\n",
    "# and assign back to properties dictionary:\n",
    "H1.events[3].properties['Dip'] = dip_new\n",
    "\n"
   ]
  },
  {
   "cell_type": "code",
   "execution_count": 18,
   "metadata": {
    "collapsed": false
   },
   "outputs": [
    {
     "data": {
      "image/png": "[encoded data removed]",
      "text/plain": [
       "<matplotlib.figure.Figure at 0x10ed5fbd0>"
      ]
     },
     "metadata": {},
     "output_type": "display_data"
    }
   ],
   "source": [
    "reload(pynoddy.output)\n",
    "new_history = \"sensi_test_dip_changed.his\"\n",
    "new_output = \"sensi_test_dip_changed_out\"\n",
    "H1.write_history(new_history)\n",
    "pynoddy.compute_model(new_history, new_output)\n",
    "# load output from both models\n",
    "NO1 = pynoddy.output.NoddyOutput(output_name)\n",
    "NO2 = pynoddy.output.NoddyOutput(new_output)\n",
    "\n",
    "# create basic figure layout\n",
    "fig = plt.figure(figsize = (15,5))\n",
    "ax1 = fig.add_subplot(121)\n",
    "ax2 = fig.add_subplot(122)\n",
    "NO1.plot_section('y', position=0, ax = ax1, colorbar=False, title=\"Dip = %.0f\" % dip_ori)\n",
    "NO2.plot_section('y', position=0, ax = ax2, colorbar=False, title=\"Dip = %.0f\" % dip_new)\n",
    "\n",
    "plt.show()\n",
    "\n"
   ]
  },
  {
   "cell_type": "markdown",
   "metadata": {},
   "source": [
    "## Calculate total stratigraphic distance\n"
   ]
  },
  {
   "cell_type": "code",
   "execution_count": 21,
   "metadata": {
    "collapsed": false
   },
   "outputs": [
    {
     "name": "stdout",
     "output_type": "stream",
     "text": [
      "5.56205897128\n"
     ]
    }
   ],
   "source": [
    "# def determine_strati_diff(NO1, NO2):\n",
    "#     \"\"\"calculate total stratigraphic distance between two models\"\"\"\n",
    "#     return np.sum(NO1.block - NO2.block) / float(len(NO1.block))\n",
    "\n",
    "def determine_strati_diff(NO1, NO2):\n",
    "    \"\"\"calculate total stratigraphic distance between two models\"\"\"\n",
    "    return np.sqrt(np.sum((NO1.block - NO2.block)**2)) / float(len(NO1.block))\n",
    "\n",
    "\n",
    "\n",
    "diff = determine_strati_diff(NO1, NO2)\n",
    "print(diff)"
   ]
  },
  {
   "cell_type": "markdown",
   "metadata": {},
   "source": [
    "## Function to modify parameters\n",
    "\n",
    "Multiple event parameters can be changed directly with the function `change_event_params`, which takes a dictionarly of events and parameters with according changes relative to the defined parameters. Here a brief example:"
   ]
  },
  {
   "cell_type": "code",
   "execution_count": 23,
   "metadata": {
    "collapsed": false
   },
   "outputs": [],
   "source": [
    "# set parameter changes in dictionary\n",
    "\n",
    "changes_fault_1 = {'Dip' : -20}\n",
    "changes_fault_2 = {'Dip' : -20}\n",
    "param_changes = {2 : changes_fault_1,\n",
    "                 3 : changes_fault_2}"
   ]
  },
  {
   "cell_type": "code",
   "execution_count": 24,
   "metadata": {
    "collapsed": false
   },
   "outputs": [],
   "source": [
    "reload(pynoddy.history)\n",
    "H2 = pynoddy.history.NoddyHistory(history)\n",
    "H2.change_event_params(param_changes)"
   ]
  },
  {
   "cell_type": "code",
   "execution_count": 25,
   "metadata": {
    "collapsed": false
   },
   "outputs": [
    {
     "data": {
      "image/png": "[encoded data removed]",
      "text/plain": [
       "<matplotlib.figure.Figure at 0x10d424390>"
      ]
     },
     "metadata": {},
     "output_type": "display_data"
    }
   ],
   "source": [
    "new_history = \"param_dict_changes.his\"\n",
    "new_output = \"param_dict_changes_out\"\n",
    "H2.write_history(new_history)\n",
    "pynoddy.compute_model(new_history, new_output)\n",
    "# load output from both models\n",
    "NO1 = pynoddy.output.NoddyOutput(output_name)\n",
    "NO2 = pynoddy.output.NoddyOutput(new_output)\n",
    "\n",
    "# create basic figure layout\n",
    "fig = plt.figure(figsize = (15,5))\n",
    "ax1 = fig.add_subplot(121)\n",
    "ax2 = fig.add_subplot(122)\n",
    "NO1.plot_section('y', position=0, ax = ax1, colorbar=False, title=\"Original Model\")\n",
    "NO2.plot_section('y', position=0, ax = ax2, colorbar=False, title=\"Changed Model\")\n",
    "\n",
    "plt.show()"
   ]
  },
  {
   "cell_type": "markdown",
   "metadata": {},
   "source": [
    "## Full sensitivity analysis\n",
    "\n",
    "Perform now a full sensitivity analysis for all defined parameters and analyse the output matrix. For a better overview, we first create a function to perform the sensitivity analysis:"
   ]
  },
  {
   "cell_type": "code",
   "execution_count": 43,
   "metadata": {
    "collapsed": false
   },
   "outputs": [],
   "source": [
    "import copy\n",
    "new_history = \"sensi_tmp.his\"\n",
    "new_output = \"sensi_out\"\n",
    "def noddy_sensitivity(history_filename, param_change_vals):\n",
    "    \"\"\"Perform noddy sensitivity analysis for a model\"\"\"\n",
    "    param_list = [] # list to store parameters for later analysis\n",
    "    distances = [] # list to store calcualted distances\n",
    "    # Step 1:\n",
    "    # create new parameter list to change model\n",
    "    for event_id, event_dict in param_change_vals.items(): # iterate over events\n",
    "        for key, val in event_dict.items(): # iterate over all properties separately\n",
    "            changes_list = dict()\n",
    "            changes_list[event_id] = dict()\n",
    "            param_list.append(\"event_%d_property_%s\" % (event_id, key))\n",
    "            for i in range(2):\n",
    "                # calculate positive and negative values\n",
    "                his = pynoddy.history.NoddyHistory(history_filename)\n",
    "                if i == 0:\n",
    "                    changes_list[event_id][key] = val\n",
    "                    # set changes\n",
    "                    his.change_event_params(changes_list)\n",
    "                    # save and calculate model\n",
    "                    his.write_history(new_history)\n",
    "                    pynoddy.compute_model(new_history, new_output)\n",
    "                    # open output and calculate distance\n",
    "                    NO_tmp = pynoddy.output.NoddyOutput(new_output)\n",
    "                    dist_pos = determine_strati_diff(NO1, NO_tmp)\n",
    "                    NO_tmp.plot_section('y', position = 0, colorbar = False, title = \"Dist: %.2f\" % dist_pos,\n",
    "                                        savefig = True, \n",
    "                                        fig_filename = \"event_%d_property_%s_val_%d.png\" % (event_id, key,val))\n",
    "                if i == 1:\n",
    "                    changes_list[event_id][key] = -val\n",
    "                    his.change_event_params(changes_list)\n",
    "                    # save and calculate model\n",
    "                    his.write_history(new_history)\n",
    "                    pynoddy.compute_model(new_history, new_output)\n",
    "                    # open output and calculate distance\n",
    "                    NO_tmp = pynoddy.output.NoddyOutput(new_output)\n",
    "                    dist_neg = determine_strati_diff(NO1, NO_tmp)\n",
    "                    NO_tmp.plot_section('y', position=0, colorbar=False, title=\"Dist: %.2f\" % dist_neg,\n",
    "                                        savefig=True, \n",
    "                                        fig_filename=\"event_%d_property_%s_val_%d.png\" % (event_id, key,val))\n",
    "            # calculate central difference\n",
    "            central_diff = (dist_pos + dist_neg) / (2.)\n",
    "            distances.append(central_diff)\n",
    "    return param_list, distances\n",
    "\n",
    "            "
   ]
  },
  {
   "cell_type": "markdown",
   "metadata": {},
   "source": [
    "As a next step, we define the parameter ranges for the local sensitivity analysis (i.e. the $\\delta p_j$ from the theoretical description above): "
   ]
  },
  {
   "cell_type": "code",
   "execution_count": 44,
   "metadata": {
    "collapsed": false
   },
   "outputs": [],
   "source": [
    "changes_fault_1 = {'Dip' : 1.5,\n",
    "                   'Dip Direction' : 10,\n",
    "                   'Slip': 100.0,\n",
    "                   'X': 500.0}\n",
    "changes_fault_2 = {'Dip' : 1.5,\n",
    "                   'Dip Direction' : 10,\n",
    "                   'Slip': 100.0,\n",
    "                   'X': 500.0}\n",
    "param_changes = {2 : changes_fault_1,\n",
    "                 3 : changes_fault_2}"
   ]
  },
  {
   "cell_type": "markdown",
   "metadata": {},
   "source": [
    "And now, we perform the local sensitivity analysis:"
   ]
  },
  {
   "cell_type": "code",
   "execution_count": null,
   "metadata": {
    "collapsed": false
   },
   "outputs": [],
   "source": [
    "param_list_1, distances = noddy_sensitivity(history, param_changes)"
   ]
  },
  {
   "cell_type": "markdown",
   "metadata": {},
   "source": [
    "The function passes back a list of the changed parameters and the calculated distances according to this change. Let's have a look at the results:"
   ]
  },
  {
   "cell_type": "code",
   "execution_count": 51,
   "metadata": {
    "collapsed": false
   },
   "outputs": [
    {
     "name": "stdout",
     "output_type": "stream",
     "text": [
      "event_2_property_X \t\t 2.716228\n",
      "event_2_property_Dip \t\t 1.410039\n",
      "event_2_property_Dip Direction \t\t 2.133553\n",
      "event_2_property_Slip \t\t 1.824993\n",
      "event_3_property_X \t\t 3.323528\n",
      "event_3_property_Dip \t\t 1.644589\n",
      "event_3_property_Dip Direction \t\t 2.606573\n",
      "event_3_property_Slip \t\t 1.930455\n"
     ]
    }
   ],
   "source": [
    "for p,d in zip(param_list_1, distances):\n",
    "    print \"%s \\t\\t %f\" % (p, d)"
   ]
  },
  {
   "cell_type": "markdown",
   "metadata": {},
   "source": [
    "Results of this local sensitivity analysis suggest that the model is most sensitive to the X-position of the fault, when we evaluate distances as simple stratigraphic id differences. Here just a bar plot for better visualisation (feel free to add proper labels):"
   ]
  },
  {
   "cell_type": "code",
   "execution_count": 47,
   "metadata": {
    "collapsed": false
   },
   "outputs": [
    {
     "data": {
      "text/plain": [
       "<Container object of 8 artists>"
      ]
     },
     "execution_count": 47,
     "metadata": {},
     "output_type": "execute_result"
    },
    {
     "data": {
      "image/png": "[encoded data removed]",
      "text/plain": [
       "<matplotlib.figure.Figure at 0x10efc6650>"
      ]
     },
     "metadata": {},
     "output_type": "display_data"
    }
   ],
   "source": [
    "d = np.array([distances])\n",
    "plt.bar(np.arange(0.6,len(distances),1.), np.array(distances[:]))"
   ]
  },
  {
   "cell_type": "markdown",
   "metadata": {},
   "source": [
    "The previous experiment showed how `pynoddy` can be used for simple scientific experiments. The sensitivity analysis itself is purely local. A better way would be to use (more) global sensitivity analysis, for example using the Morris or Sobol methods. These methods are implemented in the Python package `SALib`, and an experimental implementation of this method into `pynoddy` exists, as well (see further notebooks on repository, note: no guaranteed working, so far!)."
   ]
  }
 ],
 "metadata": {
  "kernelspec": {
   "display_name": "Python 2",
   "language": "python",
   "name": "python2"
  },
  "language_info": {
   "codemirror_mode": {
    "name": "ipython",
    "version": 2
   },
   "file_extension": ".py",
   "mimetype": "text/x-python",
   "name": "python",
   "nbconvert_exporter": "python",
   "pygments_lexer": "ipython2",
   "version": "2.7.10"
  }
 },
 "nbformat": 4,
 "nbformat_minor": 0
}
