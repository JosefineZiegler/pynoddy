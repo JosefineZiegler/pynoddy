{
 "metadata": {
  "name": "",
  "signature": "sha256:058cbb3edd7e4085c4b7dc979bf22167d99ef126594c1611dce2d4daa7bdb482"
 },
 "nbformat": 3,
 "nbformat_minor": 0,
 "worksheets": [
  {
   "cells": [
    {
     "cell_type": "code",
     "collapsed": false,
     "input": [
      "import pynoddy.experiment\n",
      "reload(pynoddy.experiment)"
     ],
     "language": "python",
     "metadata": {},
     "outputs": [
      {
       "output_type": "stream",
       "stream": "stderr",
       "text": [
        "/usr/local/Cellar/python/2.7.9/Frameworks/Python.framework/Versions/2.7/lib/python2.7/site-packages/scipy-0.15.1-py2.7-macosx-10.9-x86_64.egg/scipy/stats/_continuous_distns.py:3959: RuntimeWarning: overflow encountered in exp\n",
        "  return vonmises_cython.von_mises_cdf(kappa, x)\n",
        "/usr/local/Cellar/python/2.7.9/Frameworks/Python.framework/Versions/2.7/lib/python2.7/site-packages/scipy-0.15.1-py2.7-macosx-10.9-x86_64.egg/scipy/stats/_continuous_distns.py:3959: RuntimeWarning: invalid value encountered in divide\n",
        "  return vonmises_cython.von_mises_cdf(kappa, x)\n"
       ]
      },
      {
       "metadata": {},
       "output_type": "pyout",
       "prompt_number": 7,
       "text": [
        "<module 'pynoddy.experiment' from '/Users/flow/git/pynoddy/pynoddy/experiment/__init__.py'>"
       ]
      }
     ],
     "prompt_number": 7
    },
    {
     "cell_type": "code",
     "collapsed": false,
     "input": [
      "import os"
     ],
     "language": "python",
     "metadata": {},
     "outputs": [],
     "prompt_number": 8
    },
    {
     "cell_type": "code",
     "collapsed": false,
     "input": [
      "from pynoddy.experiment import MonteCarlo"
     ],
     "language": "python",
     "metadata": {},
     "outputs": [],
     "prompt_number": 9
    },
    {
     "cell_type": "code",
     "collapsed": false,
     "input": [
      "    \n",
      "#setup\n",
      "pynoddy.ensure_discrete_volumes = True\n",
      "\n",
      "###################################################\n",
      "#MONTE CARLO PERTURBATION OF HIS FILE EXAMPLE\n",
      "###################################################\n",
      "\n",
      "#setup working directory\n",
      "# os.chdir(r'C:\\Users\\Sam\\OneDrive\\Documents\\Masters\\Models\\Primitive\\monte carlo test')\n",
      "os.chdir(\"/Users/flow/git/pynoddy/sandbox\")\n",
      "#     his_file = \"foldUC.his\"\n",
      "his_file = \"simple_two_faults_no_gps.his\"\n",
      "#     params_file = \"foldUC_params.csv\"\n",
      "params_file = \"params.csv\"\n",
      "\n",
      "#create new MonteCarlo experiment\n",
      "mc = MonteCarlo.MonteCarlo(his_file,params_file)\n",
      "param_stats = [{'event' : 3, \n",
      "              'parameter': 'Slip',\n",
      "              'stdev': 1000.0,\n",
      "              'type': 'normal'}]\n",
      "\n",
      "mc.set_parameter_statistics(param_stats)\n",
      "\n",
      "mc.freeze()\n",
      "\n",
      "#generate 100 random perturbations using 4 separate threads (in TOPOLOGY mode)\n",
      "output_name = \"mc_out\"\n",
      "n = 10\n",
      "mc.generate_model_instances(output_name,n) # ,threads=4)\n",
      "\n"
     ],
     "language": "python",
     "metadata": {},
     "outputs": [
      {
       "output_type": "stream",
       "stream": "stdout",
       "text": [
        "Constructing out_0001... \n",
        "Changing Slip to -161.006085545\n",
        "Complete.\n",
        "Running out_0001... \n",
        "Running noddy exectuable at /Users/flow/git/pynoddy/pynoddy/../noddy/noddy(.exe)\n"
       ]
      },
      {
       "output_type": "stream",
       "stream": "stdout",
       "text": [
        "\n",
        "Complete.\n"
       ]
      },
      {
       "output_type": "stream",
       "stream": "stdout",
       "text": [
        "Constructing out_0002... \n",
        "Changing Slip to 1436.33206933\n",
        "Complete.\n",
        "Running out_0002... \n",
        "Running noddy exectuable at /Users/flow/git/pynoddy/pynoddy/../noddy/noddy(.exe)\n"
       ]
      },
      {
       "output_type": "stream",
       "stream": "stdout",
       "text": [
        "\n",
        "Complete.\n"
       ]
      },
      {
       "output_type": "stream",
       "stream": "stdout",
       "text": [
        "Constructing out_0003... \n",
        "Changing Slip to 1706.43196258\n",
        "Complete.\n",
        "Running out_0003... \n",
        "Running noddy exectuable at /Users/flow/git/pynoddy/pynoddy/../noddy/noddy(.exe)\n"
       ]
      },
      {
       "output_type": "stream",
       "stream": "stdout",
       "text": [
        "\n",
        "Complete.\n"
       ]
      },
      {
       "output_type": "stream",
       "stream": "stdout",
       "text": [
        "Constructing out_0004... \n",
        "Changing Slip to 231.414093975\n",
        "Complete.\n",
        "Running out_0004... \n",
        "Running noddy exectuable at /Users/flow/git/pynoddy/pynoddy/../noddy/noddy(.exe)\n"
       ]
      },
      {
       "output_type": "stream",
       "stream": "stdout",
       "text": [
        "\n",
        "Complete.\n"
       ]
      },
      {
       "output_type": "stream",
       "stream": "stdout",
       "text": [
        "Constructing out_0005... \n",
        "Changing Slip to 629.800365566\n",
        "Complete.\n",
        "Running out_0005... \n",
        "Running noddy exectuable at /Users/flow/git/pynoddy/pynoddy/../noddy/noddy(.exe)\n"
       ]
      },
      {
       "output_type": "stream",
       "stream": "stdout",
       "text": [
        "\n",
        "Complete.\n"
       ]
      },
      {
       "output_type": "stream",
       "stream": "stdout",
       "text": [
        "Constructing out_0006... \n",
        "Changing Slip to 728.949486394\n",
        "Complete.\n",
        "Running out_0006... \n",
        "Running noddy exectuable at /Users/flow/git/pynoddy/pynoddy/../noddy/noddy(.exe)\n"
       ]
      },
      {
       "output_type": "stream",
       "stream": "stdout",
       "text": [
        "\n",
        "Complete.\n"
       ]
      },
      {
       "output_type": "stream",
       "stream": "stdout",
       "text": [
        "Constructing out_0007... \n",
        "Changing Slip to 1822.48911171\n",
        "Complete.\n",
        "Running out_0007... \n",
        "Running noddy exectuable at /Users/flow/git/pynoddy/pynoddy/../noddy/noddy(.exe)\n"
       ]
      },
      {
       "output_type": "stream",
       "stream": "stdout",
       "text": [
        "\n",
        "Complete.\n"
       ]
      },
      {
       "output_type": "stream",
       "stream": "stdout",
       "text": [
        "Constructing out_0008... \n",
        "Changing Slip to 2522.71377844\n",
        "Complete.\n",
        "Running out_0008... \n",
        "Running noddy exectuable at /Users/flow/git/pynoddy/pynoddy/../noddy/noddy(.exe)\n"
       ]
      },
      {
       "output_type": "stream",
       "stream": "stdout",
       "text": [
        "\n",
        "Complete.\n"
       ]
      },
      {
       "output_type": "stream",
       "stream": "stdout",
       "text": [
        "Constructing out_0009... \n",
        "Changing Slip to 210.146913949\n",
        "Complete.\n",
        "Running out_0009... \n",
        "Running noddy exectuable at /Users/flow/git/pynoddy/pynoddy/../noddy/noddy(.exe)\n"
       ]
      },
      {
       "output_type": "stream",
       "stream": "stdout",
       "text": [
        "\n",
        "Complete.\n"
       ]
      },
      {
       "output_type": "stream",
       "stream": "stdout",
       "text": [
        "Constructing out_0010... \n",
        "Changing Slip to 1652.28032663\n",
        "Complete.\n",
        "Running out_0010... \n",
        "Running noddy exectuable at /Users/flow/git/pynoddy/pynoddy/../noddy/noddy(.exe)\n"
       ]
      },
      {
       "output_type": "stream",
       "stream": "stdout",
       "text": [
        "\n",
        "Complete.\n"
       ]
      },
      {
       "output_type": "stream",
       "stream": "stdout",
       "text": [
        "Writing parameter changes to parameters.csv...\n",
        "Complete.\n"
       ]
      }
     ],
     "prompt_number": 13
    },
    {
     "cell_type": "code",
     "collapsed": false,
     "input": [],
     "language": "python",
     "metadata": {},
     "outputs": [],
     "prompt_number": 31
    },
    {
     "cell_type": "code",
     "collapsed": false,
     "input": [],
     "language": "python",
     "metadata": {},
     "outputs": []
    }
   ],
   "metadata": {}
  }
 ]
}