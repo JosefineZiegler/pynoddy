{
 "metadata": {
  "name": ""
 },
 "nbformat": 3,
 "nbformat_minor": 0,
 "worksheets": [
  {
   "cells": [
    {
     "cell_type": "markdown",
     "metadata": {},
     "source": [
      "Marks Fault Uncertainty Study\n",
      "==============================\n",
      "\n",
      "We will here use the methods described before for a fully automatted uncertainty study of the two fault model. As a first step, we define some basic settings and import required python packages:"
     ]
    },
    {
     "cell_type": "code",
     "collapsed": false,
     "input": [
      "# some basic inputs and settings\n",
      "import sys, os\n",
      "import matplotlib.pyplot as plt\n",
      "# adjust some settings for matplotlib\n",
      "from matplotlib import rcParams\n",
      "# print rcParams\n",
      "rcParams['font.size'] = 15\n",
      "# determine path of repository to set paths corretly below\n",
      "os.chdir(r'/Users/Florian/git/pynoddy/docs/notebooks/')# some basic module imports\n",
      "repo_path = os.path.realpath('../..')\n",
      "\n",
      "import pynoddy\n",
      "# Change to sandbox directory to store results\n",
      "os.chdir(os.path.join(repo_path, 'sandbox'))\n",
      "\n",
      "# Path to exmaple directory in this repository\n",
      "example_directory = os.path.join(repo_path,'examples')\n",
      "# Compute noddy model for history file\n",
      "history = 'simple_two_faults.his'\n",
      "history_ori = os.path.join(example_directory, history)\n",
      "output_name = 'noddy_out'\n",
      "H1 = pynoddy.history.NoddyHistory(history_ori)\n",
      "# Before we do anything else, let's actually define the cube size here to\n",
      "# adjust the resolution for all subsequent examples\n",
      "H1.change_cube_size(100)\n",
      "# compute model - note: not strictly required, here just to ensure changed cube size\n",
      "H1.write_history(history)\n",
      "pynoddy.compute_model(history, output_name)"
     ],
     "language": "python",
     "metadata": {},
     "outputs": [],
     "prompt_number": 5
    },
    {
     "cell_type": "markdown",
     "metadata": {},
     "source": [
      "As a next step, let's load the output file and visualise the model in a cross-section:"
     ]
    },
    {
     "cell_type": "code",
     "collapsed": false,
     "input": [
      "# and now let's visualise the model:\n",
      "NO = pynoddy.output.NoddyOutput(output_name)\n",
      "NO.plot_section('x', position = 'center', title=\"Marks Fault Model\", colorbar=False)"
     ],
     "language": "python",
     "metadata": {},
     "outputs": [
      {
       "metadata": {},
       "output_type": "display_data",
       "png": "[encoded data removed]",
       "text": [
        "<matplotlib.figure.Figure at 0x10773ef50>"
       ]
      }
     ],
     "prompt_number": 8
    },
    {
     "cell_type": "markdown",
     "metadata": {},
     "source": [
      "Let's assume that we want to know the position of the fault intersections, for example because we expect a certain mineralisation process to happen at this point. Estimating the intersection of two lines from a block model can be a tricky thing, but in this case, we can simply estimate it as the point where, at a given line at depth, we swap from two possible lithologies to three, and then back from three to two again (not really a general approach, but working in this very specific case). Implemented with a little bit of numpy:\n",
      "\n"
     ]
    },
    {
     "cell_type": "code",
     "collapsed": false,
     "input": [
      "np.shape(NO.block)\n",
      "last = []\n",
      "for i in range(np.shape(NO.block)[2]):\n",
      "    line = NO.block[NO.nx/2,:,i]\n",
      "    unique_vals = np.unique(line)\n",
      "    if (len(unique_vals) == 3) and (len(last) == 2):\n",
      "        # determine switchpoint:\n",
      "        first_switch = False\n",
      "        second_switch = False\n",
      "        last_val = line[0]\n",
      "        for j, val in enumerate(line):\n",
      "            if not first_switch:\n",
      "                # find first switch point\n",
      "                if val != last_val:\n",
      "                    first_switch = True\n",
      "                    last_val = val\n",
      "                    continue\n",
      "            if first_switch and not second_switch:\n",
      "                if val != last_val:\n",
      "                    second_switch = True\n",
      "                    first_id = j\n",
      "                    last_val = val\n",
      "                    continue\n",
      "            if first_switch and second_switch:\n",
      "                # find second switch point\n",
      "                if val != last_val:\n",
      "                    second_id = j\n",
      "                    first_intersect = ((first_id + second_id)/2, i)\n",
      "                    break\n",
      "            last_val = val\n",
      "    if (len(unique_vals) == 2) and (len(last) == 3):\n",
      "        line = NO.block[NO.nx/2,:,i-1]\n",
      "        # determine switchpoint:\n",
      "        first_switch = False\n",
      "        last_val = line[0]\n",
      "        for j, val in enumerate(line):\n",
      "            if not first_switch:\n",
      "                # find first switch point\n",
      "                if val != last_val:\n",
      "                    first_switch = True\n",
      "                    last_val = val\n",
      "                    first_id = j\n",
      "                    continue\n",
      "            if first_switch:\n",
      "                if val != last_val:\n",
      "                    second_switch = True\n",
      "                    second_id = j\n",
      "                    second_intersect = ((first_id + second_id)/2, i-1)\n",
      "                    break\n",
      "            last_val = val\n",
      "        break\n",
      "\n",
      "    last = unique_vals"
     ],
     "language": "python",
     "metadata": {},
     "outputs": [],
     "prompt_number": 57
    },
    {
     "cell_type": "markdown",
     "metadata": {},
     "source": [
      "The above code is quite horrible, but at least it provides the fault intersection points. Let's check in a section plot:"
     ]
    },
    {
     "cell_type": "code",
     "collapsed": false,
     "input": [
      "fig = plt.figure(figsize=(12,5))\n",
      "ax = fig.add_subplot(111)\n",
      "NO.plot_section('x', position = 'center', title=\"Marks Fault Model with intersections\", colorbar=False, ax=ax)\n",
      "ax.plot(first_intersect[0], first_intersect[1], 'ko')\n",
      "ax.plot(second_intersect[0], second_intersect[1], 'ko')\n",
      "\n",
      "print first_intersect, second_intersect"
     ],
     "language": "python",
     "metadata": {},
     "outputs": [
      {
       "output_type": "stream",
       "stream": "stdout",
       "text": [
        "(39, 25) (36, 31)\n"
       ]
      },
      {
       "metadata": {},
       "output_type": "display_data",
       "png": "[encoded data removed]",
       "text": [
        "<matplotlib.figure.Figure at 0x107785c90>"
       ]
      }
     ],
     "prompt_number": 60
    },
    {
     "cell_type": "markdown",
     "metadata": {},
     "source": [
      "Even though the implementation is horrible, it does work... so let's have a look at the more interesting aspect: uncertainties!"
     ]
    },
    {
     "cell_type": "markdown",
     "metadata": {},
     "source": [
      "Evaluating the effect of uncertainties\n",
      "---------------------------------------\n",
      "\n",
      "\n",
      "We would like to evaluate how uncertainties in (1) the timing of the fault, and (2) the fault properties (dip, position) lead to uncertainties in the exact position of the fault intersection points."
     ]
    },
    {
     "cell_type": "code",
     "collapsed": false,
     "input": [],
     "language": "python",
     "metadata": {},
     "outputs": []
    }
   ],
   "metadata": {}
  }
 ]
}