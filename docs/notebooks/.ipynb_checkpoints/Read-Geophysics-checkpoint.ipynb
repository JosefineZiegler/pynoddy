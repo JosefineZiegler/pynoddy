{
 "metadata": {
  "name": "",
  "signature": "sha256:8e1daf4ad59df9f660bc9c0c4eae38546c4e6d085f55f476ae9881dd3991838d"
 },
 "nbformat": 3,
 "nbformat_minor": 0,
 "worksheets": [
  {
   "cells": [
    {
     "cell_type": "markdown",
     "metadata": {},
     "source": [
      "Read and Visualise Geophysical Potential-Fields\n",
      "==========\n",
      "\n",
      "Geophysical potential fields (gravity and magnetics) can be calculated directly from the generated kinematic model. A wide range of options also exists to consider effects of geological events on the relevant rock properties. We will here use pynoddy to simply and quickly test the effect of changing geological structures on the calculated geophysical response."
     ]
    },
    {
     "cell_type": "code",
     "collapsed": false,
     "input": [
      "import sys, os\n",
      "import matplotlib.pyplot as plt\n",
      "# adjust some settings for matplotlib\n",
      "from matplotlib import rcParams\n",
      "# print rcParams\n",
      "rcParams['font.size'] = 15\n",
      "# determine path of repository to set paths corretly below\n",
      "os.chdir(r'/Users/flow/git/pynoddy/docs/notebooks/')\n",
      "repo_path = os.path.realpath('../..')\n",
      "import pynoddy"
     ],
     "language": "python",
     "metadata": {},
     "outputs": [],
     "prompt_number": 1
    },
    {
     "cell_type": "markdown",
     "metadata": {},
     "source": [
      "Read history file from Virtual Explorer\n",
      "----------\n",
      "\n",
      "Many Noddy models are available on the site of the Virtual Explorer in the Structural Geophysics Atlas. We will download and use one of these models here as the base model.\n",
      "\n",
      "We start with the history file of a \"Fold and Thrust Belt\" setting stored on:\n",
      "\n",
      "`http://virtualexplorer.com.au/special/noddyatlas/ch3/ch3_5/his/nfold_thrust.his`\n",
      "\n",
      "The file can directly be downloaded and opened with pynoddy:"
     ]
    },
    {
     "cell_type": "code",
     "collapsed": false,
     "input": [
      "reload(pynoddy.history)\n",
      "his = pynoddy.history.NoddyHistory(url = \"http://virtualexplorer.com.au/special/noddyatlas/ch3/ch3_5/his/nfold_thrust.his\")"
     ],
     "language": "python",
     "metadata": {},
     "outputs": [
      {
       "output_type": "stream",
       "stream": "stdout",
       "text": [
        " STRATIGRAPHY\n",
        " FAULT\n",
        " FAULT\n",
        " FAULT\n",
        " FAULT\n",
        " FOLD\n"
       ]
      }
     ],
     "prompt_number": 2
    },
    {
     "cell_type": "code",
     "collapsed": false,
     "input": [
      "# Save to (local) file to compute and visualise model\n",
      "history_name = \"fold_thrust.his\"\n",
      "his.write_history(history_name)"
     ],
     "language": "python",
     "metadata": {},
     "outputs": [],
     "prompt_number": 3
    },
    {
     "cell_type": "code",
     "collapsed": false,
     "input": [
      "output = \"fold_thrust_out\"\n",
      "pynoddy.compute_model(history_name, output)"
     ],
     "language": "python",
     "metadata": {},
     "outputs": [],
     "prompt_number": 4
    },
    {
     "cell_type": "code",
     "collapsed": false,
     "input": [
      "# load and visualise model\n",
      "h_out = pynoddy.output.NoddyOutput(output)"
     ],
     "language": "python",
     "metadata": {},
     "outputs": [],
     "prompt_number": 5
    },
    {
     "cell_type": "code",
     "collapsed": false,
     "input": [
      "h_out.plot_section('x')"
     ],
     "language": "python",
     "metadata": {},
     "outputs": [
      {
       "metadata": {},
       "output_type": "display_data",
       "png": "[encoded data removed]",
       "text": [
        "<matplotlib.figure.Figure at 0x10c7e7450>"
       ]
      }
     ],
     "prompt_number": 6
    },
    {
     "cell_type": "code",
     "collapsed": false,
     "input": [
      "h_out.plot_section('y')"
     ],
     "language": "python",
     "metadata": {},
     "outputs": [
      {
       "metadata": {},
       "output_type": "display_data",
       "png": "[encoded data removed]",
       "text": [
        "<matplotlib.figure.Figure at 0x10c7e74d0>"
       ]
      }
     ],
     "prompt_number": 7
    },
    {
     "cell_type": "code",
     "collapsed": false,
     "input": [
      "strat = his.events[1]"
     ],
     "language": "python",
     "metadata": {},
     "outputs": [],
     "prompt_number": 8
    },
    {
     "cell_type": "code",
     "collapsed": false,
     "input": [
      "strat.event_lines"
     ],
     "language": "python",
     "metadata": {},
     "outputs": [
      {
       "metadata": {},
       "output_type": "pyout",
       "prompt_number": 9,
       "text": [
        "['Event #1\\t= STRATIGRAPHY\\n',\n",
        " '\\tNum Layers\\t= 5\\n',\n",
        " '\\tUnit Name\\t= Low\\n',\n",
        " '\\tHeight\\t= 1000\\n',\n",
        " '\\tApply Alterations\\t= ON\\n',\n",
        " '\\tDensity\\t= 2.50e+00\\n',\n",
        " '\\tAnisotropic Field\\t= 0\\n',\n",
        " '\\tMagSusX\\t= 1.00e-04\\n',\n",
        " '\\tMagSusY\\t= 0.00e+00\\n',\n",
        " '\\tMagSusZ\\t= 0.00e+00\\n',\n",
        " '\\tMagSus Dip\\t= 0.00e+00\\n',\n",
        " '\\tMagSus DipDir\\t= 0.00e+00\\n',\n",
        " '\\tMagSus Pitch\\t= 0.00e+00\\n',\n",
        " '\\tRemanent Magnetization\\t= 0\\n',\n",
        " '\\tInclination\\t=   0.00\\n',\n",
        " '\\tAngle with the Magn. North\\t=   0.00\\n',\n",
        " '\\tStrength\\t= 0.00e+00\\n',\n",
        " '\\tColor Name\\t= Color 47\\n',\n",
        " '\\tRed\\t= 0\\n',\n",
        " '\\tGreen\\t= 87\\n',\n",
        " '\\tBlue\\t= 204\\n',\n",
        " '\\tUnit Name\\t= High\\n',\n",
        " '\\tHeight\\t= 2600\\n',\n",
        " '\\tApply Alterations\\t= ON\\n',\n",
        " '\\tDensity\\t= 3.50e+00\\n',\n",
        " '\\tAnisotropic Field\\t= 0\\n',\n",
        " '\\tMagSusX\\t= 1.00e-02\\n',\n",
        " '\\tMagSusY\\t= 0.00e+00\\n',\n",
        " '\\tMagSusZ\\t= 0.00e+00\\n',\n",
        " '\\tMagSus Dip\\t= 0.00e+00\\n',\n",
        " '\\tMagSus DipDir\\t= 0.00e+00\\n',\n",
        " '\\tMagSus Pitch\\t= 0.00e+00\\n',\n",
        " '\\tRemanent Magnetization\\t= 0\\n',\n",
        " '\\tInclination\\t=   0.00\\n',\n",
        " '\\tAngle with the Magn. North\\t=   0.00\\n',\n",
        " '\\tStrength\\t= 0.00e+00\\n',\n",
        " '\\tColor Name\\t= Color 65\\n',\n",
        " '\\tRed\\t= 203\\n',\n",
        " '\\tGreen\\t= 204\\n',\n",
        " '\\tBlue\\t= 0\\n',\n",
        " '\\tUnit Name\\t= Layer 3\\n',\n",
        " '\\tHeight\\t= 3000\\n',\n",
        " '\\tApply Alterations\\t= ON\\n',\n",
        " '\\tDensity\\t= 2.50e+00\\n',\n",
        " '\\tAnisotropic Field\\t= 0\\n',\n",
        " '\\tMagSusX\\t= 1.00e-04\\n',\n",
        " '\\tMagSusY\\t= 0.00e+00\\n',\n",
        " '\\tMagSusZ\\t= 0.00e+00\\n',\n",
        " '\\tMagSus Dip\\t= 0.00e+00\\n',\n",
        " '\\tMagSus DipDir\\t= 0.00e+00\\n',\n",
        " '\\tMagSus Pitch\\t= 0.00e+00\\n',\n",
        " '\\tRemanent Magnetization\\t= 0\\n',\n",
        " '\\tInclination\\t=   0.00\\n',\n",
        " '\\tAngle with the Magn. North\\t=   0.00\\n',\n",
        " '\\tStrength\\t= 0.00e+00\\n',\n",
        " '\\tColor Name\\t= Color 66\\n',\n",
        " '\\tRed\\t= 204\\n',\n",
        " '\\tGreen\\t= 175\\n',\n",
        " '\\tBlue\\t= 0\\n',\n",
        " '\\tUnit Name\\t= Layer 3\\n',\n",
        " '\\tHeight\\t= 3200\\n',\n",
        " '\\tApply Alterations\\t= ON\\n',\n",
        " '\\tDensity\\t= 2.50e+00\\n',\n",
        " '\\tAnisotropic Field\\t= 0\\n',\n",
        " '\\tMagSusX\\t= 1.00e-04\\n',\n",
        " '\\tMagSusY\\t= 0.00e+00\\n',\n",
        " '\\tMagSusZ\\t= 0.00e+00\\n',\n",
        " '\\tMagSus Dip\\t= 0.00e+00\\n',\n",
        " '\\tMagSus DipDir\\t= 0.00e+00\\n',\n",
        " '\\tMagSus Pitch\\t= 0.00e+00\\n',\n",
        " '\\tRemanent Magnetization\\t= 0\\n',\n",
        " '\\tInclination\\t=   0.00\\n',\n",
        " '\\tAngle with the Magn. North\\t=   0.00\\n',\n",
        " '\\tStrength\\t= 0.00e+00\\n',\n",
        " '\\tColor Name\\t= Color 61\\n',\n",
        " '\\tRed\\t= 87\\n',\n",
        " '\\tGreen\\t= 204\\n',\n",
        " '\\tBlue\\t= 0\\n',\n",
        " '\\tUnit Name\\t= Low\\n',\n",
        " '\\tHeight\\t= 3400\\n',\n",
        " '\\tApply Alterations\\t= ON\\n',\n",
        " '\\tDensity\\t= 2.50e+00\\n',\n",
        " '\\tAnisotropic Field\\t= 0\\n',\n",
        " '\\tMagSusX\\t= 1.00e-04\\n',\n",
        " '\\tMagSusY\\t= 0.00e+00\\n',\n",
        " '\\tMagSusZ\\t= 0.00e+00\\n',\n",
        " '\\tMagSus Dip\\t= 0.00e+00\\n',\n",
        " '\\tMagSus DipDir\\t= 0.00e+00\\n',\n",
        " '\\tMagSus Pitch\\t= 0.00e+00\\n',\n",
        " '\\tRemanent Magnetization\\t= 0\\n',\n",
        " '\\tInclination\\t=   0.00\\n',\n",
        " '\\tAngle with the Magn. North\\t=   0.00\\n',\n",
        " '\\tStrength\\t= 0.00e+00\\n',\n",
        " '\\tColor Name\\t= Color 50\\n',\n",
        " '\\tRed\\t= 0\\n',\n",
        " '\\tGreen\\t= 174\\n',\n",
        " '\\tBlue\\t= 204\\n',\n",
        " '\\tName\\t= Strat\\n']"
       ]
      }
     ],
     "prompt_number": 9
    },
    {
     "cell_type": "code",
     "collapsed": false,
     "input": [
      "reload(pynoddy.history)\n",
      "reload(pynoddy)\n",
      "h2 = pynoddy.history.NoddyHistory(history_name)"
     ],
     "language": "python",
     "metadata": {},
     "outputs": [
      {
       "output_type": "stream",
       "stream": "stdout",
       "text": [
        " STRATIGRAPHY\n",
        " FAULT\n",
        " FAULT\n",
        " FAULT\n",
        " FAULT\n",
        " FOLD\n"
       ]
      }
     ],
     "prompt_number": 10
    },
    {
     "cell_type": "code",
     "collapsed": false,
     "input": [
      "h2.determine_model_stratigraphy()"
     ],
     "language": "python",
     "metadata": {},
     "outputs": [],
     "prompt_number": 11
    },
    {
     "cell_type": "code",
     "collapsed": false,
     "input": [
      "h2.model_stratigraphy"
     ],
     "language": "python",
     "metadata": {},
     "outputs": [
      {
       "metadata": {},
       "output_type": "pyout",
       "prompt_number": 12,
       "text": [
        "[' Low', ' High', ' Layer 3', ' Layer 3', ' Low']"
       ]
      }
     ],
     "prompt_number": 12
    },
    {
     "cell_type": "code",
     "collapsed": false,
     "input": [
      "strati = h2.events[1]"
     ],
     "language": "python",
     "metadata": {},
     "outputs": [],
     "prompt_number": 14
    },
    {
     "cell_type": "code",
     "collapsed": false,
     "input": [],
     "language": "python",
     "metadata": {},
     "outputs": []
    }
   ],
   "metadata": {}
  }
 ]
}