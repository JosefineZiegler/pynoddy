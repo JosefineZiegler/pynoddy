{
 "metadata": {
  "name": ""
 },
 "nbformat": 3,
 "nbformat_minor": 0,
 "worksheets": [
  {
   "cells": [
    {
     "cell_type": "markdown",
     "metadata": {},
     "source": [
      "Change Noddy input file and recompute model\n",
      "==========\n",
      "\n",
      "Visualising output of a Noddy model is nice, but not terribly helpful as it can be done with the GUI itself. More interesting is it to change aspects of the Noddy input (history) file with the Python module to quickly compare the effect of changes in the geological history. \n",
      "\n",
      "Implementing these changes in scripts is the first step to a more extensive uncertainty analysis, as we will see in the next section."
     ]
    },
    {
     "cell_type": "code",
     "collapsed": false,
     "input": [
      "import sys, os\n",
      "import matplotlib.pyplot as plt\n",
      "# adjust some settings for matplotlib\n",
      "from matplotlib import rcParams\n",
      "# print rcParams\n",
      "rcParams['font.size'] = 15\n",
      "# determine path of repository to set paths corretly below\n",
      "os.chdir(r'/Users/Florian/git/pynoddy/docs/notebooks/')\n",
      "repo_path = os.path.realpath('../..')"
     ],
     "language": "python",
     "metadata": {},
     "outputs": [],
     "prompt_number": 5
    },
    {
     "cell_type": "markdown",
     "metadata": {},
     "source": [
      "First step: load the history file into a Python object:"
     ]
    },
    {
     "cell_type": "code",
     "collapsed": false,
     "input": [
      "# Change to sandbox directory to store results\n",
      "os.chdir(os.path.join(repo_path, 'sandbox'))\n",
      "\n",
      "# Path to exmaple directory in this repository\n",
      "example_directory = os.path.join(repo_path,'examples')\n",
      "# Compute noddy model for history file\n",
      "history_file = 'simple_two_faults.his'\n",
      "history = os.path.join(example_directory, history_file)\n",
      "output_name = 'noddy_out'\n",
      "H1 = pynoddy.NoddyHistory(history)"
     ],
     "language": "python",
     "metadata": {},
     "outputs": [],
     "prompt_number": 6
    },
    {
     "cell_type": "markdown",
     "metadata": {},
     "source": [
      "(1) Get basic information on the model\n",
      "-----------\n",
      "\n",
      "The history file contains the entire information on the Noddy model. Some information can be accessed through the NoddyHistory object (and more will be added soon!):"
     ]
    },
    {
     "cell_type": "code",
     "collapsed": false,
     "input": [
      "pass"
     ],
     "language": "python",
     "metadata": {},
     "outputs": [],
     "prompt_number": 7
    },
    {
     "cell_type": "markdown",
     "metadata": {},
     "source": [
      "(2) Change model cube size and recompute model\n",
      "--------------\n",
      "\n",
      "The Noddy model itself is, once computed, a continuous model in 3-D space. However, for most visualisations and further calculations (e.g. geophysics), a discretised version is suitable. The discretisation (or block size) can be adapted in the history file. The according pynoddy function is change_cube_size. \n",
      "\n",
      "A simple example to change the cube size and write a new history file:"
     ]
    },
    {
     "cell_type": "code",
     "collapsed": false,
     "input": [
      "# We will first recompute the model and store results in an output file for comparison\n",
      "reload(pynoddy)\n",
      "NH1 = pynoddy.history.NoddyHistory(history)\n",
      "pynoddy.compute_model(history, output_name) \n",
      "NO1 = pynoddy.output.NoddyOutput(output_name)"
     ],
     "language": "python",
     "metadata": {},
     "outputs": [],
     "prompt_number": 9
    },
    {
     "cell_type": "code",
     "collapsed": false,
     "input": [
      "# Now: change cubsize, write to new file and recompute\n",
      "NH1.change_cube_size(100)\n",
      "# Save model to a new history file and recompute (Note: may take a while to compute now)\n",
      "new_history = \"fault_model_changed_cubesize.his\"\n",
      "new_output_name = \"noddy_out_changed_cube\"\n",
      "NH1.write_history(new_history)\n",
      "pynoddy.compute_model(new_history, new_output_name)\n",
      "NO2 = pynoddy.output.NoddyOutput(new_output_name)"
     ],
     "language": "python",
     "metadata": {},
     "outputs": [],
     "prompt_number": 11
    },
    {
     "cell_type": "markdown",
     "metadata": {},
     "source": [
      "The different cell sizes are also represented in the output files:"
     ]
    },
    {
     "cell_type": "code",
     "collapsed": false,
     "input": [
      "print(\"Model 1 contains a total of %7d cells with a blocksize %.0f m\" %\n",
      "      (NO1.n_total, NO1.delx))\n",
      "print(\"Model 2 contains a total of %7d cells with a blocksize %.0f m\" %\n",
      "      (NO2.n_total, NO2.delx)) "
     ],
     "language": "python",
     "metadata": {},
     "outputs": [
      {
       "output_type": "stream",
       "stream": "stdout",
       "text": [
        "Model 1 contains a total of   72850 cells with a blocksize 200 m\n",
        "Model 2 contains a total of  582800 cells with a blocksize 100 m\n"
       ]
      }
     ],
     "prompt_number": 12
    },
    {
     "cell_type": "markdown",
     "metadata": {},
     "source": [
      "We can compare the effect of the different model discretisations in section plots, created with the plot_section method described before. Let's get a bit more fancy here and use the functionality to pass axes to the plot_section method, and to create one figure as direct comparison:"
     ]
    },
    {
     "cell_type": "code",
     "collapsed": false,
     "input": [
      "# create basic figure layout\n",
      "fig = plt.figure(figsize = (15,5))\n",
      "ax1 = fig.add_subplot(121)\n",
      "ax2 = fig.add_subplot(122)\n",
      "NO1.plot_section('x', ax = ax1, colorbar=False, title=\"Model 1\")\n",
      "NO2.plot_section('x', ax = ax2, colorbar=False, title=\"Model 2\")\n",
      "\n",
      "plt.show()\n"
     ],
     "language": "python",
     "metadata": {},
     "outputs": [
      {
       "metadata": {},
       "output_type": "display_data",
       "png": "[encoded data removed]",
       "text": [
        "<matplotlib.figure.Figure at 0x107e15210>"
       ]
      }
     ],
     "prompt_number": 13
    },
    {
     "cell_type": "markdown",
     "metadata": {},
     "source": [
      "(3) Change aspects of geological events\n",
      "--------\n",
      "\n",
      "Ok, now from some basic settings to the things that we actually want to change: aspects of the geological history defined in Noddy. This can happen on two hierarchical levels: on the level of each single event (i.e. changing parameters relating to one event) and on the level of the events themselves (i.e. the order of the events).\n",
      "\n",
      "We will here have a look at the paramteres of the single events:"
     ]
    },
    {
     "cell_type": "code",
     "collapsed": false,
     "input": [],
     "language": "python",
     "metadata": {},
     "outputs": [],
     "prompt_number": 88
    },
    {
     "cell_type": "code",
     "collapsed": false,
     "input": [],
     "language": "python",
     "metadata": {},
     "outputs": [],
     "prompt_number": 88
    },
    {
     "cell_type": "code",
     "collapsed": false,
     "input": [],
     "language": "python",
     "metadata": {},
     "outputs": []
    }
   ],
   "metadata": {}
  }
 ]
}