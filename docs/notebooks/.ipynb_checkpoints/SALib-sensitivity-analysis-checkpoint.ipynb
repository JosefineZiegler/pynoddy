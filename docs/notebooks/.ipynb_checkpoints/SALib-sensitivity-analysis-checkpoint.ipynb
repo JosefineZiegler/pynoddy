{
 "metadata": {
  "name": "",
  "signature": "sha256:a7283ef7a962917a52e91b39c602ba27b58dff4ef4781afab8a5d06701c37c76"
 },
 "nbformat": 3,
 "nbformat_minor": 0,
 "worksheets": [
  {
   "cells": [
    {
     "cell_type": "markdown",
     "metadata": {},
     "source": [
      "# Global Sensitivity Analysis with SALib methods\n",
      "\n",
      "The Python library SALib provides several global sensitivity analysis methods (including Morris and Sobol). We will test here if (and how) these methods can be applied to sensitivity analysis of Noddy models.\n",
      "\n",
      "We will start with the simple two-fault model and then extend the analysis to the Gippsland basin model."
     ]
    },
    {
     "cell_type": "code",
     "collapsed": false,
     "input": [
      "from IPython.core.display import HTML\n",
      "css_file = 'pynoddy.css'\n",
      "HTML(open(css_file, \"r\").read())"
     ],
     "language": "python",
     "metadata": {},
     "outputs": [
      {
       "html": [
        "<link href='http://fonts.googleapis.com/css?family=Alegreya+Sans:100,300,400,500,700,800,900,100italic,300italic,400italic,500italic,700italic,800italic,900italic' rel='stylesheet' type='text/css'>\n",
        "<link href='http://fonts.googleapis.com/css?family=Arvo:400,700,400italic' rel='stylesheet' type='text/css'>\n",
        "<link href='http://fonts.googleapis.com/css?family=PT+Mono' rel='stylesheet' type='text/css'>\n",
        "<link href='http://fonts.googleapis.com/css?family=Shadows+Into+Light' rel='stylesheet' type='text/css'>\n",
        "<link rel=\"stylesheet\" type=\"text/css\" href=\"http://fonts.googleapis.com/css?family=Tangerine\">\n",
        "<link href='http://fonts.googleapis.com/css?family=Philosopher:400,700,400italic,700italic' rel='stylesheet' type='text/css'>\n",
        "<link href='http://fonts.googleapis.com/css?family=Libre+Baskerville:400,400italic' rel='stylesheet' type='text/css'>\n",
        "<link href='http://fonts.googleapis.com/css?family=Lora:400,400italic' rel='stylesheet' type='text/css'>\n",
        "<link href='http://fonts.googleapis.com/css?family=Karla:400,400italic' rel='stylesheet' type='text/css'>\n",
        "\n",
        "<style>\n",
        "\n",
        "@font-face {\n",
        "    font-family: \"Computer Modern\";\n",
        "    src: url('http://mirrors.ctan.org/fonts/cm-unicode/fonts/otf/cmunss.otf');\n",
        "}\n",
        "\n",
        "#notebook_panel { /* main background */\n",
        "    background: #888;\n",
        "    color: #f6f6f6;\n",
        "}\n",
        "\n",
        "div.cell { /* set cell width to about 80 chars */\n",
        "    width: 800px;\n",
        "}\n",
        "\n",
        "div #notebook { /* centre the content */\n",
        "    background: #fff; /* white background for content */\n",
        "    width: 1000px;\n",
        "    margin: auto;\n",
        "    padding-left: 1em;\n",
        "}\n",
        "\n",
        "#notebook li { /* More space between bullet points */\n",
        "margin-top:0.8em;\n",
        "}\n",
        "\n",
        "/* draw border around running cells */\n",
        "div.cell.border-box-sizing.code_cell.running { \n",
        "    border: 3px solid #111;\n",
        "}\n",
        "\n",
        "/* Put a solid color box around each cell and its output, visually linking them together */\n",
        "div.cell.code_cell {\n",
        "    background: #ddd;  /* rgba(230,230,230,1.0);  */\n",
        "    border-radius: 10px; /* rounded borders */\n",
        "    width: 900px;\n",
        "    padding: 1em;\n",
        "    margin-top: 1em;\n",
        "}\n",
        "\n",
        "div.text_cell_render{\n",
        "    font-family: 'Arvo' sans-serif;\n",
        "    line-height: 130%;\n",
        "    font-size: 115%;\n",
        "    width:700px;\n",
        "    margin-left:auto;\n",
        "    margin-right:auto;\n",
        "}\n",
        "\n",
        "\n",
        "/* Formatting for header cells */\n",
        ".text_cell_render h1 {\n",
        "    font-family: 'Alegreya Sans', sans-serif;\n",
        "    /* font-family: 'Tangerine', serif; */\n",
        "    /* font-family: 'Libre Baskerville', serif; */\n",
        "    /* font-family: 'Karla', sans-serif;\n",
        "    /* font-family: 'Lora', serif; */\n",
        "    font-size: 50px;\n",
        "    text-align: center;\n",
        "    /* font-style: italic; */\n",
        "    font-weight: 400;\n",
        "    /* font-size: 40pt; */\n",
        "    /* text-shadow: 4px 4px 4px #aaa; */\n",
        "    line-height: 120%;\n",
        "    color: rgb(12,85,97);\n",
        "    margin-bottom: .5em;\n",
        "    margin-top: 0.1em;\n",
        "    display: block;\n",
        "}\t\n",
        ".text_cell_render h2 {\n",
        "    /* font-family: 'Arial', serif; */\n",
        "    /* font-family: 'Lora', serif; */\n",
        "    font-family: 'Alegreya Sans', sans-serif;\n",
        "    font-weight: 700;\n",
        "    font-size: 24pt;\n",
        "    line-height: 100%;\n",
        "    /* color: rgb(171,165,131); */\n",
        "    color: rgb(12,85,97);\n",
        "    margin-bottom: 0.1em;\n",
        "    margin-top: 0.1em;\n",
        "    display: block;\n",
        "}\t\n",
        "\n",
        ".text_cell_render h3 {\n",
        "    font-family: 'Arial', serif;\n",
        "    margin-top:12px;\n",
        "    margin-bottom: 3px;\n",
        "    font-style: italic;\n",
        "    color: rgb(95,92,72);\n",
        "}\n",
        "\n",
        ".text_cell_render h4 {\n",
        "    font-family: 'Arial', serif;\n",
        "}\n",
        "\n",
        ".text_cell_render h5 {\n",
        "    font-family: 'Alegreya Sans', sans-serif;\n",
        "    font-weight: 300;\n",
        "    font-size: 16pt;\n",
        "    color: grey;\n",
        "    font-style: italic;\n",
        "    margin-bottom: .1em;\n",
        "    margin-top: 0.1em;\n",
        "    display: block;\n",
        "}\n",
        "\n",
        ".text_cell_render h6 {\n",
        "    font-family: 'PT Mono', sans-serif;\n",
        "    font-weight: 300;\n",
        "    font-size: 10pt;\n",
        "    color: grey;\n",
        "    margin-bottom: 1px;\n",
        "    margin-top: 1px;\n",
        "}\n",
        "\n",
        ".CodeMirror{\n",
        "        font-family: \"PT Mono\";\n",
        "        font-size: 100%;\n",
        "}\n",
        "\n",
        "</style>\n"
       ],
       "metadata": {},
       "output_type": "pyout",
       "prompt_number": 1,
       "text": [
        "<IPython.core.display.HTML at 0x107cde510>"
       ]
      }
     ],
     "prompt_number": 1
    },
    {
     "cell_type": "markdown",
     "metadata": {},
     "source": [
      "# Setting up the two-fault model\n",
      "\n",
      "We set up the two fault model as in the example of the local sensitivity analysis before:"
     ]
    },
    {
     "cell_type": "code",
     "collapsed": false,
     "input": [
      "import sys, os\n",
      "import matplotlib.pyplot as plt\n",
      "# adjust some settings for matplotlib\n",
      "from matplotlib import rcParams\n",
      "# print rcParams\n",
      "rcParams['font.size'] = 15\n",
      "# determine path of repository to set paths corretly below\n",
      "os.chdir(r'/Users/flow/git/pynoddy/docs/notebooks/')\n",
      "repo_path = os.path.realpath('../..')\n",
      "import pynoddy.history\n",
      "import pynoddy.events"
     ],
     "language": "python",
     "metadata": {},
     "outputs": [],
     "prompt_number": 1
    },
    {
     "cell_type": "markdown",
     "metadata": {},
     "source": [
      "## Create model with 8 layers and two faults\n",
      "\n",
      "We will first create a simple model with one stratigraphy, defining 8 layers with a thickness of 500 m, and two faults that are completely symmetrical in their properties:"
     ]
    },
    {
     "cell_type": "code",
     "collapsed": false,
     "input": [
      "reload(pynoddy.history)\n",
      "reload(pynoddy.events)\n",
      "nm = pynoddy.history.NoddyHistory()\n",
      "# add stratigraphy\n",
      "strati_options = {'num_layers' : 8,\n",
      "                  'layer_names' : ['layer 1', 'layer 2', 'layer 3', 'layer 4', 'layer 5', 'layer 6', 'layer 7', 'layer 8'],\n",
      "                  'layer_thickness' : [1500, 500, 500, 500, 500, 500, 500, 500]}\n",
      "nm.add_event('stratigraphy', strati_options )\n",
      "\n",
      "# The following options define the fault geometry:\n",
      "fault_options = {'name' : 'Fault_W',\n",
      "                 'pos' : (4000, 3500, 5000),\n",
      "                 'dip_dir' : 90,\n",
      "                 'dip' : 60,\n",
      "                 'slip' : 1000}\n",
      "\n",
      "nm.add_event('fault', fault_options)\n",
      "# The following options define the fault geometry:\n",
      "fault_options = {'name' : 'Fault_E',\n",
      "                 'pos' : (6000, 3500, 5000),\n",
      "                 'dip_dir' : 270,\n",
      "                 'dip' : 60,\n",
      "                 'slip' : 1000}\n",
      "\n",
      "nm.add_event('fault', fault_options)\n",
      "history = \"two_faults_sensi.his\"\n",
      "nm.write_history_tmp(history)"
     ],
     "language": "python",
     "metadata": {},
     "outputs": [],
     "prompt_number": 3
    },
    {
     "cell_type": "code",
     "collapsed": false,
     "input": [
      "# compute the model:\n",
      "output_name = \"two_faults_sensi_out\"\n",
      "# Compute the model\n",
      "pynoddy.compute_model(history, output_name) "
     ],
     "language": "python",
     "metadata": {},
     "outputs": [],
     "prompt_number": 4
    },
    {
     "cell_type": "code",
     "collapsed": false,
     "input": [
      "# Plot output\n",
      "reload(pynoddy.output)\n",
      "nout = pynoddy.output.NoddyOutput(output_name)\n",
      "nout.plot_section('y', layer_labels = strati_options['layer_names'][::-1], \n",
      "                  colorbar = True, title=\"\",\n",
      "                  savefig = False)"
     ],
     "language": "python",
     "metadata": {},
     "outputs": [
      {
       "metadata": {},
       "output_type": "display_data",
       "png": "[encoded data removed]",
       "text": [
        "<matplotlib.figure.Figure at 0x107cde290>"
       ]
      }
     ],
     "prompt_number": 5
    },
    {
     "cell_type": "markdown",
     "metadata": {},
     "source": [
      "## Analyse series in virtual drillhole\n",
      "\n",
      "The NoddyHistory class now has a function to evaluate geological units in a \"virtual drillhole\", i.e.: a 1-D extraction at a given position (x,y). Basically, a model is created with the same kinematic history, but a very small range (around the position x,y), and a small cube size (default: 1 m) for a \"quasi-continuous\" model export.\n",
      "\n",
      "The idea is that the data of this \"virtual drillhole\" could be used for a meaningful sensitivity analysis, as the data is almost continuous.\n",
      "\n",
      "Here an example of a 1-D export. First, we re-open the model created above and get some model information:"
     ]
    },
    {
     "cell_type": "code",
     "collapsed": false,
     "input": [
      "reload(pynoddy.history)\n",
      "nm_2 = pynoddy.history.NoddyHistory(history)\n",
      "nm_2.info()"
     ],
     "language": "python",
     "metadata": {},
     "outputs": [
      {
       "output_type": "stream",
       "stream": "stdout",
       "text": [
        " STRATIGRAPHY\n",
        " FAULT\n",
        " FAULT\n",
        "************************************************************\n",
        "\t\t\tModel Information\n",
        "************************************************************\n",
        "\n",
        "\n",
        "This model consists of 3 events:\n",
        "\t(1) - STRATIGRAPHY\n",
        "\t(2) - FAULT\n",
        "\t(3) - FAULT\n",
        "The model extent is:\n",
        "\tx - 10000.0 m\n",
        "\ty - 7000.0 m\n",
        "\tz - 5000.0 m\n",
        "Number of cells in each direction:\n",
        "\tnx = 100\n",
        "\tny = 70\n",
        "\tnz = 50\n",
        "The model origin is located at: \n",
        "\t(0.0, 0.0, 5000.0)\n",
        "The cubesize for model export is: \n",
        "\t100 m\n",
        "\n",
        "\n",
        "************************************************************\n",
        "\t\t\tMeta Data\n",
        "************************************************************\n",
        "\n",
        "\n",
        "The filename of the model is:\n",
        "\t two_faults_sensi.his\n",
        "It was last saved (if origin was a history file!) at:\n",
        "\t 22/11/2014 20:5:2\n",
        "\n"
       ]
      }
     ],
     "prompt_number": 6
    },
    {
     "cell_type": "markdown",
     "metadata": {},
     "source": [
      "Let's export the geology at a 1-D profile/ virtual borehole at the centre of the model (x = 5000, y = 3500). Note: the resolution of the exported profile can be defined with an additional keyword (resolution higher than 1 m are possible, as well):"
     ]
    },
    {
     "cell_type": "code",
     "collapsed": false,
     "input": [
      "# get 1-D line export at centre of model:\n",
      "drill_1 = nm_2.get_drillhole_data(5000, 3500, resolution = 1)"
     ],
     "language": "python",
     "metadata": {},
     "outputs": [],
     "prompt_number": 7
    },
    {
     "cell_type": "markdown",
     "metadata": {},
     "source": [
      "A plot of the data looks, so far, pretty boring:"
     ]
    },
    {
     "cell_type": "code",
     "collapsed": false,
     "input": [
      "fig = plt.figure()\n",
      "ax = fig.add_subplot(111)\n",
      "ax.plot(drill_1, np.arange(-len(drill_1),0))"
     ],
     "language": "python",
     "metadata": {},
     "outputs": [
      {
       "metadata": {},
       "output_type": "pyout",
       "prompt_number": 8,
       "text": [
        "[<matplotlib.lines.Line2D at 0x1086eb390>]"
       ]
      },
      {
       "metadata": {},
       "output_type": "display_data",
       "png": "[encoded data removed]",
       "text": [
        "<matplotlib.figure.Figure at 0x108586490>"
       ]
      }
     ],
     "prompt_number": 8
    },
    {
     "cell_type": "markdown",
     "metadata": {},
     "source": [
      "## Evaluate effect of fault uncertainties on drillhole\n",
      "\n",
      "We now assign uncertainties to the fault parameters and see how these uncertainties affect the model - at the exported drillhole 1-D profile.\n",
      "\n",
      "The history class contains a simple method to change event parameters:"
     ]
    },
    {
     "cell_type": "code",
     "collapsed": false,
     "input": [
      "# set parameter changes in dictionary\n",
      "\n",
      "# define the elemtents and values of the events to change:\n",
      "changes_fault_1 = {'Dip' : -20}\n",
      "changes_fault_2 = {'Dip' : -20}\n",
      "\n",
      "# Assign those changes to the events (note: event ids)\n",
      "param_changes = {2 : changes_fault_1,\n",
      "                 3 : changes_fault_2}\n",
      "\n",
      "# Perform changes\n",
      "nm_2.change_event_params(param_changes)"
     ],
     "language": "python",
     "metadata": {},
     "outputs": [],
     "prompt_number": 9
    },
    {
     "cell_type": "markdown",
     "metadata": {},
     "source": [
      "As the `get_drillhole_data` method automatically performs the model computation step, we can simply get the updated 1-D profile as:"
     ]
    },
    {
     "cell_type": "code",
     "collapsed": false,
     "input": [
      "drill_2 = nm_2.get_drillhole_data(5000, 3500, resolution = 1)"
     ],
     "language": "python",
     "metadata": {},
     "outputs": [],
     "prompt_number": 10
    },
    {
     "cell_type": "markdown",
     "metadata": {},
     "source": [
      "If we now compare the new profile to the previous one we can observe the changes:"
     ]
    },
    {
     "cell_type": "code",
     "collapsed": false,
     "input": [
      "fig = plt.figure()\n",
      "ax = fig.add_subplot(111)\n",
      "ax.plot(drill_1, np.arange(-len(drill_1),0), label='original model')\n",
      "ax.plot(drill_2, np.arange(-len(drill_1),0), label='changed model')\n",
      "ax.legend(loc = 'lower left')"
     ],
     "language": "python",
     "metadata": {},
     "outputs": [
      {
       "metadata": {},
       "output_type": "pyout",
       "prompt_number": 11,
       "text": [
        "<matplotlib.legend.Legend at 0x1084ca8d0>"
       ]
      },
      {
       "metadata": {},
       "output_type": "display_data",
       "png": "[encoded data removed]",
       "text": [
        "<matplotlib.figure.Figure at 0x108590110>"
       ]
      }
     ],
     "prompt_number": 11
    },
    {
     "cell_type": "markdown",
     "metadata": {},
     "source": [
      "So, as expected, we obtain a different 1-D profile. Important to note here is that the resolution of this 1-D export is a lot higher than the model we would obtain with the full 3-D export so that we can use it as a \"quasi-continuous\" representation at this one position (x,y). This aspect is important for the sensitivity analysis below.\n",
      "\n",
      "We can, however, just for the purpose of visualising the changes between these two models, also create a quick comparison of slices through the model:"
     ]
    },
    {
     "cell_type": "code",
     "collapsed": false,
     "input": [
      "# compute updated model\n",
      "updated_history = \"changed_fault_model.his\"\n",
      "updated_out = \"changed_fault_model_out\"\n",
      "nm_2.write_history(updated_history)\n",
      "pynoddy.compute_model(updated_history, updated_out)"
     ],
     "language": "python",
     "metadata": {},
     "outputs": [],
     "prompt_number": 12
    },
    {
     "cell_type": "code",
     "collapsed": false,
     "input": [
      "nout = pynoddy.output.NoddyOutput(output_name)\n",
      "nout_2 = pynoddy.output.NoddyOutput(updated_out)\n",
      "\n",
      "fig = plt.figure(figsize=(12,12))\n",
      "ax1 = fig.add_subplot(121)\n",
      "ax2 = fig.add_subplot(122)\n",
      "\n",
      "nout.plot_section('y', layer_labels = strati_options['layer_names'][::-1], \n",
      "                  colorbar = False, title=\"\", ax = ax1,\n",
      "                  savefig = False)\n",
      "\n",
      "# plot position of drillhole\n",
      "ax1.axvline(50, c='gray', lw=2)\n",
      "\n",
      "\n",
      "nout_2.plot_section('y', layer_labels = strati_options['layer_names'][::-1], \n",
      "                  colorbar = False, title=\"\", ax = ax2,\n",
      "                  savefig = False)\n",
      "\n",
      "# plot position of drillhole\n",
      "ax2.axvline(50, c='gray', lw=2)\n",
      "\n",
      "\n"
     ],
     "language": "python",
     "metadata": {},
     "outputs": [
      {
       "metadata": {},
       "output_type": "pyout",
       "prompt_number": 13,
       "text": [
        "<matplotlib.lines.Line2D at 0x1084d1450>"
       ]
      },
      {
       "metadata": {},
       "output_type": "display_data",
       "png": "[encoded data removed]",
       "text": [
        "<matplotlib.figure.Figure at 0x108704350>"
       ]
      }
     ],
     "prompt_number": 13
    },
    {
     "cell_type": "markdown",
     "metadata": {},
     "source": [
      "The difference between the two models is also obvious in the cross-section - but the resolution is a lot lower (as can be seen from the stair-step faults). However, exporting the entire model in the same resolution as the 1-D profile is prohibitive for memory and computation time reasons - so we will use the 1-D profiles from now on for uncertainty analysis and sensitivity testing.\n"
     ]
    },
    {
     "cell_type": "markdown",
     "metadata": {},
     "source": [
      "## Defining an objective function\n",
      "\n",
      "The next step is to define an objective function based on the exported 1-D profile. This is a bit tricky to do for a general case. Note, for example, that the profile of the \"original model\" only contains the layers from 8 to 5, whereas the changed model contains layers 8 to 3! \n",
      "\n",
      "So, we need a way to describe the \"distance\" between the two profiles. As a first test, let's use a \"stratigraphic distance\" where we calculate for each cell the difference between the geological layer id between the changed model and the original model, then sum the absolute values and scale by the number of cells.\n",
      "\n",
      "We define a distance function:"
     ]
    },
    {
     "cell_type": "code",
     "collapsed": false,
     "input": [
      "def distance(profile_ori, profile_changed):\n",
      "    \"\"\"Calculate the relative stratigraphic distance along a profile\"\"\"\n",
      "    return np.sum(np.abs(profile_ori - profile_changed)) / float(len(profile_ori))\n",
      "    \n",
      "    "
     ],
     "language": "python",
     "metadata": {},
     "outputs": [],
     "prompt_number": 115
    },
    {
     "cell_type": "code",
     "collapsed": false,
     "input": [
      "distance(drill_1, drill_2)"
     ],
     "language": "python",
     "metadata": {},
     "outputs": [
      {
       "metadata": {},
       "output_type": "pyout",
       "prompt_number": 15,
       "text": [
        "0.54979999999999996"
       ]
      }
     ],
     "prompt_number": 15
    },
    {
     "cell_type": "markdown",
     "metadata": {},
     "source": [
      "Note: the distance can be larger than 1 (as it should be the case!)."
     ]
    },
    {
     "cell_type": "markdown",
     "metadata": {},
     "source": [
      "## Comparing distances for increasing model differences\n",
      "\n",
      "Just to see if the distance method makes sense: let's compare distances as a couple of locations in the model - for increasing difference in fault dips on both sides.\n",
      "\n",
      "We start again with the original two-fault model:"
     ]
    },
    {
     "cell_type": "code",
     "collapsed": false,
     "input": [
      "reload(pynoddy.history)\n",
      "reload(pynoddy)\n",
      "nm_ori = pynoddy.history.NoddyHistory(history)"
     ],
     "language": "python",
     "metadata": {},
     "outputs": [
      {
       "output_type": "stream",
       "stream": "stdout",
       "text": [
        " STRATIGRAPHY\n",
        " FAULT\n",
        " FAULT\n"
       ]
      }
     ],
     "prompt_number": 16
    },
    {
     "cell_type": "markdown",
     "metadata": {},
     "source": [
      "And we now use a some more \"drillhole\" positions:"
     ]
    },
    {
     "cell_type": "code",
     "collapsed": false,
     "input": [
      "drill_ori_left = nm_ori.get_drillhole_data(2000, 3500)\n",
      "drill_ori_fault = nm_ori.get_drillhole_data(4000, 3500)\n",
      "drill_ori_centre = nm_ori.get_drillhole_data(5000, 3500)\n",
      "# drill_ori_right = nm_ori.get_drillhole_data(8000, 3500)"
     ],
     "language": "python",
     "metadata": {},
     "outputs": [],
     "prompt_number": 17
    },
    {
     "cell_type": "code",
     "collapsed": false,
     "input": [
      "fig = plt.figure()\n",
      "ax = fig.add_subplot(111)\n",
      "ax.plot(drill_ori_left, np.arange(-len(drill_ori_left),0))\n",
      "ax.plot(drill_ori_fault, np.arange(-len(drill_ori_left),0))\n",
      "ax.plot(drill_ori_centre, np.arange(-len(drill_ori_left),0))"
     ],
     "language": "python",
     "metadata": {},
     "outputs": [
      {
       "metadata": {},
       "output_type": "pyout",
       "prompt_number": 18,
       "text": [
        "[<matplotlib.lines.Line2D at 0x1059b5690>]"
       ]
      },
      {
       "metadata": {},
       "output_type": "display_data",
       "png": "[encoded data removed]",
       "text": [
        "<matplotlib.figure.Figure at 0x105952890>"
       ]
      }
     ],
     "prompt_number": 18
    },
    {
     "cell_type": "markdown",
     "metadata": {},
     "source": [
      "We now change the fault dips (to 20 degrees in increments of 1), recopmute the drillhole profiles and calculate the distances:"
     ]
    },
    {
     "cell_type": "code",
     "collapsed": false,
     "input": [
      "import copy\n",
      "nm_changed = copy.deepcopy(nm_ori)\n",
      "dist_left = [0]\n",
      "dist_fault = [0]\n",
      "dist_centre = [0]\n",
      "for i in range(20):\n",
      "    # define the elemtents and values of the events to change:\n",
      "    changes_fault_1 = {'Dip' : -1}\n",
      "    changes_fault_2 = {'Dip' : -1}\n",
      "\n",
      "    # Assign those changes to the events (note: event ids)\n",
      "    param_changes = {2 : changes_fault_1,\n",
      "                     3 : changes_fault_2}\n",
      "\n",
      "    # Perform changes\n",
      "    nm_changed.change_event_params(param_changes)    \n",
      "    \n",
      "    # Export drillhole profiles\n",
      "    drill_changed_left = nm_changed.get_drillhole_data(2000, 3500)\n",
      "    drill_changed_fault = nm_changed.get_drillhole_data(4000, 3500)\n",
      "    drill_changed_centre = nm_changed.get_drillhole_data(5000, 3500)\n",
      "    \n",
      "    # calculate distances and add to arrays\n",
      "    dist_left.append(distance(drill_ori_left, drill_changed_left))\n",
      "    dist_fault.append(distance(drill_ori_fault, drill_changed_fault))\n",
      "    dist_centre.append(distance(drill_ori_centre, drill_changed_centre))\n",
      "\n",
      "\n",
      "    \n",
      "    "
     ],
     "language": "python",
     "metadata": {},
     "outputs": [],
     "prompt_number": 42
    },
    {
     "cell_type": "code",
     "collapsed": false,
     "input": [
      "fig = plt.figure(figsize = (8,6))\n",
      "ax = fig.add_subplot(111)\n",
      "ax.plot(range(0,21), dist_centre, label = \"Centre\")\n",
      "ax.plot(range(0,21),dist_left, label = \"Left\")\n",
      "ax.plot(range(0,21),dist_fault, label = \"Fault\")\n",
      "ax.legend(loc = \"upper left\")\n",
      "ax.set_title(\"Model distance at three positions for increasing dip\")\n",
      "ax.set_xlabel(\"Dip change\")\n",
      "ax.set_ylabel(\"Mean stratigraphic distance\")\n",
      "plt.tight_layout()"
     ],
     "language": "python",
     "metadata": {},
     "outputs": [
      {
       "metadata": {},
       "output_type": "display_data",
       "png": "[encoded data removed]",
       "text": [
        "<matplotlib.figure.Figure at 0x10a430290>"
       ]
      }
     ],
     "prompt_number": 44
    },
    {
     "cell_type": "markdown",
     "metadata": {},
     "source": [
      "Distance is increasing for increasing dip, as expected - and qualitatively, it looks ok, as well: the biggest model differences occur in the range of the fault, then the central Graben, and the least changes on the flanks."
     ]
    },
    {
     "cell_type": "markdown",
     "metadata": {},
     "source": [
      "## Check distance for small dip changes\n",
      "\n",
      "We increasd above by values of 1 degree - here just a quick check if we also get a reasonable distance for very small changes, with a model resolution of 1 m:"
     ]
    },
    {
     "cell_type": "code",
     "collapsed": false,
     "input": [
      "nm_changed = copy.deepcopy(nm_ori)\n",
      "# define the elemtents and values of the events to change:\n",
      "changes_fault_1 = {'Dip' : -0.1}\n",
      "changes_fault_2 = {'Dip' : -0.1}\n",
      "\n",
      "# Assign those changes to the events (note: event ids)\n",
      "param_changes = {2 : changes_fault_1,\n",
      "                 3 : changes_fault_2}\n",
      "\n",
      "# Perform changes\n",
      "nm_changed.change_event_params(param_changes)    \n",
      "\n",
      "# Export drillhole profiles\n",
      "drill_changed_left = nm_changed.get_drillhole_data(2000, 3500)\n",
      "drill_changed_fault = nm_changed.get_drillhole_data(4000, 3500)\n",
      "drill_changed_centre = nm_changed.get_drillhole_data(5000, 3500)\n",
      "\n",
      "# calculate distances and add to arrays\n",
      "print distance(drill_ori_left, drill_changed_left)\n",
      "print distance(drill_ori_fault, drill_changed_fault)\n",
      "print distance(drill_ori_centre, drill_changed_centre)\n",
      "\n"
     ],
     "language": "python",
     "metadata": {},
     "outputs": [
      {
       "output_type": "stream",
       "stream": "stdout",
       "text": [
        "0.0014\n",
        "0.0044\n",
        "0.0056\n"
       ]
      }
     ],
     "prompt_number": 46
    },
    {
     "cell_type": "markdown",
     "metadata": {},
     "source": [
      "## Distance convergence with incresing resolution\n",
      "\n",
      "A last quick check: let's see how the drillhole resolution affects the distance calculation, i.e.: which resolution do we need to get a stable distance estimate?\n",
      "\n",
      "We will test three cases: a very small dip change (0.01 degree), a small change (0.1 degree), and a larger change (10 degree). For each of these changes, we will increase the drillhole resolution, starting from 10 m, down to 0.1 m and calculate distances for the drillhole position at the position of the fault:"
     ]
    },
    {
     "cell_type": "code",
     "collapsed": false,
     "input": [
      "# use logarithmic steps for resolution:\n",
      "resolution_inc = np.logspace(0,1,15)\n",
      "print \"Check distance for drillhole resolutions of:\"\n",
      "print resolution_inc"
     ],
     "language": "python",
     "metadata": {},
     "outputs": [
      {
       "output_type": "stream",
       "stream": "stdout",
       "text": [
        "Check distance for drillhole resolutions of:\n",
        "[  1.           1.17876863   1.38949549   1.63789371   1.93069773\n",
        "   2.27584593   2.6826958    3.16227766   3.72759372   4.39397056\n",
        "   5.17947468   6.1054023    7.19685673   8.48342898  10.        ]\n"
       ]
      }
     ],
     "prompt_number": 116
    },
    {
     "cell_type": "code",
     "collapsed": false,
     "input": [
      "distances = {}\n",
      "dips = [0.1, 1, 10]\n",
      "for dip in dips: # initialise dictionary to store results\n",
      "    distances[dip] = []\n",
      "for res in resolution_inc:\n",
      "    print res\n",
      "    for dip in dips:\n",
      "        # create a copy of the history object\n",
      "        nm_changed = copy.deepcopy(nm_ori)\n",
      "\n",
      "        # define the elemtents and values of the events to change:\n",
      "        changes_fault_1 = {'Dip' : -dip}\n",
      "        changes_fault_2 = {'Dip' : -dip}\n",
      "\n",
      "        # Assign those changes to the events (note: event ids)\n",
      "        param_changes = {2 : changes_fault_1,\n",
      "                         3 : changes_fault_2}\n",
      "\n",
      "        # Perform changes\n",
      "        nm_changed.change_event_params(param_changes)    \n",
      "\n",
      "        # Export drillhole profiles\n",
      "        # drill_changed_left = nm_changed.get_drillhole_data(2000, 3500)\n",
      "        drill_changed_fault = nm_changed.get_drillhole_data(4000, 3500, resolution = res)\n",
      "        drill_ori_fault = nm_ori.get_drillhole_data(4000, 3500, resolution = res)\n",
      "        # drill_changed_centre = nm_changed.get_drillhole_data(5000, 3500)\n",
      "\n",
      "        # calculate distances and add to arrays\n",
      "        # dist_left.append(distance(drill_ori_left, drill_changed_left))\n",
      "        distances[dip].append(distance(drill_ori_fault, drill_changed_fault))\n",
      "        # dist_centre.append(distance(drill_ori_centre, drill_changed_centre))\n",
      "\n",
      "\n"
     ],
     "language": "python",
     "metadata": {},
     "outputs": [
      {
       "output_type": "stream",
       "stream": "stdout",
       "text": [
        "1.0\n",
        "1.0"
       ]
      },
      {
       "output_type": "stream",
       "stream": "stdout",
       "text": [
        "\n",
        "1.0"
       ]
      },
      {
       "output_type": "stream",
       "stream": "stdout",
       "text": [
        "\n",
        "1.17876863479"
       ]
      },
      {
       "output_type": "stream",
       "stream": "stdout",
       "text": [
        "\n",
        "1.17876863479"
       ]
      },
      {
       "output_type": "stream",
       "stream": "stdout",
       "text": [
        "\n",
        "1.17876863479"
       ]
      },
      {
       "output_type": "stream",
       "stream": "stdout",
       "text": [
        "\n",
        "1.38949549437"
       ]
      },
      {
       "output_type": "stream",
       "stream": "stdout",
       "text": [
        "\n",
        "1.38949549437"
       ]
      },
      {
       "output_type": "stream",
       "stream": "stdout",
       "text": [
        "\n",
        "1.38949549437"
       ]
      },
      {
       "output_type": "stream",
       "stream": "stdout",
       "text": [
        "\n",
        "1.63789370695"
       ]
      },
      {
       "output_type": "stream",
       "stream": "stdout",
       "text": [
        "\n",
        "1.63789370695"
       ]
      },
      {
       "output_type": "stream",
       "stream": "stdout",
       "text": [
        "\n",
        "1.63789370695"
       ]
      },
      {
       "output_type": "stream",
       "stream": "stdout",
       "text": [
        "\n",
        "1.93069772888"
       ]
      },
      {
       "output_type": "stream",
       "stream": "stdout",
       "text": [
        "\n",
        "1.93069772888"
       ]
      },
      {
       "output_type": "stream",
       "stream": "stdout",
       "text": [
        "\n",
        "1.93069772888"
       ]
      },
      {
       "output_type": "stream",
       "stream": "stdout",
       "text": [
        "\n",
        "2.27584592607"
       ]
      },
      {
       "output_type": "stream",
       "stream": "stdout",
       "text": [
        "\n",
        "2.27584592607"
       ]
      },
      {
       "output_type": "stream",
       "stream": "stdout",
       "text": [
        "\n",
        "2.27584592607"
       ]
      },
      {
       "output_type": "stream",
       "stream": "stdout",
       "text": [
        "\n",
        "2.68269579528"
       ]
      },
      {
       "output_type": "stream",
       "stream": "stdout",
       "text": [
        "\n",
        "2.68269579528"
       ]
      },
      {
       "output_type": "stream",
       "stream": "stdout",
       "text": [
        "\n",
        "2.68269579528"
       ]
      },
      {
       "output_type": "stream",
       "stream": "stdout",
       "text": [
        "\n",
        "3.16227766017"
       ]
      },
      {
       "output_type": "stream",
       "stream": "stdout",
       "text": [
        "\n",
        "3.16227766017"
       ]
      },
      {
       "output_type": "stream",
       "stream": "stdout",
       "text": [
        "\n",
        "3.16227766017"
       ]
      },
      {
       "output_type": "stream",
       "stream": "stdout",
       "text": [
        "\n",
        "3.72759372031"
       ]
      },
      {
       "output_type": "stream",
       "stream": "stdout",
       "text": [
        "\n",
        "3.72759372031"
       ]
      },
      {
       "output_type": "stream",
       "stream": "stdout",
       "text": [
        "\n",
        "3.72759372031"
       ]
      },
      {
       "output_type": "stream",
       "stream": "stdout",
       "text": [
        "\n",
        "4.39397056076"
       ]
      },
      {
       "output_type": "stream",
       "stream": "stdout",
       "text": [
        "\n",
        "4.39397056076"
       ]
      },
      {
       "output_type": "stream",
       "stream": "stdout",
       "text": [
        "\n",
        "4.39397056076"
       ]
      },
      {
       "output_type": "stream",
       "stream": "stdout",
       "text": [
        "\n",
        "5.17947467923"
       ]
      },
      {
       "output_type": "stream",
       "stream": "stdout",
       "text": [
        "\n",
        "5.17947467923"
       ]
      },
      {
       "output_type": "stream",
       "stream": "stdout",
       "text": [
        "\n",
        "5.17947467923"
       ]
      },
      {
       "output_type": "stream",
       "stream": "stdout",
       "text": [
        "\n",
        "6.10540229659"
       ]
      },
      {
       "output_type": "stream",
       "stream": "stdout",
       "text": [
        "\n",
        "6.10540229659"
       ]
      },
      {
       "output_type": "stream",
       "stream": "stdout",
       "text": [
        "\n",
        "6.10540229659"
       ]
      },
      {
       "output_type": "stream",
       "stream": "stdout",
       "text": [
        "\n",
        "7.19685673001"
       ]
      },
      {
       "output_type": "stream",
       "stream": "stdout",
       "text": [
        "\n",
        "7.19685673001"
       ]
      },
      {
       "output_type": "stream",
       "stream": "stdout",
       "text": [
        "\n",
        "7.19685673001"
       ]
      },
      {
       "output_type": "stream",
       "stream": "stdout",
       "text": [
        "\n",
        "8.48342898244"
       ]
      },
      {
       "output_type": "stream",
       "stream": "stdout",
       "text": [
        "\n",
        "8.48342898244"
       ]
      },
      {
       "output_type": "stream",
       "stream": "stdout",
       "text": [
        "\n",
        "8.48342898244"
       ]
      },
      {
       "output_type": "stream",
       "stream": "stdout",
       "text": [
        "\n",
        "10.0"
       ]
      },
      {
       "output_type": "stream",
       "stream": "stdout",
       "text": [
        "\n",
        "10.0"
       ]
      },
      {
       "output_type": "stream",
       "stream": "stdout",
       "text": [
        "\n",
        "10.0"
       ]
      },
      {
       "output_type": "stream",
       "stream": "stdout",
       "text": [
        "\n"
       ]
      }
     ],
     "prompt_number": 117
    },
    {
     "cell_type": "code",
     "collapsed": false,
     "input": [
      "print distances"
     ],
     "language": "python",
     "metadata": {},
     "outputs": [
      {
       "output_type": "stream",
       "stream": "stdout",
       "text": [
        "{1: [0.047199999999999999, 0.05569978758555582, 0.06561023074784543, 0.020669291338582679, 0.02084942084942085, 0.053832116788321165, 0.063270777479892765, 0.049936788874841972, 0.058955223880597013, 0.055360281195079089, 0.048704663212435231, 0.047677261613691929, 0.047550432276657062, 0.052631578947368418, 0.051999999999999998], 10: [0.4824, 0.56927071040830779, 0.67055879899916593, 0.5508530183727034, 0.34633204633204634, 0.55018248175182483, 0.64664879356568361, 0.50821744627054366, 0.59999999999999998, 0.53075571177504388, 0.49948186528497407, 0.49144254278728605, 0.49567723342939479, 0.51273344651952457, 0.48399999999999999], 0.1: [0.0044000000000000003, 0.0051923530800094403, 0.0061162079510703364, 0.0022965879265091863, 0.0023166023166023165, 0.0041058394160583944, 0.0048257372654155499, 0.0037926675094816687, 0.0044776119402985077, 0.0070298769771528994, 0.0031088082901554403, 0.0048899755501222494, 0.0043227665706051877, 0.0050933786078098476, 0.0040000000000000001]}\n"
       ]
      }
     ],
     "prompt_number": 118
    },
    {
     "cell_type": "code",
     "collapsed": false,
     "input": [
      "fig = plt.figure()\n",
      "ax = fig.add_subplot(111)\n",
      "ax.loglog(resolution_inc, distances[10], label = \"10$^o$\")\n",
      "ax.loglog(resolution_inc, distances[1], label = \"0.1$^o$\")\n",
      "ax.loglog(resolution_inc, distances[0.1], label = \"0.01$^o$\")\n",
      "ax.legend()"
     ],
     "language": "python",
     "metadata": {},
     "outputs": [
      {
       "metadata": {},
       "output_type": "pyout",
       "prompt_number": 119,
       "text": [
        "<matplotlib.legend.Legend at 0x10c0a2490>"
       ]
      },
      {
       "metadata": {},
       "output_type": "display_data",
       "png": "[encoded data removed]",
       "text": [
        "<matplotlib.figure.Figure at 0x10bb0bdd0>"
       ]
      }
     ],
     "prompt_number": 119
    },
    {
     "cell_type": "markdown",
     "metadata": {},
     "source": [
      "Results are a bit odd - to do: check implementation of resolution!"
     ]
    },
    {
     "cell_type": "markdown",
     "metadata": {},
     "source": [
      "# Sensitivity analysis\n",
      "\n",
      "We have got the single parts now for the sensitivity analysis. We are now using the global sensitivity analysis methods of the Python package SALib, available on:\n",
      "\n",
      "https://github.com/jdherman/SALib\n",
      "\n",
      "As a start, we will test the sensitivity of the model at each drillhole position separately. As parameters, we will use the parameters of the fault events: dip, dip direction, and slip."
     ]
    },
    {
     "cell_type": "markdown",
     "metadata": {},
     "source": [
      "## Parameter generation with SALib\n",
      "\n",
      "\n",
      "The first step for a sensitivity analysis with SALib is to create a text file with a list of parameters and defined ranges for each parameter. Note that we define changes to the parameter (as this is the way we implement the changes with the `NoddyHistory.change_event_params` method):"
     ]
    },
    {
     "cell_type": "code",
     "collapsed": false,
     "input": [
      "param_file = \"params.txt\"\n",
      "params = \"\"\"dip_change_fault_1 -5.0 5.0\n",
      "dip_dir_change_fault_1 -5.0 5.0\n",
      "slip_change_fault_1 -100. 100.\n",
      "dip_change_fault_2 -5.0 5.0\n",
      "dip_dir_change_fault_2 -5.0 5.0\n",
      "slip_change_fault_2 -100. 100.\"\"\"\n",
      "f = open(param_file, \"w\")\n",
      "f.write(params)\n",
      "f.close()"
     ],
     "language": "python",
     "metadata": {},
     "outputs": [],
     "prompt_number": 126
    },
    {
     "cell_type": "markdown",
     "metadata": {},
     "source": [
      "Now, we create samples for these parameters. The way the samples are generated depends on the type of sensitivity analysis. We are starting with the Sobol method and create samples:"
     ]
    },
    {
     "cell_type": "code",
     "collapsed": false,
     "input": [
      "from SALib.sample import saltelli"
     ],
     "language": "python",
     "metadata": {},
     "outputs": [],
     "prompt_number": 127
    },
    {
     "cell_type": "code",
     "collapsed": false,
     "input": [
      "param_values = saltelli.sample(10, param_file, calc_second_order = True)"
     ],
     "language": "python",
     "metadata": {},
     "outputs": [],
     "prompt_number": 130
    },
    {
     "cell_type": "markdown",
     "metadata": {},
     "source": [
      "With this command, we create a 2-D array where each row contains a set of parameters for our model.\n",
      "\n",
      "The number of generated samples depends on (1) the number of input parameters, (2) the type of sensitivity analysis, and (3) the choice of calculating second-order sensitivities (for parameter correlation)."
     ]
    },
    {
     "cell_type": "markdown",
     "metadata": {},
     "source": [
      "## Running the models\n",
      "\n",
      "We now use this array and run the parameters through our model. Results are again stored in a text file. For simplicity, we will define a function that takes a parameter array, creates the new model, and calculates the distance to the original model at the position of the drillhole:"
     ]
    },
    {
     "cell_type": "code",
     "collapsed": false,
     "input": [
      "# set resolution for analysis:\n",
      "res = 1 # m\n",
      "\n",
      "# get original model distance again:\n",
      "drill_ori_fault = nm_ori.get_drillhole_data(4000, 3500, resolution = res)\n",
      "\n",
      "def change_model_with_paramter_array(param):\n",
      "    # create a copy of the history object\n",
      "    nm_changed = copy.deepcopy(nm_ori)\n",
      "\n",
      "    # define the elemtents and values of the events to change.\n",
      "    # Note: the order of parameters is as in the text file created above!\n",
      "    changes_fault_1 = {'Dip' : param[0],\n",
      "                       'Dip Direction' : param[1],\n",
      "                       'Slip' : param[2]}\n",
      "    changes_fault_2 = {'Dip' : param[3],\n",
      "                       'Dip Direction' : param[4],\n",
      "                       'Slip' : param[5]}\n",
      "\n",
      "    # Assign those changes to the events (note: event ids)\n",
      "    param_changes = {2 : changes_fault_1,\n",
      "                     3 : changes_fault_2}\n",
      "\n",
      "    # Perform changes\n",
      "    nm_changed.change_event_params(param_changes)    \n",
      "\n",
      "    # Export drillhole profiles\n",
      "    # drill_changed_left = nm_changed.get_drillhole_data(2000, 3500)\n",
      "    drill_changed_fault = nm_changed.get_drillhole_data(4000, 3500, resolution = res)\n",
      "    # drill_changed_centre = nm_changed.get_drillhole_data(5000, 3500)\n",
      "\n",
      "    # calculate and return distance:\n",
      "    return distance(drill_ori_fault, drill_changed_fault)\n",
      "\n",
      "    "
     ],
     "language": "python",
     "metadata": {},
     "outputs": [],
     "prompt_number": 145
    },
    {
     "cell_type": "markdown",
     "metadata": {},
     "source": [
      "We can calculate the distance for any parameter set defined in the model:"
     ]
    },
    {
     "cell_type": "code",
     "collapsed": false,
     "input": [
      "param_set = 8\n",
      "dist = change_model_with_paramter_array(param_values[param_set-1])\n",
      "print(\"Distance for parameter set %d: %.4f\" % (param_set,dist))"
     ],
     "language": "python",
     "metadata": {},
     "outputs": [
      {
       "output_type": "stream",
       "stream": "stdout",
       "text": [
        "Distance for parameter set 8: 0.2786\n"
       ]
      }
     ],
     "prompt_number": 152
    },
    {
     "cell_type": "markdown",
     "metadata": {},
     "source": [
      "Now, we run the entire parameter set through the model and store the results in a text file:"
     ]
    },
    {
     "cell_type": "code",
     "collapsed": false,
     "input": [
      "dist_sensi = []\n",
      "for params in param_values:\n",
      "    dist_sensi.append(change_model_with_paramter_array(params))"
     ],
     "language": "python",
     "metadata": {},
     "outputs": [],
     "prompt_number": 154
    },
    {
     "cell_type": "markdown",
     "metadata": {},
     "source": [
      "Look at sensitivities to check if we actually changed different \"quasi-continuous\" values:"
     ]
    },
    {
     "cell_type": "code",
     "collapsed": false,
     "input": [
      "plot(dist_sensi, 'o-')"
     ],
     "language": "python",
     "metadata": {},
     "outputs": [
      {
       "metadata": {},
       "output_type": "pyout",
       "prompt_number": 158,
       "text": [
        "[<matplotlib.lines.Line2D at 0x10c6c7dd0>]"
       ]
      },
      {
       "metadata": {},
       "output_type": "display_data",
       "png": "[encoded data removed]",
       "text": [
        "<matplotlib.figure.Figure at 0x10c184d10>"
       ]
      }
     ],
     "prompt_number": 158
    },
    {
     "cell_type": "markdown",
     "metadata": {},
     "source": [
      "We now save the sensitivities to a file and then perform the sobol sensitivity analysis:"
     ]
    },
    {
     "cell_type": "code",
     "collapsed": false,
     "input": [
      "# save results\n",
      "results_file = 'dist_sensi_graben.txt'\n",
      "np.savetxt(results_file, dist_sensi, delimiter=' ')"
     ],
     "language": "python",
     "metadata": {},
     "outputs": [],
     "prompt_number": 162
    },
    {
     "cell_type": "code",
     "collapsed": false,
     "input": [
      "from SALib.analyze import sobol"
     ],
     "language": "python",
     "metadata": {},
     "outputs": [],
     "prompt_number": 163
    },
    {
     "cell_type": "code",
     "collapsed": false,
     "input": [
      "Si = sobol.analyze(param_file, results_file, \n",
      "                   column = 0, \n",
      "                   conf_level = 0.95,\n",
      "                   calc_second_order = True, \n",
      "                   print_to_console=False)"
     ],
     "language": "python",
     "metadata": {},
     "outputs": [],
     "prompt_number": 164
    },
    {
     "cell_type": "code",
     "collapsed": false,
     "input": [
      "# create composite matrix for sensitivities\n",
      "n_params = 6\n",
      "comp_matrix = np.ndarray(shape = (n_params,n_params))\n",
      "for j in range(n_params):\n",
      "    for i in range(n_params):\n",
      "        if i == j:\n",
      "            comp_matrix[i,j] = Si['S1'][i]\n",
      "        else:\n",
      "            comp_matrix[i,j] = Si['S2'][i,j]\n",
      "            comp_matrix[j,i] = Si['S2'][i,j]\n",
      "            \n",
      "# print comp_matrix\n",
      "\n",
      "# define labels for figure: phi = dip, d = dip direction, s = slip, subscript = fault event\n",
      "label_names = [\"\",\"$\\phi_1$\", \"$d_1$\", \"$s_1$\", \"$\\phi_2$\", \"$d_2$\", \"$s_2$\"]\n",
      "\n",
      "# Create figure\n",
      "fig = plt.figure()\n",
      "ax = fig.add_subplot(111)\n",
      "im = ax.imshow(comp_matrix, interpolation='nearest', cmap='RdBu_r', \n",
      "               vmax = np.max(np.abs(comp_matrix)),\n",
      "                vmin = -np.max(np.abs(comp_matrix)),\n",
      "\n",
      ")\n",
      "\n",
      "ax.yaxis.set_ticks_position(\"both\")\n",
      "ax.xaxis.set_ticks_position(\"top\")\n",
      "\n",
      "ax.set_xticklabels(label_names)\n",
      "ax.set_yticklabels(label_names)\n",
      "\n",
      "# ax.set_title(\"Sensitivities\")\n",
      "\n",
      "ax.set_xlabel(\"Parameter Sensitivities\")\n",
      "\n",
      "fig.colorbar(im)\n",
      "\n",
      "plt.tight_layout()"
     ],
     "language": "python",
     "metadata": {},
     "outputs": [
      {
       "metadata": {},
       "output_type": "display_data",
       "png": "[encoded data removed]",
       "text": [
        "<matplotlib.figure.Figure at 0x113f9ce50>"
       ]
      }
     ],
     "prompt_number": 217
    },
    {
     "cell_type": "markdown",
     "metadata": {},
     "source": [
      "## Discussion: interpretation of sensitivities\n",
      "\n",
      "Let's first have a look at the actual position of the \"drillhole\" that we analyse with this sensitivity analysis:"
     ]
    },
    {
     "cell_type": "code",
     "collapsed": false,
     "input": [
      "# re-compute original model, just in case:\n",
      "ori_history = \"fault_ori.his\"\n",
      "ori_out = \"fault_ori_out\"\n",
      "nm_ori.write_history(ori_history)\n",
      "pynoddy.compute_model(ori_history, ori_out)\n",
      "\n",
      "no_ori = pynoddy.output.NoddyOutput(ori_out)"
     ],
     "language": "python",
     "metadata": {},
     "outputs": [],
     "prompt_number": 206
    },
    {
     "cell_type": "code",
     "collapsed": false,
     "input": [
      "fig = plt.figure(figsize=(8,6))\n",
      "ax1 = fig.add_subplot(111)\n",
      "\n",
      "no_ori.plot_section('y', layer_labels = strati_options['layer_names'][::-1], \n",
      "                  colorbar = False, title=\"\", ax = ax1,\n",
      "                  savefig = False)\n",
      "\n",
      "# plot position of drillhole\n",
      "ax1.axvline(40, c='gray', lw=2);"
     ],
     "language": "python",
     "metadata": {},
     "outputs": [
      {
       "metadata": {},
       "output_type": "display_data",
       "png": "[encoded data removed]",
       "text": [
        "<matplotlib.figure.Figure at 0x110ffe790>"
       ]
      }
     ],
     "prompt_number": 210
    },
    {
     "cell_type": "markdown",
     "metadata": {},
     "source": [
      "The position of the \"drillhole\" is actually at 4000 m (cell 40), coinciding with the position of the first fault:"
     ]
    },
    {
     "cell_type": "code",
     "collapsed": false,
     "input": [
      "print(\"Position of first fault:\\t%.2f\" % nm_ori.events[2].properties['X'])\n",
      "print(\"Position of second fault:\\t%.2f\" % nm_ori.events[3].properties['X'])"
     ],
     "language": "python",
     "metadata": {},
     "outputs": [
      {
       "output_type": "stream",
       "stream": "stdout",
       "text": [
        "Position of first fault:\t4000.00\n",
        "Position of second fault:\t6000.00\n"
       ]
      }
     ],
     "prompt_number": 212
    },
    {
     "cell_type": "markdown",
     "metadata": {},
     "source": [
      "So we could expect that the drillhole geology is sensitive to changes in the parameters of this fault.\n",
      "\n",
      "Still, the simulated model at this position is more sensitive to the properties of the second fault, at position 6000 (see sensitivity matrix)! This is a bit counter-intuitive, let's see what actually happens: we generate a couple of the realisations for the drawn parameter sets and visualise the cross-sections:\n",
      "\n"
     ]
    },
    {
     "cell_type": "code",
     "collapsed": false,
     "input": [
      "# create base figure:\n",
      "fig = plt.figure(figsize = (12,16))\n",
      "\n",
      "for i in range(10):\n",
      "    # create axis for figure\n",
      "    ax = fig.add_subplot(5,2,i+1)\n",
      "    param = param_values[i]\n",
      "    nm_changed = copy.deepcopy(nm_ori)\n",
      "    # read and assign parameter changes:\n",
      "    changes_fault_1 = {'Dip' : param[0],\n",
      "                       'Dip Direction' : param[1],\n",
      "                       'Slip' : param[2]}\n",
      "    changes_fault_2 = {'Dip' : param[3],\n",
      "                       'Dip Direction' : param[4],\n",
      "                       'Slip' : param[5]}\n",
      "\n",
      "    # Assign those changes to the events (note: event ids)\n",
      "    param_changes = {2 : changes_fault_1,\n",
      "                     3 : changes_fault_2}\n",
      "\n",
      "    # Perform changes\n",
      "    nm_changed.change_event_params(param_changes)  \n",
      "    \n",
      "    # compute model and create section:\n",
      "    tmp_his = \"fault_tmp.his\"\n",
      "    tmp_out = \"fault_tmp_out\"\n",
      "    nm_changed.write_history(tmp_his)\n",
      "    pynoddy.compute_model(tmp_his, tmp_out)\n",
      "    no_changed = pynoddy.output.NoddyOutput(tmp_out)\n",
      "    \n",
      "    no_changed.plot_section('y', layer_labels = strati_options['layer_names'][::-1], \n",
      "                      colorbar = False, title=\"\", ax = ax,\n",
      "                      savefig = False)\n",
      "\n",
      "    # plot position of drillhole\n",
      "    ax.axvline(40, c='gray', lw=2);    \n",
      "\n",
      "\n",
      "    "
     ],
     "language": "python",
     "metadata": {},
     "outputs": [
      {
       "metadata": {},
       "output_type": "display_data",
       "png": "[encoded data removed]",
       "text": [
        "<matplotlib.figure.Figure at 0x111ea7990>"
       ]
      }
     ],
     "prompt_number": 214
    },
    {
     "cell_type": "markdown",
     "metadata": {},
     "source": [
      "If we look at these results, it is quite good to see that the influence of the right (second) fault is more important as it affects the entire lower part of the \"drillhole\". It is also obvious that the fault dip and the fault slip play a major role (dip direction is actually quite insiginficant as the profile is taken at the center of the model where the fault position is defined). "
     ]
    },
    {
     "cell_type": "markdown",
     "metadata": {},
     "source": [
      "## Results of the analysis\n",
      "\n",
      "With these considerations, here the interpretation for the results of the sensitivity analysis:\n",
      "\n",
      "We analysed the sensitivity of the modelled geology along a 1-D profile (a virtual \"drillhole\") with respect to fault parameters at two defined fault events. A global sobol sensitivity analysis revealed that:\n",
      "\n",
      "1. The profile data is most sensitive to the dip and slip of the late (right) fault - which is initially a bit counter-intuitive as the profile is at the position of the early (left) fault.\n",
      "2. The profile is almost insensitive to the dip value of the early fault, and literally insensitive to values of dip direction and slip of the early fault.\n",
      "3. Parameter correlations (second-order effects, off-diagonal in matrix) show that the highest parameter correlation (with respect to the profile) exist between dip and slip of the late fault. Furthermore, the correlation is negative, indicating that an increase in dip can be compensated with a decrease in fault slip. Given the position of the fault and the profile, this results sense, as well.\n",
      "\n",
      "The result of the sensitivity analysis provides a good insight into the sensitivities of modelled geology along a 1-D profile with respect to event parameters. Results are initially a bit counter-intuitive, but make perfect sense (and so, are actually quite interesting!).\n",
      "\n",
      "The next step would now be to:\n",
      "\n",
      "1. Extend the analysis to more than one position (not really sure if this is possible with SALib), and\n",
      "2. Apply the analysis to the Gippsland Basin model.\n",
      "\n",
      "I am actually quite happy with the first test and think that we could get a nice analysis out for the Gippsland Basin - maybe also some interesting counter-intuitive results!\n",
      "\n"
     ]
    },
    {
     "cell_type": "code",
     "collapsed": false,
     "input": [],
     "language": "python",
     "metadata": {},
     "outputs": []
    }
   ],
   "metadata": {}
  }
 ]
}