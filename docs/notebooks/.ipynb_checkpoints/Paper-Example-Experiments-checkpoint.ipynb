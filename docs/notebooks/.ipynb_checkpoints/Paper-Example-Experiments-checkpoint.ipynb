{
 "metadata": {
  "name": "",
  "signature": "sha256:4b663d0a86f52053aa1e036eadc70c088120209702642addd6d2104e9f8a3bc3"
 },
 "nbformat": 3,
 "nbformat_minor": 0,
 "worksheets": [
  {
   "cells": [
    {
     "cell_type": "markdown",
     "metadata": {},
     "source": [
      "# Using an Experiment Class for Reproducible Experiments"
     ]
    },
    {
     "cell_type": "code",
     "collapsed": false,
     "input": [
      "from IPython.core.display import HTML\n",
      "css_file = 'pynoddy.css'\n",
      "HTML(open(css_file, \"r\").read())"
     ],
     "language": "python",
     "metadata": {},
     "outputs": [
      {
       "html": [
        "<link href='http://fonts.googleapis.com/css?family=Alegreya+Sans:100,300,400,500,700,800,900,100italic,300italic,400italic,500italic,700italic,800italic,900italic' rel='stylesheet' type='text/css'>\n",
        "<link href='http://fonts.googleapis.com/css?family=Arvo:400,700,400italic' rel='stylesheet' type='text/css'>\n",
        "<link href='http://fonts.googleapis.com/css?family=PT+Mono' rel='stylesheet' type='text/css'>\n",
        "<link href='http://fonts.googleapis.com/css?family=Shadows+Into+Light' rel='stylesheet' type='text/css'>\n",
        "<link rel=\"stylesheet\" type=\"text/css\" href=\"http://fonts.googleapis.com/css?family=Tangerine\">\n",
        "<link href='http://fonts.googleapis.com/css?family=Philosopher:400,700,400italic,700italic' rel='stylesheet' type='text/css'>\n",
        "<link href='http://fonts.googleapis.com/css?family=Libre+Baskerville:400,400italic' rel='stylesheet' type='text/css'>\n",
        "<link href='http://fonts.googleapis.com/css?family=Lora:400,400italic' rel='stylesheet' type='text/css'>\n",
        "<link href='http://fonts.googleapis.com/css?family=Karla:400,400italic' rel='stylesheet' type='text/css'>\n",
        "\n",
        "<style>\n",
        "\n",
        "@font-face {\n",
        "    font-family: \"Computer Modern\";\n",
        "    src: url('http://mirrors.ctan.org/fonts/cm-unicode/fonts/otf/cmunss.otf');\n",
        "}\n",
        "\n",
        "#notebook_panel { /* main background */\n",
        "    background: #888;\n",
        "    color: #f6f6f6;\n",
        "}\n",
        "\n",
        "div.cell { /* set cell width to about 80 chars */\n",
        "    width: 800px;\n",
        "}\n",
        "\n",
        "div #notebook { /* centre the content */\n",
        "    background: #fff; /* white background for content */\n",
        "    width: 1000px;\n",
        "    margin: auto;\n",
        "    padding-left: 1em;\n",
        "}\n",
        "\n",
        "#notebook li { /* More space between bullet points */\n",
        "margin-top:0.8em;\n",
        "}\n",
        "\n",
        "/* draw border around running cells */\n",
        "div.cell.border-box-sizing.code_cell.running { \n",
        "    border: 3px solid #111;\n",
        "}\n",
        "\n",
        "/* Put a solid color box around each cell and its output, visually linking them together */\n",
        "div.cell.code_cell {\n",
        "    background: #ddd;  /* rgba(230,230,230,1.0);  */\n",
        "    border-radius: 10px; /* rounded borders */\n",
        "    width: 900px;\n",
        "    padding: 1em;\n",
        "    margin-top: 1em;\n",
        "}\n",
        "\n",
        "div.text_cell_render{\n",
        "    font-family: 'Arvo' sans-serif;\n",
        "    line-height: 130%;\n",
        "    font-size: 115%;\n",
        "    width:700px;\n",
        "    margin-left:auto;\n",
        "    margin-right:auto;\n",
        "}\n",
        "\n",
        "\n",
        "/* Formatting for header cells */\n",
        ".text_cell_render h1 {\n",
        "    font-family: 'Alegreya Sans', sans-serif;\n",
        "    /* font-family: 'Tangerine', serif; */\n",
        "    /* font-family: 'Libre Baskerville', serif; */\n",
        "    /* font-family: 'Karla', sans-serif;\n",
        "    /* font-family: 'Lora', serif; */\n",
        "    font-size: 50px;\n",
        "    text-align: center;\n",
        "    /* font-style: italic; */\n",
        "    font-weight: 400;\n",
        "    /* font-size: 40pt; */\n",
        "    /* text-shadow: 4px 4px 4px #aaa; */\n",
        "    line-height: 120%;\n",
        "    color: rgb(12,85,97);\n",
        "    margin-bottom: .5em;\n",
        "    margin-top: 0.1em;\n",
        "    display: block;\n",
        "}\t\n",
        ".text_cell_render h2 {\n",
        "    /* font-family: 'Arial', serif; */\n",
        "    /* font-family: 'Lora', serif; */\n",
        "    font-family: 'Alegreya Sans', sans-serif;\n",
        "    font-weight: 700;\n",
        "    font-size: 24pt;\n",
        "    line-height: 100%;\n",
        "    /* color: rgb(171,165,131); */\n",
        "    color: rgb(12,85,97);\n",
        "    margin-bottom: 0.1em;\n",
        "    margin-top: 0.1em;\n",
        "    display: block;\n",
        "}\t\n",
        "\n",
        ".text_cell_render h3 {\n",
        "    font-family: 'Arial', serif;\n",
        "    margin-top:12px;\n",
        "    margin-bottom: 3px;\n",
        "    font-style: italic;\n",
        "    color: rgb(95,92,72);\n",
        "}\n",
        "\n",
        ".text_cell_render h4 {\n",
        "    font-family: 'Arial', serif;\n",
        "}\n",
        "\n",
        ".text_cell_render h5 {\n",
        "    font-family: 'Alegreya Sans', sans-serif;\n",
        "    font-weight: 300;\n",
        "    font-size: 16pt;\n",
        "    color: grey;\n",
        "    font-style: italic;\n",
        "    margin-bottom: .1em;\n",
        "    margin-top: 0.1em;\n",
        "    display: block;\n",
        "}\n",
        "\n",
        ".text_cell_render h6 {\n",
        "    font-family: 'PT Mono', sans-serif;\n",
        "    font-weight: 300;\n",
        "    font-size: 10pt;\n",
        "    color: grey;\n",
        "    margin-bottom: 1px;\n",
        "    margin-top: 1px;\n",
        "}\n",
        "\n",
        ".CodeMirror{\n",
        "        font-family: \"PT Mono\";\n",
        "        font-size: 100%;\n",
        "}\n",
        "\n",
        "</style>\n"
       ],
       "metadata": {},
       "output_type": "pyout",
       "prompt_number": 1,
       "text": [
        "<IPython.core.display.HTML at 0x109770f50>"
       ]
      }
     ],
     "prompt_number": 1
    },
    {
     "cell_type": "code",
     "collapsed": false,
     "input": [
      "%matplotlib inline"
     ],
     "language": "python",
     "metadata": {},
     "outputs": [],
     "prompt_number": 2
    },
    {
     "cell_type": "code",
     "collapsed": false,
     "input": [
      "# here the usual imports. If any of the imports fails, make sure that pynoddy is installed\n",
      "# properly, ideally with 'python setup.py develop' or 'python setup.py install'\n",
      "import sys, os\n",
      "import matplotlib.pyplot as plt\n",
      "import numpy as np\n",
      "# adjust some settings for matplotlib\n",
      "from matplotlib import rcParams\n",
      "# print rcParams\n",
      "rcParams['font.size'] = 15\n",
      "# determine path of repository to set paths corretly below\n",
      "repo_path = os.path.realpath('../..')\n",
      "import pynoddy.history\n",
      "import pynoddy.experiment\n",
      "rcParams.update({'font.size': 15})"
     ],
     "language": "python",
     "metadata": {},
     "outputs": [],
     "prompt_number": 3
    },
    {
     "cell_type": "markdown",
     "metadata": {},
     "source": [
      "## Defining an experiment\n",
      "\n",
      "We are considering the following scenario: we defined a kinematic model of a prospective geological unit at depth. As we know that the estimates of the (kinematic) model parameters contain a high degree of uncertainty, we would like to represent this uncertainty with the model.\n",
      "\n",
      "Our approach is here to perform a randomised uncertainty propagation analysis with a Monte Carlo sampling method. Results should be presented in several figures (2-D slice plots and a VTK representation in 3-D).\n",
      "\n",
      "To perform this analysis, we need to perform the following steps (see main paper for more details):\n",
      "\n",
      "1. Define kinematic model parameters and construct the initial (base) model; \n",
      "2. Assign probability distributions (and possible parameter correlations) to relevant uncertain input parameters;\n",
      "3. Generate a set of n random realisations, repeating the following steps: \n",
      "    1. Draw a randomised input parameter set from the parameter distribu- tion;\n",
      "    2. Generate a model with this parameter set;\n",
      "    3. Analyse the generated model and store results; \n",
      "4. Finally: perform postprocessing, generate figures of results\n",
      "\n",
      "It would be possible to write a Python script to perform all of these steps in one go. However, we will here take another path and use the implementation in a Pynoddy Experiment class. Initially, this requires more work and a careful definition of the experiment - but, finally, it will enable a higher level of flexibility, extensibility, and reproducibility.\n",
      "\n"
     ]
    },
    {
     "cell_type": "markdown",
     "metadata": {},
     "source": [
      "## Setting up the experiment class\n",
      "\n",
      "We use an experiment class that is pre-defined in the pynoddy.experiment module and inherits many base functions from the Experiment-class definition. "
     ]
    },
    {
     "cell_type": "markdown",
     "metadata": {},
     "source": [
      "## Loading an example model from the Virtual Explorer Atlas\n",
      "\n",
      "As in the last example, we will use a model from the Virtual Explorer Atlas as an examlpe model for this simulation. We use a model for a fold interference structure. A discretised 3-D version of this model (from the Virtual Explorer website) is presented in the figure below. The model represents a fold interference pattern of \"Type 1\" according to the definition of Ramsey (1967).\n",
      "\n",
      "![](http://virtualexplorer.com.au/special/noddyatlas/ch3/ch3_7/jpeg/geol/typeb.jpg)\n",
      "\n",
      "Instead of loading the model into a history object, we are now directly creating an experiment object for the type of uncertainty analysis:"
     ]
    },
    {
     "cell_type": "code",
     "collapsed": false,
     "input": [
      "reload(pynoddy.history)\n",
      "reload(pynoddy.experiment)\n",
      "model_url = 'http://virtualexplorer.com.au/special/noddyatlas/ch3/ch3_7/his/typeb.his'\n",
      "# ue = pynoddy.experiment.UncertaintyAnalysis(url = model_url)\n",
      "ue = pynoddy.experiment.UncertaintyAnalysis(history = \"typeb_tmp.his\")"
     ],
     "language": "python",
     "metadata": {},
     "outputs": [
      {
       "output_type": "stream",
       "stream": "stdout",
       "text": [
        " STRATIGRAPHY\n",
        " FOLD\n",
        " FOLD\n"
       ]
      }
     ],
     "prompt_number": 304
    },
    {
     "cell_type": "markdown",
     "metadata": {},
     "source": [
      "For simpler visualisation in this notebook, we will analyse the following steps in a section view of the model.\n",
      "\n",
      "We consider a section in y-direction through the model:"
     ]
    },
    {
     "cell_type": "code",
     "collapsed": false,
     "input": [
      "pwd"
     ],
     "language": "python",
     "metadata": {},
     "outputs": [
      {
       "metadata": {},
       "output_type": "pyout",
       "prompt_number": 305,
       "text": [
        "u'/Users/flow/git/pynoddy/docs/notebooks'"
       ]
      }
     ],
     "prompt_number": 305
    },
    {
     "cell_type": "code",
     "collapsed": false,
     "input": [
      "ue.plot_section('y')"
     ],
     "language": "python",
     "metadata": {},
     "outputs": [
      {
       "metadata": {},
       "output_type": "display_data",
       "png": "[encoded data removed]",
       "text": [
        "<matplotlib.figure.Figure at 0x10f8fbbd0>"
       ]
      }
     ],
     "prompt_number": 306
    },
    {
     "cell_type": "markdown",
     "metadata": {},
     "source": [
      "Before we start to draw random realisations of the model, we should first store the base state of the model for later reference. This is simply possibel with the freeze() method which stores the current state of the model as the \"base-state\":"
     ]
    },
    {
     "cell_type": "code",
     "collapsed": false,
     "input": [
      "ue.freeze()"
     ],
     "language": "python",
     "metadata": {},
     "outputs": [],
     "prompt_number": 307
    },
    {
     "cell_type": "markdown",
     "metadata": {},
     "source": [
      "We now intialise the random generator. We can directly assign a random seed to simplify reproducibility (note that this is not *essential*, as it would be for the definition in a script function: the random state is preserved within the model and could be retrieved at a later stage, as well!):"
     ]
    },
    {
     "cell_type": "code",
     "collapsed": false,
     "input": [
      "ue.set_random_seed(12345)"
     ],
     "language": "python",
     "metadata": {},
     "outputs": [],
     "prompt_number": 308
    },
    {
     "cell_type": "markdown",
     "metadata": {},
     "source": [
      "The next step is to define probability distributions to the relevant event parameters. Let's first look at the different events:"
     ]
    },
    {
     "cell_type": "code",
     "collapsed": false,
     "input": [
      "ue.info(events_only = True)"
     ],
     "language": "python",
     "metadata": {},
     "outputs": [
      {
       "output_type": "stream",
       "stream": "stdout",
       "text": [
        "This model consists of 3 events:\n",
        "\t(1) - STRATIGRAPHY\n",
        "\t(2) - FOLD\n",
        "\t(3) - FOLD\n",
        "\n"
       ]
      }
     ],
     "prompt_number": 309
    },
    {
     "cell_type": "code",
     "collapsed": false,
     "input": [
      "ev2 = ue.events[2]"
     ],
     "language": "python",
     "metadata": {},
     "outputs": [],
     "prompt_number": 310
    },
    {
     "cell_type": "code",
     "collapsed": false,
     "input": [
      "ev2.properties"
     ],
     "language": "python",
     "metadata": {},
     "outputs": [
      {
       "metadata": {},
       "output_type": "pyout",
       "prompt_number": 311,
       "text": [
        "{'Amplitude': 1345.579873,\n",
        " 'Cylindricity': 0.0,\n",
        " 'Dip': 90.0,\n",
        " 'Dip Direction': 90.0,\n",
        " 'Pitch': 0.0,\n",
        " 'Single Fold': 'FALSE',\n",
        " 'Type': 'Sine',\n",
        " 'Wavelength': 5750.767739,\n",
        " 'X': 621.867176,\n",
        " 'Y': 0.0,\n",
        " 'Z': 0.0}"
       ]
      }
     ],
     "prompt_number": 311
    },
    {
     "cell_type": "markdown",
     "metadata": {},
     "source": [
      "Next, we define the probability distributions for the uncertain input parameters:"
     ]
    },
    {
     "cell_type": "code",
     "collapsed": false,
     "input": [
      "param_stats = []\n",
      "param_dict1 = {'event' : 2, \n",
      "              'parameter': 'Amplitude',\n",
      "              'stdev': 100.0,\n",
      "              'type': 'normal'}\n",
      "param_stats.append(param_dict1)\n",
      "param_dict2 = {'event' : 2, \n",
      "              'parameter': 'Wavelength',\n",
      "              'stdev': 500.0,\n",
      "              'type': 'normal'}\n",
      "param_stats.append(param_dict2)\n",
      "param_dict3 = {'event' : 2, \n",
      "              'parameter': 'X',\n",
      "              'stdev': 500.0,\n",
      "              'type': 'normal'}\n",
      "param_stats.append(param_dict3)\n",
      "\n",
      "\n",
      "ue.set_parameter_statistics(param_stats)"
     ],
     "language": "python",
     "metadata": {},
     "outputs": [],
     "prompt_number": 312
    },
    {
     "cell_type": "code",
     "collapsed": false,
     "input": [
      "ue.change_cube_size(100.)\n",
      "tmp = ue.get_section('y')\n",
      "prob_4 = np.zeros_like(tmp.block[:,:,:])\n",
      "for i in range(10):\n",
      "    ue.random_draw()\n",
      "    tmp = ue.get_section('y', resolution = 100)\n",
      "    prob_4 += (tmp.block[:,:,:] == 4)\n",
      "    "
     ],
     "language": "python",
     "metadata": {},
     "outputs": [],
     "prompt_number": 314
    },
    {
     "cell_type": "code",
     "collapsed": false,
     "input": [
      "plt.imshow(prob_4.transpose()[:,0,:], origin = 'lower left', interpolation = 'none')"
     ],
     "language": "python",
     "metadata": {},
     "outputs": [
      {
       "metadata": {},
       "output_type": "pyout",
       "prompt_number": 327,
       "text": [
        "<matplotlib.image.AxesImage at 0x10fd3e190>"
       ]
      },
      {
       "metadata": {},
       "output_type": "display_data",
       "png": "[encoded data removed]",
       "text": [
        "<matplotlib.figure.Figure at 0x10803d790>"
       ]
      }
     ],
     "prompt_number": 327
    },
    {
     "cell_type": "code",
     "collapsed": false,
     "input": [
      "reload(pynoddy.history)\n",
      "reload(pynoddy.output)\n",
      "reload(pynoddy.experiment)\n",
      "model_url = 'http://virtualexplorer.com.au/special/noddyatlas/ch3/ch3_7/his/typeb.his'\n",
      "# ue = pynoddy.experiment.UncertaintyAnalysis(url = model_url)\n",
      "ue = pynoddy.experiment.UncertaintyAnalysis(history = \"typeb_tmp.his\")\n",
      "ue.change_cube_size(100)\n",
      "# tmp = ue.get_section('y')\n",
      "# tmp.plot_section('y', position = 0, data = prob_4, cmap = 'jet')"
     ],
     "language": "python",
     "metadata": {},
     "outputs": [
      {
       "output_type": "stream",
       "stream": "stdout",
       "text": [
        " STRATIGRAPHY\n",
        " FOLD\n",
        " FOLD\n"
       ]
      }
     ],
     "prompt_number": 345
    },
    {
     "cell_type": "code",
     "collapsed": false,
     "input": [
      "ue.plot_section('y', position = 0, data = prob_4, cmap = 'jet')"
     ],
     "language": "python",
     "metadata": {},
     "outputs": [
      {
       "metadata": {},
       "output_type": "display_data",
       "png": "[encoded data removed]",
       "text": [
        "<matplotlib.figure.Figure at 0x10f146f90>"
       ]
      }
     ],
     "prompt_number": 346
    },
    {
     "cell_type": "code",
     "collapsed": false,
     "input": [
      "ue.plot_section('y')"
     ],
     "language": "python",
     "metadata": {},
     "outputs": [
      {
       "metadata": {},
       "output_type": "display_data",
       "png": "[encoded data removed]",
       "text": [
        "<matplotlib.figure.Figure at 0x10f467f10>"
       ]
      }
     ],
     "prompt_number": 347
    },
    {
     "cell_type": "code",
     "collapsed": false,
     "input": [
      "ue.export_to_vtk(vtk_filename = \"typeb\")"
     ],
     "language": "python",
     "metadata": {},
     "outputs": [],
     "prompt_number": 348
    },
    {
     "cell_type": "code",
     "collapsed": false,
     "input": [
      "ue.export_to_vtk(vtk_filename = \"prob4\", data = prob_4)"
     ],
     "language": "python",
     "metadata": {},
     "outputs": [],
     "prompt_number": 349
    },
    {
     "cell_type": "code",
     "collapsed": false,
     "input": [
      "block = ue.get_section('y')"
     ],
     "language": "python",
     "metadata": {},
     "outputs": [],
     "prompt_number": 210
    },
    {
     "cell_type": "code",
     "collapsed": false,
     "input": [
      "tmp = np.zeros_like(block.block)\n",
      "tmp += (block.block[:,0,:] == 2)"
     ],
     "language": "python",
     "metadata": {},
     "outputs": [],
     "prompt_number": 231
    },
    {
     "cell_type": "code",
     "collapsed": true,
     "input": [
      "plt.imshow(tmp[:,0,:].transpose())"
     ],
     "language": "python",
     "metadata": {},
     "outputs": [
      {
       "metadata": {},
       "output_type": "pyout",
       "prompt_number": 232,
       "text": [
        "<matplotlib.image.AxesImage at 0x10e9e5750>"
       ]
      },
      {
       "metadata": {},
       "output_type": "display_data",
       "png": "[encoded data removed]",
       "text": [
        "<matplotlib.figure.Figure at 0x10e61c190>"
       ]
      }
     ],
     "prompt_number": 232
    },
    {
     "cell_type": "code",
     "collapsed": false,
     "input": [
      "block.plot_section('y')"
     ],
     "language": "python",
     "metadata": {},
     "outputs": [
      {
       "metadata": {},
       "output_type": "display_data",
       "png": "[encoded data removed]",
       "text": [
        "<matplotlib.figure.Figure at 0x10b5d6590>"
       ]
      }
     ],
     "prompt_number": 225
    },
    {
     "cell_type": "code",
     "collapsed": false,
     "input": [
      "plt.imshow(block.block[:,0,:].transpose(), origin = 'lower left', interpolation = 'none')\n",
      "plt.colorbar(orientation = \"horizontal\")"
     ],
     "language": "python",
     "metadata": {},
     "outputs": [
      {
       "metadata": {},
       "output_type": "pyout",
       "prompt_number": 233,
       "text": [
        "<matplotlib.colorbar.Colorbar instance at 0x10eb97b48>"
       ]
      },
      {
       "metadata": {},
       "output_type": "display_data",
       "png": "[encoded data removed]",
       "text": [
        "<matplotlib.figure.Figure at 0x10ea25750>"
       ]
      }
     ],
     "prompt_number": 233
    },
    {
     "cell_type": "code",
     "collapsed": false,
     "input": [
      "# filter out unit 4:\n",
      "test = np.zeros_like(block.block[:,0,:])\n",
      "test += (block.block[:,0,:] == 4)\n",
      "plt.imshow(test.transpose(), origin = 'lower left', interpolation = 'none')"
     ],
     "language": "python",
     "metadata": {},
     "outputs": [
      {
       "metadata": {},
       "output_type": "pyout",
       "prompt_number": 237,
       "text": [
        "<matplotlib.image.AxesImage at 0x10ed5cc90>"
       ]
      },
      {
       "metadata": {},
       "output_type": "display_data",
       "png": "[encoded data removed]",
       "text": [
        "<matplotlib.figure.Figure at 0x10e11b610>"
       ]
      }
     ],
     "prompt_number": 237
    },
    {
     "cell_type": "code",
     "collapsed": false,
     "input": [
      "ue.write_history(\"typeb_tmp.his\")"
     ],
     "language": "python",
     "metadata": {},
     "outputs": [],
     "prompt_number": 268
    },
    {
     "cell_type": "code",
     "collapsed": false,
     "input": [],
     "language": "python",
     "metadata": {},
     "outputs": []
    }
   ],
   "metadata": {}
  }
 ]
}