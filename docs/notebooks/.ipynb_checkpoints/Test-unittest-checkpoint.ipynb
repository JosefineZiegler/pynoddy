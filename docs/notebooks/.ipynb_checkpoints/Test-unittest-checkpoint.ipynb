{
 "metadata": {
  "name": "",
  "signature": "sha256:b3ecde1e25ba4a77e53d3e91271dd1b587d5033de526ffa48498eaf9082b2910"
 },
 "nbformat": 3,
 "nbformat_minor": 0,
 "worksheets": [
  {
   "cells": [
    {
     "cell_type": "markdown",
     "metadata": {},
     "source": [
      "# Test unittest environment for pynoddy"
     ]
    },
    {
     "cell_type": "code",
     "collapsed": false,
     "input": [],
     "language": "python",
     "metadata": {},
     "outputs": []
    }
   ],
   "metadata": {}
  }
 ]
}