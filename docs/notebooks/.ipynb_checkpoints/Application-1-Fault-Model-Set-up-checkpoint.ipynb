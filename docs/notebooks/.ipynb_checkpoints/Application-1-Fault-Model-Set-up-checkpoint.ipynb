{
 "metadata": {
  "name": "",
  "signature": "sha256:c8bad0030e2f6742fa9e7e6c923a13a398a401fc8a5bea59c80e5c5197346eb2"
 },
 "nbformat": 3,
 "nbformat_minor": 0,
 "worksheets": [
  {
   "cells": [
    {
     "cell_type": "markdown",
     "metadata": {},
     "source": [
      "# Application 1: Two-fault model\n",
      "\n",
      "We describe here how to generate a simple history file for computation with Noddy using the functionality of `pynoddy`. \n",
      "\n",
      "`pynoddy` contains the functionality to generate simple models, for example to automate the model construction process, or to enable the model construction for users who are not running Windows (for which a GUI is available).\n",
      "\n",
      "We show here the required steps to generate the model consisting of two faults that is described in the publication as application in chapter 3.1\n",
      "\n",
      "First, some basic imports and settings for the notebook:"
     ]
    },
    {
     "cell_type": "code",
     "collapsed": false,
     "input": [
      "from matplotlib import rc_params"
     ],
     "language": "python",
     "metadata": {},
     "outputs": [],
     "prompt_number": 56
    },
    {
     "cell_type": "code",
     "collapsed": false,
     "input": [
      "from IPython.core.display import HTML\n",
      "css_file = 'pynoddy.css'\n",
      "HTML(open(css_file, \"r\").read())"
     ],
     "language": "python",
     "metadata": {},
     "outputs": [
      {
       "html": [
        "<link href='http://fonts.googleapis.com/css?family=Alegreya+Sans:100,300,400,500,700,800,900,100italic,300italic,400italic,500italic,700italic,800italic,900italic' rel='stylesheet' type='text/css'>\n",
        "<link href='http://fonts.googleapis.com/css?family=Arvo:400,700,400italic' rel='stylesheet' type='text/css'>\n",
        "<link href='http://fonts.googleapis.com/css?family=PT+Mono' rel='stylesheet' type='text/css'>\n",
        "<link href='http://fonts.googleapis.com/css?family=Shadows+Into+Light' rel='stylesheet' type='text/css'>\n",
        "<link rel=\"stylesheet\" type=\"text/css\" href=\"http://fonts.googleapis.com/css?family=Tangerine\">\n",
        "<link href='http://fonts.googleapis.com/css?family=Philosopher:400,700,400italic,700italic' rel='stylesheet' type='text/css'>\n",
        "<link href='http://fonts.googleapis.com/css?family=Libre+Baskerville:400,400italic' rel='stylesheet' type='text/css'>\n",
        "<link href='http://fonts.googleapis.com/css?family=Lora:400,400italic' rel='stylesheet' type='text/css'>\n",
        "<link href='http://fonts.googleapis.com/css?family=Karla:400,400italic' rel='stylesheet' type='text/css'>\n",
        "\n",
        "<style>\n",
        "\n",
        "@font-face {\n",
        "    font-family: \"Computer Modern\";\n",
        "    src: url('http://mirrors.ctan.org/fonts/cm-unicode/fonts/otf/cmunss.otf');\n",
        "}\n",
        "\n",
        "#notebook_panel { /* main background */\n",
        "    background: #888;\n",
        "    color: #f6f6f6;\n",
        "}\n",
        "\n",
        "div.cell { /* set cell width to about 80 chars */\n",
        "    width: 800px;\n",
        "}\n",
        "\n",
        "div #notebook { /* centre the content */\n",
        "    background: #fff; /* white background for content */\n",
        "    width: 1000px;\n",
        "    margin: auto;\n",
        "    padding-left: 1em;\n",
        "}\n",
        "\n",
        "#notebook li { /* More space between bullet points */\n",
        "margin-top:0.8em;\n",
        "}\n",
        "\n",
        "/* draw border around running cells */\n",
        "div.cell.border-box-sizing.code_cell.running { \n",
        "    border: 3px solid #111;\n",
        "}\n",
        "\n",
        "/* Put a solid color box around each cell and its output, visually linking them together */\n",
        "div.cell.code_cell {\n",
        "    background: #ddd;  /* rgba(230,230,230,1.0);  */\n",
        "    border-radius: 10px; /* rounded borders */\n",
        "    width: 900px;\n",
        "    padding: 1em;\n",
        "    margin-top: 1em;\n",
        "}\n",
        "\n",
        "div.text_cell_render{\n",
        "    font-family: 'Arvo' sans-serif;\n",
        "    line-height: 130%;\n",
        "    font-size: 115%;\n",
        "    width:700px;\n",
        "    margin-left:auto;\n",
        "    margin-right:auto;\n",
        "}\n",
        "\n",
        "\n",
        "/* Formatting for header cells */\n",
        ".text_cell_render h1 {\n",
        "    font-family: 'Alegreya Sans', sans-serif;\n",
        "    /* font-family: 'Tangerine', serif; */\n",
        "    /* font-family: 'Libre Baskerville', serif; */\n",
        "    /* font-family: 'Karla', sans-serif;\n",
        "    /* font-family: 'Lora', serif; */\n",
        "    font-size: 50px;\n",
        "    text-align: center;\n",
        "    /* font-style: italic; */\n",
        "    font-weight: 400;\n",
        "    /* font-size: 40pt; */\n",
        "    /* text-shadow: 4px 4px 4px #aaa; */\n",
        "    line-height: 120%;\n",
        "    color: rgb(12,85,97);\n",
        "    margin-bottom: .5em;\n",
        "    margin-top: 0.1em;\n",
        "    display: block;\n",
        "}\t\n",
        ".text_cell_render h2 {\n",
        "    /* font-family: 'Arial', serif; */\n",
        "    /* font-family: 'Lora', serif; */\n",
        "    font-family: 'Alegreya Sans', sans-serif;\n",
        "    font-weight: 700;\n",
        "    font-size: 24pt;\n",
        "    line-height: 100%;\n",
        "    /* color: rgb(171,165,131); */\n",
        "    color: rgb(12,85,97);\n",
        "    margin-bottom: 0.1em;\n",
        "    margin-top: 0.1em;\n",
        "    display: block;\n",
        "}\t\n",
        "\n",
        ".text_cell_render h3 {\n",
        "    font-family: 'Arial', serif;\n",
        "    margin-top:12px;\n",
        "    margin-bottom: 3px;\n",
        "    font-style: italic;\n",
        "    color: rgb(95,92,72);\n",
        "}\n",
        "\n",
        ".text_cell_render h4 {\n",
        "    font-family: 'Arial', serif;\n",
        "}\n",
        "\n",
        ".text_cell_render h5 {\n",
        "    font-family: 'Alegreya Sans', sans-serif;\n",
        "    font-weight: 300;\n",
        "    font-size: 16pt;\n",
        "    color: grey;\n",
        "    font-style: italic;\n",
        "    margin-bottom: .1em;\n",
        "    margin-top: 0.1em;\n",
        "    display: block;\n",
        "}\n",
        "\n",
        ".text_cell_render h6 {\n",
        "    font-family: 'PT Mono', sans-serif;\n",
        "    font-weight: 300;\n",
        "    font-size: 10pt;\n",
        "    color: grey;\n",
        "    margin-bottom: 1px;\n",
        "    margin-top: 1px;\n",
        "}\n",
        "\n",
        ".CodeMirror{\n",
        "        font-family: \"PT Mono\";\n",
        "        font-size: 100%;\n",
        "}\n",
        "\n",
        "</style>\n"
       ],
       "metadata": {},
       "output_type": "pyout",
       "prompt_number": 57,
       "text": [
        "<IPython.core.display.HTML at 0x10d6e9910>"
       ]
      }
     ],
     "prompt_number": 57
    },
    {
     "cell_type": "code",
     "collapsed": false,
     "input": [
      "import sys, os\n",
      "import matplotlib.pyplot as plt\n",
      "# adjust some settings for matplotlib\n",
      "from matplotlib import rcParams\n",
      "# print rcParams\n",
      "rcParams['font.size'] = 15\n",
      "# determine path of repository to set paths corretly below\n",
      "os.chdir(r'/Users/flow/git/pynoddy/docs/notebooks/')\n",
      "repo_path = os.path.realpath('../..')\n",
      "import pynoddy.history"
     ],
     "language": "python",
     "metadata": {},
     "outputs": [],
     "prompt_number": 58
    },
    {
     "cell_type": "code",
     "collapsed": false,
     "input": [
      "%pylab inline"
     ],
     "language": "python",
     "metadata": {},
     "outputs": [
      {
       "output_type": "stream",
       "stream": "stdout",
       "text": [
        "Populating the interactive namespace from numpy and matplotlib\n"
       ]
      }
     ],
     "prompt_number": 59
    },
    {
     "cell_type": "code",
     "collapsed": false,
     "input": [
      "rcParams.update({'font.size': 20})"
     ],
     "language": "python",
     "metadata": {},
     "outputs": [],
     "prompt_number": 60
    },
    {
     "cell_type": "markdown",
     "metadata": {},
     "source": [
      "Defining a stratigraphy\n",
      "--------------\n",
      "\n",
      "We start with the definition of a (base) stratigraphy for the model. "
     ]
    },
    {
     "cell_type": "code",
     "collapsed": false,
     "input": [
      "# Combined: model generation and output vis to test:\n",
      "history = \"simple_model.his\"\n",
      "output_name = \"simple_out\"\n",
      "reload(pynoddy.history)\n",
      "reload(pynoddy.events)\n",
      "nm = pynoddy.history.NoddyHistory()\n",
      "# add stratigraphy\n",
      "strati_options = {'num_layers' : 8,\n",
      "                  'layer_names' : ['layer 1', 'layer 2', 'layer 3', 'layer 4', 'layer 5', 'layer 6', 'layer 7', 'layer 8'],\n",
      "                  'layer_thickness' : [1500, 500, 500, 500, 500, 500, 500, 500]}\n",
      "nm.add_event('stratigraphy', strati_options )\n",
      "\n",
      "# write kinematic history to file:\n",
      "nm.write_history(history)\n"
     ],
     "language": "python",
     "metadata": {},
     "outputs": [],
     "prompt_number": 61
    },
    {
     "cell_type": "markdown",
     "metadata": {},
     "source": [
      "We now created a kinematic history file that can be used as an input for the command-line program Noddy to calculate the resulting geological model. The functionality of the command line program is wrapped in a python function for convenience:"
     ]
    },
    {
     "cell_type": "code",
     "collapsed": false,
     "input": [
      "# Compute the model\n",
      "reload(pynoddy)\n",
      "pynoddy.compute_model(history, output_name) "
     ],
     "language": "python",
     "metadata": {},
     "outputs": [],
     "prompt_number": 62
    },
    {
     "cell_type": "markdown",
     "metadata": {},
     "source": [
      "Depending on the options provided in the command line program execution, several results can be obtained from the kinematic model. The most basic output provides the geological model as a 3-D discretised block model.\n",
      "\n",
      "This geological block model can be read in with the methods of the module `pynoddy.output` for postprocessing and results visualisation:"
     ]
    },
    {
     "cell_type": "code",
     "collapsed": false,
     "input": [
      "# Plot output\n",
      "reload(pynoddy.output)\n",
      "nout = pynoddy.output.NoddyOutput(output_name)\n",
      "nout.plot_section('y', layer_labels = strati_options['layer_names'][::-1], \n",
      "                  colorbar = True, title=\"\",\n",
      "                  savefig = False, fig_filename = \"ex01_strati.eps\")"
     ],
     "language": "python",
     "metadata": {},
     "outputs": [
      {
       "metadata": {},
       "output_type": "display_data",
       "png": "[encoded data removed]",
       "text": [
        "<matplotlib.figure.Figure at 0x10e0df690>"
       ]
      }
     ],
     "prompt_number": 63
    },
    {
     "cell_type": "markdown",
     "metadata": {},
     "source": [
      "## Adding a fault event\n",
      "\n",
      "After creating the model stratigraphy, we now add the first fault to the model. \n",
      "\n",
      "Note: in these examples, we always start with setting up the model from the beginning for a better readability of the code. As we already created the base model with the stratigraphy, we technically wouldn't have to repeat the step again.\n",
      "\n",
      "The required calls for a stratigraphy and a single fault are:"
     ]
    },
    {
     "cell_type": "code",
     "collapsed": false,
     "input": [
      "reload(pynoddy.history)\n",
      "reload(pynoddy.events)\n",
      "nm = pynoddy.history.NoddyHistory()\n",
      "# add stratigraphy\n",
      "strati_options = {'num_layers' : 8,\n",
      "                  'layer_names' : ['layer 1', 'layer 2', 'layer 3', 'layer 4', 'layer 5', 'layer 6', 'layer 7', 'layer 8'],\n",
      "                  'layer_thickness' : [1500, 500, 500, 500, 500, 500, 500, 500]}\n",
      "nm.add_event('stratigraphy', strati_options )\n",
      "\n",
      "\n",
      "\n",
      "\n",
      "# The following options define the fault geometry:\n",
      "fault_options = {'name' : 'Fault_E',\n",
      "                 'pos' : (6000, 0, 5000),\n",
      "                 'dip_dir' : 270,\n",
      "                 'dip' : 60,\n",
      "                 'slip' : 1000}\n",
      "\n",
      "nm.add_event('fault', fault_options)"
     ],
     "language": "python",
     "metadata": {},
     "outputs": [],
     "prompt_number": 64
    },
    {
     "cell_type": "markdown",
     "metadata": {},
     "source": [
      "Write kinematic history to file and compute the model:"
     ]
    },
    {
     "cell_type": "code",
     "collapsed": false,
     "input": [
      "nm.write_history(history)\n",
      "# Compute the model\n",
      "pynoddy.compute_model(history, output_name) "
     ],
     "language": "python",
     "metadata": {},
     "outputs": [],
     "prompt_number": 65
    },
    {
     "cell_type": "code",
     "collapsed": false,
     "input": [
      "# Plot output\n",
      "reload(pynoddy.output)\n",
      "nout = pynoddy.output.NoddyOutput(output_name)\n",
      "nout.plot_section('y', layer_labels = strati_options['layer_names'][::-1], \n",
      "                  colorbar = False, title = \"\",\n",
      "                  savefig = False, fig_filename = \"ex01_fault_E.eps\")"
     ],
     "language": "python",
     "metadata": {},
     "outputs": [
      {
       "metadata": {},
       "output_type": "display_data",
       "png": "[encoded data removed]",
       "text": [
        "<matplotlib.figure.Figure at 0x10e0f4690>"
       ]
      }
     ],
     "prompt_number": 66
    },
    {
     "cell_type": "markdown",
     "metadata": {},
     "source": [
      "## Adding the second fault\n",
      "\n",
      "We now add the second fault:"
     ]
    },
    {
     "cell_type": "code",
     "collapsed": false,
     "input": [
      "reload(pynoddy.history)\n",
      "reload(pynoddy.events)\n",
      "nm = pynoddy.history.NoddyHistory()\n",
      "# add stratigraphy\n",
      "strati_options = {'num_layers' : 8,\n",
      "                  'layer_names' : ['layer 1', 'layer 2', 'layer 3', 'layer 4', 'layer 5', 'layer 6', 'layer 7', 'layer 8'],\n",
      "                  'layer_thickness' : [1500, 500, 500, 500, 500, 500, 500, 500]}\n",
      "nm.add_event('stratigraphy', strati_options )\n",
      "\n",
      "# The following options define the fault geometry:\n",
      "fault_options = {'name' : 'Fault_W',\n",
      "                 'pos' : (4000, 3500, 5000),\n",
      "                 'dip_dir' : 90,\n",
      "                 'dip' : 60,\n",
      "                 'slip' : 1000}\n",
      "\n",
      "nm.add_event('fault', fault_options)\n",
      "\n",
      "# The following options define the fault geometry:\n",
      "fault_options = {'name' : 'Fault_E',\n",
      "                 'pos' : (6000, 3500, 5000),\n",
      "                 'dip_dir' : 270,\n",
      "                 'dip' : 60,\n",
      "                 'slip' : 1000}\n",
      "\n",
      "nm.add_event('fault', fault_options)\n",
      "\n",
      "nm.write_history(history)"
     ],
     "language": "python",
     "metadata": {},
     "outputs": [],
     "prompt_number": 76
    },
    {
     "cell_type": "code",
     "collapsed": false,
     "input": [
      "# Compute the model\n",
      "pynoddy.compute_model(history, output_name) "
     ],
     "language": "python",
     "metadata": {},
     "outputs": [],
     "prompt_number": 77
    },
    {
     "cell_type": "code",
     "collapsed": false,
     "input": [
      "# Plot output\n",
      "reload(pynoddy.output)\n",
      "nout = pynoddy.output.NoddyOutput(output_name)\n",
      "nout.plot_section('y', layer_labels = strati_options['layer_names'][::-1], \n",
      "                  colorbar = True, title=\"\",\n",
      "                  savefig = False, fig_filename = \"ex01_faults_combined.eps\",\n",
      "                  cmap = 'YlOrRd') # note: YlOrRd colourmap should be suitable for colorblindness!\n"
     ],
     "language": "python",
     "metadata": {},
     "outputs": [
      {
       "metadata": {},
       "output_type": "display_data",
       "png": "[encoded data removed]",
       "text": [
        "<matplotlib.figure.Figure at 0x10dc09e50>"
       ]
      }
     ],
     "prompt_number": 78
    },
    {
     "cell_type": "markdown",
     "metadata": {},
     "source": [
      "## Exporting the model to VTK \n",
      "\n",
      "The representation of models directly in Python/ IPython is (so far) limited to 2-D slices through the model model. For a model visualisation in 3-D, the model can be exported to VTK and the created VTK file can be opened in any VTK viewer (several free options are available, e.g. Paraview, Mayavi):"
     ]
    },
    {
     "cell_type": "code",
     "collapsed": false,
     "input": [
      "nout.export_to_vtk()"
     ],
     "language": "python",
     "metadata": {},
     "outputs": [],
     "prompt_number": 68
    }
   ],
   "metadata": {}
  }
 ]
}