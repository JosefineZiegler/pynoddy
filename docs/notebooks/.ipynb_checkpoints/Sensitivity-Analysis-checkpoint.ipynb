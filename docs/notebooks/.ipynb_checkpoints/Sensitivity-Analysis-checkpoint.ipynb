{
 "metadata": {
  "name": "",
  "signature": "sha256:c1552f122e6dbdeacecdf7dce5b9b47505fa3f0f9d895de159931cbf7abeb86b"
 },
 "nbformat": 3,
 "nbformat_minor": 0,
 "worksheets": [
  {
   "cells": [
    {
     "cell_type": "markdown",
     "metadata": {},
     "source": [
      "# Sensitivity Analysis\n",
      "\n",
      "Test here: (local) sensitivity analysis of kinematic parameters with respect to a defined objective function. Aim: test how sensitivity the resulting model is to uncertainties in kinematic parameters to:\n",
      "\n",
      "1. Evaluate which the most important parameters are, and to\n",
      "2. Determine which parameters could, in principle, be inverted with suitable information.\n",
      "\n",
      "## Theory: local sensitivity analysis\n",
      "\n",
      "Basic considerations:\n",
      "\n",
      "- parameter vector $\\vec{p}$\n",
      "- residual vector $\\vec{r}$\n",
      "- calculated values at observation points $\\vec{z}$\n",
      "- Jacobian matrix $J_{ij} = \\frac{\\partial \\vec{z}}{\\partial \\vec{p}}$\n",
      "\n",
      "Numerical estimation of Jacobian matrix with central difference scheme (see Finsterle):\n",
      "\n",
      "$$J_{ij} = \\frac{\\partial z_i}{\\partial p_j} \\approx \\frac{z_i(\\vec{p}; p_j + \\delta p_j) - z_i(\\vec{p};p_j - \\delta p_j)}{2 \\delta p_j}$$\n",
      "\n",
      "where $\\delta p_j$ is a small perturbation of parameter $j$, often as a fraction of the value.\n",
      "\n",
      "\n",
      "## Defining the responses $\\vec{z}$\n",
      "\n",
      "A meaningful sensitivity analysis obviously depends on the definition of a suitable response vector $\\vec{z}$. Ideally, these responses are related to actual observations. In our case, we first want to determine how sensitive a kinematic structural geological model is with respect to uncertainties in the kinematic parameters. We therefore need calculatable measures that describe variations of the model.\n",
      "\n",
      "As a first-order assumption, we will use a notation of a stratigraphic distance for discrete subsections of the model, for example in single voxets for the calculated model. We define distance $d$ of a subset $\\omega$ as the (discrete) difference between the (discrete) stratigraphic value of an ideal model, $\\hat{s}$, to the value of a model realisation $s_i$:\n",
      "\n",
      "$$d(\\omega) = \\hat{s} - s_i$$\n",
      "\n",
      "In the first example, we will consider only one response: the overall sum of stratigraphic distances for a model realisation $r$ of all  subsets (= voxets, in the practical sense), scaled by the number of subsets (for a subsequent comparison of model discretisations):\n",
      "\n",
      "$$D_r = \\frac{1}{n} \\sum_{i=1}^n d(\\omega_i)$$\n"
     ]
    },
    {
     "cell_type": "markdown",
     "metadata": {},
     "source": [
      "# Setting up the base model\n",
      "\n",
      "For a first test: use simple two-fault model from paper"
     ]
    },
    {
     "cell_type": "code",
     "collapsed": false,
     "input": [
      "import sys, os\n",
      "import matplotlib.pyplot as plt\n",
      "# adjust some settings for matplotlib\n",
      "from matplotlib import rcParams\n",
      "# print rcParams\n",
      "rcParams['font.size'] = 15\n",
      "# determine path of repository to set paths corretly below\n",
      "os.chdir(r'/Users/flow/git/pynoddy/docs/notebooks/')\n",
      "repo_path = os.path.realpath('../..')\n",
      "import pynoddy.history\n",
      "import pynoddy.events"
     ],
     "language": "python",
     "metadata": {},
     "outputs": [],
     "prompt_number": 14
    },
    {
     "cell_type": "code",
     "collapsed": false,
     "input": [
      "reload(pynoddy.history)\n",
      "reload(pynoddy.events)\n",
      "nm = pynoddy.history.NoddyHistory()\n",
      "# add stratigraphy\n",
      "strati_options = {'num_layers' : 8,\n",
      "                  'layer_names' : ['layer 1', 'layer 2', 'layer 3', 'layer 4', 'layer 5', 'layer 6', 'layer 7', 'layer 8'],\n",
      "                  'layer_thickness' : [1500, 500, 500, 500, 500, 500, 500, 500]}\n",
      "nm.add_event('stratigraphy', strati_options )\n",
      "\n",
      "# The following options define the fault geometry:\n",
      "fault_options = {'name' : 'Fault_W',\n",
      "                 'pos' : (4000, 3500, 5000),\n",
      "                 'dip_dir' : 90,\n",
      "                 'dip' : 60,\n",
      "                 'slip' : 1000}\n",
      "\n",
      "nm.add_event('fault', fault_options)\n",
      "# The following options define the fault geometry:\n",
      "fault_options = {'name' : 'Fault_E',\n",
      "                 'pos' : (6000, 3500, 5000),\n",
      "                 'dip_dir' : 270,\n",
      "                 'dip' : 60,\n",
      "                 'slip' : 1000}\n",
      "\n",
      "nm.add_event('fault', fault_options)\n",
      "history = \"two_faults_sensi.his\"\n",
      "nm.write_history_tmp(history)"
     ],
     "language": "python",
     "metadata": {},
     "outputs": [],
     "prompt_number": 15
    },
    {
     "cell_type": "code",
     "collapsed": false,
     "input": [
      "output_name = \"two_faults_sensi_out\"\n",
      "# Compute the model\n",
      "pynoddy.compute_model(history, output_name) \n"
     ],
     "language": "python",
     "metadata": {},
     "outputs": [],
     "prompt_number": 16
    },
    {
     "cell_type": "code",
     "collapsed": false,
     "input": [
      "# Plot output\n",
      "reload(pynoddy.output)\n",
      "nout = pynoddy.output.NoddyOutput(output_name)\n",
      "nout.plot_section('y', layer_labels = strati_options['layer_names'][::-1], \n",
      "                  colorbar = True, title=\"\",\n",
      "                  savefig = False)"
     ],
     "language": "python",
     "metadata": {},
     "outputs": [
      {
       "metadata": {},
       "output_type": "display_data",
       "png": "[encoded data removed]",
       "text": [
        "<matplotlib.figure.Figure at 0x10a74f990>"
       ]
      }
     ],
     "prompt_number": 17
    },
    {
     "cell_type": "markdown",
     "metadata": {},
     "source": [
      "## Define parameter uncertainties\n",
      "\n",
      "We will start with a sensitivity analysis for the parameters of the fault events. "
     ]
    },
    {
     "cell_type": "code",
     "collapsed": false,
     "input": [
      "H1 = pynoddy.history.NoddyHistory(history)\n",
      "# get the original dip of the fault\n",
      "dip_ori = H1.events[3].properties['Dip']\n",
      "# dip_ori1 = H1.events[2].properties['Dip']\n",
      "# add 10 degrees to dip\n",
      "add_dip = -20\n",
      "dip_new = dip_ori + add_dip\n",
      "# dip_new1 = dip_ori1 + add_dip\n",
      "\n",
      "# and assign back to properties dictionary:\n",
      "H1.events[3].properties['Dip'] = dip_new\n",
      "\n"
     ],
     "language": "python",
     "metadata": {},
     "outputs": [
      {
       "output_type": "stream",
       "stream": "stdout",
       "text": [
        " STRATIGRAPHY\n",
        " FAULT\n",
        " FAULT\n"
       ]
      }
     ],
     "prompt_number": 26
    },
    {
     "cell_type": "code",
     "collapsed": false,
     "input": [
      "reload(pynoddy.output)\n",
      "new_history = \"sensi_test_dip_changed.his\"\n",
      "new_output = \"sensi_test_dip_changed_out\"\n",
      "H1.write_history(new_history)\n",
      "pynoddy.compute_model(new_history, new_output)\n",
      "# load output from both models\n",
      "NO1 = pynoddy.output.NoddyOutput(output_name)\n",
      "NO2 = pynoddy.output.NoddyOutput(new_output)\n",
      "\n",
      "# create basic figure layout\n",
      "fig = plt.figure(figsize = (15,5))\n",
      "ax1 = fig.add_subplot(121)\n",
      "ax2 = fig.add_subplot(122)\n",
      "NO1.plot_section('y', position=0, ax = ax1, colorbar=False, title=\"Dip = %.0f\" % dip_ori)\n",
      "NO2.plot_section('y', position=0, ax = ax2, colorbar=False, title=\"Dip = %.0f\" % dip_new)\n",
      "\n",
      "plt.show()\n",
      "\n"
     ],
     "language": "python",
     "metadata": {},
     "outputs": [
      {
       "metadata": {},
       "output_type": "display_data",
       "png": "[encoded data removed]",
       "text": [
        "<matplotlib.figure.Figure at 0x10c5e2850>"
       ]
      }
     ],
     "prompt_number": 27
    },
    {
     "cell_type": "markdown",
     "metadata": {},
     "source": [
      "## Calculate total stratigraphic distance\n"
     ]
    },
    {
     "cell_type": "code",
     "collapsed": false,
     "input": [
      "def determine_strati_diff(NO1, NO2):\n",
      "    \"\"\"calculate total stratigraphic distance between two models\"\"\"\n",
      "    return np.sum(NO1.block - NO2.block) / float(len(NO1.block))\n",
      "\n",
      "diff = determine_strati_diff(NO1, NO2)"
     ],
     "language": "python",
     "metadata": {},
     "outputs": [],
     "prompt_number": 61
    },
    {
     "cell_type": "code",
     "collapsed": false,
     "input": [
      "diff"
     ],
     "language": "python",
     "metadata": {},
     "outputs": [
      {
       "metadata": {},
       "output_type": "pyout",
       "prompt_number": 62,
       "text": [
        "-2004.0999999999999"
       ]
      }
     ],
     "prompt_number": 62
    },
    {
     "cell_type": "markdown",
     "metadata": {},
     "source": [
      "## Function to modify parameters\n"
     ]
    },
    {
     "cell_type": "code",
     "collapsed": false,
     "input": [
      "# set parameter changes in dictionary\n",
      "\n",
      "changes_fault_1 = {'Dip' : -20}\n",
      "changes_fault_2 = {'Dip' : -20}\n",
      "param_changes = {2 : changes_fault_1,\n",
      "                 3 : changes_fault_2}"
     ],
     "language": "python",
     "metadata": {},
     "outputs": [],
     "prompt_number": 56
    },
    {
     "cell_type": "code",
     "collapsed": false,
     "input": [
      "reload(pynoddy.history)\n",
      "H2 = pynoddy.history.NoddyHistory(history)\n",
      "H2.change_event_params(param_changes)"
     ],
     "language": "python",
     "metadata": {},
     "outputs": [
      {
       "output_type": "stream",
       "stream": "stdout",
       "text": [
        " STRATIGRAPHY\n",
        " FAULT\n",
        " FAULT\n",
        "{2: {'Dip': -20}, 3: {'Dip': -20}}\n"
       ]
      }
     ],
     "prompt_number": 57
    },
    {
     "cell_type": "code",
     "collapsed": false,
     "input": [
      "new_history = \"param_dict_changes.his\"\n",
      "new_output = \"param_dict_changes_out\"\n",
      "H2.write_history(new_history)\n",
      "pynoddy.compute_model(new_history, new_output)\n",
      "# load output from both models\n",
      "NO1 = pynoddy.output.NoddyOutput(output_name)\n",
      "NO2 = pynoddy.output.NoddyOutput(new_output)\n",
      "\n",
      "# create basic figure layout\n",
      "fig = plt.figure(figsize = (15,5))\n",
      "ax1 = fig.add_subplot(121)\n",
      "ax2 = fig.add_subplot(122)\n",
      "NO1.plot_section('y', position=0, ax = ax1, colorbar=False, title=\"Original Model\")\n",
      "NO2.plot_section('y', position=0, ax = ax2, colorbar=False, title=\"Changed Model\")\n",
      "\n",
      "plt.show()"
     ],
     "language": "python",
     "metadata": {},
     "outputs": [
      {
       "metadata": {},
       "output_type": "display_data",
       "png": "[encoded data removed]",
       "text": [
        "<matplotlib.figure.Figure at 0x10a784150>"
       ]
      }
     ],
     "prompt_number": 60
    },
    {
     "cell_type": "markdown",
     "metadata": {},
     "source": [
      "## Full sensitivity analysis\n",
      "\n",
      "Perform now a full sensitivity analysis for all defined parameters and analyse the output matrix:"
     ]
    },
    {
     "cell_type": "code",
     "collapsed": false,
     "input": [
      "import copy\n",
      "new_history = \"sensi_tmp.his\"\n",
      "new_output = \"sensi_out\"\n",
      "def noddy_sensitivity(his, param_change_vals):\n",
      "    \"\"\"Perform noddy sensitivity analysis for a model\"\"\"\n",
      "    param_list = [] # list to store parameters for later analysis\n",
      "    distances = [] # list to store calcualted distances\n",
      "    changes_list = dict(dict())\n",
      "    # Step 1:\n",
      "    # create new parameter list to change model\n",
      "    for event_id, event_dict in param_changes_file.items(): # iterate over events\n",
      "        for key, val in his.events[event_id]: # iterate over all properties separately\n",
      "            param_list.append(\"event_%d_property_%s\" % (event_id, key))\n",
      "            for i in range(2):\n",
      "                # calculate positive and negative values\n",
      "                if i == 0:\n",
      "                    changes_list[event_id][key] = val\n",
      "                    # set changes\n",
      "                    his.change_event_params(changes_list)\n",
      "                    # save and calculate model\n",
      "                    his.write_history(new_history)\n",
      "                    pynoddy.compute_model(new_history, new_output)\n",
      "                    # open output and calculate distance\n",
      "                    NO_tmp = pynoddy.output.NoddyOutput(new_output)\n",
      "                    dist_pos = determine_strati_diff(NO1, NO_tmp))\n",
      "                if i == 1:\n",
      "                    changes_list[event_id][key] = -val\n",
      "                    # set changes\n",
      "                    his.change_event_params(changes_list)\n",
      "                    # save and calculate model\n",
      "                    his.write_history(new_history)\n",
      "                    pynoddy.compute_model(new_history, new_output)\n",
      "                    # open output and calculate distance\n",
      "                    NO_tmp = pynoddy.output.NoddyOutput(new_output)\n",
      "                    dist_neg = determine_strati_diff(NO1, NO_tmp)\n",
      "            # calculate central difference\n",
      "            central_diff = (dist_pos - dist_neg) / (2. * val)\n",
      "            distances.append(central_di:setn\n",
      "\n",
      "            "
     ],
     "language": "python",
     "metadata": {},
     "outputs": [
      {
       "ename": "SyntaxError",
       "evalue": "invalid syntax (<ipython-input-68-51a7aa81d055>, line 25)",
       "output_type": "pyerr",
       "traceback": [
        "\u001b[0;36m  File \u001b[0;32m\"<ipython-input-68-51a7aa81d055>\"\u001b[0;36m, line \u001b[0;32m25\u001b[0m\n\u001b[0;31m    dist_pos = determine_strati_diff(NO1, NO_tmp))\u001b[0m\n\u001b[0m                                                 ^\u001b[0m\n\u001b[0;31mSyntaxError\u001b[0m\u001b[0;31m:\u001b[0m invalid syntax\n"
       ]
      }
     ],
     "prompt_number": 68
    },
    {
     "cell_type": "code",
     "collapsed": false,
     "input": [
      "changes_fault_1 = {'Dip' : 10}\n",
      "changes_fault_2 = {'Dip' : 10}\n",
      "param_changes = {2 : changes_fault_1,\n",
      "                 3 : changes_fault_2}"
     ],
     "language": "python",
     "metadata": {},
     "outputs": [],
     "prompt_number": 65
    },
    {
     "cell_type": "code",
     "collapsed": false,
     "input": [
      "print len(param_changes)"
     ],
     "language": "python",
     "metadata": {},
     "outputs": [
      {
       "output_type": "stream",
       "stream": "stdout",
       "text": [
        "2\n"
       ]
      }
     ],
     "prompt_number": 66
    },
    {
     "cell_type": "code",
     "collapsed": false,
     "input": [],
     "language": "python",
     "metadata": {},
     "outputs": []
    }
   ],
   "metadata": {}
  }
 ]
}