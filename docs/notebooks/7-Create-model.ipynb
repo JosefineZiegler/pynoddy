{
 "metadata": {
  "name": "",
  "signature": "sha256:853d6a7c4cdbb8b92f1768550ca7f059e17490f11e9278ead560b12774582b4d"
 },
 "nbformat": 3,
 "nbformat_minor": 0,
 "worksheets": [
  {
   "cells": [
    {
     "cell_type": "markdown",
     "metadata": {},
     "source": [
      "Create a Noddy history file\n",
      "==============\n",
      "\n",
      "We describe here how to generate a simple history file for computation with Noddy using the functionality of pynoddy. If possible, it is advisable to generate the history files with the Windows GUI for Noddy as this method provides, to date, a simpler and more complete interface to the entire functionality. \n",
      "\n",
      "For completeness, pynoddy contains the functionality to generate simple models, for example to automate the model construction process, or to enable the model construction for users who are not running Windows. Some simple examlpes are shown in the following."
     ]
    },
    {
     "cell_type": "code",
     "collapsed": false,
     "input": [
      "from matplotlib import rc_params"
     ],
     "language": "python",
     "metadata": {},
     "outputs": [],
     "prompt_number": 1
    },
    {
     "cell_type": "code",
     "collapsed": false,
     "input": [
      "from IPython.core.display import HTML\n",
      "css_file = 'pynoddy.css'\n",
      "HTML(open(css_file, \"r\").read())"
     ],
     "language": "python",
     "metadata": {},
     "outputs": [
      {
       "html": [
        "<link href='http://fonts.googleapis.com/css?family=Alegreya+Sans:100,300,400,500,700,800,900,100italic,300italic,400italic,500italic,700italic,800italic,900italic' rel='stylesheet' type='text/css'>\n",
        "<link href='http://fonts.googleapis.com/css?family=Arvo:400,700,400italic' rel='stylesheet' type='text/css'>\n",
        "<link href='http://fonts.googleapis.com/css?family=PT+Mono' rel='stylesheet' type='text/css'>\n",
        "<link href='http://fonts.googleapis.com/css?family=Shadows+Into+Light' rel='stylesheet' type='text/css'>\n",
        "<link rel=\"stylesheet\" type=\"text/css\" href=\"http://fonts.googleapis.com/css?family=Tangerine\">\n",
        "<link href='http://fonts.googleapis.com/css?family=Philosopher:400,700,400italic,700italic' rel='stylesheet' type='text/css'>\n",
        "<link href='http://fonts.googleapis.com/css?family=Libre+Baskerville:400,400italic' rel='stylesheet' type='text/css'>\n",
        "<link href='http://fonts.googleapis.com/css?family=Lora:400,400italic' rel='stylesheet' type='text/css'>\n",
        "<link href='http://fonts.googleapis.com/css?family=Karla:400,400italic' rel='stylesheet' type='text/css'>\n",
        "\n",
        "<style>\n",
        "\n",
        "@font-face {\n",
        "    font-family: \"Computer Modern\";\n",
        "    src: url('http://mirrors.ctan.org/fonts/cm-unicode/fonts/otf/cmunss.otf');\n",
        "}\n",
        "\n",
        "#notebook_panel { /* main background */\n",
        "    background: #888;\n",
        "    color: #f6f6f6;\n",
        "}\n",
        "\n",
        "div.cell { /* set cell width to about 80 chars */\n",
        "    width: 800px;\n",
        "}\n",
        "\n",
        "div #notebook { /* centre the content */\n",
        "    background: #fff; /* white background for content */\n",
        "    width: 1000px;\n",
        "    margin: auto;\n",
        "    padding-left: 1em;\n",
        "}\n",
        "\n",
        "#notebook li { /* More space between bullet points */\n",
        "margin-top:0.8em;\n",
        "}\n",
        "\n",
        "/* draw border around running cells */\n",
        "div.cell.border-box-sizing.code_cell.running { \n",
        "    border: 3px solid #111;\n",
        "}\n",
        "\n",
        "/* Put a solid color box around each cell and its output, visually linking them together */\n",
        "div.cell.code_cell {\n",
        "    background: #ddd;  /* rgba(230,230,230,1.0);  */\n",
        "    border-radius: 10px; /* rounded borders */\n",
        "    width: 900px;\n",
        "    padding: 1em;\n",
        "    margin-top: 1em;\n",
        "}\n",
        "\n",
        "div.text_cell_render{\n",
        "    font-family: 'Arvo' sans-serif;\n",
        "    line-height: 130%;\n",
        "    font-size: 115%;\n",
        "    width:700px;\n",
        "    margin-left:auto;\n",
        "    margin-right:auto;\n",
        "}\n",
        "\n",
        "\n",
        "/* Formatting for header cells */\n",
        ".text_cell_render h1 {\n",
        "    font-family: 'Alegreya Sans', sans-serif;\n",
        "    /* font-family: 'Tangerine', serif; */\n",
        "    /* font-family: 'Libre Baskerville', serif; */\n",
        "    /* font-family: 'Karla', sans-serif;\n",
        "    /* font-family: 'Lora', serif; */\n",
        "    font-size: 50px;\n",
        "    text-align: center;\n",
        "    /* font-style: italic; */\n",
        "    font-weight: 400;\n",
        "    /* font-size: 40pt; */\n",
        "    /* text-shadow: 4px 4px 4px #aaa; */\n",
        "    line-height: 120%;\n",
        "    color: rgb(12,85,97);\n",
        "    margin-bottom: .5em;\n",
        "    margin-top: 0.1em;\n",
        "    display: block;\n",
        "}\t\n",
        ".text_cell_render h2 {\n",
        "    /* font-family: 'Arial', serif; */\n",
        "    /* font-family: 'Lora', serif; */\n",
        "    font-family: 'Alegreya Sans', sans-serif;\n",
        "    font-weight: 700;\n",
        "    font-size: 24pt;\n",
        "    line-height: 100%;\n",
        "    /* color: rgb(171,165,131); */\n",
        "    color: rgb(12,85,97);\n",
        "    margin-bottom: 0.1em;\n",
        "    margin-top: 0.1em;\n",
        "    display: block;\n",
        "}\t\n",
        "\n",
        ".text_cell_render h3 {\n",
        "    font-family: 'Arial', serif;\n",
        "    margin-top:12px;\n",
        "    margin-bottom: 3px;\n",
        "    font-style: italic;\n",
        "    color: rgb(95,92,72);\n",
        "}\n",
        "\n",
        ".text_cell_render h4 {\n",
        "    font-family: 'Arial', serif;\n",
        "}\n",
        "\n",
        ".text_cell_render h5 {\n",
        "    font-family: 'Alegreya Sans', sans-serif;\n",
        "    font-weight: 300;\n",
        "    font-size: 16pt;\n",
        "    color: grey;\n",
        "    font-style: italic;\n",
        "    margin-bottom: .1em;\n",
        "    margin-top: 0.1em;\n",
        "    display: block;\n",
        "}\n",
        "\n",
        ".text_cell_render h6 {\n",
        "    font-family: 'PT Mono', sans-serif;\n",
        "    font-weight: 300;\n",
        "    font-size: 10pt;\n",
        "    color: grey;\n",
        "    margin-bottom: 1px;\n",
        "    margin-top: 1px;\n",
        "}\n",
        "\n",
        ".CodeMirror{\n",
        "        font-family: \"PT Mono\";\n",
        "        font-size: 100%;\n",
        "}\n",
        "\n",
        "</style>\n"
       ],
       "metadata": {},
       "output_type": "pyout",
       "prompt_number": 2,
       "text": [
        "<IPython.core.display.HTML at 0x107569a10>"
       ]
      }
     ],
     "prompt_number": 2
    },
    {
     "cell_type": "code",
     "collapsed": false,
     "input": [
      "import sys, os\n",
      "import matplotlib.pyplot as plt\n",
      "# adjust some settings for matplotlib\n",
      "from matplotlib import rcParams\n",
      "# print rcParams\n",
      "rcParams['font.size'] = 15\n",
      "# determine path of repository to set paths corretly below\n",
      "os.chdir(r'/Users/flow/git/pynoddy/docs/notebooks/')\n",
      "repo_path = os.path.realpath('../..')\n",
      "import pynoddy.history"
     ],
     "language": "python",
     "metadata": {},
     "outputs": [],
     "prompt_number": 3
    },
    {
     "cell_type": "code",
     "collapsed": false,
     "input": [
      "%pylab inline"
     ],
     "language": "python",
     "metadata": {},
     "outputs": [
      {
       "output_type": "stream",
       "stream": "stdout",
       "text": [
        "Populating the interactive namespace from numpy and matplotlib\n"
       ]
      }
     ],
     "prompt_number": 4
    },
    {
     "cell_type": "code",
     "collapsed": false,
     "input": [
      "rcParams.update({'font.size': 20})"
     ],
     "language": "python",
     "metadata": {},
     "outputs": [],
     "prompt_number": 5
    },
    {
     "cell_type": "markdown",
     "metadata": {},
     "source": [
      "Defining a stratigraphy\n",
      "--------------\n",
      "\n",
      "We start with the definition of a (base) stratigraphy for the model. "
     ]
    },
    {
     "cell_type": "code",
     "collapsed": false,
     "input": [
      "# Combined: model generation and output vis to test:\n",
      "history = \"simple_model.his\"\n",
      "output_name = \"simple_out\"\n",
      "reload(pynoddy.history)\n",
      "reload(pynoddy.events)\n",
      "\n",
      "# create pynoddy object\n",
      "nm = pynoddy.history.NoddyHistory()\n",
      "# add stratigraphy\n",
      "strati_options = {'num_layers' : 8,\n",
      "                  'layer_names' : ['layer 1', 'layer 2', 'layer 3', \n",
      "                                   'layer 4', 'layer 5', 'layer 6', \n",
      "                                   'layer 7', 'layer 8'],\n",
      "                  'layer_thickness' : [1500, 500, 500, 500, 500, 500, 500, 500]}\n",
      "nm.add_event('stratigraphy', strati_options )\n",
      "\n",
      "nm.write_history(history)\n"
     ],
     "language": "python",
     "metadata": {},
     "outputs": [],
     "prompt_number": 6
    },
    {
     "cell_type": "code",
     "collapsed": false,
     "input": [
      "# Compute the model\n",
      "reload(pynoddy)\n",
      "pynoddy.compute_model(history, output_name) "
     ],
     "language": "python",
     "metadata": {},
     "outputs": [
      {
       "metadata": {},
       "output_type": "pyout",
       "prompt_number": 7,
       "text": [
        "'Running noddy exectuable at /Users/flow/git/pynoddy/pynoddy/noddy/noddy(.exe)\\n'"
       ]
      }
     ],
     "prompt_number": 7
    },
    {
     "cell_type": "code",
     "collapsed": false,
     "input": [
      "# Plot output\n",
      "import pynoddy.output\n",
      "reload(pynoddy.output)\n",
      "nout = pynoddy.output.NoddyOutput(output_name)\n",
      "nout.plot_section('y', layer_labels = strati_options['layer_names'][::-1], \n",
      "                  colorbar = True, title=\"\",\n",
      "                  savefig = False, fig_filename = \"ex01_strati.eps\")"
     ],
     "language": "python",
     "metadata": {},
     "outputs": [
      {
       "metadata": {},
       "output_type": "display_data",
       "png": "[encoded data removed]",
       "text": [
        "<matplotlib.figure.Figure at 0x10907bad0>"
       ]
      }
     ],
     "prompt_number": 9
    },
    {
     "cell_type": "markdown",
     "metadata": {},
     "source": [
      "Add a fault event\n",
      "----------\n",
      "\n",
      "As a next step, let's now add the faults to the model."
     ]
    },
    {
     "cell_type": "code",
     "collapsed": false,
     "input": [
      "reload(pynoddy.history)\n",
      "reload(pynoddy.events)\n",
      "nm = pynoddy.history.NoddyHistory()\n",
      "# add stratigraphy\n",
      "strati_options = {'num_layers' : 8,\n",
      "                  'layer_names' : ['layer 1', 'layer 2', 'layer 3', 'layer 4', 'layer 5', 'layer 6', 'layer 7', 'layer 8'],\n",
      "                  'layer_thickness' : [1500, 500, 500, 500, 500, 500, 500, 500]}\n",
      "nm.add_event('stratigraphy', strati_options )\n",
      "\n",
      "\n",
      "\n",
      "\n",
      "# The following options define the fault geometry:\n",
      "fault_options = {'name' : 'Fault_E',\n",
      "                 'pos' : (6000, 0, 5000),\n",
      "                 'dip_dir' : 270,\n",
      "                 'dip' : 60,\n",
      "                 'slip' : 1000}\n",
      "\n",
      "nm.add_event('fault', fault_options)"
     ],
     "language": "python",
     "metadata": {},
     "outputs": [],
     "prompt_number": 9
    },
    {
     "cell_type": "code",
     "collapsed": false,
     "input": [
      "nm.events"
     ],
     "language": "python",
     "metadata": {},
     "outputs": [
      {
       "metadata": {},
       "output_type": "pyout",
       "prompt_number": 10,
       "text": [
        "{1: <pynoddy.events.Stratigraphy at 0x1109f1950>,\n",
        " 2: <pynoddy.events.Fault at 0x110a08090>}"
       ]
      }
     ],
     "prompt_number": 10
    },
    {
     "cell_type": "code",
     "collapsed": false,
     "input": [
      "nm.write_history(history)"
     ],
     "language": "python",
     "metadata": {},
     "outputs": [],
     "prompt_number": 11
    },
    {
     "cell_type": "code",
     "collapsed": false,
     "input": [
      "# Compute the model\n",
      "pynoddy.compute_model(history, output_name) "
     ],
     "language": "python",
     "metadata": {},
     "outputs": [],
     "prompt_number": 12
    },
    {
     "cell_type": "code",
     "collapsed": false,
     "input": [
      "# Plot output\n",
      "reload(pynoddy.output)\n",
      "nout = pynoddy.output.NoddyOutput(output_name)\n",
      "nout.plot_section('y', layer_labels = strati_options['layer_names'][::-1], \n",
      "                  colorbar = True, title = \"\",\n",
      "                  savefig = False, fig_filename = \"ex01_fault_E.eps\")"
     ],
     "language": "python",
     "metadata": {},
     "outputs": [
      {
       "metadata": {},
       "output_type": "display_data",
       "png": "[encoded data removed]",
       "text": [
        "<matplotlib.figure.Figure at 0x110a3f1d0>"
       ]
      }
     ],
     "prompt_number": 13
    },
    {
     "cell_type": "code",
     "collapsed": false,
     "input": [
      "# The following options define the fault geometry:\n",
      "fault_options = {'name' : 'Fault_1',\n",
      "                 'pos' : (5500, 3500, 0),\n",
      "                 'dip_dir' : 270,\n",
      "                 'dip' : 60,\n",
      "                 'slip' : 1000}\n",
      "\n",
      "nm.add_event('fault', fault_options)"
     ],
     "language": "python",
     "metadata": {},
     "outputs": [],
     "prompt_number": 14
    },
    {
     "cell_type": "code",
     "collapsed": false,
     "input": [
      "nm.write_history(history)"
     ],
     "language": "python",
     "metadata": {},
     "outputs": [],
     "prompt_number": 15
    },
    {
     "cell_type": "code",
     "collapsed": false,
     "input": [
      "# Compute the model\n",
      "pynoddy.compute_model(history, output_name) "
     ],
     "language": "python",
     "metadata": {},
     "outputs": [],
     "prompt_number": 16
    },
    {
     "cell_type": "code",
     "collapsed": false,
     "input": [
      "# Plot output\n",
      "reload(pynoddy.output)\n",
      "nout = pynoddy.output.NoddyOutput(output_name)\n",
      "nout.plot_section('y', layer_labels = strati_options['layer_names'][::-1], colorbar = True)"
     ],
     "language": "python",
     "metadata": {},
     "outputs": [
      {
       "metadata": {},
       "output_type": "display_data",
       "png": "[encoded data removed]",
       "text": [
        "<matplotlib.figure.Figure at 0x111fc3550>"
       ]
      }
     ],
     "prompt_number": 17
    },
    {
     "cell_type": "code",
     "collapsed": false,
     "input": [
      "nm1 = pynoddy.history.NoddyHistory(history)"
     ],
     "language": "python",
     "metadata": {},
     "outputs": [
      {
       "output_type": "stream",
       "stream": "stdout",
       "text": [
        " STRATIGRAPHY\n",
        " FAULT\n",
        " FAULT\n"
       ]
      }
     ],
     "prompt_number": 18
    },
    {
     "cell_type": "code",
     "collapsed": false,
     "input": [
      "nm1.get_extent()"
     ],
     "language": "python",
     "metadata": {},
     "outputs": [
      {
       "metadata": {},
       "output_type": "pyout",
       "prompt_number": 19,
       "text": [
        "(10000.0, 7000.0, 5000.0)"
       ]
      }
     ],
     "prompt_number": 19
    },
    {
     "cell_type": "code",
     "collapsed": false,
     "input": [
      "reload(pynoddy.history)\n",
      "reload(pynoddy.events)\n",
      "nm = pynoddy.history.NoddyHistory()\n",
      "# add stratigraphy\n",
      "strati_options = {'num_layers' : 8,\n",
      "                  'layer_names' : ['layer 1', 'layer 2', 'layer 3',\n",
      "                                   'layer 4', 'layer 5', 'layer 6', \n",
      "                                   'layer 7', 'layer 8'],\n",
      "                  'layer_thickness' : [1500, 500, 500, 500, 500, \n",
      "                                       500, 500, 500]}\n",
      "nm.add_event('stratigraphy', strati_options )\n",
      "\n",
      "# The following options define the fault geometry:\n",
      "fault_options = {'name' : 'Fault_W',\n",
      "                 'pos' : (4000, 3500, 5000),\n",
      "                 'dip_dir' : 90,\n",
      "                 'dip' : 60,\n",
      "                 'slip' : 1000}\n",
      "\n",
      "nm.add_event('fault', fault_options)\n",
      "# The following options define the fault geometry:\n",
      "fault_options = {'name' : 'Fault_E',\n",
      "                 'pos' : (6000, 3500, 5000),\n",
      "                 'dip_dir' : 270,\n",
      "                 'dip' : 60,\n",
      "                 'slip' : 1000}\n",
      "\n",
      "nm.add_event('fault', fault_options)\n",
      "nm.write_history(history)"
     ],
     "language": "python",
     "metadata": {},
     "outputs": [],
     "prompt_number": 22
    },
    {
     "cell_type": "code",
     "collapsed": false,
     "input": [
      "# Change cube size\n",
      "nm1 = pynoddy.NoddyHistory(history)\n",
      "nm1.change_cube_size(50)\n",
      "nm1.write_history(history)"
     ],
     "language": "python",
     "metadata": {},
     "outputs": [
      {
       "output_type": "stream",
       "stream": "stdout",
       "text": [
        " STRATIGRAPHY\n",
        " FAULT\n",
        " FAULT\n"
       ]
      }
     ],
     "prompt_number": 23
    },
    {
     "cell_type": "code",
     "collapsed": false,
     "input": [
      "# Compute the model\n",
      "pynoddy.compute_model(history, output_name) "
     ],
     "language": "python",
     "metadata": {},
     "outputs": [],
     "prompt_number": 24
    },
    {
     "cell_type": "code",
     "collapsed": false,
     "input": [
      "# Plot output\n",
      "reload(pynoddy.output)\n",
      "nout = pynoddy.output.NoddyOutput(output_name)\n",
      "nout.plot_section('y', layer_labels = strati_options['layer_names'][::-1], \n",
      "                  colorbar = True, title=\"\",\n",
      "                  savefig = True, fig_filename = \"ex01_faults_combined.eps\",\n",
      "                  cmap = 'YlOrRd') # note: YlOrRd colourmap should be suitable for colorblindness!\n"
     ],
     "language": "python",
     "metadata": {},
     "outputs": [
      {
       "metadata": {},
       "output_type": "display_data",
       "png": "[encoded data removed]",
       "text": [
        "<matplotlib.figure.Figure at 0x112147a90>"
       ]
      }
     ],
     "prompt_number": 25
    },
    {
     "cell_type": "code",
     "collapsed": false,
     "input": [
      "nout.export_to_vtk()"
     ],
     "language": "python",
     "metadata": {},
     "outputs": [],
     "prompt_number": 26
    },
    {
     "cell_type": "code",
     "collapsed": false,
     "input": [
      "# Compare to \"simple two faults\" model in examples folder\n",
      "nm_faults = pynoddy.history.NoddyHistory(r'../../examples/simple_two_faults.his')"
     ],
     "language": "python",
     "metadata": {},
     "outputs": [
      {
       "output_type": "stream",
       "stream": "stdout",
       "text": [
        " STRATIGRAPHY\n",
        " FAULT\n",
        " FAULT\n"
       ]
      }
     ],
     "prompt_number": 27
    },
    {
     "cell_type": "code",
     "collapsed": false,
     "input": [
      "nm_faults.events"
     ],
     "language": "python",
     "metadata": {},
     "outputs": [
      {
       "metadata": {},
       "output_type": "pyout",
       "prompt_number": 28,
       "text": [
        "{1: <pynoddy.events.Stratigraphy at 0x1120a9b10>,\n",
        " 2: <pynoddy.events.Fault at 0x1120a9e90>,\n",
        " 3: <pynoddy.events.Fault at 0x1120a9250>}"
       ]
      }
     ],
     "prompt_number": 28
    },
    {
     "cell_type": "code",
     "collapsed": false,
     "input": [
      "nm_faults.events[3].properties"
     ],
     "language": "python",
     "metadata": {},
     "outputs": [
      {
       "metadata": {},
       "output_type": "pyout",
       "prompt_number": 29,
       "text": [
        "{'Amplitude': 2000.0,\n",
        " 'Blue': 0.0,\n",
        " 'Color Name': 'Custom Colour 5',\n",
        " 'Cyl Index': 0.0,\n",
        " 'Dip': 60.0,\n",
        " 'Dip Direction': 270.0,\n",
        " 'Geometry': 'Translation',\n",
        " 'Green': 0.0,\n",
        " 'Movement': 'Hanging Wall',\n",
        " 'Pitch': 90.0,\n",
        " 'Profile Pitch': 90.0,\n",
        " 'Radius': 1000.0,\n",
        " 'Red': 254.0,\n",
        " 'Rotation': 30.0,\n",
        " 'Slip': 1000.0,\n",
        " 'X': 5500.0,\n",
        " 'XAxis': 2000.0,\n",
        " 'Y': 7000.0,\n",
        " 'YAxis': 2000.0,\n",
        " 'Z': 5000.0,\n",
        " 'ZAxis': 2000.0}"
       ]
      }
     ],
     "prompt_number": 29
    },
    {
     "cell_type": "code",
     "collapsed": false,
     "input": [
      "nm_faults.write_history(\"test_ori\")"
     ],
     "language": "python",
     "metadata": {},
     "outputs": [],
     "prompt_number": 30
    },
    {
     "cell_type": "code",
     "collapsed": false,
     "input": [
      "pynoddy.compute_model(\"test_ori\", \"ori_fault\")"
     ],
     "language": "python",
     "metadata": {},
     "outputs": [],
     "prompt_number": 31
    },
    {
     "cell_type": "code",
     "collapsed": false,
     "input": [
      "n_out_faults = pynoddy.output.NoddyOutput(\"ori_fault\")"
     ],
     "language": "python",
     "metadata": {},
     "outputs": [],
     "prompt_number": 32
    },
    {
     "cell_type": "code",
     "collapsed": false,
     "input": [
      "n_out_faults.plot_section('y')"
     ],
     "language": "python",
     "metadata": {},
     "outputs": [
      {
       "metadata": {},
       "output_type": "display_data",
       "png": "[encoded data removed]",
       "text": [
        "<matplotlib.figure.Figure at 0x112069850>"
       ]
      }
     ],
     "prompt_number": 33
    },
    {
     "cell_type": "code",
     "collapsed": false,
     "input": [
      "nout.plot_section('y', layer_labels = strati_options['layer_names'][::-1], colorbar = True)"
     ],
     "language": "python",
     "metadata": {},
     "outputs": [
      {
       "metadata": {},
       "output_type": "display_data",
       "png": "[encoded data removed]",
       "text": [
        "<matplotlib.figure.Figure at 0x112216250>"
       ]
      }
     ],
     "prompt_number": 34
    },
    {
     "cell_type": "code",
     "collapsed": false,
     "input": [
      "os.getcwd()"
     ],
     "language": "python",
     "metadata": {},
     "outputs": [
      {
       "metadata": {},
       "output_type": "pyout",
       "prompt_number": 35,
       "text": [
        "'/Users/flow/git/pynoddy/docs/notebooks'"
       ]
      }
     ],
     "prompt_number": 35
    },
    {
     "cell_type": "code",
     "collapsed": false,
     "input": [],
     "language": "python",
     "metadata": {},
     "outputs": []
    }
   ],
   "metadata": {}
  }
 ]
}