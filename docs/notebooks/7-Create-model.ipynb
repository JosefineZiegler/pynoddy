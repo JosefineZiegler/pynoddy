{
 "metadata": {
  "name": "",
  "signature": "sha256:63bb4bfa064fa089495cf11af70ce69c3526314c7f58b9cc0e1a018bef702b10"
 },
 "nbformat": 3,
 "nbformat_minor": 0,
 "worksheets": [
  {
   "cells": [
    {
     "cell_type": "markdown",
     "metadata": {},
     "source": [
      "Create a Noddy history file\n",
      "==============\n",
      "\n",
      "We describe here how to generate a simple history file for computation with Noddy using the functionality of pynoddy. If possible, it is advisable to generate the history files with the Windows GUI for Noddy as this method provides, to date, a simpler and more complete interface to the entire functionality. \n",
      "\n",
      "For completeness, pynoddy contains the functionality to generate simple models, for example to automate the model construction process, or to enable the model construction for users who are not running Windows. Some simple examlpes are shown in the following."
     ]
    },
    {
     "cell_type": "code",
     "collapsed": false,
     "input": [
      "from matplotlib import rc_params"
     ],
     "language": "python",
     "metadata": {},
     "outputs": [],
     "prompt_number": 1
    },
    {
     "cell_type": "code",
     "collapsed": false,
     "input": [
      "import sys, os\n",
      "import matplotlib.pyplot as plt\n",
      "# adjust some settings for matplotlib\n",
      "from matplotlib import rcParams\n",
      "# print rcParams\n",
      "rcParams['font.size'] = 15\n",
      "# determine path of repository to set paths corretly below\n",
      "os.chdir(r'/Users/flow/git/pynoddy/docs/notebooks/')\n",
      "repo_path = os.path.realpath('../..')\n",
      "import pynoddy.history"
     ],
     "language": "python",
     "metadata": {},
     "outputs": [],
     "prompt_number": 2
    },
    {
     "cell_type": "code",
     "collapsed": false,
     "input": [
      "%pylab inline"
     ],
     "language": "python",
     "metadata": {},
     "outputs": [
      {
       "output_type": "stream",
       "stream": "stdout",
       "text": [
        "Populating the interactive namespace from numpy and matplotlib\n"
       ]
      }
     ],
     "prompt_number": 3
    },
    {
     "cell_type": "code",
     "collapsed": false,
     "input": [
      "rcParams.update({'font.size': 20})"
     ],
     "language": "python",
     "metadata": {},
     "outputs": [],
     "prompt_number": 4
    },
    {
     "cell_type": "markdown",
     "metadata": {},
     "source": [
      "Defining a stratigraphy\n",
      "--------------\n",
      "\n",
      "We start with the definition of a (base) stratigraphy for the model. "
     ]
    },
    {
     "cell_type": "code",
     "collapsed": false,
     "input": [
      "# Combined: model generation and output vis to test:\n",
      "history = \"simple_model.his\"\n",
      "output_name = \"simple_out\"\n",
      "reload(pynoddy.history)\n",
      "reload(pynoddy.events)\n",
      "nm = pynoddy.history.NoddyHistory()\n",
      "# add stratigraphy\n",
      "strati_options = {'num_layers' : 8,\n",
      "                  'layer_names' : ['layer 1', 'layer 2', 'layer 3', 'layer 4', 'layer 5', 'layer 6', 'layer 7', 'layer 8'],\n",
      "                  'layer_thickness' : [1500, 500, 500, 500, 500, 500, 500, 500]}\n",
      "nm.add_event('stratigraphy', strati_options )\n",
      "\n",
      "nm.write_history_tmp(history)\n"
     ],
     "language": "python",
     "metadata": {},
     "outputs": [],
     "prompt_number": 9
    },
    {
     "cell_type": "code",
     "collapsed": false,
     "input": [
      "# Compute the model\n",
      "reload(pynoddy)\n",
      "pynoddy.compute_model(history, output_name) "
     ],
     "language": "python",
     "metadata": {},
     "outputs": [
      {
       "output_type": "stream",
       "stream": "stdout",
       "text": [
        "\n"
       ]
      }
     ],
     "prompt_number": 10
    },
    {
     "cell_type": "code",
     "collapsed": false,
     "input": [
      "# Plot output\n",
      "reload(pynoddy.output)\n",
      "nout = pynoddy.output.NoddyOutput(output_name)\n",
      "nout.plot_section('y', layer_labels = strati_options['layer_names'][::-1], \n",
      "                  colorbar = True, title=\"\",\n",
      "                  savefig = True, fig_filename = \"ex01_strati.eps\")"
     ],
     "language": "python",
     "metadata": {},
     "outputs": [
      {
       "metadata": {},
       "output_type": "display_data",
       "png": "[encoded data removed]",
       "text": [
        "<matplotlib.figure.Figure at 0x10f3cc9d0>"
       ]
      }
     ],
     "prompt_number": 11
    },
    {
     "cell_type": "markdown",
     "metadata": {},
     "source": [
      "Add a fault event\n",
      "----------\n",
      "\n",
      "As a next step, let's now add the faults to the model."
     ]
    },
    {
     "cell_type": "code",
     "collapsed": false,
     "input": [
      "reload(pynoddy.history)\n",
      "reload(pynoddy.events)\n",
      "nm = pynoddy.history.NewHistory()\n",
      "# add stratigraphy\n",
      "strati_options = {'num_layers' : 8,\n",
      "                  'layer_names' : ['layer 1', 'layer 2', 'layer 3', 'layer 4', 'layer 5', 'layer 6', 'layer 7', 'layer 8'],\n",
      "                  'layer_thickness' : [1500, 500, 500, 500, 500, 500, 500, 500]}\n",
      "nm.add_event('stratigraphy', strati_options )\n",
      "\n",
      "\n",
      "\n",
      "\n",
      "# The following options define the fault geometry:\n",
      "fault_options = {'name' : 'Fault_E',\n",
      "                 'pos' : (6000, 0, 5000),\n",
      "                 'dip_dir' : 270,\n",
      "                 'dip' : 60,\n",
      "                 'slip' : 1000}\n",
      "\n",
      "nm.add_event('fault', fault_options)"
     ],
     "language": "python",
     "metadata": {},
     "outputs": [],
     "prompt_number": 317
    },
    {
     "cell_type": "code",
     "collapsed": false,
     "input": [
      "nm.events"
     ],
     "language": "python",
     "metadata": {},
     "outputs": [
      {
       "metadata": {},
       "output_type": "pyout",
       "prompt_number": 318,
       "text": [
        "{1: <pynoddy.events.Stratigraphy instance at 0x10b4e8e18>,\n",
        " 2: <pynoddy.events.Fault instance at 0x10c698e60>}"
       ]
      }
     ],
     "prompt_number": 318
    },
    {
     "cell_type": "code",
     "collapsed": false,
     "input": [
      "nm.write_history(history)"
     ],
     "language": "python",
     "metadata": {},
     "outputs": [],
     "prompt_number": 319
    },
    {
     "cell_type": "code",
     "collapsed": false,
     "input": [
      "# Compute the model\n",
      "pynoddy.compute_model(history, output_name) "
     ],
     "language": "python",
     "metadata": {},
     "outputs": [],
     "prompt_number": 320
    },
    {
     "cell_type": "code",
     "collapsed": false,
     "input": [
      "# Plot output\n",
      "reload(pynoddy.output)\n",
      "nout = pynoddy.output.NoddyOutput(output_name)\n",
      "nout.plot_section('y', layer_labels = strati_options['layer_names'][::-1], \n",
      "                  colorbar = True, title = \"\",\n",
      "                  savefig = True, fig_filename = \"ex01_fault_E.eps\")"
     ],
     "language": "python",
     "metadata": {},
     "outputs": [
      {
       "metadata": {},
       "output_type": "display_data",
       "png": "[encoded data removed]",
       "text": [
        "<matplotlib.figure.Figure at 0x10c7b5250>"
       ]
      }
     ],
     "prompt_number": 321
    },
    {
     "cell_type": "code",
     "collapsed": false,
     "input": [
      "# The following options define the fault geometry:\n",
      "fault_options = {'name' : 'Fault_1',\n",
      "                 'pos' : (5500, 3500, 0),\n",
      "                 'dip_dir' : 270,\n",
      "                 'dip' : 60,\n",
      "                 'slip' : 1000}\n",
      "\n",
      "nm.add_event('fault', fault_options)"
     ],
     "language": "python",
     "metadata": {},
     "outputs": [],
     "prompt_number": 34
    },
    {
     "cell_type": "code",
     "collapsed": false,
     "input": [
      "nm.write_history(history)"
     ],
     "language": "python",
     "metadata": {},
     "outputs": [],
     "prompt_number": 35
    },
    {
     "cell_type": "code",
     "collapsed": false,
     "input": [
      "# Compute the model\n",
      "pynoddy.compute_model(history, output_name) "
     ],
     "language": "python",
     "metadata": {},
     "outputs": [],
     "prompt_number": 36
    },
    {
     "cell_type": "code",
     "collapsed": false,
     "input": [
      "# Plot output\n",
      "reload(pynoddy.output)\n",
      "nout = pynoddy.output.NoddyOutput(output_name)\n",
      "nout.plot_section('y', layer_labels = strati_options['layer_names'][::-1], colorbar = True)"
     ],
     "language": "python",
     "metadata": {},
     "outputs": [
      {
       "metadata": {},
       "output_type": "display_data",
       "png": "[encoded data removed]",
       "text": [
        "<matplotlib.figure.Figure at 0x10c6d0610>"
       ]
      }
     ],
     "prompt_number": 37
    },
    {
     "cell_type": "code",
     "collapsed": false,
     "input": [
      "nm1 = pynoddy.history.NoddyHistory(history)"
     ],
     "language": "python",
     "metadata": {},
     "outputs": [
      {
       "output_type": "stream",
       "stream": "stdout",
       "text": [
        " STRATIGRAPHY\n",
        " FAULT\n",
        " FAULT\n"
       ]
      }
     ],
     "prompt_number": 39
    },
    {
     "cell_type": "code",
     "collapsed": false,
     "input": [
      "nm1.get_extent()"
     ],
     "language": "python",
     "metadata": {},
     "outputs": [
      {
       "metadata": {},
       "output_type": "pyout",
       "prompt_number": 40,
       "text": [
        "(10000.0, 7000.0, 5000.0)"
       ]
      }
     ],
     "prompt_number": 40
    },
    {
     "cell_type": "code",
     "collapsed": false,
     "input": [
      "reload(pynoddy.history)\n",
      "reload(pynoddy.events)\n",
      "nm = pynoddy.history.NewHistory()\n",
      "# add stratigraphy\n",
      "strati_options = {'num_layers' : 8,\n",
      "                  'layer_names' : ['layer 1', 'layer 2', 'layer 3', 'layer 4', 'layer 5', 'layer 6', 'layer 7', 'layer 8'],\n",
      "                  'layer_thickness' : [1500, 500, 500, 500, 500, 500, 500, 500]}\n",
      "nm.add_event('stratigraphy', strati_options )\n",
      "\n",
      "# The following options define the fault geometry:\n",
      "fault_options = {'name' : 'Fault_W',\n",
      "                 'pos' : (4000, 3500, 5000),\n",
      "                 'dip_dir' : 90,\n",
      "                 'dip' : 60,\n",
      "                 'slip' : 1000}\n",
      "\n",
      "nm.add_event('fault', fault_options)\n",
      "# The following options define the fault geometry:\n",
      "fault_options = {'name' : 'Fault_E',\n",
      "                 'pos' : (6000, 3500, 5000),\n",
      "                 'dip_dir' : 270,\n",
      "                 'dip' : 60,\n",
      "                 'slip' : 1000}\n",
      "\n",
      "nm.add_event('fault', fault_options)\n",
      "nm.write_history(history)"
     ],
     "language": "python",
     "metadata": {},
     "outputs": [],
     "prompt_number": 372
    },
    {
     "cell_type": "code",
     "collapsed": false,
     "input": [
      "# Change cube size\n",
      "nm1 = pynoddy.NoddyHistory(history)\n",
      "nm1.change_cube_size(50)\n",
      "nm1.write_history(history)"
     ],
     "language": "python",
     "metadata": {},
     "outputs": [
      {
       "output_type": "stream",
       "stream": "stdout",
       "text": [
        " STRATIGRAPHY\n",
        " FAULT\n",
        " FAULT\n"
       ]
      }
     ],
     "prompt_number": 373
    },
    {
     "cell_type": "code",
     "collapsed": false,
     "input": [
      "# Compute the model\n",
      "pynoddy.compute_model(history, output_name) "
     ],
     "language": "python",
     "metadata": {},
     "outputs": [],
     "prompt_number": 374
    },
    {
     "cell_type": "code",
     "collapsed": false,
     "input": [
      "# Plot output\n",
      "reload(pynoddy.output)\n",
      "nout = pynoddy.output.NoddyOutput(output_name)\n",
      "nout.plot_section('y', layer_labels = strati_options['layer_names'][::-1], \n",
      "                  colorbar = True, title=\"\",\n",
      "                  savefig = True, fig_filename = \"ex01_faults_combined.eps\",\n",
      "                  cmap = 'YlOrRd') # note: YlOrRd colourmap should be suitable for colorblindness!\n"
     ],
     "language": "python",
     "metadata": {},
     "outputs": [
      {
       "metadata": {},
       "output_type": "display_data",
       "png": "[encoded data removed]",
       "text": [
        "<matplotlib.figure.Figure at 0x10c64cd90>"
       ]
      }
     ],
     "prompt_number": 375
    },
    {
     "cell_type": "code",
     "collapsed": false,
     "input": [
      "nout.export_to_vtk()"
     ],
     "language": "python",
     "metadata": {},
     "outputs": [],
     "prompt_number": 87
    },
    {
     "cell_type": "code",
     "collapsed": false,
     "input": [
      "# Compare to \"simple two faults\" model in examples folder\n",
      "nm_faults = pynoddy.history.NoddyHistory(r'../../examples/simple_two_faults.his')"
     ],
     "language": "python",
     "metadata": {},
     "outputs": [
      {
       "output_type": "stream",
       "stream": "stdout",
       "text": [
        " STRATIGRAPHY\n",
        " FAULT\n",
        " FAULT\n"
       ]
      }
     ],
     "prompt_number": 124
    },
    {
     "cell_type": "code",
     "collapsed": false,
     "input": [
      "nm_faults.events"
     ],
     "language": "python",
     "metadata": {},
     "outputs": [
      {
       "metadata": {},
       "output_type": "pyout",
       "prompt_number": 125,
       "text": [
        "{1: <pynoddy.events.Stratigraphy instance at 0x10b4c9b90>,\n",
        " 2: <pynoddy.events.Fault instance at 0x10b4c9e60>,\n",
        " 3: <pynoddy.events.Fault instance at 0x10b4c9ef0>}"
       ]
      }
     ],
     "prompt_number": 125
    },
    {
     "cell_type": "code",
     "collapsed": false,
     "input": [
      "nm_faults.events[3].properties"
     ],
     "language": "python",
     "metadata": {},
     "outputs": [
      {
       "metadata": {},
       "output_type": "pyout",
       "prompt_number": 145,
       "text": [
        "{'Amplitude': 2000.0,\n",
        " 'Blue': 0.0,\n",
        " 'Color Name': 'Custom Colour 5',\n",
        " 'Cyl Index': 0.0,\n",
        " 'Dip': 60.0,\n",
        " 'Dip Direction': 270.0,\n",
        " 'Geometry': 'Translation',\n",
        " 'Green': 0.0,\n",
        " 'Movement': 'Hanging Wall',\n",
        " 'Pitch': 90.0,\n",
        " 'Profile Pitch': 90.0,\n",
        " 'Radius': 1000.0,\n",
        " 'Red': 254.0,\n",
        " 'Rotation': 30.0,\n",
        " 'Slip': 1000.0,\n",
        " 'X': 5500.0,\n",
        " 'XAxis': 2000.0,\n",
        " 'Y': 7000.0,\n",
        " 'YAxis': 2000.0,\n",
        " 'Z': 5000.0,\n",
        " 'ZAxis': 2000.0}"
       ]
      }
     ],
     "prompt_number": 145
    },
    {
     "cell_type": "code",
     "collapsed": false,
     "input": [
      "nm_faults.write_history(\"test_ori\")"
     ],
     "language": "python",
     "metadata": {},
     "outputs": [],
     "prompt_number": 128
    },
    {
     "cell_type": "code",
     "collapsed": false,
     "input": [
      "pynoddy.compute_model(\"test_ori\", \"ori_fault\")"
     ],
     "language": "python",
     "metadata": {},
     "outputs": [],
     "prompt_number": 129
    },
    {
     "cell_type": "code",
     "collapsed": false,
     "input": [
      "n_out_faults = pynoddy.output.NoddyOutput(\"ori_fault\")"
     ],
     "language": "python",
     "metadata": {},
     "outputs": [],
     "prompt_number": 132
    },
    {
     "cell_type": "code",
     "collapsed": false,
     "input": [
      "n_out_faults.plot_section('y')"
     ],
     "language": "python",
     "metadata": {},
     "outputs": [
      {
       "metadata": {},
       "output_type": "display_data",
       "png": "[encoded data removed]",
       "text": [
        "<matplotlib.figure.Figure at 0x10c1ab1d0>"
       ]
      }
     ],
     "prompt_number": 133
    },
    {
     "cell_type": "code",
     "collapsed": false,
     "input": [
      "nout.plot_section('y', layer_labels = strati_options['layer_names'][::-1], colorbar = True)"
     ],
     "language": "python",
     "metadata": {},
     "outputs": [
      {
       "metadata": {},
       "output_type": "display_data",
       "png": "[encoded data removed]",
       "text": [
        "<matplotlib.figure.Figure at 0x10d47ae90>"
       ]
      }
     ],
     "prompt_number": 187
    },
    {
     "cell_type": "code",
     "collapsed": false,
     "input": [
      "os.getcwd()"
     ],
     "language": "python",
     "metadata": {},
     "outputs": [
      {
       "metadata": {},
       "output_type": "pyout",
       "prompt_number": 328,
       "text": [
        "'/Users/flow/git/pynoddy/docs/notebooks'"
       ]
      }
     ],
     "prompt_number": 328
    },
    {
     "cell_type": "code",
     "collapsed": false,
     "input": [],
     "language": "python",
     "metadata": {},
     "outputs": []
    }
   ],
   "metadata": {}
  }
 ]
}