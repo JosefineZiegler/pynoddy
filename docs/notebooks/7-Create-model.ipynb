{
 "metadata": {
  "name": "",
  "signature": "sha256:46513e46dbb8aced2267ad2c067ed4a124b9e3deb83ba9be17a27d7575d23241"
 },
 "nbformat": 3,
 "nbformat_minor": 0,
 "worksheets": [
  {
   "cells": [
    {
     "cell_type": "markdown",
     "metadata": {},
     "source": [
      "Create a Noddy history file\n",
      "==============\n",
      "\n",
      "We describe here how to generate a simple history file for computation with Noddy using the functionality of pynoddy. If possible, it is advisable to generate the history files with the Windows GUI for Noddy as this method provides, to date, a simpler and more complete interface to the entire functionality. \n",
      "\n",
      "For completeness, pynoddy contains the functionality to generate simple models, for example to automate the model construction process, or to enable the model construction for users who are not running Windows. Some simple examlpes are shown in the following."
     ]
    },
    {
     "cell_type": "code",
     "collapsed": false,
     "input": [
      "import sys, os\n",
      "import matplotlib.pyplot as plt\n",
      "# adjust some settings for matplotlib\n",
      "from matplotlib import rcParams\n",
      "# print rcParams\n",
      "rcParams['font.size'] = 15\n",
      "# determine path of repository to set paths corretly below\n",
      "os.chdir(r'/Users/flow/git/pynoddy/docs/notebooks/')\n",
      "repo_path = os.path.realpath('../..')\n",
      "import pynoddy.history"
     ],
     "language": "python",
     "metadata": {},
     "outputs": [],
     "prompt_number": 1
    },
    {
     "cell_type": "code",
     "collapsed": false,
     "input": [
      "%pylab inline"
     ],
     "language": "python",
     "metadata": {},
     "outputs": [
      {
       "output_type": "stream",
       "stream": "stdout",
       "text": [
        "Populating the interactive namespace from numpy and matplotlib\n"
       ]
      }
     ],
     "prompt_number": 2
    },
    {
     "cell_type": "markdown",
     "metadata": {},
     "source": [
      "Defining a stratigraphy\n",
      "--------------\n",
      "\n",
      "We start with the definition of a (base) stratigraphy for the model. "
     ]
    },
    {
     "cell_type": "code",
     "collapsed": false,
     "input": [
      "# Combined: model generation and output vis to test:\n",
      "history = \"simple_model.his\"\n",
      "output_name = \"simple_out\"\n",
      "reload(pynoddy.history)\n",
      "reload(pynoddy.events)\n",
      "nm = pynoddy.history.NewHistory()\n",
      "# add stratigraphy\n",
      "strati_options = {'num_layers' : 8,\n",
      "                  'layer_names' : ['layer_1', 'layer_2', 'layer_3', 'layer_4', 'layer_5', 'layer_6', 'layer_7', 'layer_8'],\n",
      "                  'layer_thickness' : [500, 500, 500, 500, 500, 500, 500, 500]}\n",
      "nm.add_event('stratigraphy', strati_options )\n",
      "\n",
      "nm.write_history(history)\n"
     ],
     "language": "python",
     "metadata": {},
     "outputs": [],
     "prompt_number": 181
    },
    {
     "cell_type": "code",
     "collapsed": false,
     "input": [
      "# Compute the model\n",
      "pynoddy.compute_model(history, output_name) "
     ],
     "language": "python",
     "metadata": {},
     "outputs": [],
     "prompt_number": 182
    },
    {
     "cell_type": "code",
     "collapsed": false,
     "input": [
      "# Plot output\n",
      "reload(pynoddy.output)\n",
      "nout = pynoddy.output.NoddyOutput(output_name)\n",
      "nout.plot_section('y', layer_labels = strati_options['layer_names'][::-1], colorbar = True)"
     ],
     "language": "python",
     "metadata": {},
     "outputs": [
      {
       "metadata": {},
       "output_type": "display_data",
       "png": "[encoded data removed]",
       "text": [
        "<matplotlib.figure.Figure at 0x10c191650>"
       ]
      }
     ],
     "prompt_number": 183
    },
    {
     "cell_type": "markdown",
     "metadata": {},
     "source": [
      "Add a fault event\n",
      "----------\n",
      "\n",
      "As a next step, let's now add the faults to the model."
     ]
    },
    {
     "cell_type": "code",
     "collapsed": false,
     "input": [
      "reload(pynoddy.history)\n",
      "reload(pynoddy.events)\n",
      "nm = pynoddy.history.NewHistory()\n",
      "# add stratigraphy\n",
      "strati_options = {'num_layers' : 8,\n",
      "                  'layer_names' : ['layer_1', 'layer_2', 'layer_3', 'layer_4', 'layer_5', 'layer_6', 'layer_7', 'layer_8'],\n",
      "                  'layer_thickness' : [500, 500, 500, 500, 500, 500, 500, 500]}\n",
      "nm.add_event('stratigraphy', strati_options )\n",
      "\n",
      "\n",
      "\n",
      "# The following options define the fault geometry:\n",
      "fault_options = {'name' : 'Fault_1',\n",
      "                 'pos' : (5000, 0, 0),\n",
      "                 'dip_dir' : 270,\n",
      "                 'dip' : 60,\n",
      "                 'slip' : 1000}\n",
      "\n",
      "nm.add_event('fault', fault_options)"
     ],
     "language": "python",
     "metadata": {},
     "outputs": [],
     "prompt_number": 208
    },
    {
     "cell_type": "code",
     "collapsed": false,
     "input": [
      "nm.events"
     ],
     "language": "python",
     "metadata": {},
     "outputs": [
      {
       "metadata": {},
       "output_type": "pyout",
       "prompt_number": 209,
       "text": [
        "{1: <pynoddy.events.Stratigraphy instance at 0x10b54ea70>,\n",
        " 2: <pynoddy.events.Fault instance at 0x10d438440>}"
       ]
      }
     ],
     "prompt_number": 209
    },
    {
     "cell_type": "code",
     "collapsed": false,
     "input": [
      "nm.write_history(history)"
     ],
     "language": "python",
     "metadata": {},
     "outputs": [],
     "prompt_number": 210
    },
    {
     "cell_type": "code",
     "collapsed": false,
     "input": [
      "# Compute the model\n",
      "pynoddy.compute_model(history, output_name) "
     ],
     "language": "python",
     "metadata": {},
     "outputs": [],
     "prompt_number": 211
    },
    {
     "cell_type": "code",
     "collapsed": false,
     "input": [
      "# Plot output\n",
      "reload(pynoddy.output)\n",
      "nout = pynoddy.output.NoddyOutput(output_name)\n",
      "nout.plot_section('y', layer_labels = strati_options['layer_names'][::-1], colorbar = True)"
     ],
     "language": "python",
     "metadata": {},
     "outputs": [
      {
       "metadata": {},
       "output_type": "display_data",
       "png": "[encoded data removed]",
       "text": [
        "<matplotlib.figure.Figure at 0x10c69e4d0>"
       ]
      }
     ],
     "prompt_number": 212
    },
    {
     "cell_type": "code",
     "collapsed": false,
     "input": [
      "# The following options define the fault geometry:\n",
      "fault_options = {'name' : 'Fault_1',\n",
      "                 'pos' : (5500, 3500, 0),\n",
      "                 'dip_dir' : 270,\n",
      "                 'dip' : 60,\n",
      "                 'slip' : 1000}\n",
      "\n",
      "nm.add_event('fault', fault_options)"
     ],
     "language": "python",
     "metadata": {},
     "outputs": [],
     "prompt_number": 34
    },
    {
     "cell_type": "code",
     "collapsed": false,
     "input": [
      "nm.write_history(history)"
     ],
     "language": "python",
     "metadata": {},
     "outputs": [],
     "prompt_number": 35
    },
    {
     "cell_type": "code",
     "collapsed": false,
     "input": [
      "# Compute the model\n",
      "pynoddy.compute_model(history, output_name) "
     ],
     "language": "python",
     "metadata": {},
     "outputs": [],
     "prompt_number": 36
    },
    {
     "cell_type": "code",
     "collapsed": false,
     "input": [
      "# Plot output\n",
      "reload(pynoddy.output)\n",
      "nout = pynoddy.output.NoddyOutput(output_name)\n",
      "nout.plot_section('y', layer_labels = strati_options['layer_names'][::-1], colorbar = True)"
     ],
     "language": "python",
     "metadata": {},
     "outputs": [
      {
       "metadata": {},
       "output_type": "display_data",
       "png": "[encoded data removed]",
       "text": [
        "<matplotlib.figure.Figure at 0x10c6d0610>"
       ]
      }
     ],
     "prompt_number": 37
    },
    {
     "cell_type": "code",
     "collapsed": false,
     "input": [
      "nm1 = pynoddy.history.NoddyHistory(history)"
     ],
     "language": "python",
     "metadata": {},
     "outputs": [
      {
       "output_type": "stream",
       "stream": "stdout",
       "text": [
        " STRATIGRAPHY\n",
        " FAULT\n",
        " FAULT\n"
       ]
      }
     ],
     "prompt_number": 39
    },
    {
     "cell_type": "code",
     "collapsed": false,
     "input": [
      "nm1.get_extent()"
     ],
     "language": "python",
     "metadata": {},
     "outputs": [
      {
       "metadata": {},
       "output_type": "pyout",
       "prompt_number": 40,
       "text": [
        "(10000.0, 7000.0, 5000.0)"
       ]
      }
     ],
     "prompt_number": 40
    },
    {
     "cell_type": "code",
     "collapsed": false,
     "input": [
      "reload(pynoddy.history)\n",
      "reload(pynoddy.events)\n",
      "nm = pynoddy.history.NewHistory()\n",
      "# add stratigraphy\n",
      "strati_options = {'num_layers' : 8,\n",
      "                  'layer_names' : ['layer_1', 'layer_2', 'layer_3', 'layer_4', 'layer_5', 'layer_6', 'layer_7', 'layer_8'],\n",
      "                  'layer_thickness' : [2500, 500, 500, 500, 500, 500, 500, 500]}\n",
      "nm.add_event('stratigraphy', strati_options )\n",
      "\n",
      "\n",
      "# The following options define the fault geometry:\n",
      "fault_options = {'name' : 'Fault_1',\n",
      "                 'pos' : (4000, 3500, 5000),\n",
      "                 'dip_dir' : 90,\n",
      "                 'dip' : 60,\n",
      "                 'slip' : 1000}\n",
      "\n",
      "nm.add_event('fault', fault_options)\n",
      "# The following options define the fault geometry:\n",
      "fault_options = {'name' : 'Fault_2',\n",
      "                 'pos' : (6000, 3500, 5000),\n",
      "                 'dip_dir' : 270,\n",
      "                 'dip' : 60,\n",
      "                 'slip' : 1000}\n",
      "\n",
      "# nm.add_event('fault', fault_options)\n",
      "nm.write_history(history)"
     ],
     "language": "python",
     "metadata": {},
     "outputs": [],
     "prompt_number": 243
    },
    {
     "cell_type": "code",
     "collapsed": false,
     "input": [
      "# Compute the model\n",
      "pynoddy.compute_model(history, output_name) "
     ],
     "language": "python",
     "metadata": {},
     "outputs": [],
     "prompt_number": 244
    },
    {
     "cell_type": "code",
     "collapsed": false,
     "input": [
      "# Plot output\n",
      "reload(pynoddy.output)\n",
      "nout = pynoddy.output.NoddyOutput(output_name)\n",
      "nout.plot_section('y', layer_labels = strati_options['layer_names'][::-1], colorbar = True)"
     ],
     "language": "python",
     "metadata": {},
     "outputs": [
      {
       "metadata": {},
       "output_type": "display_data",
       "png": "[encoded data removed]",
       "text": [
        "<matplotlib.figure.Figure at 0x10dc0db10>"
       ]
      }
     ],
     "prompt_number": 245
    },
    {
     "cell_type": "code",
     "collapsed": false,
     "input": [
      "nout.export_to_vtk()"
     ],
     "language": "python",
     "metadata": {},
     "outputs": [],
     "prompt_number": 87
    },
    {
     "cell_type": "code",
     "collapsed": false,
     "input": [
      "# Compare to \"simple two faults\" model in examples folder\n",
      "nm_faults = pynoddy.history.NoddyHistory(r'../../examples/simple_two_faults.his')"
     ],
     "language": "python",
     "metadata": {},
     "outputs": [
      {
       "output_type": "stream",
       "stream": "stdout",
       "text": [
        " STRATIGRAPHY\n",
        " FAULT\n",
        " FAULT\n"
       ]
      }
     ],
     "prompt_number": 124
    },
    {
     "cell_type": "code",
     "collapsed": false,
     "input": [
      "nm_faults.events"
     ],
     "language": "python",
     "metadata": {},
     "outputs": [
      {
       "metadata": {},
       "output_type": "pyout",
       "prompt_number": 125,
       "text": [
        "{1: <pynoddy.events.Stratigraphy instance at 0x10b4c9b90>,\n",
        " 2: <pynoddy.events.Fault instance at 0x10b4c9e60>,\n",
        " 3: <pynoddy.events.Fault instance at 0x10b4c9ef0>}"
       ]
      }
     ],
     "prompt_number": 125
    },
    {
     "cell_type": "code",
     "collapsed": false,
     "input": [
      "nm_faults.events[3].properties"
     ],
     "language": "python",
     "metadata": {},
     "outputs": [
      {
       "metadata": {},
       "output_type": "pyout",
       "prompt_number": 145,
       "text": [
        "{'Amplitude': 2000.0,\n",
        " 'Blue': 0.0,\n",
        " 'Color Name': 'Custom Colour 5',\n",
        " 'Cyl Index': 0.0,\n",
        " 'Dip': 60.0,\n",
        " 'Dip Direction': 270.0,\n",
        " 'Geometry': 'Translation',\n",
        " 'Green': 0.0,\n",
        " 'Movement': 'Hanging Wall',\n",
        " 'Pitch': 90.0,\n",
        " 'Profile Pitch': 90.0,\n",
        " 'Radius': 1000.0,\n",
        " 'Red': 254.0,\n",
        " 'Rotation': 30.0,\n",
        " 'Slip': 1000.0,\n",
        " 'X': 5500.0,\n",
        " 'XAxis': 2000.0,\n",
        " 'Y': 7000.0,\n",
        " 'YAxis': 2000.0,\n",
        " 'Z': 5000.0,\n",
        " 'ZAxis': 2000.0}"
       ]
      }
     ],
     "prompt_number": 145
    },
    {
     "cell_type": "code",
     "collapsed": false,
     "input": [
      "nm_faults.write_history(\"test_ori\")"
     ],
     "language": "python",
     "metadata": {},
     "outputs": [],
     "prompt_number": 128
    },
    {
     "cell_type": "code",
     "collapsed": false,
     "input": [
      "pynoddy.compute_model(\"test_ori\", \"ori_fault\")"
     ],
     "language": "python",
     "metadata": {},
     "outputs": [],
     "prompt_number": 129
    },
    {
     "cell_type": "code",
     "collapsed": false,
     "input": [
      "n_out_faults = pynoddy.output.NoddyOutput(\"ori_fault\")"
     ],
     "language": "python",
     "metadata": {},
     "outputs": [],
     "prompt_number": 132
    },
    {
     "cell_type": "code",
     "collapsed": false,
     "input": [
      "n_out_faults.plot_section('y')"
     ],
     "language": "python",
     "metadata": {},
     "outputs": [
      {
       "metadata": {},
       "output_type": "display_data",
       "png": "[encoded data removed]",
       "text": [
        "<matplotlib.figure.Figure at 0x10c1ab1d0>"
       ]
      }
     ],
     "prompt_number": 133
    },
    {
     "cell_type": "code",
     "collapsed": false,
     "input": [
      "nout.plot_section('y', layer_labels = strati_options['layer_names'][::-1], colorbar = True)"
     ],
     "language": "python",
     "metadata": {},
     "outputs": [
      {
       "metadata": {},
       "output_type": "display_data",
       "png": "[encoded data removed]",
       "text": [
        "<matplotlib.figure.Figure at 0x10d47ae90>"
       ]
      }
     ],
     "prompt_number": 187
    },
    {
     "cell_type": "code",
     "collapsed": false,
     "input": [],
     "language": "python",
     "metadata": {},
     "outputs": []
    }
   ],
   "metadata": {}
  }
 ]
}