{
 "metadata": {
  "name": "",
  "signature": "sha256:e95b0e5daf2bf8d8510bebfa4533229d52254f1214d06e51d327e47856898926"
 },
 "nbformat": 3,
 "nbformat_minor": 0,
 "worksheets": [
  {
   "cells": [
    {
     "cell_type": "markdown",
     "metadata": {},
     "source": [
      "Kinematic model of the Gippsland Basin - Version 4\n",
      "================\n",
      "\n",
      "We analyse here uncertainties in a kinematic model of the Gippsland Basin, Victoria. The model is built on the basis of a detailed analysis of the geological history and adjusted to observed structures in the area.\n",
      "\n",
      "Here, we first evaluate the model and analyse the setting a little bit and then proceed to investigate how errors in the parameterised geological history (i.e. the parameters of the kinematic events) propagate into model uncertainties.\n",
      "\n"
     ]
    },
    {
     "cell_type": "code",
     "collapsed": false,
     "input": [
      "from IPython.core.display import HTML\n",
      "css_file = 'pynoddy.css'\n",
      "HTML(open(css_file, \"r\").read())"
     ],
     "language": "python",
     "metadata": {},
     "outputs": [
      {
       "html": [
        "<link href='http://fonts.googleapis.com/css?family=Alegreya+Sans:100,300,400,500,700,800,900,100italic,300italic,400italic,500italic,700italic,800italic,900italic' rel='stylesheet' type='text/css'>\n",
        "<link href='http://fonts.googleapis.com/css?family=Arvo:400,700,400italic' rel='stylesheet' type='text/css'>\n",
        "<link href='http://fonts.googleapis.com/css?family=PT+Mono' rel='stylesheet' type='text/css'>\n",
        "<link href='http://fonts.googleapis.com/css?family=Shadows+Into+Light' rel='stylesheet' type='text/css'>\n",
        "<link rel=\"stylesheet\" type=\"text/css\" href=\"http://fonts.googleapis.com/css?family=Tangerine\">\n",
        "<link href='http://fonts.googleapis.com/css?family=Philosopher:400,700,400italic,700italic' rel='stylesheet' type='text/css'>\n",
        "<link href='http://fonts.googleapis.com/css?family=Libre+Baskerville:400,400italic' rel='stylesheet' type='text/css'>\n",
        "<link href='http://fonts.googleapis.com/css?family=Lora:400,400italic' rel='stylesheet' type='text/css'>\n",
        "<link href='http://fonts.googleapis.com/css?family=Karla:400,400italic' rel='stylesheet' type='text/css'>\n",
        "\n",
        "<style>\n",
        "\n",
        "@font-face {\n",
        "    font-family: \"Computer Modern\";\n",
        "    src: url('http://mirrors.ctan.org/fonts/cm-unicode/fonts/otf/cmunss.otf');\n",
        "}\n",
        "\n",
        "#notebook_panel { /* main background */\n",
        "    background: #888;\n",
        "    color: #f6f6f6;\n",
        "}\n",
        "\n",
        "div.cell { /* set cell width to about 80 chars */\n",
        "    width: 800px;\n",
        "}\n",
        "\n",
        "div #notebook { /* centre the content */\n",
        "    background: #fff; /* white background for content */\n",
        "    width: 1000px;\n",
        "    margin: auto;\n",
        "    padding-left: 1em;\n",
        "}\n",
        "\n",
        "#notebook li { /* More space between bullet points */\n",
        "margin-top:0.8em;\n",
        "}\n",
        "\n",
        "/* draw border around running cells */\n",
        "div.cell.border-box-sizing.code_cell.running { \n",
        "    border: 3px solid #111;\n",
        "}\n",
        "\n",
        "/* Put a solid color box around each cell and its output, visually linking them together */\n",
        "div.cell.code_cell {\n",
        "    background: #ddd;  /* rgba(230,230,230,1.0);  */\n",
        "    border-radius: 10px; /* rounded borders */\n",
        "    width: 900px;\n",
        "    padding: 1em;\n",
        "    margin-top: 1em;\n",
        "}\n",
        "\n",
        "div.text_cell_render{\n",
        "    font-family: 'Arvo' sans-serif;\n",
        "    line-height: 130%;\n",
        "    font-size: 115%;\n",
        "    width:700px;\n",
        "    margin-left:auto;\n",
        "    margin-right:auto;\n",
        "}\n",
        "\n",
        "\n",
        "/* Formatting for header cells */\n",
        ".text_cell_render h1 {\n",
        "    font-family: 'Alegreya Sans', sans-serif;\n",
        "    /* font-family: 'Tangerine', serif; */\n",
        "    /* font-family: 'Libre Baskerville', serif; */\n",
        "    /* font-family: 'Karla', sans-serif;\n",
        "    /* font-family: 'Lora', serif; */\n",
        "    font-size: 50px;\n",
        "    text-align: center;\n",
        "    /* font-style: italic; */\n",
        "    font-weight: 400;\n",
        "    /* font-size: 40pt; */\n",
        "    /* text-shadow: 4px 4px 4px #aaa; */\n",
        "    line-height: 120%;\n",
        "    color: rgb(12,85,97);\n",
        "    margin-bottom: .5em;\n",
        "    margin-top: 0.1em;\n",
        "    display: block;\n",
        "}\t\n",
        ".text_cell_render h2 {\n",
        "    /* font-family: 'Arial', serif; */\n",
        "    /* font-family: 'Lora', serif; */\n",
        "    font-family: 'Alegreya Sans', sans-serif;\n",
        "    font-weight: 700;\n",
        "    font-size: 24pt;\n",
        "    line-height: 100%;\n",
        "    /* color: rgb(171,165,131); */\n",
        "    color: rgb(12,85,97);\n",
        "    margin-bottom: 0.1em;\n",
        "    margin-top: 0.1em;\n",
        "    display: block;\n",
        "}\t\n",
        "\n",
        ".text_cell_render h3 {\n",
        "    font-family: 'Arial', serif;\n",
        "    margin-top:12px;\n",
        "    margin-bottom: 3px;\n",
        "    font-style: italic;\n",
        "    color: rgb(95,92,72);\n",
        "}\n",
        "\n",
        ".text_cell_render h4 {\n",
        "    font-family: 'Arial', serif;\n",
        "}\n",
        "\n",
        ".text_cell_render h5 {\n",
        "    font-family: 'Alegreya Sans', sans-serif;\n",
        "    font-weight: 300;\n",
        "    font-size: 16pt;\n",
        "    color: grey;\n",
        "    font-style: italic;\n",
        "    margin-bottom: .1em;\n",
        "    margin-top: 0.1em;\n",
        "    display: block;\n",
        "}\n",
        "\n",
        ".text_cell_render h6 {\n",
        "    font-family: 'PT Mono', sans-serif;\n",
        "    font-weight: 300;\n",
        "    font-size: 10pt;\n",
        "    color: grey;\n",
        "    margin-bottom: 1px;\n",
        "    margin-top: 1px;\n",
        "}\n",
        "\n",
        ".CodeMirror{\n",
        "        font-family: \"PT Mono\";\n",
        "        font-size: 100%;\n",
        "}\n",
        "\n",
        "</style>\n"
       ],
       "metadata": {},
       "output_type": "pyout",
       "prompt_number": 17,
       "text": [
        "<IPython.core.display.HTML at 0x10fc7c0d0>"
       ]
      }
     ],
     "prompt_number": 17
    },
    {
     "cell_type": "code",
     "collapsed": false,
     "input": [
      "import sys, os\n",
      "import matplotlib.pyplot as plt\n",
      "import pynoddy.history\n",
      "import pynoddy.output\n",
      "import copy\n",
      "import pickle\n",
      "plt.rcParams['font.size'] = 16"
     ],
     "language": "python",
     "metadata": {},
     "outputs": [],
     "prompt_number": 18
    },
    {
     "cell_type": "code",
     "collapsed": false,
     "input": [
      "pwd"
     ],
     "language": "python",
     "metadata": {},
     "outputs": [
      {
       "metadata": {},
       "output_type": "pyout",
       "prompt_number": 19,
       "text": [
        "u'/Users/flow/git/pynoddy/docs/notebooks'"
       ]
      }
     ],
     "prompt_number": 19
    },
    {
     "cell_type": "code",
     "collapsed": false,
     "input": [
      "# the following reloads are only required during development phase\n",
      "reload(pynoddy.history)\n",
      "reload(pynoddy.events)\n",
      "PH = pynoddy.history.NoddyHistory(\"../../examples/GBasin_Ve1_V4_b.his\")"
     ],
     "language": "python",
     "metadata": {},
     "outputs": [
      {
       "output_type": "stream",
       "stream": "stdout",
       "text": [
        " STRATIGRAPHY\n",
        " FOLD\n",
        " UNCONFORMITY\n",
        " FAULT\n",
        " FAULT\n",
        " UNCONFORMITY\n",
        " FAULT\n",
        " FAULT\n",
        " UNCONFORMITY\n",
        " FAULT\n",
        " FAULT\n",
        " UNCONFORMITY\n",
        " TILT\n",
        " FOLD\n"
       ]
      }
     ],
     "prompt_number": 31
    },
    {
     "cell_type": "code",
     "collapsed": false,
     "input": [
      "# get some basic model information\n",
      "print PH.get_extent()\n",
      "print PH.get_origin()"
     ],
     "language": "python",
     "metadata": {},
     "outputs": [
      {
       "output_type": "stream",
       "stream": "stdout",
       "text": [
        "(26630.0, 19291.0, 1500.0)\n",
        "(0.0, 0.0, 1500.0)\n"
       ]
      }
     ],
     "prompt_number": 32
    },
    {
     "cell_type": "code",
     "collapsed": false,
     "input": [
      "# Let's have a look at the defined events\n",
      "PH.events"
     ],
     "language": "python",
     "metadata": {},
     "outputs": [
      {
       "metadata": {},
       "output_type": "pyout",
       "prompt_number": 33,
       "text": [
        "{1: <pynoddy.events.Stratigraphy instance at 0x10c666d40>,\n",
        " 2: <pynoddy.events.Fold instance at 0x10c666a70>,\n",
        " 3: <pynoddy.events.Unconformity instance at 0x10c666d88>,\n",
        " 4: <pynoddy.events.Fault instance at 0x10c666c68>,\n",
        " 5: <pynoddy.events.Fault instance at 0x10c666f80>,\n",
        " 6: <pynoddy.events.Unconformity instance at 0x10c666e18>,\n",
        " 7: <pynoddy.events.Fault instance at 0x10c666fc8>,\n",
        " 8: <pynoddy.events.Fault instance at 0x10c666050>,\n",
        " 9: <pynoddy.events.Unconformity instance at 0x10c666ef0>,\n",
        " 10: <pynoddy.events.Fault instance at 0x10c666128>,\n",
        " 11: <pynoddy.events.Fault instance at 0x10c666098>,\n",
        " 12: <pynoddy.events.Unconformity instance at 0x10c6665a8>,\n",
        " 13: <pynoddy.events.Tilt instance at 0x10c6663b0>,\n",
        " 14: <pynoddy.events.Fold instance at 0x10c6664d0>}"
       ]
      }
     ],
     "prompt_number": 33
    },
    {
     "cell_type": "code",
     "collapsed": false,
     "input": [
      "# Determine model stratigraphy for plots below\n",
      "PH.determine_model_stratigraphy()\n",
      "PH.get_footer_lines()"
     ],
     "language": "python",
     "metadata": {},
     "outputs": [],
     "prompt_number": 34
    },
    {
     "cell_type": "code",
     "collapsed": false,
     "input": [
      "# Compute the model\n",
      "reload(pynoddy)\n",
      "his = 'GBasin_V4_new.his'\n",
      "PH.write_history(his)\n",
      "out = 'GBasin_V4_out'\n",
      "pynoddy.compute_model(his, out)\n",
      "print os.getcwd()\n"
     ],
     "language": "python",
     "metadata": {},
     "outputs": [
      {
       "output_type": "stream",
       "stream": "stdout",
       "text": [
        "/Users/flow/git/pynoddy/docs/notebooks\n"
       ]
      }
     ],
     "prompt_number": 35
    },
    {
     "cell_type": "markdown",
     "metadata": {},
     "source": [
      "## Visualise output\n",
      "\n",
      "\n",
      "**To do: fix colorbar!**\n"
     ]
    },
    {
     "cell_type": "code",
     "collapsed": false,
     "input": [
      "reload(pynoddy.output)\n",
      "PO = pynoddy.output.NoddyOutput(out)"
     ],
     "language": "python",
     "metadata": {},
     "outputs": [],
     "prompt_number": 36
    },
    {
     "cell_type": "code",
     "collapsed": false,
     "input": [
      "# create section plots in axes diretions:\n",
      "PO.plot_section('x', ve = 5.,\n",
      "                cmap = 'YlOrRd',\n",
      "                title = '',\n",
      "                colorbar = False,\n",
      "                layer_labels = PH.model_stratigraphy)\n",
      "PO.plot_section('y', position = 100, ve = 5.,\n",
      "                cmap = 'YlOrRd',\n",
      "                title = '',\n",
      "                colorbar_orientation = 'horizontal',\n",
      "                layer_labels = PH.model_stratigraphy)\n"
     ],
     "language": "python",
     "metadata": {},
     "outputs": [
      {
       "metadata": {},
       "output_type": "display_data",
       "png": "[encoded data removed]",
       "text": [
        "<matplotlib.figure.Figure at 0x1118a3b50>"
       ]
      },
      {
       "metadata": {},
       "output_type": "display_data",
       "png": "[encoded data removed]",
       "text": [
        "<matplotlib.figure.Figure at 0x111504850>"
       ]
      }
     ],
     "prompt_number": 37
    },
    {
     "cell_type": "code",
     "collapsed": false,
     "input": [
      "PO.plot_section('y')"
     ],
     "language": "python",
     "metadata": {},
     "outputs": [
      {
       "metadata": {},
       "output_type": "display_data",
       "png": "[encoded data removed]",
       "text": [
        "<matplotlib.figure.Figure at 0x1115f7210>"
       ]
      }
     ],
     "prompt_number": 12
    },
    {
     "cell_type": "code",
     "collapsed": false,
     "input": [
      "# Export to VTK for 3-D visualisation and analysis\n",
      "PO.export_to_vtk(vtk_filename = \"GBasin_V4\")"
     ],
     "language": "python",
     "metadata": {},
     "outputs": [],
     "prompt_number": 12
    },
    {
     "cell_type": "markdown",
     "metadata": {},
     "source": [
      "## Update model origin and extent\n",
      "\n",
      "Test new implementation as basis for 1-D \"Drillhole\" export"
     ]
    },
    {
     "cell_type": "code",
     "collapsed": false,
     "input": [
      "reload(pynoddy.history)\n",
      "reload(pynoddy.events)\n",
      "PH = pynoddy.history.NoddyHistory(\"../../examples/GBasin_Ve1_V4_b.his\")"
     ],
     "language": "python",
     "metadata": {},
     "outputs": [
      {
       "output_type": "stream",
       "stream": "stdout",
       "text": [
        " STRATIGRAPHY\n",
        " FOLD\n",
        " UNCONFORMITY\n",
        " FAULT\n",
        " FAULT\n",
        " UNCONFORMITY\n",
        " FAULT\n",
        " FAULT\n",
        " UNCONFORMITY\n",
        " FAULT\n",
        " FAULT\n",
        " UNCONFORMITY\n",
        " TILT\n",
        " FOLD\n"
       ]
      }
     ],
     "prompt_number": 13
    },
    {
     "cell_type": "code",
     "collapsed": false,
     "input": [
      "PH.info(events_only = True)"
     ],
     "language": "python",
     "metadata": {},
     "outputs": [
      {
       "output_type": "stream",
       "stream": "stdout",
       "text": [
        "This model consists of 14 events:\n",
        "\t(1) - STRATIGRAPHY\n",
        "\t(2) - FOLD\n",
        "\t(3) - UNCONFORMITY\n",
        "\t(4) - FAULT\n",
        "\t(5) - FAULT\n",
        "\t(6) - UNCONFORMITY\n",
        "\t(7) - FAULT\n",
        "\t(8) - FAULT\n",
        "\t(9) - UNCONFORMITY\n",
        "\t(10) - FAULT\n",
        "\t(11) - FAULT\n",
        "\t(12) - UNCONFORMITY\n",
        "\t(13) - TILT\n",
        "\t(14) - FOLD\n"
       ]
      }
     ],
     "prompt_number": 16
    },
    {
     "cell_type": "code",
     "collapsed": false,
     "input": [
      "PH.events[14].properties"
     ],
     "language": "python",
     "metadata": {},
     "outputs": [
      {
       "metadata": {},
       "output_type": "pyout",
       "prompt_number": 34,
       "text": [
        "{'Amplitude': 500.0,\n",
        " 'Cylindricity': 0.0,\n",
        " 'Dip': 90.0,\n",
        " 'Dip Direction': 180.0,\n",
        " 'Pitch': 0.0,\n",
        " 'Single Fold': 'FALSE',\n",
        " 'Type': 'Sine',\n",
        " 'Wavelength': 17000.0,\n",
        " 'X': 0.0,\n",
        " 'Y': 7000.0,\n",
        " 'Z': 0.0}"
       ]
      }
     ],
     "prompt_number": 34
    },
    {
     "cell_type": "code",
     "collapsed": false,
     "input": [
      "PH.write_history(\"GB_V4_1D.his\")"
     ],
     "language": "python",
     "metadata": {},
     "outputs": [],
     "prompt_number": 80
    },
    {
     "cell_type": "code",
     "collapsed": false,
     "input": [
      "no = pynoddy.output.NoddyOutput(\"tmp\")"
     ],
     "language": "python",
     "metadata": {},
     "outputs": [],
     "prompt_number": 75
    },
    {
     "cell_type": "code",
     "collapsed": false,
     "input": [
      "z_range = no.block[0,0,:]"
     ],
     "language": "python",
     "metadata": {},
     "outputs": [],
     "prompt_number": 76
    },
    {
     "cell_type": "code",
     "collapsed": false,
     "input": [
      "plot(z_range)"
     ],
     "language": "python",
     "metadata": {},
     "outputs": [
      {
       "metadata": {},
       "output_type": "pyout",
       "prompt_number": 77,
       "text": [
        "[<matplotlib.lines.Line2D at 0x11187f410>]"
       ]
      },
      {
       "metadata": {},
       "output_type": "display_data",
       "png": "[encoded data removed]",
       "text": [
        "<matplotlib.figure.Figure at 0x111b80c10>"
       ]
      }
     ],
     "prompt_number": 77
    },
    {
     "cell_type": "code",
     "collapsed": false,
     "input": [
      "len(z_range)"
     ],
     "language": "python",
     "metadata": {},
     "outputs": [
      {
       "metadata": {},
       "output_type": "pyout",
       "prompt_number": 78,
       "text": [
        "1500"
       ]
      }
     ],
     "prompt_number": 78
    },
    {
     "cell_type": "code",
     "collapsed": false,
     "input": [
      "reload(pynoddy.history)\n",
      "reload(pynoddy.events)\n",
      "PH = pynoddy.history.NoddyHistory(\"../../examples/GBasin_Ve1_V4_b.his\")\n",
      "drillhole = PH.get_drillhole_data(10000, 10000, resolution = 100)"
     ],
     "language": "python",
     "metadata": {},
     "outputs": [
      {
       "output_type": "stream",
       "stream": "stdout",
       "text": [
        " STRATIGRAPHY\n",
        " FOLD\n",
        " UNCONFORMITY\n",
        " FAULT\n",
        " FAULT\n",
        " UNCONFORMITY\n",
        " FAULT\n",
        " FAULT\n",
        " UNCONFORMITY\n",
        " FAULT\n",
        " FAULT\n",
        " UNCONFORMITY\n",
        " TILT\n",
        " FOLD\n",
        "\n"
       ]
      }
     ],
     "prompt_number": 88
    },
    {
     "cell_type": "code",
     "collapsed": false,
     "input": [
      "plot(drillhole)"
     ],
     "language": "python",
     "metadata": {},
     "outputs": [
      {
       "metadata": {},
       "output_type": "pyout",
       "prompt_number": 89,
       "text": [
        "[<matplotlib.lines.Line2D at 0x115780290>]"
       ]
      },
      {
       "metadata": {},
       "output_type": "display_data",
       "png": "[encoded data removed]",
       "text": [
        "<matplotlib.figure.Figure at 0x115c16250>"
       ]
      }
     ],
     "prompt_number": 89
    },
    {
     "cell_type": "code",
     "collapsed": false,
     "input": [],
     "language": "python",
     "metadata": {},
     "outputs": []
    }
   ],
   "metadata": {}
  }
 ]
}