{
 "metadata": {
  "name": "",
  "signature": "sha256:c4f02d0f8edaf54fee1083aa791522af32b697192b7edf84cd1f89544d51ce04"
 },
 "nbformat": 3,
 "nbformat_minor": 0,
 "worksheets": [
  {
   "cells": [
    {
     "cell_type": "markdown",
     "metadata": {},
     "source": [
      "Kinematic model of the Gippsland Basin\n",
      "================\n",
      "\n",
      "We analyse here uncertainties in a kinematic model of the Gippsland Basin, Victoria. The model is built on the basis of a detailed analysis of the geological history and adjusted to observed structures in the area.\n",
      "\n",
      "Here, we first evaluate the model and analyse the setting a little bit and then proceed to investigate how errors in the parameterised geological history (i.e. the parameters of the kinematic events) propagate into model uncertainties.\n"
     ]
    },
    {
     "cell_type": "code",
     "collapsed": false,
     "input": [
      "%matplotlib inline"
     ],
     "language": "python",
     "metadata": {},
     "outputs": [],
     "prompt_number": 1
    },
    {
     "cell_type": "code",
     "collapsed": false,
     "input": [
      "import sys, os\n",
      "import matplotlib.pyplot as plt\n",
      "import pynoddy.history\n",
      "import pynoddy.output\n",
      "import copy\n",
      "import pickle"
     ],
     "language": "python",
     "metadata": {},
     "outputs": [],
     "prompt_number": 32
    },
    {
     "cell_type": "code",
     "collapsed": false,
     "input": [
      "# os.chdir(r\"/Users/Florian/Documents/10_Geomodels/Noddy/GBasin/GBasin\")\n",
      "os.chdir(r\"/Users/flow/Documents/02_work/10_Geomodels/06_Noddy/\")"
     ],
     "language": "python",
     "metadata": {},
     "outputs": [],
     "prompt_number": 33
    },
    {
     "cell_type": "markdown",
     "metadata": {},
     "source": [
      "Model analysis\n",
      "-----------\n",
      "\n",
      "First step: simple evaluation of the model structure for the new version of the model."
     ]
    },
    {
     "cell_type": "code",
     "collapsed": false,
     "input": [
      "# the following reloads are only required during development phase\n",
      "reload(pynoddy.history)\n",
      "reload(pynoddy.events)\n",
      "PH = pynoddy.history.NoddyHistory(\"GBasin_Ve1_V3.his\")"
     ],
     "language": "python",
     "metadata": {},
     "outputs": [
      {
       "output_type": "stream",
       "stream": "stdout",
       "text": [
        " STRATIGRAPHY\n",
        " FOLD\n",
        " UNCONFORMITY\n",
        " FAULT\n",
        " FAULT\n",
        " UNCONFORMITY\n",
        " FAULT\n",
        " FAULT\n",
        " UNCONFORMITY\n",
        " FAULT\n",
        " FOLD\n",
        " UNCONFORMITY\n"
       ]
      }
     ],
     "prompt_number": 34
    },
    {
     "cell_type": "code",
     "collapsed": false,
     "input": [
      "# get some basic model information\n",
      "print PH.get_extent()\n",
      "print PH.get_origin()"
     ],
     "language": "python",
     "metadata": {},
     "outputs": [
      {
       "output_type": "stream",
       "stream": "stdout",
       "text": [
        "(26630.0, 19291.0, 1500.0)\n",
        "(0.0, 0.0, 1500.0)\n"
       ]
      }
     ],
     "prompt_number": 35
    },
    {
     "cell_type": "code",
     "collapsed": false,
     "input": [
      "# Let's have a look at the defined events\n",
      "PH.events"
     ],
     "language": "python",
     "metadata": {},
     "outputs": [
      {
       "metadata": {},
       "output_type": "pyout",
       "prompt_number": 36,
       "text": [
        "{1: <pynoddy.events.Stratigraphy instance at 0x11148f2d8>,\n",
        " 2: <pynoddy.events.Fold instance at 0x11148f128>,\n",
        " 3: <pynoddy.events.Unconformity instance at 0x11148fbd8>,\n",
        " 4: <pynoddy.events.Fault instance at 0x11148f560>,\n",
        " 5: <pynoddy.events.Fault instance at 0x11148f320>,\n",
        " 6: <pynoddy.events.Unconformity instance at 0x11148f0e0>,\n",
        " 7: <pynoddy.events.Fault instance at 0x11148fc20>,\n",
        " 8: <pynoddy.events.Fault instance at 0x11148f3b0>,\n",
        " 9: <pynoddy.events.Unconformity instance at 0x11148f368>,\n",
        " 10: <pynoddy.events.Fault instance at 0x11148f680>,\n",
        " 11: <pynoddy.events.Fold instance at 0x11148f200>,\n",
        " 12: <pynoddy.events.Unconformity instance at 0x11148fb48>}"
       ]
      }
     ],
     "prompt_number": 36
    },
    {
     "cell_type": "code",
     "collapsed": false,
     "input": [
      "# Compute the model\n",
      "reload(pynoddy)\n",
      "his = 'GBasin_V3.his'\n",
      "PH.write_history(his)\n",
      "out = 'GBasin_V3_out'\n",
      "pynoddy.compute_model(his, out)\n",
      "print os.getcwd()"
     ],
     "language": "python",
     "metadata": {},
     "outputs": [
      {
       "output_type": "stream",
       "stream": "stdout",
       "text": [
        "/Users/flow/Documents/02_work/10_Geomodels/06_Noddy\n"
       ]
      }
     ],
     "prompt_number": 37
    },
    {
     "cell_type": "markdown",
     "metadata": {},
     "source": [
      "And now we visualise the output:"
     ]
    },
    {
     "cell_type": "code",
     "collapsed": false,
     "input": [
      "reload(pynoddy.output)\n",
      "PO = pynoddy.output.NoddyOutput(out)"
     ],
     "language": "python",
     "metadata": {},
     "outputs": [],
     "prompt_number": 38
    },
    {
     "cell_type": "code",
     "collapsed": false,
     "input": [
      "# create section plots in axes diretions:\n",
      "PO.plot_section('x', ve = 5.)\n",
      "PO.plot_section('y', position = 100, ve = 5.)"
     ],
     "language": "python",
     "metadata": {},
     "outputs": [
      {
       "metadata": {},
       "output_type": "display_data",
       "png": "[encoded data removed]",
       "text": [
        "<matplotlib.figure.Figure at 0x10d89c2d0>"
       ]
      },
      {
       "metadata": {},
       "output_type": "display_data",
       "png": "[encoded data removed]",
       "text": [
        "<matplotlib.figure.Figure at 0x10d89c290>"
       ]
      }
     ],
     "prompt_number": 39
    },
    {
     "cell_type": "code",
     "collapsed": false,
     "input": [
      "# Export to VTK for 3-D visualisation and analysis\n",
      "PO.export_to_vtk(vtk_filename = \"GBasin_V3\")"
     ],
     "language": "python",
     "metadata": {},
     "outputs": [],
     "prompt_number": 31
    },
    {
     "cell_type": "markdown",
     "metadata": {},
     "source": [
      "$$ \\nabla^2 T = 0$$"
     ]
    },
    {
     "cell_type": "code",
     "collapsed": false,
     "input": [],
     "language": "python",
     "metadata": {},
     "outputs": []
    }
   ],
   "metadata": {}
  }
 ]
}