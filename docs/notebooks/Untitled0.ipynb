{
 "metadata": {
  "name": "",
  "signature": "sha256:72934e276020c3ea343cc1a545e51cbda15940a07686a4c466ed40a96569fed2"
 },
 "nbformat": 3,
 "nbformat_minor": 0,
 "worksheets": [
  {
   "cells": [
    {
     "cell_type": "code",
     "collapsed": false,
     "input": [
      "# Rayleigh formula for free thermal convection, formulae taken from Kuhn and Gessner 2009, Surveys in Geophysics\n",
      "\n",
      "def Rayleigh():\n",
      "    \"\"\" Properties of pure water at 20 degrees K \"\"\"\n",
      "    # values of pure water taken from http://people.ucsc.edu/~bkdaniel/WaterProperties.html\n",
      "    alpha =((0.207 + 0.385 + 0.523) / 3) * 1*10**-3 # thermal expansivity of water\n",
      "    print alpha\n",
      "    rho = 998.0 # Density of pure water\n",
      "    c = 4179.0 # Fluid heat capacity\n",
      "    g = 9.812\n",
      "    mu = ((1.004 + 0.658 + 0.475) / 3) * 1*10**-3 #dynamic viscosity of water\n",
      "    \"\"\" Mean Values \"\"\"    \n",
      "    WLFM0_xyz = 2.7, #np.array(S1_out.get_array_as_xyz_structure(\"WLFM0\"))\n",
      "    WLFM0_mean = 2.7 #np.mean(WLFM0_xyz[:, :, :]) # Mean of medium's thermal expansivity\n",
      "    #print WLFM0_mean\n",
      "    \n",
      "    perm_xyz = 1E-12 # np.array(S1_out.get_array_as_xyz_structure(\"PERM\"))\n",
      "    mean_perm = 1E-12 # np.mean(perm_xyz[:,:,:]) # Mean of permeability field\n",
      "    #mean_perm = 5.835e-12\n",
      "    #print \"%0.4g\" %mean_perm\n",
      "    \n",
      "   #temp_xyz = np.array(S1_out.get_array_as_xyz_structure(\"TEMP\")) # determine temperature gradient at the subplot\n",
      "    T2 = 170. #temp_xyz[0:, :, 0]\n",
      "    T1 = 20. # temp_xyz[0:, :, -1]\n",
      "    # z_axis = temp_xyz[0, :, 0:]\n",
      "    # z_axis_list = list(z_axis[:,:].ravel(order = \"F\"))\n",
      "    length = 1000. # len(z_axis_list) * 100.0\n",
      "    #print length\n",
      "    Value = (T2 - T1) / length\n",
      "    dtemp_value = Value # np.mean(Value[:, :])\n",
      "    \n",
      "    print dtemp_value\n",
      "    \n",
      "    Ra = ((T2 - T1) * mean_perm * length * alpha * (rho**2) * g * c) / (WLFM0_mean * mu)\n",
      "    return Ra\n",
      "print \"%0.4g\" %Rayleigh()"
     ],
     "language": "python",
     "metadata": {},
     "outputs": [
      {
       "output_type": "stream",
       "stream": "stdout",
       "text": [
        "0.000371666666667\n",
        "0.15\n",
        "1184\n"
       ]
      }
     ],
     "prompt_number": 10
    },
    {
     "cell_type": "code",
     "collapsed": false,
     "input": [],
     "language": "python",
     "metadata": {},
     "outputs": []
    }
   ],
   "metadata": {}
  }
 ]
}