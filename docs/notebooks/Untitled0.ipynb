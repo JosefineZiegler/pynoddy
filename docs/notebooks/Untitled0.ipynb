{
 "cells": [
  {
   "cell_type": "code",
   "execution_count": null,
   "metadata": {
    "collapsed": false
   },
   "outputs": [],
   "source": [
    "# Rayleigh formula for free thermal convection, formulae taken from Kuhn and Gessner 2009, Surveys in Geophysics\n",
    "\n",
    "def Rayleigh():\n",
    "    \"\"\" Properties of pure water at 20 degrees K \"\"\"\n",
    "    # values of pure water taken from http://people.ucsc.edu/~bkdaniel/WaterProperties.html\n",
    "    alpha =((0.207 + 0.385 + 0.523) / 3) * 1*10**-3 # thermal expansivity of water\n",
    "    print alpha\n",
    "    rho = 998.0 # Density of pure water\n",
    "    c = 4179.0 # Fluid heat capacity\n",
    "    g = 9.812\n",
    "    mu = ((1.004 + 0.658 + 0.475) / 3) * 1*10**-3 #dynamic viscosity of water\n",
    "    \"\"\" Mean Values \"\"\"    \n",
    "    WLFM0_xyz = 2.7, #np.array(S1_out.get_array_as_xyz_structure(\"WLFM0\"))\n",
    "    WLFM0_mean = 2.7 #np.mean(WLFM0_xyz[:, :, :]) # Mean of medium's thermal expansivity\n",
    "    #print WLFM0_mean\n",
    "    \n",
    "    perm_xyz = 1E-12 # np.array(S1_out.get_array_as_xyz_structure(\"PERM\"))\n",
    "    mean_perm = 1E-12 # np.mean(perm_xyz[:,:,:]) # Mean of permeability field\n",
    "    #mean_perm = 5.835e-12\n",
    "    #print \"%0.4g\" %mean_perm\n",
    "    \n",
    "   #temp_xyz = np.array(S1_out.get_array_as_xyz_structure(\"TEMP\")) # determine temperature gradient at the subplot\n",
    "    T2 = 170. #temp_xyz[0:, :, 0]\n",
    "    T1 = 20. # temp_xyz[0:, :, -1]\n",
    "    # z_axis = temp_xyz[0, :, 0:]\n",
    "    # z_axis_list = list(z_axis[:,:].ravel(order = \"F\"))\n",
    "    length = 1000. # len(z_axis_list) * 100.0\n",
    "    #print length\n",
    "    Value = (T2 - T1) / length\n",
    "    dtemp_value = Value # np.mean(Value[:, :])\n",
    "    \n",
    "    print dtemp_value\n",
    "    \n",
    "    Ra = ((T2 - T1) * mean_perm * length * alpha * (rho**2) * g * c) / (WLFM0_mean * mu)\n",
    "    return Ra\n",
    "print \"%0.4g\" %Rayleigh()"
   ]
  },
  {
   "cell_type": "code",
   "execution_count": 7,
   "metadata": {
    "collapsed": false
   },
   "outputs": [],
   "source": [
    "from vtk import *\n",
    "\n",
    "import matplotlib\n",
    "matplotlib.use('Agg')\n",
    "from matplotlib.figure import Figure\n",
    "from matplotlib.backends.backend_agg import FigureCanvasAgg\n",
    "import pylab as p\n",
    "\n",
    "# The vtkImageImporter will treat a python string as a void pointer\n",
    "importer = vtkImageImport()\n",
    "importer.SetDataScalarTypeToUnsignedChar()\n",
    "importer.SetNumberOfScalarComponents(4)\n",
    "\n",
    "# It's upside-down when loaded, so add a flip filter\n",
    "imflip = vtkImageFlip()\n",
    "imflip.SetInputData(importer.GetOutput())\n",
    "imflip.SetFilteredAxis(1)\n",
    "\n",
    "# Map the plot as a texture on a cube\n",
    "cube = vtkCubeSource()\n",
    "\n",
    "cubeMapper = vtkPolyDataMapper()\n",
    "cubeMapper.SetInputData(cube.GetOutput())\n",
    "\n",
    "cubeActor = vtkActor()\n",
    "cubeActor.SetMapper(cubeMapper)\n",
    "\n",
    "# Create a texture based off of the image\n",
    "cubeTexture = vtkTexture()\n",
    "cubeTexture.InterpolateOn()\n",
    "cubeTexture.SetInputData(imflip.GetOutput())\n",
    "cubeActor.SetTexture(cubeTexture)\n",
    "\n",
    "ren = vtkRenderer()\n",
    "ren.AddActor(cubeActor)\n",
    "\n",
    "renWin = vtkRenderWindow()\n",
    "renWin.AddRenderer(ren)\n",
    "\n",
    "iren = vtkRenderWindowInteractor()\n",
    "iren.SetRenderWindow(renWin)\n",
    "\n",
    "# Now create our plot\n",
    "fig = Figure()\n",
    "canvas = FigureCanvasAgg(fig)\n",
    "ax = fig.add_subplot(111)\n",
    "ax.grid(True)\n",
    "ax.set_xlabel('Hello from VTK!', size=16)\n",
    "ax.bar(xrange(10), p.rand(10))\n",
    "\n",
    "# Powers of 2 image to be clean\n",
    "w,h = 1024, 1024\n",
    "dpi = canvas.figure.get_dpi()\n",
    "#fig.set_figsize_inches(w / dpi, h / dpi)\n",
    "canvas.draw() # force a draw\n",
    "\n",
    "# This is where we tell the image importer about the mpl image\n",
    "extent = (0, w - 1, 0, h - 1, 0, 0)\n",
    "importer.SetWholeExtent(extent)\n",
    "importer.SetDataExtent(extent)\n",
    "# importer.SetImportVoidPointer(canvas.buffer_rgba(0,0), 1)\n",
    "importer.Update()\n",
    "\n",
    "iren.Initialize()\n",
    "iren.Start()"
   ]
  },
  {
   "cell_type": "code",
   "execution_count": null,
   "metadata": {
    "collapsed": true
   },
   "outputs": [],
   "source": [
    "imflip.SetInputData(importer.GetOutput())"
   ]
  },
  {
   "cell_type": "code",
   "execution_count": null,
   "metadata": {
    "collapsed": true
   },
   "outputs": [],
   "source": []
  }
 ],
 "metadata": {
  "kernelspec": {
   "display_name": "Python 2",
   "language": "python",
   "name": "python2"
  },
  "language_info": {
   "codemirror_mode": {
    "name": "ipython",
    "version": 2
   },
   "file_extension": ".py",
   "mimetype": "text/x-python",
   "name": "python",
   "nbconvert_exporter": "python",
   "pygments_lexer": "ipython2",
   "version": "2.7.11"
  }
 },
 "nbformat": 4,
 "nbformat_minor": 0
}
