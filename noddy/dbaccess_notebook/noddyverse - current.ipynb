{
 "cells": [
  {
   "cell_type": "markdown",
   "metadata": {},
   "source": [
    "## Tool to select random <a href=\"http://tectonique.net/noddy\">Noddy</a> models from database\n",
    "<br>First load libraries"
   ]
  },
  {
   "cell_type": "code",
   "execution_count": null,
   "metadata": {
    "ExecuteTime": {
     "end_time": "2020-03-08T22:30:32.283295Z",
     "start_time": "2020-03-08T22:30:31.631010Z"
    }
   },
   "outputs": [],
   "source": [
    "import  psycopg2\n",
    "import numpy as np\n",
    "import matplotlib\n",
    "from matplotlib.pyplot import imshow\n",
    "from matplotlib import pyplot as plt\n",
    "import functools \n",
    "import operator  \n",
    "from random import seed\n",
    "import random\n",
    "import time\n",
    "import binascii\n",
    "%matplotlib inline\n",
    "\n",
    "exec(open(\"connectomatic.py\").read())\n"
   ]
  },
  {
   "cell_type": "markdown",
   "metadata": {},
   "source": [
    "Now connect to database and selct some models based on <b>event_filter</b> to subset possible event histories. We will save a temporary copy of the history files for each mode, but first we empty the directory where they will be stored."
   ]
  },
  {
   "cell_type": "code",
   "execution_count": null,
   "metadata": {
    "ExecuteTime": {
     "end_time": "2020-03-08T22:31:26.039007Z",
     "start_time": "2020-03-08T22:31:25.659497Z"
    },
    "scrolled": true
   },
   "outputs": [],
   "source": [
    "connection=connectomatic()\n",
    "modelrangemin=1\n",
    "show=1\n",
    "savehis=1\n",
    "event_filter=\"STRAT-TILT-%-%-FOLD\"\n",
    "\n",
    "if(savehis):\n",
    "    import os\n",
    "    import glob\n",
    "    files = glob.glob('his/*')\n",
    "    for f in files:\n",
    "        os.remove(f)\n",
    "\n"
   ]
  },
  {
   "cell_type": "markdown",
   "metadata": {},
   "source": [
    "Now get the models and display the mag, grav and map views"
   ]
  },
  {
   "cell_type": "code",
   "execution_count": null,
   "metadata": {
    "ExecuteTime": {
     "end_time": "2020-03-08T22:48:27.954943Z",
     "start_time": "2020-03-08T22:31:28.209921Z"
    },
    "scrolled": false
   },
   "outputs": [],
   "source": [
    "now = time.time()\n",
    "# seed random number generator\n",
    "seed(int(now))\n",
    "\n",
    "allmodels=getSome(\"COUNT(*)\", 'public.universe', '', 0, '', 0)\n",
    "data=getSome(\"COUNT(*)\", 'public.universe', 'events', 0, event_filter, 0)\n",
    "\n",
    "print(\"                                     Models \",modelrangemin,\"-\",data-2,\" of \",allmodels)\n",
    "print(\"                                 Using filter = \",event_filter)\n",
    "count=data\n",
    "\n",
    "for z in range (1,9):\n",
    "    \n",
    "    EVENTIDS=getSome(\"ID\", 'public.universe', 'events', 0, event_filter, 1)\n",
    "    ran =random.randint(modelrangemin,data-2) \n",
    "    IDX=EVENTIDS[ran]\n",
    "    if(IDX>99900 and IDX < 112565):\n",
    "        continue\n",
    "    #IDX=allmodels\n",
    "    \n",
    "    IDX=str(IDX)\n",
    "\n",
    "    UID=getSome(\"UID\", 'public.universe', 'ID', 1, IDX, 0)\n",
    "    \n",
    "    legend=getSome(\"events\", 'public.universe', 'ID', 1, IDX, 0)\n",
    "    legend=legend.replace(\"-\",\"  |  \")    \n",
    "    \n",
    "    strx=getSome(\"his\", 'public.history', 'UID', 1, UID, 0)\n",
    "    \n",
    "    if(savehis):\n",
    "        f= open('his/'+IDX+'.his',\"w+\")\n",
    "        f.write(strx.replace('\\t',''))\n",
    "        f.close()\n",
    "    \n",
    "    strx=getSome(\"grv\", 'public.gravity', 'UID', 1, UID, 0)\n",
    "\n",
    "    imj = np.ones((200,200))\n",
    "    pix=strx.strip().split(' ')\n",
    "    #np.float_(pix)\n",
    "    #imj9 =np.ones((4000))\n",
    "    #imj9 = np.asarray(pix) \n",
    "    #imj9=np.reshape(imj9,(200,200))\n",
    "    strx=strx.replace(\"\\n\",\" \")\n",
    "\n",
    "    k=0\n",
    "    for i in range (0, 200, 1):\n",
    "        m=0\n",
    "        for j in range (0, 200, 1):\n",
    "            imj[i][m]=pix[k]\n",
    "            k+=1\n",
    "            m+=1\n",
    "\n",
    "    strx=getSome(\"mag\", 'public.magnetics', 'UID', 1, UID, 0)\n",
    "\n",
    "    imj2 = np.ones((201,201))\n",
    "\n",
    "    strx=strx.replace(\"  \",\" \")\n",
    "    strx=strx.replace(\"\\n\",\" \")\n",
    "    \n",
    "    pix=strx.split(' ')\n",
    "\n",
    "    k=0\n",
    "    for i in range (0, 200, 1):\n",
    "        m=0\n",
    "        for j in range (0, 200, 1):\n",
    "            if(pix[k]!=\"\"):\n",
    "                imj2[i][m]=float(pix[k])\n",
    "            k+=1\n",
    "            m+=1\n",
    "\n",
    "    strx=getSome(\"g12\", 'public.BLOCK', 'UID', 1, UID, 0)\n",
    "    \n",
    "    block = np.ones((201,201,201))\n",
    "    imj3 = np.ones((201,201))\n",
    "    \n",
    "    i=0\n",
    "    for j in strx:\n",
    "        c=i%200\n",
    "        r=int((i-c)/200)\n",
    "        if(r>199):\n",
    "            break        \n",
    "        imj3[199-r][c]=float(ord(j))        \n",
    "        i+=1\n",
    "    \n",
    "    maxcol=np.amin(imj3)\n",
    "    for i in range (0,199):\n",
    "        for j in range (0,199):\n",
    "            imj3[i][j]=imj3[i][j]*maxcol\n",
    "            \n",
    "    fig, ax = plt.subplots(1,3)\n",
    "    fig.tight_layout()\n",
    "    if(show==1):                     \n",
    "        ax[0].title.set_text(f'                                                               {IDX:6} {legend} \\nMag' )\n",
    "        ax[1].title.set_text('Grav')\n",
    "        ax[2].title.set_text('Map')\n",
    "        ax[0].imshow(imj2,cmap='rainbow');\n",
    "        ax[1].imshow(imj,cmap='rainbow');\n",
    "        ax[2].imshow(imj3,cmap='tab20c');\n",
    "        plt.show()\n",
    "    else:\n",
    "        matplotlib.image.imsave('grv/model_'+UID+'_grv.png', imj,cmap='rainbow')\n",
    "        matplotlib.image.imsave('mag/model_'+UID+'_mag.png', imj2,cmap='rainbow')\n",
    "        matplotlib.image.imsave('map/model_'+UID+'_map.png', imj3,cmap='tab20')\n",
    "        \n",
    "    print(\"             http://localhost:8888/edit/Dropbox/1_Jupyter_notebooks/noddyverse/his/\"+IDX+\".his\")"
   ]
  },
  {
   "cell_type": "code",
   "execution_count": null,
   "metadata": {},
   "outputs": [],
   "source": []
  }
 ],
 "metadata": {
  "hide_input": false,
  "kernelspec": {
   "display_name": "Python 3",
   "language": "python",
   "name": "python3"
  },
  "language_info": {
   "codemirror_mode": {
    "name": "ipython",
    "version": 3
   },
   "file_extension": ".py",
   "mimetype": "text/x-python",
   "name": "python",
   "nbconvert_exporter": "python",
   "pygments_lexer": "ipython3",
   "version": "3.7.3"
  }
 },
 "nbformat": 4,
 "nbformat_minor": 2
}
